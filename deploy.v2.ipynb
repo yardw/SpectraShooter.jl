{
 "cells": [
  {
   "cell_type": "markdown",
   "metadata": {},
   "source": [
    "# setup"
   ]
  },
  {
   "cell_type": "code",
   "execution_count": 1,
   "metadata": {},
   "outputs": [],
   "source": [
    "include(\"DelayedMatrices.jl\")\n",
    "include(\"TurtleSearch.jl\")\n",
    "using .DelayedMatrices, .TurtleSearch"
   ]
  },
  {
   "cell_type": "code",
   "execution_count": 2,
   "metadata": {},
   "outputs": [],
   "source": [
    "include(\"eom.jl\")\n",
    "using .GoldbergerWiseEoM"
   ]
  },
  {
   "cell_type": "code",
   "execution_count": 3,
   "metadata": {},
   "outputs": [],
   "source": [
    "using Plots, LaTeXStrings"
   ]
  },
  {
   "cell_type": "code",
   "execution_count": 4,
   "metadata": {},
   "outputs": [
    {
     "data": {
      "text/plain": [
       "paramsearch (generic function with 1 method)"
      ]
     },
     "metadata": {},
     "output_type": "display_data"
    }
   ],
   "source": [
    "function paramsearch(;l2=nothing, g2=nothing, FP = 1., φP = 0)\n",
    "    if g2 != nothing && l2 == nothing\n",
    "        function paramsearch_l2_m2(l2, m2)\n",
    "            params = (m2, l2, g2)\n",
    "            return errBCwithφ(FP, params, φP = φP )\n",
    "        end\n",
    "        return paramsearch_l2_m2\n",
    "    elseif g2 == nothing && l2 != nothing\n",
    "        function paramserch_g2_m2(g2, m2)\n",
    "            params = (m2, l2, g2)\n",
    "            return errBCwithφ(FP, params, φP = φP)\n",
    "        end\n",
    "        return paramserch_g2_m2\n",
    "    end\n",
    "end"
   ]
  },
  {
   "cell_type": "markdown",
   "metadata": {},
   "source": [
    "# $m^2 -\\gamma^2$ plot \n",
    "- mass in M_IR units\n",
    "- gamma in 4k+2u units\n",
    "- x axis: mass\n",
    "- y axis: gamma\n",
    "- set up varphi value at the Plank brane(to be zero)\n",
    "`paramsearch_g2_m2_tmp = paramsearch(l2=l2)`"
   ]
  },
  {
   "cell_type": "code",
   "execution_count": 28,
   "metadata": {},
   "outputs": [
    {
     "data": {
      "text/plain": [
       "plot_main (generic function with 1 method)"
      ]
     },
     "metadata": {},
     "output_type": "display_data"
    }
   ],
   "source": [
    "# 定义计算 g2s0 和 ms0 的函数\n",
    "function calculate_g2s0_ms0(l2, yₘ, u, k)\n",
    "    g2s0 = exp10.(range(log10(4k+2u +1e-3), 3, 100))\n",
    "    ms0 = sqrt.(4l2*(2k+u)*u^2/(3k)*(1-exp(2k*yₘ))/(1-exp((4k+2u)*yₘ)) * (1 .- (4k+2u) ./g2s0))\n",
    "    return g2s0, ms0\n",
    "end\n",
    "\n",
    "# 定义绘制图像的函数\n",
    "function plot_figure(g2s0, ms0, M_IR, g0, modename, linestyle=:solid)\n",
    "    plot!(g2s0./g0, ms0./M_IR, alpha=0.8, c=:black, label=modename, line=linestyle, lw=1, xaxis=:log10, yaxis=:log10)\n",
    "end\n",
    "\n",
    "# 定义主函数\n",
    "function plot_main()\n",
    "    plot()\n",
    "    let l2s = [1e-3], xrange = (0,3), yrange = (-9.7,-3), logscaled = true\n",
    "        g0 = let yₘ = π, u = 1e-1, k=37u, g0=4k+2u\n",
    "            g2s0, ms0 = calculate_g2s0_ms0(l2s[1], yₘ, u, k)\n",
    "            plot_figure(g2s0, ms0, M_IR, g0, L\"m({\\mathcal{O}(l^2, \\gamma^2)})\", :dash)\n",
    "            4k+2u\n",
    "        end\n",
    "        for il2 in eachindex(l2s)\n",
    "            l2 = l2s[il2]\n",
    "            paramsearch_g2_m2_tmp = paramsearch(l2=l2)\n",
    "            m = DelayedMatrix(zeros(50,50), paramsearch_g2_m2_tmp,xrange, yrange, logscaled = logscaled)\n",
    "            poses = findfirstseed!(m, CartesianIndex(1, 1), CartesianIndex(1, 2))\n",
    "            @assert poses != nothing \"no seed found\"\n",
    "            modenames = (\"radion mode\", nothing, \"KK modes\", nothing)\n",
    "            for i=1:2\n",
    "                t = Turtles(max(poses...))\n",
    "                inds = bisearch(t, m)\n",
    "                xs = [m.xaxis(inds[1])]\n",
    "                ys = [m.yaxis(inds[2])]\n",
    "                println((xs[1], ys[1]))\n",
    "                while nothing != next!(t, m)\n",
    "                    inds = bisearch(t, m)\n",
    "                    push!(xs,m.xaxis(inds[1]))\n",
    "                    push!(ys,m.yaxis(inds[2]))\n",
    "                end\n",
    "                plot_figure(xs, ys, M_IR, g0, modenames[i])\n",
    "                poses = findfirstseed!(m, map(x->x+CartesianIndex(0,1), poses)...)\n",
    "            end\n",
    "        end\n",
    "    end\n",
    "    f = plot!(ylabel=L\"m/M_{IR}\", xlabel=L\"\\gamma^2/(4k+2u)\",  dpi=300)\n",
    "    savefig(f, \"figs/paramsearch_gm_m0123_IR_reversedXY.png\")\n",
    "end\n"
   ]
  },
  {
   "cell_type": "code",
   "execution_count": 8,
   "metadata": {},
   "outputs": [
    {
     "data": {
      "text/plain": [
       "plot_main (generic function with 1 method)"
      ]
     },
     "metadata": {},
     "output_type": "display_data"
    }
   ],
   "source": [
    "# 定义计算 g2s0 和 ms0 的函数\n",
    "function calculate_g2s0_ms0(l2, yₘ, u, k)\n",
    "    g2s0 = exp10.(range(log10(4k+2u +1e-3), 1.5, 100))\n",
    "    ms0 = sqrt.(4l2*(2k+u)*u^2/(3k)*(1-exp(2k*yₘ))/(1-exp((4k+2u)*yₘ)) * (1 .- (4k+2u) ./g2s0))\n",
    "    return g2s0, ms0\n",
    "end\n",
    "\n",
    "# 定义绘制图像的函数\n",
    "function plot_figure(g2s0, ms0, M_IR, g0, modename, linestyle=:solid)\n",
    "    plot!(g2s0./g0, ms0./M_IR, alpha=0.8, c=:black, label=modename, line=linestyle, lw=1, xaxis=:log10, yaxis=:log10)\n",
    "end\n",
    "\n",
    "# 定义主函数\n",
    "function plot_main()\n",
    "    plot()\n",
    "    let l2s = [1e-3], xrange = (0.8,1.5), yrange = (-9.7,-3), logscaled = true, φP = 1e-1\n",
    "        g0 = let yₘ = π, u = 1e-1, k=37u, g0=4k+2u\n",
    "            g2s0, ms0 = calculate_g2s0_ms0(l2s[1], yₘ, u, k)\n",
    "            plot_figure(g2s0, ms0, M_IR, g0, L\"m({\\mathcal{O}(l^2, \\gamma^2)})\", :dash)\n",
    "            4k+2u\n",
    "        end\n",
    "        for il2 in eachindex(l2s)\n",
    "            l2 = l2s[il2]\n",
    "            paramsearch_g2_m2_tmp = paramsearch(l2=l2, φP=φP)\n",
    "            m = DelayedMatrix(zeros(30,30), paramsearch_g2_m2_tmp,xrange, yrange, logscaled = logscaled)\n",
    "            poses = findfirstseed!(m, CartesianIndex(1, 1), CartesianIndex(1, 2))\n",
    "            @assert poses != nothing \"no seed found\"\n",
    "            modenames = (\"radion mode\", nothing, \"KK modes\", nothing)\n",
    "            for i=1:1\n",
    "                t = Turtles(max(poses...))\n",
    "                inds = bisearch(t, m)\n",
    "                xs = [m.xaxis(inds[1])]\n",
    "                ys = [m.yaxis(inds[2])]\n",
    "                println((xs[1], ys[1]))\n",
    "                while nothing != next!(t, m)\n",
    "                    inds = bisearch(t, m)\n",
    "                    push!(xs,m.xaxis(inds[1]))\n",
    "                    push!(ys,m.yaxis(inds[2]))\n",
    "                end\n",
    "                plot_figure(xs, ys, M_IR, g0, modenames[i])\n",
    "                poses = findfirstseed!(m, map(x->x+CartesianIndex(0,1), poses)...)\n",
    "            end\n",
    "        end\n",
    "    end\n",
    "    f = plot!(ylabel=L\"m/M_{IR}\", xlabel=L\"\\gamma^2/(4k+2u)\",  dpi=300)\n",
    "    savefig(f, \"figs/paramsearch_gm_m0123_IR_reversedXY.png\")\n",
    "end\n"
   ]
  },
  {
   "cell_type": "code",
   "execution_count": 9,
   "metadata": {},
   "outputs": [
    {
     "name": "stdout",
     "output_type": "stream",
     "text": [
      "0.0 0.0 0.0 0.0 0.0 0.0 0.0 0.0 0.0 0.0 0.0 0.0 0.0 0.0 0.0 "
     ]
    },
    {
     "name": "stdout",
     "output_type": "stream",
     "text": [
      "0.0 0.0 0.0 0.0 0.0 0.0 0.0 0.0 0.0 0.0 0.0 0.0 0.0 0.0 (6.309573444801933, 1.907607207870774e-8)\n",
      "0.0"
     ]
    },
    {
     "name": "stdout",
     "output_type": "stream",
     "text": [
      " 0.0 0.0 0.0 0.0 0.0 0.0 0.0 0.0 0.0 0.0 0.0 0.0 0.0 0.0"
     ]
    },
    {
     "name": "stdout",
     "output_type": "stream",
     "text": [
      " 0.0 0.0 0.0 0.0 0.0 0.0 0.0 0.0 0.0 0.0 0.0 0.0 0.0 0.0"
     ]
    },
    {
     "name": "stdout",
     "output_type": "stream",
     "text": [
      " 0.0 0.0 0.0 0.0 0.0 0.0 0.0 0.0 0.0 0.0 0.0 0.0 0.0 0.0"
     ]
    },
    {
     "name": "stdout",
     "output_type": "stream",
     "text": [
      " 0.0 0.0 0.0 0.0 0.0 0.0 0.0 0.0 0.0 0.0 0.0 0.0 0.0 0.0"
     ]
    },
    {
     "name": "stdout",
     "output_type": "stream",
     "text": [
      " 0.0 0.0 0.0 0.0 0.0 0.0 0.0 0.0 0.0 0.0"
     ]
    },
    {
     "name": "stdout",
     "output_type": "stream",
     "text": [
      " 0.0 0.0 0.0 0.0 0.0 0.0 0.0 0.0 0.0 0.0 0.0 0.0 0.0 0.0"
     ]
    },
    {
     "name": "stdout",
     "output_type": "stream",
     "text": [
      " 0.0 0.0 0.0 0.0 0.0 0.0 0.0 0.0 0.0 0.0 0.0 0.0 0.0 0.0"
     ]
    },
    {
     "name": "stdout",
     "output_type": "stream",
     "text": [
      " 0.0 0.0 0.0 0.0 0.0 0.0 0.0 0.0 0.0 0.0 0.0 0.0 0.0 0.0"
     ]
    },
    {
     "name": "stdout",
     "output_type": "stream",
     "text": [
      " 0.0 0.0 0.0 0.0 0.0 0.0 0.0 0.0 0.0 0.0 0.0 0.0 0.0 0.0"
     ]
    },
    {
     "name": "stdout",
     "output_type": "stream",
     "text": [
      " 0.0 0.0 0.0 0.0 0.0 0.0 0.0 0.0 0.0 0.0 0.0 0.0 0.0 0.0"
     ]
    },
    {
     "name": "stdout",
     "output_type": "stream",
     "text": [
      " 0.0 0.0 0.0 0.0 0.0 0.0 0.0 0.0 0.0 0.0 0.0 0.0 0.0 0.0"
     ]
    },
    {
     "name": "stdout",
     "output_type": "stream",
     "text": [
      " 0.0 0.0 0.0 0.0 0.0 0.0 0.0 0.0 0.0 0.0 0.0 0.0 0.0 0.0"
     ]
    },
    {
     "name": "stdout",
     "output_type": "stream",
     "text": [
      " 0.0 0.0 0.0 0.0 0.0 0.0 0.0 0.0 0.0 0.0 0.0 0.0 0.0"
     ]
    },
    {
     "name": "stdout",
     "output_type": "stream",
     "text": [
      " 0.0 0.0 0.0 0.0 0.0 0.0 0.0 0.0 0.0 0.0 0.0"
     ]
    },
    {
     "name": "stdout",
     "output_type": "stream",
     "text": [
      " 0.0 0.0 0.0 0.0 0.0 0.0 0.0 0.0 0.0 0.0 0.0 0.0 0.0 0.0"
     ]
    },
    {
     "name": "stdout",
     "output_type": "stream",
     "text": [
      " 0.0 0.0 0.0 0.0 0.0 0.0 0.0 0.0 0.0 0.0 0.0 0.0 0.0 0.0"
     ]
    },
    {
     "name": "stdout",
     "output_type": "stream",
     "text": [
      " 0.0 0.0 0.0 0.0 0.0 0.0 0.0 0.0 0.0 0.0 0.0 0.0 0.0 0.0"
     ]
    },
    {
     "name": "stdout",
     "output_type": "stream",
     "text": [
      " 0.0 0.0 0.0 0.0 0.0 0.0 0.0 0.0 0.0 0.0 0.0 0.0 0.0 0.0"
     ]
    },
    {
     "name": "stdout",
     "output_type": "stream",
     "text": [
      " 0.0 0.0 0.0 0.0 0.0 0.0 0.0 0.0 0.0 0.0 0.0 0.0 0.0 0.0"
     ]
    },
    {
     "name": "stdout",
     "output_type": "stream",
     "text": [
      " 0.0 0.0 0.0 0.0 0.0 0.0 0.0 0.0 0.0 0.0 0.0 0.0 0.0 0.0"
     ]
    },
    {
     "name": "stdout",
     "output_type": "stream",
     "text": [
      " 0.0 0.0 0.0 0.0 0.0 0.0 0.0 0.0 0.0 0.0 0.0 0.0 0.0 0.0"
     ]
    },
    {
     "name": "stdout",
     "output_type": "stream",
     "text": [
      " 0.0 0.0 0.0 0.0 0.0 0.0 0.0 0.0 0.0 0.0"
     ]
    },
    {
     "name": "stdout",
     "output_type": "stream",
     "text": [
      " 0.0 0.0 0.0 0.0 0.0 0.0 0.0 0.0 0.0 0.0 0.0 0.0 0.0 0.0"
     ]
    },
    {
     "name": "stdout",
     "output_type": "stream",
     "text": [
      " 0.0 "
     ]
    },
    {
     "data": {
      "text/plain": [
       "\"/Users/outk/Documents/Codes/Julia/22-7/spectraShooter/figs/paramsearch_gm_m0123_IR_reversedXY.png\""
      ]
     },
     "metadata": {},
     "output_type": "display_data"
    }
   ],
   "source": [
    "plot_main()"
   ]
  }
 ],
 "metadata": {
  "kernelspec": {
   "display_name": "Julia 1.8.2",
   "language": "julia",
   "name": "julia-1.8"
  },
  "language_info": {
   "file_extension": ".jl",
   "mimetype": "application/julia",
   "name": "julia",
   "version": "1.8.2"
  }
 },
 "nbformat": 4,
 "nbformat_minor": 2
}
