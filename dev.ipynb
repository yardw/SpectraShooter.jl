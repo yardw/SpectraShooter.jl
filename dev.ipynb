{
 "cells": [
  {
   "cell_type": "code",
   "execution_count": null,
   "metadata": {},
   "outputs": [],
   "source": [
    "using PkgTemplates\n"
   ]
  },
  {
   "cell_type": "code",
   "execution_count": null,
   "metadata": {},
   "outputs": [],
   "source": [
    "typeof((1,1))"
   ]
  },
  {
   "cell_type": "code",
   "execution_count": null,
   "metadata": {},
   "outputs": [],
   "source": [
    "a::Array{Float64,2} = rand(2,2)"
   ]
  },
  {
   "cell_type": "code",
   "execution_count": null,
   "metadata": {},
   "outputs": [],
   "source": [
    "module tstmod\n",
    "    include(\"tmp.jl\")\n",
    "    using .tmpmod\n",
    "    s = Spectra()\n",
    "end"
   ]
  },
  {
   "cell_type": "code",
   "execution_count": null,
   "metadata": {},
   "outputs": [],
   "source": [
    "module tstmod2\n",
    "minmax(x, y) = (y < x) ? (y, x) : (x, y)\n",
    "gap((min, max)) = max - min\n",
    "@show gap(minmax(10, 2))\n",
    "end"
   ]
  },
  {
   "cell_type": "code",
   "execution_count": null,
   "metadata": {},
   "outputs": [],
   "source": [
    "include(\"tmp.jl\")\n",
    "import .tmpmod\n",
    "s = Spectra((2,2))"
   ]
  },
  {
   "cell_type": "code",
   "execution_count": null,
   "metadata": {},
   "outputs": [],
   "source": [
    "struct testMat <: AbstractArray{Int,1}\n",
    "count::Int\n",
    "# testMat(count::Int) = new(count)\n",
    "end\n",
    "Base.size(m::testMat) = (m.count,)\n",
    "Base.IndexStyle(::Type{<:testMat}) = IndexLinear()\n",
    "Base.getindex(m::testMat, i::Int) = i*i"
   ]
  },
  {
   "cell_type": "code",
   "execution_count": null,
   "metadata": {},
   "outputs": [],
   "source": [
    "struct testMat2 <: AbstractArray{Int,2}\n",
    "count::Int\n",
    "# testMat(count::Int) = new(count)\n",
    "end\n",
    "Base.size(m::testMat2) = (m.count, m.count)\n",
    "Base.IndexStyle(::Type{<:testMat2}) = IndexCartesian()\n",
    "Base.getindex(m::testMat2, i::Int, j::Int) = i*j\n",
    "Base.getindex(m::testMat2, i::Float64, j::Float64) = round(i)*round(j)"
   ]
  },
  {
   "cell_type": "code",
   "execution_count": null,
   "metadata": {},
   "outputs": [],
   "source": [
    "struct testMat3 <: AbstractArray{Int,1}\n",
    "data::Array{Int,1}\n",
    "end\n",
    "Base.size(m::testMat3) = size(m.data)\n",
    "Base.IndexStyle(::Type{<:testMat3}) = IndexLinear()\n",
    "Base.getindex(m::testMat3, i::Int) = m.data[i]\n",
    "Base.setindex!(m::testMat3, v, i::Int) = m.data[i] = v\n"
   ]
  },
  {
   "cell_type": "code",
   "execution_count": null,
   "metadata": {},
   "outputs": [],
   "source": [
    "let a = testMat(5)\n",
    "    @show a\n",
    "    a.count = 10\n",
    "end"
   ]
  },
  {
   "cell_type": "code",
   "execution_count": null,
   "metadata": {},
   "outputs": [],
   "source": [
    "let a = testMat2(5)\n",
    "    @show a[1.2,2.0]\n",
    "    a.count = 10\n",
    "end"
   ]
  },
  {
   "cell_type": "code",
   "execution_count": null,
   "metadata": {},
   "outputs": [],
   "source": [
    "let a = testMat3(rand(Int, 5))\n",
    "    @show a\n",
    "    a[2] = 10\n",
    "    a\n",
    "end"
   ]
  },
  {
   "cell_type": "code",
   "execution_count": null,
   "metadata": {},
   "outputs": [],
   "source": [
    "struct Params\n",
    "    logeigvals::StepRangeLen\n",
    "    logfreevals::StepRangeLen\n",
    "    constvals::Tuple\n",
    "end\n"
   ]
  },
  {
   "cell_type": "code",
   "execution_count": null,
   "metadata": {},
   "outputs": [],
   "source": [
    "const dir = (n=0, u=1, d=2, l=3, r=4)\n",
    "const \n",
    "mutable struct Seeds\n",
    "\n",
    "end"
   ]
  },
  {
   "cell_type": "code",
   "execution_count": null,
   "metadata": {},
   "outputs": [],
   "source": [
    "struct tst\n",
    "    a::Int\n",
    "end\n",
    "Base.getproperty(t::tst, v::Val{:b}) =  0"
   ]
  },
  {
   "cell_type": "code",
   "execution_count": null,
   "metadata": {},
   "outputs": [],
   "source": [
    "let x = tst(5)\n",
    "    @show x.a\n",
    "    @show x.b\n",
    "end"
   ]
  },
  {
   "cell_type": "code",
   "execution_count": null,
   "metadata": {},
   "outputs": [],
   "source": [
    ":(x, y)"
   ]
  },
  {
   "cell_type": "code",
   "execution_count": null,
   "metadata": {},
   "outputs": [],
   "source": [
    "struct testStruct\n",
    "    a::Int\n",
    "    b::Float64\n",
    "end"
   ]
  },
  {
   "cell_type": "code",
   "execution_count": null,
   "metadata": {},
   "outputs": [],
   "source": [
    "typeof((:x, :y))"
   ]
  },
  {
   "cell_type": "code",
   "execution_count": null,
   "metadata": {},
   "outputs": [],
   "source": [
    "typeof(:(x,y))"
   ]
  },
  {
   "cell_type": "code",
   "execution_count": null,
   "metadata": {},
   "outputs": [],
   "source": [
    "(:(x,y)).args"
   ]
  },
  {
   "cell_type": "code",
   "execution_count": null,
   "metadata": {},
   "outputs": [],
   "source": [
    ":x == :x"
   ]
  },
  {
   "cell_type": "code",
   "execution_count": null,
   "metadata": {},
   "outputs": [],
   "source": [
    "typeof((a=1, b=range(1,2,3)))"
   ]
  },
  {
   "cell_type": "code",
   "execution_count": null,
   "metadata": {},
   "outputs": [],
   "source": [
    "# write a function that takes a named tuple and returns a named tuple with the same names but with the values replaced by the result of a function applied to the values\n",
    "function mapNamedTuple(f, nt)\n",
    "    names = fieldnames(typeof(nt))\n",
    "    vals = getfield.(Ref(nt), names)\n",
    "    newvals = [typeof(val)<:StepRangeLen ? f.(val) : val for val in vals]\n",
    "    return NamedTuple{names}(newvals)\n",
    "end"
   ]
  },
  {
   "cell_type": "code",
   "execution_count": null,
   "metadata": {},
   "outputs": [],
   "source": [
    "mapNamedTuple(x->x.^2, (a=1, b=2, c=range(1,2,3)))"
   ]
  },
  {
   "cell_type": "code",
   "execution_count": null,
   "metadata": {},
   "outputs": [],
   "source": [
    "typeof(range(1,2,3)) <:StepRangeLen"
   ]
  },
  {
   "cell_type": "code",
   "execution_count": 6,
   "metadata": {},
   "outputs": [],
   "source": [
    "struct testNamedTuple\n",
    "    nt::NamedTuple\n",
    "end\n",
    "# Base.getproperty(t::testNamedTuple, v::Symbol) =  getfield(t.nt, v)\n",
    "function Base.getproperty(t::testNamedTuple, s::Symbol)\n",
    "    if s === :nt\n",
    "        # @show \"nt\"\n",
    "        return getfield(t, s)\n",
    "    else\n",
    "        # @show \"else\"\n",
    "        return getfield(t.nt, s)\n",
    "    end\n",
    "end"
   ]
  },
  {
   "cell_type": "code",
   "execution_count": 2,
   "metadata": {},
   "outputs": [
    {
     "data": {
      "text/plain": [
       "testNamedTuple((a = 1, b = 2))"
      ]
     },
     "metadata": {},
     "output_type": "display_data"
    }
   ],
   "source": [
    "nt = testNamedTuple((a=1,b=2))"
   ]
  },
  {
   "cell_type": "code",
   "execution_count": 3,
   "metadata": {},
   "outputs": [
    {
     "data": {
      "text/plain": [
       "(a = 1, b = 2)"
      ]
     },
     "metadata": {},
     "output_type": "display_data"
    }
   ],
   "source": [
    "nt.nt"
   ]
  },
  {
   "cell_type": "code",
   "execution_count": 7,
   "metadata": {},
   "outputs": [
    {
     "data": {
      "text/plain": [
       "2"
      ]
     },
     "metadata": {},
     "output_type": "display_data"
    }
   ],
   "source": [
    "nt.b"
   ]
  },
  {
   "cell_type": "code",
   "execution_count": 8,
   "metadata": {},
   "outputs": [
    {
     "name": "stdout",
     "output_type": "stream",
     "text": [
      "testNamedTuple\n",
      "  nt: NamedTuple"
     ]
    },
    {
     "name": "stdout",
     "output_type": "stream",
     "text": [
      "{(:a, :b), Tuple{Int64, Int64}}\n",
      "    a: Int64 1\n",
      "    b: Int64 2\n"
     ]
    }
   ],
   "source": [
    "dump(nt)"
   ]
  },
  {
   "cell_type": "code",
   "execution_count": null,
   "metadata": {},
   "outputs": [],
   "source": [
    "fieldnames(nt)"
   ]
  },
  {
   "cell_type": "code",
   "execution_count": 10,
   "metadata": {},
   "outputs": [],
   "source": [
    "\"\"\"\n",
    "    Dirs\n",
    "\n",
    "    `n`: not defined\n",
    "    `u`: up(+x2)\n",
    "    `d`: down(-x2)\n",
    "    `l`: left(-x1)\n",
    "    `r`: right(+x1)\n",
    "\"\"\"\n",
    "@enum Dirs n u d l r\n",
    "\"\"\"\n",
    "    touchobund(loc, dir)\n",
    "\n",
    "    return true if the seed is touching the boundary in the direction dir\n",
    "    return nothing if dir is not defined\n",
    "\"\"\"\n",
    "function touchobund(loc::Locs, dir::Dirs)\n",
    "    if dir === n\n",
    "        return nothing\n",
    "    elseif dir === u\n",
    "        return !(0 < loc.x2+1 < loc.size2)\n",
    "    elseif dir === d\n",
    "        return !(0 < loc.x2-1 < loc.size2)\n",
    "    elseif dir === l\n",
    "        return !(0 < loc.x1-1 < loc.size1)\n",
    "    elseif dir === r\n",
    "        return !(0 < loc.x1+1 < loc.size1)\n",
    "    else\n",
    "        error(\"invalid direction\")\n",
    "        return nothing\n",
    "    end\n",
    "end\n",
    "    \n"
   ]
  },
  {
   "cell_type": "code",
   "execution_count": null,
   "metadata": {},
   "outputs": [],
   "source": [
    "\"\"\"\n",
    "    Locs\n",
    "    \n",
    "    `x1`: the position of the seed in the first direction\n",
    "    `x2`: the position of the seed in the second direction\n",
    "    `size1`: the number of sites in the first direction\n",
    "    `size2`: the number of sites in the second direction\n",
    "    `dir`: the direction of the hopping\n",
    "\"\"\"\n",
    "mutable struct Locs\n",
    "    x1::Int\n",
    "    x2::Int\n",
    "    #size: the number of sites in each direction\n",
    "    size1::Int # 0 < x1 < size1\n",
    "    size2::Int # 0 < x2 < size2\n",
    "    dir::Dirs\n",
    "end\n"
   ]
  },
  {
   "cell_type": "code",
   "execution_count": null,
   "metadata": {},
   "outputs": [],
   "source": [
    "function Base.setproperty!(loc::Locs, s::Symbol, v)\n",
    "    if s === :x1\n",
    "        @assert 0 < v < loc.size1 \"x1 of loc must be between 0 and size1\"\n",
    "        loc.x1 = Int(v)\n",
    "    elseif s === :x2\n",
    "        @assert 0 < v < loc.size2 \"x2 of loc must be between 0 and size2\"\n",
    "        loc.x2 = Int(v)\n",
    "    elseif s === :size1\n",
    "        @warn \"size1 of the Locs struct should not be changed.\"\n",
    "        loc.size1 = Int(v)\n",
    "    elseif s === :size2\n",
    "        @warn \"size2 of the Locs struct should not be changed.\"\n",
    "        loc.size2 = Int(v)\n",
    "    elseif s === :dir\n",
    "        loc.dir = v\n",
    "    else\n",
    "        error(\"invalid property name\")\n",
    "    end  \n",
    "end\n",
    "\n"
   ]
  },
  {
   "cell_type": "code",
   "execution_count": 77,
   "metadata": {},
   "outputs": [
    {
     "data": {
      "text/plain": [
       "extractargswithtype"
      ]
     },
     "metadata": {},
     "output_type": "display_data"
    }
   ],
   "source": [
    "\"\"\"\n",
    "    extractargswithtype(arglist, type)\n",
    "\n",
    "    return a symbol vector with the elements of the type\n",
    "\"\"\"\n",
    "function extractargswithtype(arglist::NamedTuple, type::DataType)\n",
    "    names = fieldnames(typeof(arglist))\n",
    "    vals  = getfield.(Ref(arglist), names)\n",
    "    args = Vector{Symbol}()\n",
    "    for i in eachindex(vals)\n",
    "        if typeof(vals[i]) <: type\n",
    "            push!(args, names[i])\n",
    "        end\n",
    "    end\n",
    "    return args\n",
    "end"
   ]
  },
  {
   "cell_type": "code",
   "execution_count": null,
   "metadata": {},
   "outputs": [],
   "source": [
    "\n",
    "\"\"\" \n",
    "    Params\n",
    "    A container that stores the parameters of the model\n",
    "    construct function\n",
    "    arglist must have at least two elements\n",
    "    only two elements in arglist must be of type StepRangeLen\n",
    "    arglist is a named tuple, so the order of the elements should not be restricted\n",
    "    the loc argument is construct by default with x1=1, x2=1, size1=lengn(firstStepRangeLenElement), size2=length(secondStepRangeLenElement), dir=r\n",
    "\"\"\"\n",
    "struct Params\n",
    "    arglist::NamedTuple\n",
    "    loc::Locs # the location of the seed\n",
    "    function Params(arglist::NamedTuple)\n",
    "        if length(arglist) < 2\n",
    "            throw(ArgumentError(\"arglist must have at least two elements\"))\n",
    "        end\n",
    "        args = extractargswithtype(arglist, StepRangeLen)\n",
    "        if length(args) != 2\n",
    "            throw(ArgumentError(\"only two elements in arglist must be of type StepRangeLen\"))\n",
    "        end\n",
    "        loc = Locs(1,1,length(arglist[1]),length(arglist[2]),u) # by default with the up direction\n",
    "        return new(arglist, loc)\n",
    "    end\n",
    "    function Params(p::Params)\n",
    "        return new(p.arglist, deepcopy(p.loc) ) # the loc is independent of the original loc\n",
    "    end\n",
    "    \n",
    "end"
   ]
  },
  {
   "cell_type": "code",
   "execution_count": 60,
   "metadata": {},
   "outputs": [
    {
     "name": "stderr",
     "output_type": "stream",
     "text": [
      "WARNING: redefinition of constant a1. This may fail, cause incorrect answers, or produce other errors.\n"
     ]
    },
    {
     "data": {
      "text/plain": [
       "2×2 Matrix{Bool}:\n",
       " 1  0\n",
       " 0  1"
      ]
     },
     "metadata": {},
     "output_type": "display_data"
    }
   ],
   "source": [
    "# enumerate all possible patterns of the seed\n",
    "a1 = [true false; false false]\n",
    "a2 = [true false; true  true ]\n",
    "a3 = [true true ; false true ]\n",
    "a4 = [true true ; true  false]\n",
    "b1 = [true true ; false false]\n",
    "b2 = [true false; true  false]\n",
    "b3 = [true false; false true ]"
   ]
  },
  {
   "cell_type": "code",
   "execution_count": 78,
   "metadata": {},
   "outputs": [
    {
     "ename": "AssertionError",
     "evalue": "AssertionError: 0 == 1",
     "output_type": "error",
     "traceback": [
      "AssertionError: 0 == 1\n",
      "\n",
      "Stacktrace:\n",
      " [1] top-level scope\n",
      "   @ l:\\Sieg\\Doc\\Code\\julia\\SpectraShooter.jl\\dev.ipynb:1"
     ]
    }
   ],
   "source": [
    "@assert 0==1"
   ]
  },
  {
   "cell_type": "code",
   "execution_count": 48,
   "metadata": {},
   "outputs": [],
   "source": [
    "@enum SpectraElements neg=-1 nan=0 pos=1"
   ]
  },
  {
   "cell_type": "code",
   "execution_count": null,
   "metadata": {},
   "outputs": [],
   "source": [
    "# extract the pattern of seed from data\n",
    "function extract22pattern(data::Matrix, loc::Locs)\n",
    "    pattern22 = Matrix{Bool}(undef, 2, 2)\n",
    "    for x1 in loc.x1 - 1 + 1:2, x2 in loc.x2 - 1 + 1:2\n",
    "        if data[x1, x2] == nan\n",
    "            error(\"data[$x1, $x2] is nan\")\n",
    "        end\n",
    "        pattern22[x1, x2] = data[x1, x2] == data[loc.x1, loc.x2]\n",
    "    end\n",
    "    return pattern22\n",
    "end"
   ]
  },
  {
   "cell_type": "code",
   "execution_count": 59,
   "metadata": {},
   "outputs": [
    {
     "ename": "MethodError",
     "evalue": "MethodError: no method matching *(::SpectraElements, ::SpectraElements)\n\nClosest candidates are:\n  *(::Any, ::Any, !Matched::Any, !Matched::Any...)\n   @ Base operators.jl:578\n",
     "output_type": "error",
     "traceback": [
      "MethodError: no method matching *(::SpectraElements, ::SpectraElements)\n",
      "\n",
      "Closest candidates are:\n",
      "  *(::Any, ::Any, !Matched::Any, !Matched::Any...)\n",
      "   @ Base operators.jl:578\n",
      "\n",
      "\n",
      "Stacktrace:\n",
      " [1] top-level scope\n",
      "   @ l:\\Sieg\\Doc\\Code\\julia\\SpectraShooter.jl\\dev.ipynb:1"
     ]
    }
   ],
   "source": [
    "nan*pos"
   ]
  },
  {
   "cell_type": "code",
   "execution_count": 50,
   "metadata": {},
   "outputs": [
    {
     "ename": "MethodError",
     "evalue": "MethodError: no method matching zero(::Type{SpectraElements})\n\nClosest candidates are:\n  zero(!Matched::Union{Type{P}, P}) where P<:Dates.Period\n   @ Dates C:\\Users\\Acer\\AppData\\Local\\Programs\\Julia-1.9.0\\share\\julia\\stdlib\\v1.9\\Dates\\src\\periods.jl:51\n  zero(!Matched::LinearAlgebra.UniformScaling{T}) where T\n   @ LinearAlgebra C:\\Users\\Acer\\AppData\\Local\\Programs\\Julia-1.9.0\\share\\julia\\stdlib\\v1.9\\LinearAlgebra\\src\\uniformscaling.jl:135\n  zero(!Matched::AbstractIrrational)\n   @ Base irrationals.jl:151\n  ...\n",
     "output_type": "error",
     "traceback": [
      "MethodError: no method matching zero(::Type{SpectraElements})\n",
      "\n",
      "Closest candidates are:\n",
      "  zero(!Matched::Union{Type{P}, P}) where P<:Dates.Period\n",
      "   @ Dates C:\\Users\\Acer\\AppData\\Local\\Programs\\Julia-1.9.0\\share\\julia\\stdlib\\v1.9\\Dates\\src\\periods.jl:51\n",
      "  zero(!Matched::LinearAlgebra.UniformScaling{T}) where T\n",
      "   @ LinearAlgebra C:\\Users\\Acer\\AppData\\Local\\Programs\\Julia-1.9.0\\share\\julia\\stdlib\\v1.9\\LinearAlgebra\\src\\uniformscaling.jl:135\n",
      "  zero(!Matched::AbstractIrrational)\n",
      "   @ Base irrationals.jl:151\n",
      "  ...\n",
      "\n",
      "\n",
      "Stacktrace:\n",
      " [1] zeros(#unused#::Type{SpectraElements}, dims::Tuple{Int64, Int64})\n",
      "   @ Base .\\array.jl:585\n",
      " [2] zeros(::Type{SpectraElements}, ::Int64, ::Int64)\n",
      "   @ Base .\\array.jl:580\n",
      " [3] top-level scope\n",
      "   @ l:\\Sieg\\Doc\\Code\\julia\\SpectraShooter.jl\\dev.ipynb:1"
     ]
    }
   ],
   "source": [
    "zeros(SpectraElements, 2,2)"
   ]
  },
  {
   "cell_type": "code",
   "execution_count": 75,
   "metadata": {},
   "outputs": [
    {
     "data": {
      "text/plain": [
       "2-element Vector{Symbol}:\n",
       " :b\n",
       " :c"
      ]
     },
     "metadata": {},
     "output_type": "display_data"
    }
   ],
   "source": [
    "arglist = (a=1, b=range(1,2,3), c=range(1,2,3))\n",
    "names = fieldnames(typeof(arglist))\n",
    "vals  = getfield.(Ref(arglist), names)\n",
    "args = Vector{Symbol}()\n",
    "for i in eachindex(vals)\n",
    "    if typeof(vals[i]) <: StepRangeLen\n",
    "        push!(args, names[i])\n",
    "    end\n",
    "end\n",
    "args\n",
    "# [typeof(val)<:StepRangeLen for val in vals]\n",
    "# typeof.(vals) .<:StepRangeLen\n",
    "# args = names[typeof.(vals) .<:StepRangeLen]"
   ]
  },
  {
   "cell_type": "code",
   "execution_count": 76,
   "metadata": {},
   "outputs": [
    {
     "data": {
      "text/plain": [
       "DataType"
      ]
     },
     "metadata": {},
     "output_type": "display_data"
    }
   ],
   "source": [
    "typeof(Int)"
   ]
  },
  {
   "cell_type": "code",
   "execution_count": 58,
   "metadata": {},
   "outputs": [
    {
     "name": "stdout",
     "output_type": "stream",
     "text": [
      "i = false\n",
      "i = true\n",
      "i = true\n",
      "i = true\n",
      "i = false\n",
      "i = false\n",
      "i = true\n"
     ]
    },
    {
     "name": "stdout",
     "output_type": "stream",
     "text": [
      "i = false\n",
      "i = true\n"
     ]
    }
   ],
   "source": [
    "x = rand(3,3)\n",
    "for i in (x .< 0.5)\n",
    "    @show i\n",
    "end"
   ]
  },
  {
   "cell_type": "code",
   "execution_count": 51,
   "metadata": {},
   "outputs": [
    {
     "data": {
      "text/plain": [
       "2×2 Matrix{SpectraElements}:\n",
       " nan::SpectraElements = 0  nan::SpectraElements = 0\n",
       " nan::SpectraElements = 0  nan::SpectraElements = 0"
      ]
     },
     "metadata": {},
     "output_type": "display_data"
    }
   ],
   "source": [
    "fill(nan, 2,2)"
   ]
  },
  {
   "cell_type": "code",
   "execution_count": 47,
   "metadata": {},
   "outputs": [
    {
     "data": {
      "text/plain": [
       "2-element Vector{Float64}:\n",
       " 0.5504962499641812\n",
       " 0.40160628708031487"
      ]
     },
     "metadata": {},
     "output_type": "display_data"
    }
   ],
   "source": [
    "x = rand(3,3)\n",
    "x[1+0:2,1]"
   ]
  },
  {
   "cell_type": "code",
   "execution_count": 46,
   "metadata": {},
   "outputs": [
    {
     "data": {
      "text/plain": [
       "3-element Vector{Int64}:\n",
       " 0\n",
       " 1\n",
       " 2"
      ]
     },
     "metadata": {},
     "output_type": "display_data"
    }
   ],
   "source": [
    "[i for i in 0:2]"
   ]
  },
  {
   "cell_type": "code",
   "execution_count": 28,
   "metadata": {},
   "outputs": [
    {
     "data": {
      "text/plain": [
       "true"
      ]
     },
     "metadata": {},
     "output_type": "display_data"
    }
   ],
   "source": [
    "a1 in [a1,a2,a3,a4]"
   ]
  },
  {
   "cell_type": "code",
   "execution_count": 13,
   "metadata": {},
   "outputs": [
    {
     "data": {
      "text/plain": [
       "Locs(1, 1, 3, 3, u)"
      ]
     },
     "metadata": {},
     "output_type": "display_data"
    }
   ],
   "source": [
    "loc = Locs(1,1,3,3, u)"
   ]
  },
  {
   "cell_type": "code",
   "execution_count": 19,
   "metadata": {},
   "outputs": [
    {
     "name": "stdout",
     "output_type": "stream",
     "text": [
      "(deepcopy(loc)).x1 += 1 = 3\n"
     ]
    },
    {
     "data": {
      "text/plain": [
       "Locs(2, 1, 3, 3, u)"
      ]
     },
     "metadata": {},
     "output_type": "display_data"
    }
   ],
   "source": [
    "# test that copy works\n",
    "@show deepcopy(loc).x1 += 1\n",
    "loc"
   ]
  },
  {
   "cell_type": "code",
   "execution_count": 16,
   "metadata": {},
   "outputs": [
    {
     "data": {
      "text/plain": [
       "Locs(2, 1, 3, 3, u)"
      ]
     },
     "metadata": {},
     "output_type": "display_data"
    }
   ],
   "source": [
    "loc"
   ]
  },
  {
   "cell_type": "code",
   "execution_count": 17,
   "metadata": {},
   "outputs": [
    {
     "data": {
      "text/plain": [
       "1"
      ]
     },
     "metadata": {},
     "output_type": "display_data"
    }
   ],
   "source": [
    "Int(u)"
   ]
  },
  {
   "cell_type": "code",
   "execution_count": 21,
   "metadata": {},
   "outputs": [
    {
     "data": {
      "text/plain": [
       "2×2 Matrix{Int64}:\n",
       " 1  2\n",
       " 3  4"
      ]
     },
     "metadata": {},
     "output_type": "display_data"
    }
   ],
   "source": [
    "[1 2; 3 4]"
   ]
  },
  {
   "cell_type": "code",
   "execution_count": null,
   "metadata": {},
   "outputs": [],
   "source": []
  }
 ],
 "metadata": {
  "kernelspec": {
   "display_name": "Julia 1.9.0",
   "language": "julia",
   "name": "julia-1.9"
  },
  "language_info": {
   "file_extension": ".jl",
   "mimetype": "application/julia",
   "name": "julia",
   "version": "1.9.0"
  },
  "orig_nbformat": 4
 },
 "nbformat": 4,
 "nbformat_minor": 2
}
