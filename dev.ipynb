{
 "cells": [
  {
   "cell_type": "code",
   "execution_count": null,
   "metadata": {},
   "outputs": [],
   "source": [
    "using PkgTemplates\n"
   ]
  },
  {
   "cell_type": "code",
   "execution_count": null,
   "metadata": {},
   "outputs": [],
   "source": [
    "typeof((1,1))"
   ]
  },
  {
   "cell_type": "code",
   "execution_count": null,
   "metadata": {},
   "outputs": [],
   "source": [
    "a::Array{Float64,2} = rand(2,2)"
   ]
  },
  {
   "cell_type": "code",
   "execution_count": null,
   "metadata": {},
   "outputs": [],
   "source": [
    "module tstmod\n",
    "    include(\"tmp.jl\")\n",
    "    using .tmpmod\n",
    "    s = Spectra()\n",
    "end"
   ]
  },
  {
   "cell_type": "code",
   "execution_count": null,
   "metadata": {},
   "outputs": [],
   "source": [
    "module tstmod2\n",
    "minmax(x, y) = (y < x) ? (y, x) : (x, y)\n",
    "gap((min, max)) = max - min\n",
    "@show gap(minmax(10, 2))\n",
    "end"
   ]
  },
  {
   "cell_type": "code",
   "execution_count": 2,
   "metadata": {},
   "outputs": [
    {
     "ename": "LoadError",
     "evalue": "LoadError: syntax: invalid argument destructuring syntax \"(resolusioneigval = 64, resolusionparam = 64)\" around /Users/outk/Documents/Codes/Julia/22-7/spectraShooter/tmp.jl:4\nin expression starting at /Users/outk/Documents/Codes/Julia/22-7/spectraShooter/tmp.jl:1",
     "output_type": "error",
     "traceback": [
      "LoadError: syntax: invalid argument destructuring syntax \"(resolusioneigval = 64, resolusionparam = 64)\" around /Users/outk/Documents/Codes/Julia/22-7/spectraShooter/tmp.jl:4\n",
      "in expression starting at /Users/outk/Documents/Codes/Julia/22-7/spectraShooter/tmp.jl:1\n",
      "\n",
      "Stacktrace:\n",
      " [1] top-level scope\n",
      "   @ ~/Documents/Codes/Julia/22-7/spectraShooter/tmp.jl:4"
     ]
    }
   ],
   "source": [
    "include(\"tmp.jl\")\n",
    "import .tmpmod\n",
    "s = Spectra((2,2))"
   ]
  },
  {
   "cell_type": "code",
   "execution_count": null,
   "metadata": {},
   "outputs": [],
   "source": [
    "struct testMat <: AbstractArray{Int,1}\n",
    "count::Int\n",
    "# testMat(count::Int) = new(count)\n",
    "end\n",
    "Base.size(m::testMat) = (m.count,)\n",
    "Base.IndexStyle(::Type{<:testMat}) = IndexLinear()\n",
    "Base.getindex(m::testMat, i::Int) = i*i"
   ]
  },
  {
   "cell_type": "code",
   "execution_count": null,
   "metadata": {},
   "outputs": [],
   "source": [
    "struct testMat2 <: AbstractArray{Int,2}\n",
    "count::Int\n",
    "# testMat(count::Int) = new(count)\n",
    "end\n",
    "Base.size(m::testMat2) = (m.count, m.count)\n",
    "Base.IndexStyle(::Type{<:testMat2}) = IndexCartesian()\n",
    "Base.getindex(m::testMat2, i::Int, j::Int) = i*j\n",
    "Base.getindex(m::testMat2, i::Float64, j::Float64) = round(i)*round(j)"
   ]
  },
  {
   "cell_type": "code",
   "execution_count": null,
   "metadata": {},
   "outputs": [],
   "source": [
    "struct testMat3 <: AbstractArray{Int,1}\n",
    "data::Array{Int,1}\n",
    "end\n",
    "Base.size(m::testMat3) = size(m.data)\n",
    "Base.IndexStyle(::Type{<:testMat3}) = IndexLinear()\n",
    "Base.getindex(m::testMat3, i::Int) = m.data[i]\n",
    "Base.setindex!(m::testMat3, v, i::Int) = m.data[i] = v\n"
   ]
  },
  {
   "cell_type": "code",
   "execution_count": null,
   "metadata": {},
   "outputs": [],
   "source": [
    "let a = testMat(5)\n",
    "    @show a\n",
    "    a.count = 10\n",
    "end"
   ]
  },
  {
   "cell_type": "code",
   "execution_count": null,
   "metadata": {},
   "outputs": [],
   "source": [
    "let a = testMat2(5)\n",
    "    @show a[1.2,2.0]\n",
    "    a.count = 10\n",
    "end"
   ]
  },
  {
   "cell_type": "code",
   "execution_count": null,
   "metadata": {},
   "outputs": [],
   "source": [
    "let a = testMat3(rand(Int, 5))\n",
    "    @show a\n",
    "    a[2] = 10\n",
    "    a\n",
    "end"
   ]
  },
  {
   "cell_type": "code",
   "execution_count": null,
   "metadata": {},
   "outputs": [],
   "source": [
    "struct Params\n",
    "    logeigvals::StepRangeLen\n",
    "    logfreevals::StepRangeLen\n",
    "    constvals::Tuple\n",
    "end\n"
   ]
  },
  {
   "cell_type": "code",
   "execution_count": null,
   "metadata": {},
   "outputs": [],
   "source": [
    "const dir = (n=0, u=1, d=2, l=3, r=4)\n",
    "const \n",
    "mutable struct Seeds\n",
    "\n",
    "end"
   ]
  },
  {
   "cell_type": "code",
   "execution_count": null,
   "metadata": {},
   "outputs": [],
   "source": [
    "struct tst\n",
    "    a::Int\n",
    "end\n",
    "Base.getproperty(t::tst, v::Val{:b}) =  0"
   ]
  },
  {
   "cell_type": "code",
   "execution_count": null,
   "metadata": {},
   "outputs": [],
   "source": [
    "let x = tst(5)\n",
    "    @show x.a\n",
    "    @show x.b\n",
    "end"
   ]
  },
  {
   "cell_type": "code",
   "execution_count": null,
   "metadata": {},
   "outputs": [],
   "source": [
    ":(x, y)"
   ]
  },
  {
   "cell_type": "code",
   "execution_count": null,
   "metadata": {},
   "outputs": [],
   "source": [
    "struct testStruct\n",
    "    a::Int\n",
    "    b::Float64\n",
    "end"
   ]
  },
  {
   "cell_type": "code",
   "execution_count": null,
   "metadata": {},
   "outputs": [],
   "source": [
    "typeof((:x, :y))"
   ]
  },
  {
   "cell_type": "code",
   "execution_count": null,
   "metadata": {},
   "outputs": [],
   "source": [
    "typeof(:(x,y))"
   ]
  },
  {
   "cell_type": "code",
   "execution_count": null,
   "metadata": {},
   "outputs": [],
   "source": [
    "(:(x,y)).args"
   ]
  },
  {
   "cell_type": "code",
   "execution_count": null,
   "metadata": {},
   "outputs": [],
   "source": [
    ":x == :x"
   ]
  },
  {
   "cell_type": "code",
   "execution_count": null,
   "metadata": {},
   "outputs": [],
   "source": [
    "typeof((a=1, b=range(1,2,3)))"
   ]
  },
  {
   "cell_type": "code",
   "execution_count": null,
   "metadata": {},
   "outputs": [],
   "source": [
    "# write a function that takes a named tuple and returns a named tuple with the same names but with the values replaced by the result of a function applied to the values\n",
    "function mapNamedTuple(f, nt)\n",
    "    names = fieldnames(typeof(nt))\n",
    "    vals = getfield.(Ref(nt), names)\n",
    "    newvals = [typeof(val)<:StepRangeLen ? f.(val) : val for val in vals]\n",
    "    return NamedTuple{names}(newvals)\n",
    "end"
   ]
  },
  {
   "cell_type": "code",
   "execution_count": null,
   "metadata": {},
   "outputs": [],
   "source": [
    "mapNamedTuple(x->x.^2, (a=1, b=2, c=range(1,2,3)))"
   ]
  },
  {
   "cell_type": "code",
   "execution_count": null,
   "metadata": {},
   "outputs": [],
   "source": [
    "typeof(range(1,2,3)) <:StepRangeLen"
   ]
  },
  {
   "cell_type": "code",
   "execution_count": 6,
   "metadata": {},
   "outputs": [],
   "source": [
    "struct testNamedTuple\n",
    "    nt::NamedTuple\n",
    "end\n",
    "# Base.getproperty(t::testNamedTuple, v::Symbol) =  getfield(t.nt, v)\n",
    "function Base.getproperty(t::testNamedTuple, s::Symbol)\n",
    "    if s === :nt\n",
    "        # @show \"nt\"\n",
    "        return getfield(t, s)\n",
    "    else\n",
    "        # @show \"else\"\n",
    "        return getfield(t.nt, s)\n",
    "    end\n",
    "end"
   ]
  },
  {
   "cell_type": "code",
   "execution_count": 2,
   "metadata": {},
   "outputs": [
    {
     "data": {
      "text/plain": [
       "testNamedTuple((a = 1, b = 2))"
      ]
     },
     "metadata": {},
     "output_type": "display_data"
    }
   ],
   "source": [
    "nt = testNamedTuple((a=1,b=2))"
   ]
  },
  {
   "cell_type": "code",
   "execution_count": 3,
   "metadata": {},
   "outputs": [
    {
     "data": {
      "text/plain": [
       "(a = 1, b = 2)"
      ]
     },
     "metadata": {},
     "output_type": "display_data"
    }
   ],
   "source": [
    "nt.nt"
   ]
  },
  {
   "cell_type": "code",
   "execution_count": 7,
   "metadata": {},
   "outputs": [
    {
     "data": {
      "text/plain": [
       "2"
      ]
     },
     "metadata": {},
     "output_type": "display_data"
    }
   ],
   "source": [
    "nt.b"
   ]
  },
  {
   "cell_type": "code",
   "execution_count": 8,
   "metadata": {},
   "outputs": [
    {
     "name": "stdout",
     "output_type": "stream",
     "text": [
      "testNamedTuple\n",
      "  nt: NamedTuple"
     ]
    },
    {
     "name": "stdout",
     "output_type": "stream",
     "text": [
      "{(:a, :b), Tuple{Int64, Int64}}\n",
      "    a: Int64 1\n",
      "    b: Int64 2\n"
     ]
    }
   ],
   "source": [
    "dump(nt)"
   ]
  },
  {
   "cell_type": "code",
   "execution_count": null,
   "metadata": {},
   "outputs": [],
   "source": [
    "fieldnames(nt)"
   ]
  },
  {
   "cell_type": "code",
   "execution_count": 10,
   "metadata": {},
   "outputs": [],
   "source": [
    "\"\"\"\n",
    "    Dirs\n",
    "\n",
    "    `n`: not defined\n",
    "    `u`: up(+x2)\n",
    "    `d`: down(-x2)\n",
    "    `l`: left(-x1)\n",
    "    `r`: right(+x1)\n",
    "\"\"\"\n",
    "@enum Dirs n u d l r\n",
    "\"\"\"\n",
    "    touchobund(loc, dir)\n",
    "\n",
    "    return true if the seed is touching the boundary in the direction dir\n",
    "    return nothing if dir is not defined\n",
    "\"\"\"\n",
    "function touchobund(loc::Locs, dir::Dirs)\n",
    "    if dir === n\n",
    "        return nothing\n",
    "    elseif dir === u\n",
    "        return !(0 < loc.x2+1 < loc.size2)\n",
    "    elseif dir === d\n",
    "        return !(0 < loc.x2-1 < loc.size2)\n",
    "    elseif dir === l\n",
    "        return !(0 < loc.x1-1 < loc.size1)\n",
    "    elseif dir === r\n",
    "        return !(0 < loc.x1+1 < loc.size1)\n",
    "    else\n",
    "        error(\"invalid direction\")\n",
    "        return nothing\n",
    "    end\n",
    "end\n",
    "    \n"
   ]
  },
  {
   "cell_type": "code",
   "execution_count": null,
   "metadata": {},
   "outputs": [],
   "source": [
    "\"\"\"\n",
    "    Locs\n",
    "    \n",
    "    `x1`: the position of the seed in the first direction\n",
    "    `x2`: the position of the seed in the second direction\n",
    "    `size1`: the number of sites in the first direction\n",
    "    `size2`: the number of sites in the second direction\n",
    "    `dir`: the direction of the hopping\n",
    "\"\"\"\n",
    "mutable struct Locs\n",
    "    x1::Int\n",
    "    x2::Int\n",
    "    #size: the number of sites in each direction\n",
    "    size1::Int # 0 < x1 < size1\n",
    "    size2::Int # 0 < x2 < size2\n",
    "    dir::Dirs\n",
    "end\n"
   ]
  },
  {
   "cell_type": "code",
   "execution_count": null,
   "metadata": {},
   "outputs": [],
   "source": [
    "function Base.setproperty!(loc::Locs, s::Symbol, v)\n",
    "    if s === :x1\n",
    "        @assert 0 < v < loc.size1 \"x1 of loc must be between 0 and size1\"\n",
    "        loc.x1 = Int(v)\n",
    "    elseif s === :x2\n",
    "        @assert 0 < v < loc.size2 \"x2 of loc must be between 0 and size2\"\n",
    "        loc.x2 = Int(v)\n",
    "    elseif s === :size1\n",
    "        @warn \"size1 of the Locs struct should not be changed.\"\n",
    "        loc.size1 = Int(v)\n",
    "    elseif s === :size2\n",
    "        @warn \"size2 of the Locs struct should not be changed.\"\n",
    "        loc.size2 = Int(v)\n",
    "    elseif s === :dir\n",
    "        loc.dir = v\n",
    "    else\n",
    "        error(\"invalid property name\")\n",
    "    end  \n",
    "end\n",
    "\n"
   ]
  },
  {
   "cell_type": "code",
   "execution_count": 77,
   "metadata": {},
   "outputs": [
    {
     "data": {
      "text/plain": [
       "extractargswithtype"
      ]
     },
     "metadata": {},
     "output_type": "display_data"
    }
   ],
   "source": [
    "\"\"\"\n",
    "    extractargswithtype(arglist, type)\n",
    "\n",
    "    return a symbol vector with the elements of the type\n",
    "\"\"\"\n",
    "function extractargswithtype(arglist::NamedTuple, type::DataType)\n",
    "    names = fieldnames(typeof(arglist))\n",
    "    vals  = getfield.(Ref(arglist), names)\n",
    "    args = Vector{Symbol}()\n",
    "    for i in eachindex(vals)\n",
    "        if typeof(vals[i]) <: type\n",
    "            push!(args, names[i])\n",
    "        end\n",
    "    end\n",
    "    return args\n",
    "end"
   ]
  },
  {
   "cell_type": "code",
   "execution_count": null,
   "metadata": {},
   "outputs": [],
   "source": [
    "function norder(..., x::CreationOperator, y::AnnihilationOperator, ...)\n",
    "    return norder(..., y, x, ...)\n",
    "end"
   ]
  },
  {
   "cell_type": "code",
   "execution_count": null,
   "metadata": {},
   "outputs": [],
   "source": [
    "#write a function `normalorder` that takes more than two arguments of only two types `::A` and `::B`. Match the first two nearby arguments which is of the order `::B` and `::A` and return the function call with the order reversed. If there is no such pair, return the function call as it is. For example: `normalorder(a1, b1)` should return `normalorder(a1, b1)`, `normalorder(b1, a1)` should return `normalorder(a1, b1)`, `normalorder(b1, b2, a1)` should return `normalorder(b1, a1, b2)` and `normalorder(b1, a1, b2)` should return `normalorder(a1, b1, b2)`. In the example, `a1`'s type is `::A` and `b1`, `b2`'s type are `::B`. You can assume that there is only one such pair in the function call.\n",
    "function normalorder(args...)\n",
    "    # your code here\n",
    "    \n",
    "end\n"
   ]
  },
  {
   "cell_type": "code",
   "execution_count": 9,
   "metadata": {},
   "outputs": [
    {
     "data": {
      "text/plain": [
       "matchtypes (generic function with 2 methods)"
      ]
     },
     "metadata": {},
     "output_type": "display_data"
    }
   ],
   "source": [
    "```\n",
    "matchtypes\n",
    "\n",
    "write a function that takes a tuple of arguments types `pattern` and a arbitrary number of arguments `args...`. Match the `pattern` in `args` and split the `args` into three parts: 1. arguments before the pattern is matched. 2. arguments that match the pattern. 3. arguments after the pattern is matched. Return a tuple of three parts.\n",
    "```\n",
    "function matchtypes(pattern::AbstractVector, args...)\n",
    "    # extract types from args\n",
    "    types = map(x -> typeof(x), args)\n",
    "    # convert types into a AbstractVector\n",
    "    types = collect(types)\n",
    "    # find the first index of pattern in types\n",
    "    idx = findfirst(pattern, types)\n",
    "    idx = idx == nothing ? length(types) : idx\n",
    "    # return a tuple of three parts\n",
    "    return args[1:idx-1], args[idx:idx+length(pattern)-1], args[idx+length(pattern):end]\n",
    "end"
   ]
  },
  {
   "cell_type": "code",
   "execution_count": null,
   "metadata": {},
   "outputs": [],
   "source": [
    "```\n",
    "findfirst(pattern::AbstractVector{DataType}, collection::AbstractVector{DataType})\n",
    "\n",
    "write a findfirst function that takes a vector of types and a vector of types and returns the index of the first element in the second vector that is of a type in the first vector. If there is no such element, return nothing.\n",
    "```\n",
    "function findfirst(pattern::AbstractVector{DataType}, collection::AbstractVector{DataType})\n",
    "    for i in 1:length(collection)\n",
    "        for j in 1:length(pattern)\n",
    "            if typeof(collection[i]) == pattern[j]\n",
    "                return i\n",
    "            end\n",
    "        end\n",
    "    end\n",
    "    return nothing\n",
    "end"
   ]
  },
  {
   "cell_type": "code",
   "execution_count": 10,
   "metadata": {},
   "outputs": [
    {
     "ename": "MethodError",
     "evalue": "MethodError: no method matching findfirst(::Vector{DataType}, ::Vector{DataType})\nClosest candidates are:\n  findfirst(::AbstractArray) at array.jl:1992\n  findfirst(!Matched::Function, ::Union{AbstractString, AbstractArray}) at array.jl:2074\n  findfirst(!Matched::Function, ::Any) at array.jl:2066\n  ...",
     "output_type": "error",
     "traceback": [
      "MethodError: no method matching findfirst(::Vector{DataType}, ::Vector{DataType})\n",
      "Closest candidates are:\n",
      "  findfirst(::AbstractArray) at array.jl:1992\n",
      "  findfirst(!Matched::Function, ::Union{AbstractString, AbstractArray}) at array.jl:2074\n",
      "  findfirst(!Matched::Function, ::Any) at array.jl:2066\n",
      "  ...\n",
      "\n",
      "Stacktrace:\n",
      " [1] matchtypes(::Vector{DataType}, ::Missing, ::Vararg{Any})\n",
      "   @ Main ~/Documents/Codes/Julia/22-7/spectraShooter/dev.ipynb:12\n",
      " [2] top-level scope\n",
      "   @ ~/Documents/Codes/Julia/22-7/spectraShooter/dev.ipynb:1"
     ]
    }
   ],
   "source": [
    "matchtypes([Int, Int], missing, 1, 0.1, 1, 2, 3)"
   ]
  },
  {
   "cell_type": "code",
   "execution_count": 13,
   "metadata": {},
   "outputs": [
    {
     "ename": "MethodError",
     "evalue": "MethodError: Cannot `convert` an object of type Type{Real} to an object of type Int64\nClosest candidates are:\n  convert(::Type{T}, !Matched::T) where T<:Number at number.jl:6\n  convert(::Type{T}, !Matched::Number) where T<:Number at number.jl:7\n  convert(::Type{T}, !Matched::Base.TwicePrecision) where T<:Number at twiceprecision.jl:273\n  ...",
     "output_type": "error",
     "traceback": [
      "MethodError: Cannot `convert` an object of type Type{Real} to an object of type Int64\n",
      "Closest candidates are:\n",
      "  convert(::Type{T}, !Matched::T) where T<:Number at number.jl:6\n",
      "  convert(::Type{T}, !Matched::Number) where T<:Number at number.jl:7\n",
      "  convert(::Type{T}, !Matched::Base.TwicePrecision) where T<:Number at twiceprecision.jl:273\n",
      "  ...\n",
      "\n",
      "Stacktrace:\n",
      " [1] setindex!(A::Vector{Int64}, x::Type, i1::Int64)\n",
      "   @ Base ./array.jl:966\n",
      " [2] copyto!(dest::Vector{Int64}, src::Tuple{DataType, DataType})\n",
      "   @ Base ./abstractarray.jl:904\n",
      " [3] _collect(#unused#::Type{Int64}, itr::Tuple{DataType, DataType}, isz::Base.HasLength)\n",
      "   @ Base ./array.jl:649\n",
      " [4] collect(#unused#::Type{Int64}, itr::Tuple{DataType, DataType})\n",
      "   @ Base ./array.jl:647\n",
      " [5] top-level scope\n",
      "   @ ~/Documents/Codes/Julia/22-7/spectraShooter/dev.ipynb:1"
     ]
    }
   ],
   "source": [
    "collect(Int, (Real, Bool))"
   ]
  },
  {
   "cell_type": "code",
   "execution_count": 6,
   "metadata": {},
   "outputs": [
    {
     "data": {
      "text/plain": [
       "false"
      ]
     },
     "metadata": {},
     "output_type": "display_data"
    }
   ],
   "source": [
    "Tuple <: AbstractVector"
   ]
  },
  {
   "cell_type": "code",
   "execution_count": 14,
   "metadata": {},
   "outputs": [],
   "source": [
    "#write a matrix type that can be delayed to initialize until the matrix element is read or written.\n",
    "#the matrix type should have a field for the data, a field for the initialization function, and a field for a boolean matrix of the same size of data that indicates whether the matrix has been initialized.\n",
    "#write a getindex method for this matrix type that initializes the matrix element if it is not initialized, and then returns the requested element.\n",
    "#write a setindex! method for this matrix type\n",
    "#when the matrix element is read or written, the boolean should be set to true\n",
    "#write a construct function that set the size of the boolean matrix to be the same as the size of the data matrix\n",
    "struct DelayedMatrix{T}\n",
    "    data::Matrix{T}\n",
    "    init::Function\n",
    "    initialized::Matrix{Bool}\n",
    "    function DelayedMatrix(data::Matrix{T}, init::Function) where T\n",
    "        initialized = falses(size(data))\n",
    "        new{T}(data, init, initialized)\n",
    "    end\n",
    "end\n",
    "function Base.getindex(m::DelayedMatrix, i, j)\n",
    "    if !m.initialized[i,j]\n",
    "        m.data[i,j] = m.init(i, j)\n",
    "        m.initialized[i,j] = true\n",
    "    end\n",
    "    m.data[i,j]\n",
    "end\n",
    "function Base.setindex!(m::DelayedMatrix, v, i, j)\n",
    "    m.data[i,j] = v\n",
    "    m.initialized[i,j] = true\n",
    "end\n"
   ]
  },
  {
   "cell_type": "code",
   "execution_count": 19,
   "metadata": {},
   "outputs": [
    {
     "data": {
      "text/plain": [
       "DelayedMatrix{Int64}([1 1 1; 1 1 1; 1 1 1], var\"#19#20\"(), Bool[0 0 0; 0 0 0; 0 0 0])"
      ]
     },
     "metadata": {},
     "output_type": "display_data"
    }
   ],
   "source": [
    "dmat = DelayedMatrix(ones(Int, 3, 3), (i, j) -> i + j)"
   ]
  },
  {
   "cell_type": "code",
   "execution_count": 20,
   "metadata": {},
   "outputs": [
    {
     "data": {
      "text/plain": [
       "2"
      ]
     },
     "metadata": {},
     "output_type": "display_data"
    }
   ],
   "source": [
    "dmat[1,1]"
   ]
  },
  {
   "cell_type": "code",
   "execution_count": 21,
   "metadata": {},
   "outputs": [
    {
     "data": {
      "text/plain": [
       "DelayedMatrix{Int64}([2 1 1; 1 1 1; 1 1 1], var\"#19#20\"(), Bool[1 0 0; 0 0 0; 0 0 0])"
      ]
     },
     "metadata": {},
     "output_type": "display_data"
    }
   ],
   "source": [
    "dmat"
   ]
  },
  {
   "cell_type": "code",
   "execution_count": 1,
   "metadata": {},
   "outputs": [
    {
     "ename": "UndefVarError",
     "evalue": "UndefVarError: DelayedMatrix not defined",
     "output_type": "error",
     "traceback": [
      "UndefVarError: DelayedMatrix not defined\n",
      "\n",
      "Stacktrace:\n",
      " [1] top-level scope\n",
      "   @ ~/Documents/Codes/Julia/22-7/spectraShooter/dev.ipynb:3"
     ]
    }
   ],
   "source": [
    "include(\"DelayedMatrices.jl\")\n",
    "import .DelayedMatrices#: DelayedMatrix\n",
    "dmat = DelayedMatrix(zeros(Int, 3,3), (i,j)->i+j)"
   ]
  },
  {
   "cell_type": "code",
   "execution_count": 26,
   "metadata": {},
   "outputs": [
    {
     "data": {
      "text/plain": [
       "5"
      ]
     },
     "metadata": {},
     "output_type": "display_data"
    }
   ],
   "source": [
    "dmat[2,3]"
   ]
  },
  {
   "cell_type": "code",
   "execution_count": 27,
   "metadata": {},
   "outputs": [
    {
     "data": {
      "text/plain": [
       "DelayedMatrix{Int64}([0 0 0; 0 0 5; 0 0 0], var\"#23#24\"(), Bool[0 0 0; 0 0 1; 0 0 0])"
      ]
     },
     "metadata": {},
     "output_type": "display_data"
    }
   ],
   "source": [
    "dmat"
   ]
  },
  {
   "cell_type": "code",
   "execution_count": null,
   "metadata": {},
   "outputs": [],
   "source": [
    "#write a function that takes a matrix `x` and returns a matrix `y` whose elements are 1 if the corresponding elements in `x` have neighbor of the opposite sign\n",
    "#example: x = [1 2 3; 1 -2 3; 4 5 6] -> y = [0 1 0; 1 1 1; 0 1 0]\n",
    "\n"
   ]
  },
  {
   "cell_type": "code",
   "execution_count": null,
   "metadata": {},
   "outputs": [],
   "source": [
    "#write a function that takes a matrix and two indices and returns the view of the 2 by 2 submatrix starting at those indices\n",
    "#example: A = [1 2 3; 4 5 6; 7 8 9] and i = 1, j = 2 should return the view [2 3; 5 6]\n",
    "function subview22(A, i, j)\n",
    "    view(A, i:i+1, j:j+1)\n",
    "end"
   ]
  },
  {
   "cell_type": "code",
   "execution_count": 33,
   "metadata": {},
   "outputs": [
    {
     "data": {
      "text/plain": [
       "3×3 BitMatrix:\n",
       " 1  0  0\n",
       " 0  1  1\n",
       " 1  1  1"
      ]
     },
     "metadata": {},
     "output_type": "display_data"
    }
   ],
   "source": [
    "[1 2 3; 4 5 6; 7 8 9] .> 4 .* ([1 2 3; 4 5 6; 7 8 9] .> 1)"
   ]
  },
  {
   "cell_type": "code",
   "execution_count": 36,
   "metadata": {},
   "outputs": [
    {
     "data": {
      "text/plain": [
       "CartesianIndex(0, -1)"
      ]
     },
     "metadata": {},
     "output_type": "display_data"
    }
   ],
   "source": [
    "CartesianIndex(0,0) - ( CartesianIndex(1,2) - CartesianIndex(1,1) )"
   ]
  },
  {
   "cell_type": "code",
   "execution_count": null,
   "metadata": {},
   "outputs": [],
   "source": [
    "#given the size of the matrix and a CartesianIndex, assert the indices is in bounds\n",
    "function assert_in_bounds(size::Tuple{Int, Int}, index::CartesianIndex)\n",
    "    @assert 1 <= index[1] <= size[1] && 1 <= index[2] <= size[2] \"index out of bounds\"\n",
    "end"
   ]
  },
  {
   "cell_type": "code",
   "execution_count": 37,
   "metadata": {},
   "outputs": [
    {
     "data": {
      "text/plain": [
       "typeof(forwardantenna) (singleton type of function forwardantenna, subtype of Function)"
      ]
     },
     "metadata": {},
     "output_type": "display_data"
    }
   ],
   "source": [
    "function forwardantenna(currentval::Number, forwardval::Number)\n",
    "end\n",
    "typeof(forwardantenna)"
   ]
  },
  {
   "cell_type": "code",
   "execution_count": 38,
   "metadata": {},
   "outputs": [
    {
     "data": {
      "text/plain": [
       "forwardantenna (generic function with 1 method)"
      ]
     },
     "metadata": {},
     "output_type": "display_data"
    }
   ],
   "source": [
    "forwardantenna"
   ]
  },
  {
   "cell_type": "code",
   "execution_count": 40,
   "metadata": {},
   "outputs": [],
   "source": [
    "@assert 1==1"
   ]
  },
  {
   "cell_type": "code",
   "execution_count": 43,
   "metadata": {},
   "outputs": [
    {
     "data": {
      "text/plain": [
       "true"
      ]
     },
     "metadata": {},
     "output_type": "display_data"
    }
   ],
   "source": [
    "CartesianIndex(1,1) == CartesianIndex(1,1)"
   ]
  },
  {
   "cell_type": "code",
   "execution_count": 46,
   "metadata": {},
   "outputs": [
    {
     "data": {
      "text/plain": [
       "3×3 Matrix{CartesianIndex{2}}:\n",
       " CartesianIndex(-1, -1)  CartesianIndex(-1, 0)  CartesianIndex(-1, 1)\n",
       " CartesianIndex(0, -1)   CartesianIndex(0, 0)   CartesianIndex(0, 1)\n",
       " CartesianIndex(1, -1)   CartesianIndex(1, 0)   CartesianIndex(1, 1)"
      ]
     },
     "metadata": {},
     "output_type": "display_data"
    }
   ],
   "source": [
    "[CartesianIndex(i,j) for i in -1:1, j in -1:1]"
   ]
  },
  {
   "cell_type": "code",
   "execution_count": 49,
   "metadata": {},
   "outputs": [
    {
     "data": {
      "text/plain": [
       "CartesianIndex(2, 0)"
      ]
     },
     "metadata": {},
     "output_type": "display_data"
    }
   ],
   "source": [
    "CartesianIndex(1, 0) + CartesianIndex(1, 0)"
   ]
  },
  {
   "cell_type": "code",
   "execution_count": 52,
   "metadata": {},
   "outputs": [
    {
     "data": {
      "text/plain": [
       "2-element Vector{Int64}:\n",
       " 1\n",
       " 0"
      ]
     },
     "metadata": {},
     "output_type": "display_data"
    }
   ],
   "source": [
    "v = [1,0]\n"
   ]
  },
  {
   "cell_type": "code",
   "execution_count": 59,
   "metadata": {},
   "outputs": [
    {
     "data": {
      "text/plain": [
       "2×2 Matrix{Int64}:\n",
       " 0  -1\n",
       " 1   0"
      ]
     },
     "metadata": {},
     "output_type": "display_data"
    }
   ],
   "source": [
    "R = [0 -1; 1 0] "
   ]
  },
  {
   "cell_type": "code",
   "execution_count": 67,
   "metadata": {},
   "outputs": [
    {
     "data": {
      "text/plain": [
       "2-element Vector{Int64}:\n",
       "  0\n",
       " -1"
      ]
     },
     "metadata": {},
     "output_type": "display_data"
    }
   ],
   "source": [
    "v = R*v"
   ]
  },
  {
   "cell_type": "code",
   "execution_count": 11,
   "metadata": {},
   "outputs": [
    {
     "name": "stderr",
     "output_type": "stream",
     "text": [
      "WARNING: replacing module TurtleSearch.\n",
      "WARNING: using TurtleSearch.Action in module Main conflicts with an existing identifier.\n",
      "WARNING: using TurtleSearch.next! in module Main conflicts with an existing identifier.\n",
      "WARNING: using TurtleSearch.Turtles in module Main conflicts with an existing identifier.\n"
     ]
    }
   ],
   "source": [
    "include(\"./TurtleSearch.jl\")\n",
    "using .TurtleSearch"
   ]
  },
  {
   "cell_type": "code",
   "execution_count": 3,
   "metadata": {},
   "outputs": [
    {
     "data": {
      "text/plain": [
       "3×3 Matrix{CartesianIndex{2}}:\n",
       " CartesianIndex(1, 1)  CartesianIndex(1, 2)  CartesianIndex(1, 3)\n",
       " CartesianIndex(2, 1)  CartesianIndex(2, 2)  CartesianIndex(2, 3)\n",
       " CartesianIndex(3, 1)  CartesianIndex(3, 2)  CartesianIndex(3, 3)"
      ]
     },
     "metadata": {},
     "output_type": "display_data"
    }
   ],
   "source": [
    "[CartesianIndex(i,j) for i in 1:3, j in 1:3]"
   ]
  },
  {
   "cell_type": "code",
   "execution_count": 16,
   "metadata": {},
   "outputs": [
    {
     "data": {
      "text/plain": [
       "10×10 Matrix{Float64}:\n",
       " 2.7  -0.3  -3.3  -6.3  -9.3  -12.3  -15.3  -18.3  -21.3  -24.3\n",
       " 3.4   0.4  -2.6  -5.6  -8.6  -11.6  -14.6  -17.6  -20.6  -23.6\n",
       " 4.1   1.1  -1.9  -4.9  -7.9  -10.9  -13.9  -16.9  -19.9  -22.9\n",
       " 4.8   1.8  -1.2  -4.2  -7.2  -10.2  -13.2  -16.2  -19.2  -22.2\n",
       " 5.5   2.5  -0.5  -3.5  -6.5   -9.5  -12.5  -15.5  -18.5  -21.5\n",
       " 6.2   3.2   0.2  -2.8  -5.8   -8.8  -11.8  -14.8  -17.8  -20.8\n",
       " 6.9   3.9   0.9  -2.1  -5.1   -8.1  -11.1  -14.1  -17.1  -20.1\n",
       " 7.6   4.6   1.6  -1.4  -4.4   -7.4  -10.4  -13.4  -16.4  -19.4\n",
       " 8.3   5.3   2.3  -0.7  -3.7   -6.7   -9.7  -12.7  -15.7  -18.7\n",
       " 9.0   6.0   3.0   0.0  -3.0   -6.0   -9.0  -12.0  -15.0  -18.0"
      ]
     },
     "metadata": {},
     "output_type": "display_data"
    }
   ],
   "source": [
    "# using Plots\n",
    "mapmat = [0.7y - 3x + 5 for y in 1:10, x in 1:10];\n",
    "# heatmap(mapmat)"
   ]
  },
  {
   "cell_type": "code",
   "execution_count": 28,
   "metadata": {},
   "outputs": [
    {
     "data": {
      "text/plain": [
       "-0.5"
      ]
     },
     "metadata": {},
     "output_type": "display_data"
    }
   ],
   "source": [
    "mapmat[1,3]"
   ]
  },
  {
   "cell_type": "markdown",
   "metadata": {},
   "source": []
  },
  {
   "cell_type": "markdown",
   "metadata": {},
   "source": []
  },
  {
   "cell_type": "code",
   "execution_count": 24,
   "metadata": {},
   "outputs": [
    {
     "data": {
      "text/plain": [
       "Turtles(CartesianIndex(1, 2), CartesianIndex(1, 3), var\"#37#38\"(), Main.TurtleSearch.usualurge)"
      ]
     },
     "metadata": {},
     "output_type": "display_data"
    }
   ],
   "source": [
    "t = Turtles((m::Matrix, new, old)->1, CartesianIndex(1, 2), CartesianIndex(1, 3))"
   ]
  },
  {
   "cell_type": "code",
   "execution_count": 2,
   "metadata": {},
   "outputs": [],
   "source": [
    "include(\"./TurtleSearch.jl\")\n",
    "using .TurtleSearch\n"
   ]
  },
  {
   "cell_type": "code",
   "execution_count": 21,
   "metadata": {},
   "outputs": [],
   "source": [
    "mapmat = [0.7y^1.1 - 3x^0.6 + 5 for y in 1:10, x in 1:10];\n",
    "t = Turtles((m::Matrix, new, old)->m[new]*m[old]<0, CartesianIndex(1, 2), CartesianIndex(1, 1))\n",
    "steplist = []\n",
    "astep = next!(t, mapmat)\n",
    "while nothing != astep\n",
    "    push!(steplist, Tuple(astep))\n",
    "    astep = next!(t, mapmat)\n",
    "end"
   ]
  },
  {
   "cell_type": "code",
   "execution_count": 22,
   "metadata": {},
   "outputs": [
    {
     "data": {
      "text/plain": [
       "9-element Vector{Any}:\n",
       " (CartesianIndex(2, 2), CartesianIndex(2, 1))\n",
       " (CartesianIndex(3, 2), CartesianIndex(3, 1))\n",
       " (CartesianIndex(4, 2), CartesianIndex(4, 1))\n",
       " (CartesianIndex(5, 2), CartesianIndex(5, 1))\n",
       " (CartesianIndex(6, 2), CartesianIndex(6, 1))\n",
       " (CartesianIndex(7, 2), CartesianIndex(7, 1))\n",
       " (CartesianIndex(8, 2), CartesianIndex(8, 1))\n",
       " (CartesianIndex(9, 2), CartesianIndex(9, 1))\n",
       " (CartesianIndex(10, 2), CartesianIndex(10, 1))"
      ]
     },
     "metadata": {},
     "output_type": "display_data"
    }
   ],
   "source": [
    "steplist"
   ]
  },
  {
   "cell_type": "code",
   "execution_count": 23,
   "metadata": {},
   "outputs": [
    {
     "data": {
      "image/png": "[encoded data removed]",
      "image/svg+xml": [
       "<?xml version=\"1.0\" encoding=\"utf-8\"?>\n",
       "<svg xmlns=\"http://www.w3.org/2000/svg\" xmlns:xlink=\"http://www.w3.org/1999/xlink\" width=\"600\" height=\"400\" viewBox=\"0 0 2400 1600\">\n",
       "<defs>\n",
       "  <clipPath id=\"clip670\">\n",
       "    <rect x=\"0\" y=\"0\" width=\"2400\" height=\"1600\"/>\n",
       "  </clipPath>\n",
       "</defs>\n",
       "<path clip-path=\"url(#clip670)\" d=\"M0 1600 L2400 1600 L2400 0 L0 0  Z\" fill=\"#ffffff\" fill-rule=\"evenodd\" fill-opacity=\"1\"/>\n",
       "<defs>\n",
       "  <clipPath id=\"clip671\">\n",
       "    <rect x=\"480\" y=\"0\" width=\"1681\" height=\"1600\"/>\n",
       "  </clipPath>\n",
       "</defs>\n",
       "<path clip-path=\"url(#clip670)\" d=\"M138.959 1486.45 L2112.76 1486.45 L2112.76 47.2441 L138.959 47.2441  Z\" fill=\"#ffffff\" fill-rule=\"evenodd\" fill-opacity=\"1\"/>\n",
       "<defs>\n",
       "  <clipPath id=\"clip672\">\n",
       "    <rect x=\"138\" y=\"47\" width=\"1975\" height=\"1440\"/>\n",
       "  </clipPath>\n",
       "</defs>\n",
       "<polyline clip-path=\"url(#clip672)\" style=\"stroke:#000000; stroke-linecap:round; stroke-linejoin:round; stroke-width:2; stroke-opacity:0.1; fill:none\" points=\"435.029,1486.45 435.029,47.2441 \"/>\n",
       "<polyline clip-path=\"url(#clip672)\" style=\"stroke:#000000; stroke-linecap:round; stroke-linejoin:round; stroke-width:2; stroke-opacity:0.1; fill:none\" points=\"829.788,1486.45 829.788,47.2441 \"/>\n",
       "<polyline clip-path=\"url(#clip672)\" style=\"stroke:#000000; stroke-linecap:round; stroke-linejoin:round; stroke-width:2; stroke-opacity:0.1; fill:none\" points=\"1224.55,1486.45 1224.55,47.2441 \"/>\n",
       "<polyline clip-path=\"url(#clip672)\" style=\"stroke:#000000; stroke-linecap:round; stroke-linejoin:round; stroke-width:2; stroke-opacity:0.1; fill:none\" points=\"1619.31,1486.45 1619.31,47.2441 \"/>\n",
       "<polyline clip-path=\"url(#clip672)\" style=\"stroke:#000000; stroke-linecap:round; stroke-linejoin:round; stroke-width:2; stroke-opacity:0.1; fill:none\" points=\"2014.07,1486.45 2014.07,47.2441 \"/>\n",
       "<polyline clip-path=\"url(#clip670)\" style=\"stroke:#000000; stroke-linecap:round; stroke-linejoin:round; stroke-width:4; stroke-opacity:1; fill:none\" points=\"138.959,1486.45 2112.76,1486.45 \"/>\n",
       "<polyline clip-path=\"url(#clip670)\" style=\"stroke:#000000; stroke-linecap:round; stroke-linejoin:round; stroke-width:4; stroke-opacity:1; fill:none\" points=\"435.029,1486.45 435.029,1467.55 \"/>\n",
       "<polyline clip-path=\"url(#clip670)\" style=\"stroke:#000000; stroke-linecap:round; stroke-linejoin:round; stroke-width:4; stroke-opacity:1; fill:none\" points=\"829.788,1486.45 829.788,1467.55 \"/>\n",
       "<polyline clip-path=\"url(#clip670)\" style=\"stroke:#000000; stroke-linecap:round; stroke-linejoin:round; stroke-width:4; stroke-opacity:1; fill:none\" points=\"1224.55,1486.45 1224.55,1467.55 \"/>\n",
       "<polyline clip-path=\"url(#clip670)\" style=\"stroke:#000000; stroke-linecap:round; stroke-linejoin:round; stroke-width:4; stroke-opacity:1; fill:none\" points=\"1619.31,1486.45 1619.31,1467.55 \"/>\n",
       "<polyline clip-path=\"url(#clip670)\" style=\"stroke:#000000; stroke-linecap:round; stroke-linejoin:round; stroke-width:4; stroke-opacity:1; fill:none\" points=\"2014.07,1486.45 2014.07,1467.55 \"/>\n",
       "<path clip-path=\"url(#clip670)\" d=\"M429.682 1544.91 L446.001 1544.91 L446.001 1548.85 L424.057 1548.85 L424.057 1544.91 Q426.719 1542.16 431.302 1537.53 Q435.909 1532.88 437.089 1531.53 Q439.334 1529.01 440.214 1527.27 Q441.117 1525.51 441.117 1523.82 Q441.117 1521.07 439.172 1519.33 Q437.251 1517.6 434.149 1517.6 Q431.95 1517.6 429.497 1518.36 Q427.066 1519.13 424.288 1520.68 L424.288 1515.95 Q427.112 1514.82 429.566 1514.24 Q432.02 1513.66 434.057 1513.66 Q439.427 1513.66 442.621 1516.35 Q445.816 1519.03 445.816 1523.52 Q445.816 1525.65 445.006 1527.57 Q444.219 1529.47 442.112 1532.07 Q441.534 1532.74 438.432 1535.95 Q435.33 1539.15 429.682 1544.91 Z\" fill=\"#000000\" fill-rule=\"evenodd\" fill-opacity=\"1\" /><path clip-path=\"url(#clip670)\" d=\"M832.797 1518.36 L820.992 1536.81 L832.797 1536.81 L832.797 1518.36 M831.571 1514.29 L837.45 1514.29 L837.45 1536.81 L842.381 1536.81 L842.381 1540.7 L837.45 1540.7 L837.45 1548.85 L832.797 1548.85 L832.797 1540.7 L817.196 1540.7 L817.196 1536.19 L831.571 1514.29 Z\" fill=\"#000000\" fill-rule=\"evenodd\" fill-opacity=\"1\" /><path clip-path=\"url(#clip670)\" d=\"M1224.95 1529.7 Q1221.8 1529.7 1219.95 1531.86 Q1218.12 1534.01 1218.12 1537.76 Q1218.12 1541.49 1219.95 1543.66 Q1221.8 1545.82 1224.95 1545.82 Q1228.1 1545.82 1229.93 1543.66 Q1231.78 1541.49 1231.78 1537.76 Q1231.78 1534.01 1229.93 1531.86 Q1228.1 1529.7 1224.95 1529.7 M1234.23 1515.05 L1234.23 1519.31 Q1232.48 1518.48 1230.67 1518.04 Q1228.89 1517.6 1227.13 1517.6 Q1222.5 1517.6 1220.05 1520.72 Q1217.61 1523.85 1217.27 1530.17 Q1218.63 1528.15 1220.69 1527.09 Q1222.75 1526 1225.23 1526 Q1230.44 1526 1233.45 1529.17 Q1236.48 1532.32 1236.48 1537.76 Q1236.48 1543.08 1233.33 1546.3 Q1230.18 1549.52 1224.95 1549.52 Q1218.96 1549.52 1215.79 1544.94 Q1212.61 1540.33 1212.61 1531.6 Q1212.61 1523.41 1216.5 1518.55 Q1220.39 1513.66 1226.94 1513.66 Q1228.7 1513.66 1230.48 1514.01 Q1232.29 1514.36 1234.23 1515.05 Z\" fill=\"#000000\" fill-rule=\"evenodd\" fill-opacity=\"1\" /><path clip-path=\"url(#clip670)\" d=\"M1619.31 1532.44 Q1615.97 1532.44 1614.05 1534.22 Q1612.15 1536 1612.15 1539.13 Q1612.15 1542.25 1614.05 1544.03 Q1615.97 1545.82 1619.31 1545.82 Q1622.64 1545.82 1624.56 1544.03 Q1626.48 1542.23 1626.48 1539.13 Q1626.48 1536 1624.56 1534.22 Q1622.66 1532.44 1619.31 1532.44 M1614.63 1530.45 Q1611.62 1529.7 1609.93 1527.64 Q1608.27 1525.58 1608.27 1522.62 Q1608.27 1518.48 1611.2 1516.07 Q1614.17 1513.66 1619.31 1513.66 Q1624.47 1513.66 1627.41 1516.07 Q1630.35 1518.48 1630.35 1522.62 Q1630.35 1525.58 1628.66 1527.64 Q1626.99 1529.7 1624.01 1530.45 Q1627.39 1531.23 1629.26 1533.52 Q1631.16 1535.82 1631.16 1539.13 Q1631.16 1544.15 1628.08 1546.83 Q1625.02 1549.52 1619.31 1549.52 Q1613.59 1549.52 1610.51 1546.83 Q1607.46 1544.15 1607.46 1539.13 Q1607.46 1535.82 1609.35 1533.52 Q1611.25 1531.23 1614.63 1530.45 M1612.92 1523.06 Q1612.92 1525.75 1614.58 1527.25 Q1616.27 1528.76 1619.31 1528.76 Q1622.32 1528.76 1624.01 1527.25 Q1625.72 1525.75 1625.72 1523.06 Q1625.72 1520.38 1624.01 1518.87 Q1622.32 1517.37 1619.31 1517.37 Q1616.27 1517.37 1614.58 1518.87 Q1612.92 1520.38 1612.92 1523.06 Z\" fill=\"#000000\" fill-rule=\"evenodd\" fill-opacity=\"1\" /><path clip-path=\"url(#clip670)\" d=\"M1988.75 1544.91 L1996.39 1544.91 L1996.39 1518.55 L1988.08 1520.21 L1988.08 1515.95 L1996.35 1514.29 L2001.02 1514.29 L2001.02 1544.91 L2008.66 1544.91 L2008.66 1548.85 L1988.75 1548.85 L1988.75 1544.91 Z\" fill=\"#000000\" fill-rule=\"evenodd\" fill-opacity=\"1\" /><path clip-path=\"url(#clip670)\" d=\"M2028.11 1517.37 Q2024.49 1517.37 2022.67 1520.93 Q2020.86 1524.47 2020.86 1531.6 Q2020.86 1538.71 2022.67 1542.27 Q2024.49 1545.82 2028.11 1545.82 Q2031.74 1545.82 2033.55 1542.27 Q2035.37 1538.71 2035.37 1531.6 Q2035.37 1524.47 2033.55 1520.93 Q2031.74 1517.37 2028.11 1517.37 M2028.11 1513.66 Q2033.92 1513.66 2036.97 1518.27 Q2040.05 1522.85 2040.05 1531.6 Q2040.05 1540.33 2036.97 1544.94 Q2033.92 1549.52 2028.11 1549.52 Q2022.3 1549.52 2019.22 1544.94 Q2016.16 1540.33 2016.16 1531.6 Q2016.16 1522.85 2019.22 1518.27 Q2022.3 1513.66 2028.11 1513.66 Z\" fill=\"#000000\" fill-rule=\"evenodd\" fill-opacity=\"1\" /><polyline clip-path=\"url(#clip672)\" style=\"stroke:#000000; stroke-linecap:round; stroke-linejoin:round; stroke-width:2; stroke-opacity:0.1; fill:none\" points=\"138.959,1270.57 2112.76,1270.57 \"/>\n",
       "<polyline clip-path=\"url(#clip672)\" style=\"stroke:#000000; stroke-linecap:round; stroke-linejoin:round; stroke-width:2; stroke-opacity:0.1; fill:none\" points=\"138.959,982.727 2112.76,982.727 \"/>\n",
       "<polyline clip-path=\"url(#clip672)\" style=\"stroke:#000000; stroke-linecap:round; stroke-linejoin:round; stroke-width:2; stroke-opacity:0.1; fill:none\" points=\"138.959,694.886 2112.76,694.886 \"/>\n",
       "<polyline clip-path=\"url(#clip672)\" style=\"stroke:#000000; stroke-linecap:round; stroke-linejoin:round; stroke-width:2; stroke-opacity:0.1; fill:none\" points=\"138.959,407.045 2112.76,407.045 \"/>\n",
       "<polyline clip-path=\"url(#clip672)\" style=\"stroke:#000000; stroke-linecap:round; stroke-linejoin:round; stroke-width:2; stroke-opacity:0.1; fill:none\" points=\"138.959,119.204 2112.76,119.204 \"/>\n",
       "<polyline clip-path=\"url(#clip670)\" style=\"stroke:#000000; stroke-linecap:round; stroke-linejoin:round; stroke-width:4; stroke-opacity:1; fill:none\" points=\"138.959,1486.45 138.959,47.2441 \"/>\n",
       "<polyline clip-path=\"url(#clip670)\" style=\"stroke:#000000; stroke-linecap:round; stroke-linejoin:round; stroke-width:4; stroke-opacity:1; fill:none\" points=\"138.959,1270.57 155.808,1270.57 \"/>\n",
       "<polyline clip-path=\"url(#clip670)\" style=\"stroke:#000000; stroke-linecap:round; stroke-linejoin:round; stroke-width:4; stroke-opacity:1; fill:none\" points=\"138.959,982.727 155.808,982.727 \"/>\n",
       "<polyline clip-path=\"url(#clip670)\" style=\"stroke:#000000; stroke-linecap:round; stroke-linejoin:round; stroke-width:4; stroke-opacity:1; fill:none\" points=\"138.959,694.886 155.808,694.886 \"/>\n",
       "<polyline clip-path=\"url(#clip670)\" style=\"stroke:#000000; stroke-linecap:round; stroke-linejoin:round; stroke-width:4; stroke-opacity:1; fill:none\" points=\"138.959,407.045 155.808,407.045 \"/>\n",
       "<polyline clip-path=\"url(#clip670)\" style=\"stroke:#000000; stroke-linecap:round; stroke-linejoin:round; stroke-width:4; stroke-opacity:1; fill:none\" points=\"138.959,119.204 155.808,119.204 \"/>\n",
       "<path clip-path=\"url(#clip670)\" d=\"M86.6401 1283.91 L102.959 1283.91 L102.959 1287.85 L81.0151 1287.85 L81.0151 1283.91 Q83.6771 1281.16 88.2604 1276.53 Q92.8669 1271.88 94.0475 1270.53 Q96.2928 1268.01 97.1724 1266.27 Q98.0752 1264.51 98.0752 1262.82 Q98.0752 1260.07 96.1308 1258.33 Q94.2095 1256.6 91.1077 1256.6 Q88.9086 1256.6 86.4549 1257.36 Q84.0244 1258.13 81.2466 1259.68 L81.2466 1254.95 Q84.0707 1253.82 86.5243 1253.24 Q88.978 1252.66 91.0151 1252.66 Q96.3854 1252.66 99.5798 1255.35 Q102.774 1258.03 102.774 1262.52 Q102.774 1264.65 101.964 1266.57 Q101.177 1268.47 99.0706 1271.06 Q98.4919 1271.74 95.39 1274.95 Q92.2882 1278.15 86.6401 1283.91 Z\" fill=\"#000000\" fill-rule=\"evenodd\" fill-opacity=\"1\" /><path clip-path=\"url(#clip670)\" d=\"M93.3762 969.521 L81.5707 987.97 L93.3762 987.97 L93.3762 969.521 M92.1493 965.447 L98.0289 965.447 L98.0289 987.97 L102.959 987.97 L102.959 991.858 L98.0289 991.858 L98.0289 1000.01 L93.3762 1000.01 L93.3762 991.858 L77.7744 991.858 L77.7744 987.345 L92.1493 965.447 Z\" fill=\"#000000\" fill-rule=\"evenodd\" fill-opacity=\"1\" /><path clip-path=\"url(#clip670)\" d=\"M91.4317 693.022 Q88.2836 693.022 86.4318 695.175 Q84.6031 697.328 84.6031 701.078 Q84.6031 704.805 86.4318 706.981 Q88.2836 709.133 91.4317 709.133 Q94.5799 709.133 96.4085 706.981 Q98.2604 704.805 98.2604 701.078 Q98.2604 697.328 96.4085 695.175 Q94.5799 693.022 91.4317 693.022 M100.714 678.37 L100.714 682.629 Q98.9548 681.796 97.1493 681.356 Q95.3669 680.916 93.6076 680.916 Q88.978 680.916 86.5243 684.041 Q84.0938 687.166 83.7466 693.485 Q85.1123 691.471 87.1725 690.407 Q89.2327 689.319 91.7095 689.319 Q96.9178 689.319 99.927 692.49 Q102.959 695.638 102.959 701.078 Q102.959 706.402 99.8113 709.62 Q96.6632 712.837 91.4317 712.837 Q85.4364 712.837 82.2651 708.254 Q79.0938 703.647 79.0938 694.921 Q79.0938 686.726 82.9827 681.865 Q86.8716 676.981 93.4225 676.981 Q95.1817 676.981 96.9641 677.328 Q98.7696 677.675 100.714 678.37 Z\" fill=\"#000000\" fill-rule=\"evenodd\" fill-opacity=\"1\" /><path clip-path=\"url(#clip670)\" d=\"M91.1077 407.913 Q87.7743 407.913 85.8531 409.695 Q83.9549 411.478 83.9549 414.603 Q83.9549 417.728 85.8531 419.51 Q87.7743 421.293 91.1077 421.293 Q94.441 421.293 96.3623 419.51 Q98.2835 417.705 98.2835 414.603 Q98.2835 411.478 96.3623 409.695 Q94.4641 407.913 91.1077 407.913 M86.4318 405.922 Q83.4225 405.182 81.7327 403.121 Q80.066 401.061 80.066 398.098 Q80.066 393.955 83.0058 391.547 Q85.9688 389.14 91.1077 389.14 Q96.2697 389.14 99.2095 391.547 Q102.149 393.955 102.149 398.098 Q102.149 401.061 100.459 403.121 Q98.7928 405.182 95.8067 405.922 Q99.1863 406.709 101.061 409.001 Q102.959 411.293 102.959 414.603 Q102.959 419.626 99.8808 422.311 Q96.8252 424.996 91.1077 424.996 Q85.3901 424.996 82.3114 422.311 Q79.2559 419.626 79.2559 414.603 Q79.2559 411.293 81.154 409.001 Q83.0521 406.709 86.4318 405.922 M84.7188 398.538 Q84.7188 401.223 86.3855 402.728 Q88.0753 404.233 91.1077 404.233 Q94.1169 404.233 95.8067 402.728 Q97.5197 401.223 97.5197 398.538 Q97.5197 395.853 95.8067 394.348 Q94.1169 392.844 91.1077 392.844 Q88.0753 392.844 86.3855 394.348 Q84.7188 395.853 84.7188 398.538 Z\" fill=\"#000000\" fill-rule=\"evenodd\" fill-opacity=\"1\" /><path clip-path=\"url(#clip670)\" d=\"M51.6634 132.549 L59.3023 132.549 L59.3023 106.184 L50.9921 107.85 L50.9921 103.591 L59.256 101.924 L63.9319 101.924 L63.9319 132.549 L71.5707 132.549 L71.5707 136.484 L51.6634 136.484 L51.6634 132.549 Z\" fill=\"#000000\" fill-rule=\"evenodd\" fill-opacity=\"1\" /><path clip-path=\"url(#clip670)\" d=\"M91.0151 105.003 Q87.404 105.003 85.5753 108.568 Q83.7697 112.109 83.7697 119.239 Q83.7697 126.345 85.5753 129.91 Q87.404 133.452 91.0151 133.452 Q94.6493 133.452 96.4548 129.91 Q98.2835 126.345 98.2835 119.239 Q98.2835 112.109 96.4548 108.568 Q94.6493 105.003 91.0151 105.003 M91.0151 101.299 Q96.8252 101.299 99.8808 105.906 Q102.959 110.489 102.959 119.239 Q102.959 127.966 99.8808 132.572 Q96.8252 137.156 91.0151 137.156 Q85.2049 137.156 82.1262 132.572 Q79.0707 127.966 79.0707 119.239 Q79.0707 110.489 82.1262 105.906 Q85.2049 101.299 91.0151 101.299 Z\" fill=\"#000000\" fill-rule=\"evenodd\" fill-opacity=\"1\" /><g clip-path=\"url(#clip672)\">\n",
       "<image width=\"1974\" height=\"1439\" xlink:href=\"data:image/png;base64,\n",
       "iVBORw0KGgoAAAANSUhEUgAAB7YAAAWfCAYAAAAvUBneAAAgAElEQVR4nOzZMQ2EQAAAwYMgCrlv\n",
       "AQUYI4GahvY2+RkF2+8yxnYP4OW6f7MTIOXcj9kJAAAAAADAH1tnBwAAAAAAAADAF2MbAAAAAAAA\n",
       "gDRjGwAAAAAAAIA0YxsAAAAAAACANGMbAAAAAAAAgDRjGwAAAAAAAIA0YxsAAAAAAACANGMbAAAA\n",
       "AAAAgDRjGwAAAAAAAIA0YxsAAAAAAACANGMbAAAAAAAAgDRjGwAAAAAAAIA0YxsAAAAAAACANGMb\n",
       "AAAAAAAAgDRjGwAAAAAAAIA0YxsAAAAAAACANGMbAAAAAAAAgDRjGwAAAAAAAIA0YxsAAAAAAACA\n",
       "NGMbAAAAAAAAgDRjGwAAAAAAAIA0YxsAAAAAAACANGMbAAAAAAAAgDRjGwAAAAAAAIA0YxsAAAAA\n",
       "AACANGMbAAAAAAAAgDRjGwAAAAAAAIA0YxsAAAAAAACANGMbAAAAAAAAgDRjGwAAAAAAAIA0YxsA\n",
       "AAAAAACANGMbAAAAAAAAgDRjGwAAAAAAAIA0YxsAAAAAAACANGMbAAAAAAAAgDRjGwAAAAAAAIA0\n",
       "YxsAAAAAAACANGMbAAAAAAAAgDRjGwAAAAAAAIA0YxsAAAAAAACANGMbAAAAAAAAgDRjGwAAAAAA\n",
       "AIA0YxsAAAAAAACANGMbAAAAAAAAgDRjGwAAAAAAAIA0YxsAAAAAAACANGMbAAAAAAAAgDRjGwAA\n",
       "AAAAAIA0YxsAAAAAAACANGMbAAAAAAAAgDRjGwAAAAAAAIA0YxsAAAAAAACANGMbAAAAAAAAgDRj\n",
       "GwAAAAAAAIA0YxsAAAAAAACANGMbAAAAAAAAgDRjGwAAAAAAAIA0YxsAAAAAAACANGMbAAAAAAAA\n",
       "gDRjGwAAAAAAAIA0YxsAAAAAAACANGMbAAAAAAAAgDRjGwAAAAAAAIA0YxsAAAAAAACANGMbAAAA\n",
       "AAAAgDRjGwAAAAAAAIA0YxsAAAAAAACANGMbAAAAAAAAgDRjGwAAAAAAAIA0YxsAAAAAAACANGMb\n",
       "AAAAAAAAgDRjGwAAAAAAAIA0YxsAAAAAAACANGMbAAAAAAAAgDRjGwAAAAAAAIA0YxsAAAAAAACA\n",
       "NGMbAAAAAAAAgDRjGwAAAAAAAIA0YxsAAAAAAACANGMbAAAAAAAAgDRjGwAAAAAAAIA0YxsAAAAA\n",
       "AACANGMbAAAAAAAAgDRjGwAAAAAAAIA0YxsAAAAAAACANGMbAAAAAAAAgDRjGwAAAAAAAIA0YxsA\n",
       "AAAAAACANGMbAAAAAAAAgDRjGwAAAAAAAIA0YxsAAAAAAACANGMbAAAAAAAAgDRjGwAAAAAAAIA0\n",
       "YxsAAAAAAACANGMbAAAAAAAAgDRjGwAAAAAAAIA0YxsAAAAAAACANGMbAAAAAAAAgDRjGwAAAAAA\n",
       "AIA0YxsAAAAAAACANGMbAAAAAAAAgDRjGwAAAAAAAIA0YxsAAAAAAACANGMbAAAAAAAAgDRjGwAA\n",
       "AAAAAIA0YxsAAAAAAACANGMbAAAAAAAAgDRjGwAAAAAAAIA0YxsAAAAAAACANGMbAAAAAAAAgDRj\n",
       "GwAAAAAAAIA0YxsAAAAAAACANGMbAAAAAAAAgDRjGwAAAAAAAIA0YxsAAAAAAACANGMbAAAAAAAA\n",
       "gDRjGwAAAAAAAIA0YxsAAAAAAACANGMbAAAAAAAAgDRjGwAAAAAAAIA0YxsAAAAAAACANGMbAAAA\n",
       "AAAAgDRjGwAAAAAAAIA0YxsAAAAAAACANGMbAAAAAAAAgDRjGwAAAAAAAIA0YxsAAAAAAACANGMb\n",
       "AAAAAAAAgDRjGwAAAAAAAIA0YxsAAAAAAACANGMbAAAAAAAAgDRjGwAAAAAAAIA0YxsAAAAAAACA\n",
       "NGMbAAAAAAAAgDRjGwAAAAAAAIA0YxsAAAAAAACANGMbAAAAAAAAgDRjGwAAAAAAAIA0YxsAAAAA\n",
       "AACANGMbAAAAAAAAgDRjGwAAAAAAAIA0YxsAAAAAAACANGMbAAAAAAAAgDRjGwAAAAAAAIA0YxsA\n",
       "AAAAAACANGMbAAAAAAAAgDRjGwAAAAAAAIA0YxsAAAAAAACANGMbAAAAAAAAgDRjGwAAAAAAAIA0\n",
       "YxsAAAAAAACANGMbAAAAAAAAgDRjGwAAAAAAAIA0YxsAAAAAAACANGMbAAAAAAAAgDRjGwAAAAAA\n",
       "AIA0YxsAAAAAAACANGMbAAAAAAAAgDRjGwAAAAAAAIA0YxsAAAAAAACANGMbAAAAAAAAgDRjGwAA\n",
       "AAAAAIA0YxsAAAAAAACANGMbAAAAAAAAgDRjGwAAAAAAAIA0YxsAAAAAAACANGMbAAAAAAAAgDRj\n",
       "GwAAAAAAAIA0YxsAAAAAAACANGMbAAAAAAAAgDRjGwAAAAAAAIA0YxsAAAAAAACANGMbAAAAAAAA\n",
       "gDRjGwAAAAAAAIA0YxsAAAAAAACANGMbAAAAAAAAgDRjGwAAAAAAAIA0YxsAAAAAAACANGMbAAAA\n",
       "AAAAgDRjGwAAAAAAAIA0YxsAAAAAAACANGMbAAAAAAAAgDRjGwAAAAAAAIA0YxsAAAAAAACANGMb\n",
       "AAAAAAAAgDRjGwAAAAAAAIA0YxsAAAAAAACANGMbAAAAAAAAgDRjGwAAAAAAAIA0YxsAAAAAAACA\n",
       "NGMbAAAAAAAAgDRjGwAAAAAAAIA0YxsAAAAAAACANGMbAAAAAAAAgDRjGwAAAAAAAIA0YxsAAAAA\n",
       "AACANGMbAAAAAAAAgDRjGwAAAAAAAIA0YxsAAAAAAACANGMbAAAAAAAAgDRjGwAAAAAAAIA0YxsA\n",
       "AAAAAACANGMbAAAAAAAAgDRjGwAAAAAAAIA0YxsAAAAAAACANGMbAAAAAAAAgDRjGwAAAAAAAIA0\n",
       "YxsAAAAAAACANGMbAAAAAAAAgDRjGwAAAAAAAIA0YxsAAAAAAACANGMbAAAAAAAAgDRjGwAAAAAA\n",
       "AIA0YxsAAAAAAACANGMbAAAAAAAAgDRjGwAAAAAAAIA0YxsAAAAAAACANGMbAAAAAAAAgDRjGwAA\n",
       "AAAAAIA0YxsAAAAAAACANGMbAAAAAAAAgDRjGwAAAAAAAIA0YxsAAAAAAACANGMbAAAAAAAAgDRj\n",
       "GwAAAAAAAIA0YxsAAAAAAACANGMbAAAAAAAAgDRjGwAAAAAAAIA0YxsAAAAAAACANGMbAAAAAAAA\n",
       "gDRjGwAAAAAAAIA0YxsAAAAAAACANGMbAAAAAAAAgDRjGwAAAAAAAIA0YxsAAAAAAACANGMbAAAA\n",
       "AAAAgDRjGwAAAAAAAIA0YxsAAAAAAACANGMbAAAAAAAAgDRjGwAAAAAAAIA0YxsAAAAAAACANGMb\n",
       "AAAAAAAAgDRjGwAAAAAAAIA0YxsAAAAAAACANGMbAAAAAAAAgDRjGwAAAAAAAIA0YxsAAAAAAACA\n",
       "NGMbAAAAAAAAgDRjGwAAAAAAAIA0YxsAAAAAAACANGMbAAAAAAAAgDRjGwAAAAAAAIA0YxsAAAAA\n",
       "AACANGMbAAAAAAAAgDRjGwAAAAAAAIA0YxsAAAAAAACANGMbAAAAAAAAgDRjGwAAAAAAAIA0YxsA\n",
       "AAAAAACANGMbAAAAAAAAgDRjGwAAAAAAAIA0YxsAAAAAAACANGMbAAAAAAAAgDRjGwAAAAAAAIA0\n",
       "YxsAAAAAAACANGMbAAAAAAAAgDRjGwAAAAAAAIA0YxsAAAAAAACANGMbAAAAAAAAgDRjGwAAAAAA\n",
       "AIA0YxsAAAAAAACANGMbAAAAAAAAgDRjGwAAAAAAAIA0YxsAAAAAAACANGMbAAAAAAAAgDRjGwAA\n",
       "AAAAAIA0YxsAAAAAAACANGMbAAAAAAAAgDRjGwAAAAAAAIA0YxsAAAAAAACANGMbAAAAAAAAgDRj\n",
       "GwAAAAAAAIA0YxsAAAAAAACANGMbAAAAAAAAgDRjGwAAAAAAAIA0YxsAAAAAAACANGMbAAAAAAAA\n",
       "gDRjGwAAAAAAAIA0YxsAAAAAAACANGMbAAAAAAAAgDRjGwAAAAAAAIA0YxsAAAAAAACANGMbAAAA\n",
       "AAAAgDRjGwAAAAAAAIA0YxsAAAAAAACANGMbAAAAAAAAgDRjGwAAAAAAAIA0YxsAAAAAAACANGMb\n",
       "AAAAAAAAgDRjGwAAAAAAAIA0YxsAAAAAAACANGMbAAAAAAAAgDRjGwAAAAAAAIA0YxsAAAAAAACA\n",
       "NGMbAAAAAAAAgDRjGwAAAAAAAIA0YxsAAAAAAACANGMbAAAAAAAAgDRjGwAAAAAAAIA0YxsAAAAA\n",
       "AACANGMbAAAAAAAAgDRjGwAAAAAAAIA0YxsAAAAAAACANGMbAAAAAAAAgDRjGwAAAAAAAIA0YxsA\n",
       "AAAAAACANGMbAAAAAAAAgDRjGwAAAAAAAIA0YxsAAAAAAACANGMbAAAAAAAAgDRjGwAAAAAAAIA0\n",
       "YxsAAAAAAACANGMbAAAAAAAAgDRjGwAAAAAAAIA0YxsAAAAAAACANGMbAAAAAAAAgDRjGwAAAAAA\n",
       "AIA0YxsAAAAAAACANGMbAAAAAAAAgDRjGwAAAAAAAIA0YxsAAAAAAACANGMbAAAAAAAAgDRjGwAA\n",
       "AAAAAIA0YxsAAAAAAACANGMbAAAAAAAAgDRjGwAAAAAAAIA0YxsAAAAAAACANGMbAAAAAAAAgDRj\n",
       "GwAAAAAAAIA0YxsAAAAAAACANGMbAAAAAAAAgDRjGwAAAAAAAIA0YxsAAAAAAACANGMbAAAAAAAA\n",
       "gDRjGwAAAAAAAIA0YxsAAAAAAACANGMbAAAAAAAAgDRjGwAAAAAAAIA0YxsAAAAAAACANGMbAAAA\n",
       "AAAAgDRjGwAAAAAAAIA0YxsAAAAAAACANGMbAAAAAAAAgDRjGwAAAAAAAIA0YxsAAAAAAACANGMb\n",
       "AAAAAAAAgDRjGwAAAAAAAIA0YxsAAAAAAACANGMbAAAAAAAAgDRjGwAAAAAAAIA0YxsAAAAAAACA\n",
       "NGMbAAAAAAAAgDRjGwAAAAAAAIA0YxsAAAAAAACANGMbAAAAAAAAgDRjGwAAAAAAAIA0YxsAAAAA\n",
       "AACANGMbAAAAAAAAgDRjGwAAAAAAAIA0YxsAAAAAAACANGMbAAAAAAAAgDRjGwAAAAAAAIA0YxsA\n",
       "AAAAAACANGMbAAAAAAAAgDRjGwAAAAAAAIA0YxsAAAAAAACANGMbAAAAAAAAgDRjGwAAAAAAAIA0\n",
       "YxsAAAAAAACANGMbAAAAAAAAgDRjGwAAAAAAAIA0YxsAAAAAAACANGMbAAAAAAAAgDRjGwAAAAAA\n",
       "AIA0YxsAAAAAAACANGMbAAAAAAAAgDRjGwAAAAAAAIA0YxsAAAAAAACANGMbAAAAAAAAgDRjGwAA\n",
       "AAAAAIA0YxsAAAAAAACANGMbAAAAAAAAgDRjGwAAAAAAAIA0YxsAAAAAAACANGMbAAAAAAAAgDRj\n",
       "GwAAAAAAAIA0YxsAAAAAAACANGMbAAAAAAAAgDRjGwAAAAAAAIA0YxsAAAAAAACANGMbAAAAAAAA\n",
       "gDRjGwAAAAAAAIA0YxsAAAAAAACANGMbAAAAAAAAgDRjGwAAAAAAAIA0YxsAAAAAAACANGMbAAAA\n",
       "AAAAgDRjGwAAAAAAAIA0YxsAAAAAAACANGMbAAAAAAAAgDRjGwAAAAAAAIA0YxsAAAAAAACANGMb\n",
       "AAAAAAAAgDRjGwAAAAAAAIA0YxsAAAAAAACANGMbAAAAAAAAgDRjGwAAAAAAAIA0YxsAAAAAAACA\n",
       "NGMbAAAAAAAAgDRjGwAAAAAAAIA0YxsAAAAAAACANGMbAAAAAAAAgDRjGwAAAAAAAIA0YxsAAAAA\n",
       "AACANGMbAAAAAAAAgDRjGwAAAAAAAIA0YxsAAAAAAACANGMbAAAAAAAAgDRjGwAAAAAAAIA0YxsA\n",
       "AAAAAACANGMbAAAAAAAAgDRjGwAAAAAAAIA0YxsAAAAAAACANGMbAAAAAAAAgDRjGwAAAAAAAIA0\n",
       "YxsAAAAAAACANGMbAAAAAAAAgDRjGwAAAAAAAIA0YxsAAAAAAACANGMbAAAAAAAAgDRjGwAAAAAA\n",
       "AIA0YxsAAAAAAACANGMbAAAAAAAAgDRjGwAAAAAAAIA0YxsAAAAAAACANGMbAAAAAAAAgDRjGwAA\n",
       "AAAAAIA0YxsAAAAAAACANGMbAAAAAAAAgDRjGwAAAAAAAIA0YxsAAAAAAACANGMbAAAAAAAAgDRj\n",
       "GwAAAAAAAIA0YxsAAAAAAACANGMbAAAAAAAAgDRjGwAAAAAAAIA0YxsAAAAAAACANGMbAAAAAAAA\n",
       "gDRjGwAAAAAAAIA0YxsAAAAAAACANGMbAAAAAAAAgDRjGwAAAAAAAIA0YxsAAAAAAACANGMbAAAA\n",
       "AAAAgDRjGwAAAAAAAIA0YxsAAAAAAACANGMbAAAAAAAAgDRjGwAAAAAAAIA0YxsAAAAAAACANGMb\n",
       "AAAAAAAAgDRjGwAAAAAAAIA0YxsAAAAAAACANGMbAAAAAAAAgDRjGwAAAAAAAIA0YxsAAAAAAACA\n",
       "NGMbAAAAAAAAgDRjGwAAAAAAAIA0YxsAAAAAAACANGMbAAAAAAAAgDRjGwAAAAAAAIA0YxsAAAAA\n",
       "AACANGMbAAAAAAAAgDRjGwAAAAAAAIA0YxsAAAAAAACANGMbAAAAAAAAgDRjGwAAAAAAAIA0YxsA\n",
       "AAAAAACANGMbAAAAAAAAgDRjGwAAAAAAAIA0YxsAAAAAAACANGMbAAAAAAAAgDRjGwAAAAAAAIA0\n",
       "YxsAAAAAAACANGMbAAAAAAAAgDRjGwAAAAAAAIA0YxsAAAAAAACANGMbAAAAAAAAgDRjGwAAAAAA\n",
       "AIA0YxsAAAAAAACANGMbAAAAAAAAgDRjGwAAAAAAAIA0YxsAAAAAAACANGMbAAAAAAAAgDRjGwAA\n",
       "AAAAAIA0YxsAAAAAAACANGMbAAAAAAAAgDRjGwAAAAAAAIA0YxsAAAAAAACANGMbAAAAAAAAgDRj\n",
       "GwAAAAAAAIA0YxsAAAAAAACANGMbAAAAAAAAgDRjGwAAAAAAAIA0YxsAAAAAAACANGMbAAAAAAAA\n",
       "gDRjGwAAAAAAAIA0YxsAAAAAAACANGMbAAAAAAAAgDRjGwAAAAAAAIA0YxsAAAAAAACANGMbAAAA\n",
       "AAAAgDRjGwAAAAAAAIA0YxsAAAAAAACANGMbAAAAAAAAgDRjGwAAAAAAAIA0YxsAAAAAAACANGMb\n",
       "AAAAAAAAgIc9OxYAAAAAGORvPY0dpdGa2AYAAAAAAABgTWwDAAAAAAAAsCa2AQAAAAAAAFgT2wAA\n",
       "AAAAAACsiW0AAAAAAAAA1sQ2AAAAAAAAAGtiGwAAAAAAAIA1sQ0AAAAAAADAmtgGAAAAAAAAYE1s\n",
       "AwAAAAAAALAmtgEAAAAAAABYE9sAAAAAAAAArIltAAAAAAAAANbENgAAAAAAAABrYhsAAAAAAACA\n",
       "NbENAAAAAAAAwJrYBgAAAAAAAGBNbAMAAAAAAACwJrYBAAAAAAAAWBPbAAAAAAAAAKyJbQAAAAAA\n",
       "AADWxDYAAAAAAAAAa2IbAAAAAAAAgDWxDQAAAAAAAMCa2AYAAAAAAABgTWwDAAAAAAAAsCa2AQAA\n",
       "AAAAAFgT2wAAAAAAAACsiW0AAAAAAAAA1sQ2AAAAAAAAAGtiGwAAAAAAAIA1sQ0AAAAAAADAmtgG\n",
       "AAAAAAAAYE1sAwAAAAAAALAmtgEAAAAAAABYE9sAAAAAAAAArIltAAAAAAAAANbENgAAAAAAAABr\n",
       "YhsAAAAAAACANbENAAAAAAAAwJrYBgAAAAAAAGBNbAMAAAAAAACwJrYBAAAAAAAAWBPbAAAAAAAA\n",
       "AKyJbQAAAAAAAADWxDYAAAAAAAAAa2IbAAAAAAAAgDWxDQAAAAAAAMCa2AYAAAAAAABgTWwDAAAA\n",
       "AAAAsCa2AQAAAAAAAFgT2wAAAAAAAACsiW0AAAAAAAAA1sQ2AAAAAAAAAGtiGwAAAAAAAIA1sQ0A\n",
       "AAAAAADAmtgGAAAAAAAAYE1sAwAAAAAAALAmtgEAAAAAAABYE9sAAAAAAAAArIltAAAAAAAAANbE\n",
       "NgAAAAAAAABrYhsAAAAAAACANbENAAAAAAAAwJrYBgAAAAAAAGBNbAMAAAAAAACwJrYBAAAAAAAA\n",
       "WBPbAAAAAAAAAKyJbQAAAAAAAADWxDYAAAAAAAAAa2IbAAAAAAAAgDWxDQAAAAAAAMCa2AYAAAAA\n",
       "AABgTWwDAAAAAAAAsCa2AQAAAAAAAFgT2wAAAAAAAACsiW0AAAAAAAAA1sQ2AAAAAAAAAGtiGwAA\n",
       "AAAAAIA1sQ0AAAAAAADAmtgGAAAAAAAAYE1sAwAAAAAAALAmtgEAAAAAAABYE9sAAAAAAAAArIlt\n",
       "AAAAAAAAANbENgAAAAAAAABrYhsAAAAAAACANbENAAAAAAAAwJrYBgAAAAAAAGBNbAMAAAAAAACw\n",
       "JrYBAAAAAAAAWBPbAAAAAAAAAKyJbQAAAAAAAADWxDYAAAAAAAAAa2IbAAAAAAAAgDWxDQAAAAAA\n",
       "AMCa2AYAAAAAAABgTWwDAAAAAAAAsCa2AQAAAAAAAFgT2wAAAAAAAACsiW0AAAAAAAAA1sQ2AAAA\n",
       "AAAAAGtiGwAAAAAAAIA1sQ0AAAAAAADAmtgGAAAAAAAAYE1sAwAAAAAAALAmtgEAAAAAAABYE9sA\n",
       "AAAAAAAArIltAAAAAAAAANbENgAAAAAAAABrYhsAAAAAAACANbENAAAAAAAAwJrYBgAAAAAAAGBN\n",
       "bAMAAAAAAACwJrYBAAAAAAAAWBPbAAAAAAAAAKyJbQAAAAAAAADWxDYAAAAAAAAAa2IbAAAAAAAA\n",
       "gDWxDQAAAAAAAMCa2AYAAAAAAABgTWwDAAAAAAAAsCa2AQAAAAAAAFgT2wAAAAAAAACsiW0AAAAA\n",
       "AAAA1sQ2AAAAAAAAAGtiGwAAAAAAAIA1sQ0AAAAAAADAmtgGAAAAAAAAYE1sAwAAAAAAALAmtgEA\n",
       "AAAAAABYE9sAAAAAAAAArIltAAAAAAAAANbENgAAAAAAAABrYhsAAAAAAACANbENAAAAAAAAwJrY\n",
       "BgAAAAAAAGBNbAMAAAAAAACwJrYBAAAAAAAAWBPbAAAAAAAAAKyJbQAAAAAAAADWxDYAAAAAAAAA\n",
       "a2IbAAAAAAAAgDWxDQAAAAAAAMCa2AYAAAAAAABgTWwDAAAAAAAAsCa2AQAAAAAAAFgT2wAAAAAA\n",
       "AACsiW0AAAAAAAAA1sQ2AAAAAAAAAGtiGwAAAAAAAIA1sQ0AAAAAAADAmtgGAAAAAAAAYE1sAwAA\n",
       "AAAAALAmtgEAAAAAAABYE9sAAAAAAAAArIltAAAAAAAAANbENgAAAAAAAABrYhsAAAAAAACANbEN\n",
       "AAAAAAAAwJrYBgAAAAAAAGBNbAMAAAAAAACwJrYBAAAAAAAAWBPbAAAAAAAAAKyJbQAAAAAAAADW\n",
       "xDYAAAAAAAAAa2IbAAAAAAAAgDWxDQAAAAAAAMCa2AYAAAAAAABgTWwDAAAAAAAAsCa2AQAAAAAA\n",
       "AFgT2wAAAAAAAACsiW0AAAAAAAAA1sQ2AAAAAAAAAGtiGwAAAAAAAIA1sQ0AAAAAAADAmtgGAAAA\n",
       "AAAAYE1sAwAAAAAAALAmtgEAAAAAAABYE9sAAAAAAAAArIltAAAAAAAAANbENgAAAAAAAABrYhsA\n",
       "AAAAAACANbENAAAAAAAAwJrYBgAAAAAAAGBNbAMAAAAAAACwJrYBAAAAAAAAWBPbAAAAAAAAAKyJ\n",
       "bQAAAAAAAADWxDYAAAAAAAAAa2IbAAAAAAAAgDWxDQAAAAAAAMCa2AYAAAAAAABgTWwDAAAAAAAA\n",
       "sCa2AQAAAAAAAFgT2wAAAAAAAACsiW0AAAAAAAAA1sQ2AAAAAAAAAGtiGwAAAAAAAIA1sQ0AAAAA\n",
       "AADAmtgGAAAAAAAAYE1sAwAAAAAAALAmtgEAAAAAAABYE9sAAAAAAAAArIltAAAAAAAAANbENgAA\n",
       "AAAAAABrYhsAAAAAAACANbENAAAAAAAAwJrYBgAAAAAAAGBNbAMAAAAAAACwJrYBAAAAAAAAWBPb\n",
       "AAAAAAAAAKyJbQAAAAAAAADWxDYAAAAAAAAAa2IbAAAAAAAAgDWxDQAAAAAAAMCa2AYAAAAAAABg\n",
       "TWwDAAAAAAAAsCa2AQAAAAAAAFgT2wAAAAAAAACsiW0AAAAAAAAA1sQ2AAAAAAAAAGtiGwAAAAAA\n",
       "AIA1sQ0AAAAAAADAmtgGAAAAAAAAYE1sAwAAAAAAALAmtgEAAAAAAABYE9sAAAAAAAAArIltAAAA\n",
       "AAAAANbENgAAAAAAAABrYhsAAAAAAACANbENAAAAAAAAwJrYBgAAAAAAAGBNbAMAAAAAAACwJrYB\n",
       "AAAAAAAAWBPbAAAAAAAAAKyJbQAAAAAAAADWxDYAAAAAAAAAa2IbAAAAAAAAgDWxDQAAAAAAAMCa\n",
       "2AYAAAAAAABgTWwDAAAAAAAAsCa2AQAAAAAAAFgT2wAAAAAAAACsiW0AAAAAAAAA1sQ2AAAAAAAA\n",
       "AGtiGwAAAAAAAIA1sQ0AAAAAAADAmtgGAAAAAAAAYE1sAwAAAAAAALAmtgEAAAAAAABYE9sAAAAA\n",
       "AAAArIltAAAAAAAAANbENgAAAAAAAABrYhsAAAAAAACANbENAAAAAAAAwJrYBgAAAAAAAGBNbAMA\n",
       "AAAAAACwJrYBAAAAAAAAWBPbAAAAAAAAAKyJbQAAAAAAAADWxDYAAAAAAAAAa2IbAAAAAAAAgDWx\n",
       "DQAAAAAAAMCa2AYAAAAAAABgTWwDAAAAAAAAsCa2AQAAAAAAAFgT2wAAAAAAAACsiW0AAAAAAAAA\n",
       "1sQ2AAAAAAAAAGtiGwAAAAAAAIA1sQ0AAAAAAADAmtgGAAAAAAAAYE1sAwAAAAAAALAmtgEAAAAA\n",
       "AABYE9sAAAAAAAAArIltAAAAAAAAANbENgAAAAAAAABrYhsAAAAAAACANbENAAAAAAAAwJrYBgAA\n",
       "AAAAAGBNbAMAAAAAAACwJrYBAAAAAAAAWBPbAAAAAAAAAKyJbQAAAAAAAADWxDYAAAAAAAAAa2Ib\n",
       "AAAAAAAAgDWxDQAAAAAAAMCa2AYAAAAAAMYJI0AAABhRSURBVABgTWwDAAAAAAAAsCa2AQAAAAAA\n",
       "AFgT2wAAAAAAAACsiW0AAAAAAAAA1sQ2AAAAAAAAAGtiGwAAAAAAAIA1sQ0AAAAAAADAmtgGAAAA\n",
       "AAAAYE1sAwAAAAAAALAmtgEAAAAAAABYE9sAAAAAAAAArIltAAAAAAAAANbENgAAAAAAAABrYhsA\n",
       "AAAAAACANbENAAAAAAAAwJrYBgAAAAAAAGBNbAMAAAAAAACwJrYBAAAAAAAAWBPbAAAAAAAAAKyJ\n",
       "bQAAAAAAAADWxDYAAAAAAAAAa2IbAAAAAAAAgDWxDQAAAAAAAMCa2AYAAAAAAABgTWwDAAAAAAAA\n",
       "sCa2AQAAAAAAAFgT2wAAAAAAAACsiW0AAAAAAAAA1sQ2AAAAAAAAAGtiGwAAAAAAAIA1sQ0AAAAA\n",
       "AADAmtgGAAAAAAAAYE1sAwAAAAAAALAmtgEAAAAAAABYE9sAAAAAAAAArIltAAAAAAAAANbENgAA\n",
       "AAAAAABrYhsAAAAAAACANbENAAAAAAAAwJrYBgAAAAAAAGBNbAMAAAAAAACwJrYBAAAAAAAAWBPb\n",
       "AAAAAAAAAKyJbQAAAAAAAADWxDYAAAAAAAAAa2IbAAAAAAAAgDWxDQAAAAAAAMCa2AYAAAAAAABg\n",
       "TWwDAAAAAAAAsCa2AQAAAAAAAFgT2wAAAAAAAACsiW0AAAAAAAAA1sQ2AAAAAAAAAGtiGwAAAAAA\n",
       "AIA1sQ0AAAAAAADAmtgGAAAAAAAAYE1sAwAAAAAAALAmtgEAAAAAAABYE9sAAAAAAAAArIltAAAA\n",
       "AAAAANbENgAAAAAAAABrYhsAAAAAAACANbENAAAAAAAAwJrYBgAAAAAAAGBNbAMAAAAAAACwJrYB\n",
       "AAAAAAAAWBPbAAAAAAAAAKyJbQAAAAAAAADWxDYAAAAAAAAAa2IbAAAAAAAAgDWxDQAAAAAAAMCa\n",
       "2AYAAAAAAABgTWwDAAAAAAAAsCa2AQAAAAAAAFgT2wAAAAAAAACsiW0AAAAAAAAA1sQ2AAAAAAAA\n",
       "AGtiGwAAAAAAAIA1sQ0AAAAAAADAmtgGAAAAAAAAYE1sAwAAAAAAALAmtgEAAAAAAABYE9sAAAAA\n",
       "AAAArIltAAAAAAAAANbENgAAAAAAAABrYhsAAAAAAACANbENAAAAAAAAwJrYBgAAAAAAAGBNbAMA\n",
       "AAAAAACwJrYBAAAAAAAAWBPbAAAAAAAAAKyJbQAAAAAAAADWxDYAAAAAAAAAa2IbAAAAAAAAgDWx\n",
       "DQAAAAAAAMCa2AYAAAAAAABgTWwDAAAAAAAAsCa2AQAAAAAAAFgT2wAAAAAAAACsiW0AAAAAAAAA\n",
       "1sQ2AAAAAAAAAGtiGwAAAAAAAIA1sQ0AAAAAAADAmtgGAAAAAAAAYE1sAwAAAAAAALAmtgEAAAAA\n",
       "AABYE9sAAAAAAAAArIltAAAAAAAAANbENgAAAAAAAABrYhsAAAAAAACANbENAAAAAAAAwJrYBgAA\n",
       "AAAAAGBNbAMAAAAAAACwJrYBAAAAAAAAWBPbAAAAAAAAAKyJbQAAAAAAAADWxDYAAAAAAAAAa2Ib\n",
       "AAAAAAAAgDWxDQAAAAAAAMCa2AYAAAAAAABgTWwDAAAAAAAAsCa2AQAAAAAAAFgT2wAAAAAAAACs\n",
       "iW0AAAAAAAAA1sQ2AAAAAAAAAGtiGwAAAAAAAIA1sQ0AAAAAAADAmtgGAAAAAAAAYE1sAwAAAAAA\n",
       "ALAmtgEAAAAAAABYE9sAAAAAAAAArIltAAAAAAAAANbENgAAAAAAAABrYhsAAAAAAACANbENAAAA\n",
       "AAAAwJrYBgAAAAAAAGBNbAMAAAAAAACwJrYBAAAAAAAAWBPbAAAAAAAAAKyJbQAAAAAAAADWxDYA\n",
       "AAAAAAAAa2IbAAAAAAAAgDWxDQAAAAAAAMCa2AYAAAAAAABgTWwDAAAAAAAAsCa2AQAAAAAAAFgT\n",
       "2wAAAAAAAACsiW0AAAAAAAAA1sQ2AAAAAAAAAGtiGwAAAAAAAIA1sQ0AAAAAAADAmtgGAAAAAAAA\n",
       "YE1sAwAAAAAAALAmtgEAAAAAAABYE9sAAAAAAAAArIltAAAAAAAAANbENgAAAAAAAABrYhsAAAAA\n",
       "AACANbENAAAAAAAAwJrYBgAAAAAAAGBNbAMAAAAAAACwJrYBAAAAAAAAWBPbAAAAAAAAAKyJbQAA\n",
       "AAAAAADWxDYAAAAAAAAAa2IbAAAAAAAAgDWxDQAAAAAAAMCa2AYAAAAAAABgTWwDAAAAAAAAsCa2\n",
       "AQAAAAAAAFgT2wAAAAAAAACsiW0AAAAAAAAA1sQ2AAAAAAAAAGtiGwAAAAAAAIA1sQ0AAAAAAADA\n",
       "mtgGAAAAAAAAYE1sAwAAAAAAALAmtgEAAAAAAABYE9sAAAAAAAAArIltAAAAAAAAANbENgAAAAAA\n",
       "AABrYhsAAAAAAACANbENAAAAAAAAwJrYBgAAAAAAAGBNbAMAAAAAAACwJrYBAAAAAAAAWBPbAAAA\n",
       "AAAAAKyJbQAAAAAAAADWxDYAAAAAAAAAa2IbAAAAAAAAgDWxDQAAAAAAAMCa2AYAAAAAAABgTWwD\n",
       "AAAAAAAAsCa2AQAAAAAAAFgT2wAAAAAAAACsiW0AAAAAAAAA1sQ2AAAAAAAAAGtiGwAAAAAAAIA1\n",
       "sQ0AAAAAAADAmtgGAAAAAAAAYE1sAwAAAAAAALAmtgEAAAAAAABYE9sAAAAAAAAArIltAAAAAAAA\n",
       "ANbENgAAAAAAAABrYhsAAAAAAACANbENAAAAAAAAwJrYBgAAAAAAAGBNbAMAAAAAAACwJrYBAAAA\n",
       "AAAAWBPbAAAAAAAAAKyJbQAAAAAAAADWxDYAAAAAAAAAa2IbAAAAAAAAgDWxDQAAAAAAAMCa2AYA\n",
       "AAAAAABgTWwDAAAAAAAAsCa2AQAAAAAAAFgT2wAAAAAAAACsiW0AAAAAAAAA1sQ2AAAAAAAAAGti\n",
       "GwAAAAAAAIA1sQ0AAAAAAADAmtgGAAAAAAAAYE1sAwAAAAAAALAmtgEAAAAAAABYE9sAAAAAAAAA\n",
       "rIltAAAAAAAAANbENgAAAAAAAABrYhsAAAAAAACANbENAAAAAAAAwJrYBgAAAAAAAGBNbAMAAAAA\n",
       "AACwJrYBAAAAAAAAWBPbAAAAAAAAAKyJbQAAAAAAAADWxDYAAAAAAAAAa2IbAAAAAAAAgDWxDQAA\n",
       "AAAAAMCa2AYAAKD27ZgGABAAYmBQhRLUIg4UMNPhTsHvzQMAAACkCdsAAAAAAAAApAnbAAAAAAAA\n",
       "AKQJ2wAAAAAAAACkCdsAAAAAAAAApAnbAAAAAAAAAKQJ2wAAAAAAAACkCdsAAAAAAAAApAnbAAAA\n",
       "AAAAAKQJ2wAAAAAAAACkCdsAAAAAAAAApAnbAAAAAAAAAKQJ2wAAAAAAAACkCdsAAAAAAAAApAnb\n",
       "AAAAAAAAAKQJ2wAAAAAAAACkCdsAAAAAAAAApAnbAAAAAAAAAKQJ2wAAAAAAAACkCdsAAAAAAAAA\n",
       "pAnbAAAAAAAAAKQJ2wAAAAAAAACkCdsAAAAAAAAApAnbAAAAAAAAAKQJ2wAAAAAAAACkCdsAAAAA\n",
       "AAAApAnbAAAAAAAAAKQJ2wAAAAAAAACkCdsAAAAAAAAApAnbAAAAAAAAAKQJ2wAAAAAAAACkCdsA\n",
       "AAAAAAAApAnbAAAAAAAAAKQJ2wAAAAAAAACkCdsAAAAAAAAApAnbAAAAAAAAAKQJ2wAAAAAAAACk\n",
       "CdsAAAAAAAAApAnbAAAAAAAAAKQJ2wAAAAAAAACkCdsAAAAAAAAApAnbAAAAAAAAAKQJ2wAAAAAA\n",
       "AACkCdsAAAAAAAAApAnbAAAAAAAAAKQJ2wAAAAAAAACkCdsAAAAAAAAApAnbAAAAAAAAAKQJ2wAA\n",
       "AAAAAACkCdsAAAAAAAAApAnbAAAAAAAAAKQJ2wAAAAAAAACkCdsAAAAAAAAApAnbAAAAAAAAAKQJ\n",
       "2wAAAAAAAACkCdsAAAAAAAAApAnbAAAAAAAAAKQJ2wAAAAAAAACkCdsAAAAAAAAApAnbAAAAAAAA\n",
       "AKQJ2wAAAAAAAACkCdsAAAAAAAAApAnbAAAAAAAAAKQJ2wAAAAAAAACkCdsAAAAAAAAApAnbAAAA\n",
       "AAAAAKQJ2wAAAAAAAACkCdsAAAAAAAAApAnbAAAAAAAAAKQJ2wAAAAAAAACkCdsAAAAAAAAApAnb\n",
       "AAAAAAAAAKQJ2wAAAAAAAACkCdsAAAAAAAAApAnbAAAAAAAAAKQJ2wAAAAAAAACkCdsAAAAAAAAA\n",
       "pAnbAAAAAAAAAKQJ2wAAAAAAAACkCdsAAAAAAAAApAnbAAAAAAAAAKQJ2wAAAAAAAACkCdsAAAAA\n",
       "AAAApAnbAAAAAAAAAKQJ2wAAAAAAAACkCdsAAAAAAAAApAnbAAAAAAAAAKQJ2wAAAAAAAACkCdsA\n",
       "AAAAAAAApAnbAAAAAAAAAKQJ2wAAAAAAAACkCdsAAAAAAAAApAnbAAAAAAAAAKQJ2wAAAAAAAACk\n",
       "CdsAAAAAAAAApAnbAAAAAAAAAKQJ2wAAAAAAAACkCdsAAAAAAAAApAnbAAAAAAAAAKQJ2wAAAAAA\n",
       "AACkCdsAAAAAAAAApAnbAAAAAAAAAKQJ2wAAAAAAAACkCdsAAAAAAAAApAnbAAAAAAAAAKQJ2wAA\n",
       "AAAAAACkCdsAAAAAAAAApAnbAAAAAAAAAKQJ2wAAAAAAAACkCdsAAAAAAAAApAnbAAAAAAAAAKQJ\n",
       "2wAAAAAAAACkCdsAAAAAAAAApAnbAAAAAAAAAKQJ2wAAAAAAAACkCdsAAAAAAAAApAnbAAAAAAAA\n",
       "AKQJ2wAAAAAAAACkCdsAAAAAAAAApAnbAAAAAAAAAKQJ2wAAAAAAAACkCdsAAAAAAAAApAnbAAAA\n",
       "AAAAAKQJ2wAAAAAAAACkCdsAAAAAAAAApAnbAAAAAAAAAKQJ2wAAAAAAAACkCdsAAAAAAAAApAnb\n",
       "AAAAAAAAAKQJ2wAAAAAAAACkCdsAAAAAAAAApAnbAAAAAAAAAKQJ2wAAAAAAAACkCdsAAAAAAAAA\n",
       "pAnbAAAAAAAAAKQJ2wAAAAAAAACkCdsAAAAAAAAApAnbAAAAAAAAAKQJ2wAAAAAAAACkCdsAAAAA\n",
       "AAAApAnbAAAAAAAAAKQJ2wAAAAAAAACkCdsAAAAAAAAApAnbAAAAAAAAAKQJ2wAAAAAAAACkCdsA\n",
       "AAAAAAAApAnbAAAAAAAAAKQJ2wAAAAAAAACkCdsAAAAAAAAApAnbAAAAAAAAAKQJ2wAAAAAAAACk\n",
       "CdsAAAAAAAAApAnbAAAAAAAAAKQJ2wAAAAAAAACkCdsAAAAAAAAApAnbAAAAAAAAAKQJ2wAAAAAA\n",
       "AACkCdsAAAAAAAAApAnbAAAAAAAAAKQJ2wAAAAAAAACkCdsAAAAAAAAApAnbAAAAAAAAAKQJ2wAA\n",
       "AAAAAACkCdsAAAAAAAAApAnbAAAAAAAAAKQJ2wAAAAAAAACkCdsAAAAAAAAApAnbAAAAAAAAAKQJ\n",
       "2wAAAAAAAACkCdsAAAAAAAAApAnbAAAAAAAAAKQJ2wAAAAAAAACkCdsAAAAAAAAApAnbAAAAAAAA\n",
       "AKQJ2wAAAAAAAACkCdsAAAAAAAAApAnbAAAAAAAAAKQJ2wAAAAAAAACkCdsAAAAAAAAApAnbAAAA\n",
       "AAAAAKQJ2wAAAAAAAACkCdsAAAAAAAAApAnbAAAAAAAAAKQJ2wAAAAAAAACkCdsAAAAAAAAApAnb\n",
       "AAAAAAAAAKQJ2wAAAAAAAACkCdsAAAAAAAAApAnbAAAAAAAAAKQJ2wAAAAAAAACkCdsAAAAAAAAA\n",
       "pAnbAAAAAAAAAKQJ2wAAAAAAAACkCdsAAAAAAAAApAnbAAAAAAAAAKQJ2wAAAAAAAACkCdsAAAAA\n",
       "AAAApAnbAAAAAAAAAKQJ2wAAAAAAAACkCdsAAAAAAAAApAnbAAAAAAAAAKQJ2wAAAAAAAACkCdsA\n",
       "AAAAAAAApAnbAAAAAAAAAKQJ2wAAAAAAAACkCdsAAAAAAAAApAnbAAAAAAAAAKQJ2wAAAAAAAACk\n",
       "CdsAAAAAAAAApAnbAAAAAAAAAKQJ2wAAAAAAAACkCdsAAAAAAAAApAnbAAAAAAAAAKQJ2wAAAAAA\n",
       "AACkCdsAAAAAAAAApAnbAAAAAAAAAKQJ2wAAAAAAAACkCdsAAAAAAAAApAnbAAAAAAAAAKQJ2wAA\n",
       "AAAAAACkCdsAAAAAAAAApAnbAAAAAAAAAKQJ2wAAAAAAAACkCdsAAAAAAAAApAnbAAAAAAAAAKQJ\n",
       "2wAAAAAAAACkCdsAAAAAAAAApAnbAAAAAAAAAKQJ2wAAAAAAAACkCdsAAAAAAAAApAnbAAAAAAAA\n",
       "AKQJ2wAAAAAAAACkCdsAAAAAAAAApAnbAAAAAAAAAKQJ2wAAAAAAAACkCdsAAAAAAAAApAnbAAAA\n",
       "AAAAAKQJ2wAAAAAAAACkCdsAAAAAAAAApAnbAAAAAAAAAKSNPdf5PQIAAAAAAAAAXjy2AQAAAAAA\n",
       "AEgTtgEAAAAAAABIE7YBAAAAAAAASBO2AQAAAAAAAEgTtgEAAAAAAABIE7YBAAAAAAAASBO2AQAA\n",
       "AAAAAEgTtgEAAAAAAABIE7YBAAAAAAAASBO2AQAAAAAAAEgTtgEAAAAAAABIE7YBAAAAAAAASBO2\n",
       "AQAAAAAAAEgTtgEAAAAAAABIE7YBAAAAAAAASBO2AQAAAAAAAEgTtgEAAAAAAABIE7YBAAAAAAAA\n",
       "SBO2AQAAAAAAAEgTtgEAAAAAAABIE7YBAAAAAAAASBO2AQAAAAAAAEgTtgEAAAAAAABIE7YBAAAA\n",
       "AAAASBO2AQAAAAAAAEgTtgEAAAAAAABIE7YBAAAAAAAASBO2AQAAAAAAAEgTtgEAAAAAAABIE7YB\n",
       "AAAAAAAASBO2AQAAAAAAAEgTtgEAAAAAAABIE7YBAAAAAAAASBO2AQAAAAAAAEgTtgEAAAAAAABI\n",
       "E7YBAAAAAAAASBO2AQAAAAAAAEgTtgEAAAAAAABIE7YBAAAAAAAASBO2AQAAAAAAAEgTtgEAAAAA\n",
       "AABIE7YBAAAAAAAASBO2AQAAAAAAAEgTtgEAAAAAAABIE7YBAAAAAAAASBO2AQAAAAAAAEgTtgEA\n",
       "AAAAAABIE7YBAAAAAAAASBO2AQAAAAAAAEgTtgEAAAAAAABIE7YBAAAAAAAASBO2AQAAAAAAAEgT\n",
       "tgEAAAAAAABIE7YBAAAAAAAASBO2AQAAAAAAAEgTtgEAAAAAAABIE7YBAAAAAAAASBO2AQAAAAAA\n",
       "AEgTtgEAAAAAAABIE7YBAAAAAAAASBO2AQAAAAAAAEgTtgEAAAAAAABIE7YBAAAAAAAASBO2AQAA\n",
       "AAAAAEgTtgEAAAAAAABIE7YBAAAAAAAASBO2AQAAAAAAAEgTtgEAAAAAAABIE7YBAAAAAAAASBO2\n",
       "AQAAAAAAAEgTtgEAAAAAAABIE7YBAAAAAAAASBO2AQAAAAAAAEgTtgEAAAAAAABIE7YBAAAAAAAA\n",
       "SBO2AQAAAAAAAEgTtgEAAAAAAABIE7YBAAAAAAAASBO2AQAAAAAAAEgTtgEAAAAAAABIE7YBAAAA\n",
       "AAAASBO2AQAAAAAAAEgTtgEAAAAAAABIE7YBAAAAAAAASBO2AQAAAAAAAEgTtgEAAAAAAABIE7YB\n",
       "AAAAAAAASBO2AQAAAAAAAEgTtgEAAAAAAABIE7YBAAAAAAAASBO2AQAAAAAAAEgTtgEAAAAAAABI\n",
       "E7YBAAAAAAAASBO2AQAAAAAAAEgTtgEAAAAAAABIE7YBAAAAAAAASBO2AQAAAAAAAEgTtgEAAAAA\n",
       "AABIE7YBAAAAAAAASBO2AQAAAAAAAEgTtgEAAAAAAABIE7YBAAAAAAAASBO2AQAAAAAAAEgTtgEA\n",
       "AAAAAABIE7YBAAAAAAAASBO2AQAAAAAAAEgTtgEAAAAAAABIE7YBAAAAAAAASBO2AQAAAAAAAEgT\n",
       "tgEAAAAAAABIE7YBAAAAAAAASBO2AQAAAAAAAEgTtgEAAAAAAABIE7YBAAAAAAAASBO2AQAAAAAA\n",
       "AEgTtgEAAAAAAABIE7YBAAAAAAAASBO2AQAAAAAAAEgTtgEAAAAAAABIE7YBAAAAAAAASBO2AQAA\n",
       "AAAAAEgTtgEAAAAAAABIE7YBAAAAAAAASBO2AQAAAAAAAEgTtgEAAAAAAABIE7YBAAAAAAAASBO2\n",
       "AQAAAAAAAEgTtgEAAAAAAABIE7YBAAAAAAAASBO2AQAAAAAAAEgTtgEAAAAAAABIE7YBAAAAAAAA\n",
       "SBO2AQAAAAAAAEgTtgEAAAAAAABIE7YBAAAAAAAASBO2AQAAAAAAAEgTtgEAAAAAAABIE7YBAAAA\n",
       "AAAASBO2AQAAAAAAAEgTtgEAAAAAAABIE7YBAAAAAAAASBO2AQAAAAAAAEi7SoASyUXscukAAAAA\n",
       "SUVORK5CYII=\n",
       "\" transform=\"translate(139, 47)\"/>\n",
       "</g>\n",
       "<defs>\n",
       "  <clipPath id=\"clip673\">\n",
       "    <rect x=\"2160\" y=\"47\" width=\"73\" height=\"1440\"/>\n",
       "  </clipPath>\n",
       "</defs>\n",
       "<g clip-path=\"url(#clip673)\">\n",
       "<image width=\"72\" height=\"1439\" xlink:href=\"data:image/png;base64,\n",
       "iVBORw0KGgoAAAANSUhEUgAAAEgAAAWfCAYAAAAI7rB3AAAMWUlEQVR4nO3dwY0rRxAFwaZQ/lsh\n",
       "L6XfLQtUeSQPERYsEg8c9MyQ+/n3/v0O/+uvb/8Bv06gIFAQKAgU5r5/v/03/DQLCgIFgYJAQaAw\n",
       "7/359t/w0ywoCBQECgIFR41gQUGgIFAQKAgU5rmKrSwoCBQECgIFgcK86yq2saAgUBAoCBQcNYIF\n",
       "BYGCQEGgIFBwFQsWFAQKAgWBgvtBwYKCQEGgIFAQKMxx1FhZUBAoCBQECgIFN8yCBQWBgkBBoDDH\n",
       "DbOVBQWBgkBBoCBQmHP/+fbf8NMsKAgUBAoCBYGCxz7BgoJAQaAgUHDDLFhQECgIFAQKAgVXsWBB\n",
       "QaAgUBAouB8ULCgIFAQKAgWBwnwcNVYWFAQKAgWBgkBhzvWfWTYWFAQKAgWBgqNGsKAgUBAoCBQE\n",
       "Co4awYKCQEGgIFAQKHjDLFhQECgIFAQK83HUWFlQECgIFAQKAgXvSQcLCgIFgYJAwVEjWFAQKAgU\n",
       "BAoCBc/mgwUFgYJAQaAgUHAWCxYUBAoCBYGCo0awoCBQECgIFAQKjhrBgoJAQaAgUBAozLn323/D\n",
       "T7OgIFAQKAgUHDWCBQWBgkBBoCBQ8NgnWFAQKAgUBAo+pIMFBYGCQEGgIFCYj6caKwsKAgWBgkBB\n",
       "oOAsFiwoCBQECgIFL1AFCwoCBYGCQEGg4IZZsKAgUBAoCBTcDwoWFAQKAgWBgkDBDbNgQUGgIFAQ\n",
       "KAgUXMWCBQWBgkBBoOB788GCgkBBoCBQECg4agQLCgIFgYJAQaDgKhYsKAgUBAoCBR/SwYKCQEGg\n",
       "IFAQKLiKBQsKAgWBgkBhzvMhvbGgIFAQKAgUBAqOGsGCgkBBoCBQECi4igULCgIFgYJAwYd0sKAg\n",
       "UBAoCBQECnPu+/bf8NMsKAgUBAoCBYGCs1iwoCBQECgIFBw1ggUFgYJAQaAgUHDUCBYUBAoCBYGC\n",
       "o0awoCBQECgIFAQKc5w0VhYUBAoCBYGCQGHOcxbbWFAQKAgUBAqOGsGCgkBBoCBQECi4igULCgIF\n",
       "gYJAQaAwfohzZ0FBoCBQECg4agQLCgIFgYJAQaDgKhYsKAgUBAoChTn38+2/4adZUBAoCBQECgKF\n",
       "ec9VbGNBQaAgUBAoCBTcMAsWFAQKAgWBghtmwYKCQEGgIFAQKMy7Gm3UCQIFgYJAwVEjWFAQKAgU\n",
       "BAoChTmeza8sKAgUBAoCBYHCPGexlQUFgYJAQaAwx1ONlTpBoCBQECgIFBw1ggUFgYJAQaAgUPDY\n",
       "J1hQECgIFAQKXgMO6gSBgkBBoCBQ8J50sKAgUBAoCBQ81QgWFAQKAgWBgkBh3tNoo04QKAgUBAoC\n",
       "BTfMggUFgYJAQaDghlmwoCBQECgIFAQKc9wwW6kTBAoCBYGCQMFZLFhQECgIFAQKPqSDBQWBgkBB\n",
       "oCBQ8L35YEFBoCBQECj43nxQJwgUBAoCBYHCPEeNlQUFgYJAQaAgUPDYJ1hQECgIFAQK/jNLUCcI\n",
       "FAQKAgWBghtmwYKCQEGgIFAQKLhhFiwoCBQECgIFR41gQUGgIFAQKAgUvCcd1AkCBYGCQMFRI1hQ\n",
       "ECgIFAQKAgVPNYIFBYGCQEGgIFBwFgsWFAQKAgWBgn+fFSwoCBQECgIFgYJ/ZRzUCQIFgYJAQaDg\n",
       "hlmwoCBQECgIFDybDxYUBAoCBYGCQMFRI1hQECgIFAQKc31IrywoCBQECgIFgYLvzQd1gkBBoCBQ\n",
       "ECi4YRYsKAgUBAoCBR/SwYKCQEGgIFAQKHjDLFhQECgIFAQKjhrBgoJAQaAgUBAouIoFCwoCBYGC\n",
       "QEGg4NdfgjpBoCBQECjM9VRjZUFBoCBQECgIFNwwCxYUBAoCBYGCQMFVLFhQECgIFAQKPqSDBQWB\n",
       "gkBBoCBQ8BtmwYKCQEGgIFBw1AgWFAQKAgWBgkDBVSxYUBAoCBQECgIFX2YJ6gSBgkBBoODLLMGC\n",
       "gkBBoCBQECi4YRYsKAgUBAoCBYGCq1iwoCBQECgIFLwGHCwoCBQECgIFgYKjRrCgIFAQKAgU5h0f\n",
       "0hsLCgIFgYJAQaDghlmwoCBQECgIFAQKbpgFCwoCBYGCQMFRI1hQECgIFAQKAgVHjWBBQaAgUBAo\n",
       "CBScxYIFBYGCQEGg4KgRLCgIFAQKAgWBgqtYsKAgUBAoCBTm+jLLyoKCQEGgIFAQKDhqBAsKAgWB\n",
       "gkBBoODZfLCgIFAQKAgU5r1v/wm/zYKCQEGgIFAQKDhqBAsKAgWBgkDBD00GCwoCBYGCQEGg4KgR\n",
       "LCgIFAQKAgWBgjfMggUFgYJAQaDgyyzBgoJAQaAgUBAoeMMsWFAQKAgUBAoCBY99ggUFgYJAQaDg\n",
       "qUawoCBQECgIFAQKHvsECwoCBYGCQMH9oGBBQaAgUBAoCBQ8mw8WFAQKAgWBgkDBDbNgQUGgIFAQ\n",
       "KHg2HywoCBQECgIFgcLcb/8FP86CgkBBoCBQECg4iwULCgIFgYJAwRtmwYKCQEGgIFAQKLhhFiwo\n",
       "CBQECgIF94OCBQWBgkBBoCBQcNQIFhQECgIFgYJAwVksWFAQKAgUBAqezQcLCgIFgYJAQaAwfvxl\n",
       "Z0FBoCBQECgIFJzFggUFgYJAQaDg2XywoCBQECgIFAQKns0HCwoCBYGCQMFRI1hQECgIFAQKAgVH\n",
       "jWBBQaAgUBAoCBTmesVsZUFBoCBQECi4YRYsKAgUBAoCBYGCG2bBgoJAQaAgUHDUCBYUBAoCBYGC\n",
       "QGGepxorCwoCBYGCQEGgMPe4YbaxoCBQECgIFLxAFSwoCBQECgIFgYIfmgwWFAQKAgWBgkDBD00G\n",
       "CwoCBYGCQMGz+WBBQaAgUBAoCBS8Jx0sKAgUBAoCBd84DBYUBAoCBYGCQMFRI1hQECgIFAQKAgXv\n",
       "SQcLCgIFgYJAwWvAwYKCQEGgIFAQKDhqBAsKAgWBgkBBoOA96WBBQaAgUBAo+ImuYEFBoCBQECgI\n",
       "FNwwCxYUBAoCBYGCZ/PBgoJAQaAgUBAoOGoECwoCBYGCQEGg4CwWLCgIFAQKAgVHjWBBQaAgUBAo\n",
       "CBRcxYIFBYGCQEGgIFBwwyxYUBAoCBQECo4awYKCQEGgIFAQKDhqBAsKAgWBgkDBUSNYUBAoCBQE\n",
       "CgIFP9EVLCgIFAQKAgWBgv8vFiwoCBQECgIFN8yCBQWBgkBBoCBQmHdcxjYWFAQKAgWBgkDBWSxY\n",
       "UBAoCBQECp7NBwsKAgWBgkBBoODZfLCgIFAQKAgU3A8KFhQECgIFgYJAwbP5YEFBoCBQECgIFJzF\n",
       "ggUFgYJAQaDgJ7qCBQWBgkBBoCBQmOsVs5UFBYGCQEGg4AWqYEFBoCBQECgIFOY5aqwsKAgUBAoC\n",
       "BYGCs1iwoCBQECgIFDzVCBYUBAoCBYGCQMEbZsGCgkBBoCBQECjM9ZXMlQUFgYJAQaDghlmwoCBQ\n",
       "ECgIFAQKfv0lWFAQKAgUBApeoAoWFAQKAgWBgkDBU41gQUGgIFAQKAgU3DALFhQECgIFgcLc45bZ\n",
       "xoKCQEGgIFAQKLhhFiwoCBQECgIFgYKrWLCgIFAQKAgUPNUIFhQECgIFgYJAwWOfYEFBoCBQECjM\n",
       "/ThqbCwoCBQECgIFgYKjRrCgIFAQKAgUBArzXMVWFhQECgIFgYKjRrCgIFAQKAgUBApzP65iGwsK\n",
       "AgWBgkBBoOAsFiwoCBQECgIFTzWCBQWBgkBBoCBQcNQIFhQECgIFgYIP6WBBQaAgUBAoCBQ8mw8W\n",
       "FAQKAgWBgkBh3vnz7b/hp1lQECgIFAQKbpgFCwoCBYGCQEGg4A2zYEFBoCBQECjMfe4HbSwoCBQE\n",
       "CgIFgYKjRrCgIFAQKAgUBApzPZtfWVAQKAgUBAqOGsGCgkBBoCBQECg4agQLCgIFgYJAQaAw7zmL\n",
       "bSwoCBQECgIFN8yCBQWBgkBBoCBQ8J50sKAgUBAoCBQcNYIFBYGCQEGgIFCY56ixsqAgUBAoCBQE\n",
       "Cs5iwYKCQEGgIFCY6wWqlQUFgYJAQaAgUPCb9sGCgkBBoCBQECj4MkuwoCBQECgIFDzVCBYUBAoC\n",
       "BYGCQMFRI1hQECgIFAQKPqSDBQWBgkBBoCBQ8Gw+WFAQKAgUBAoCBWexYEFBoCBQECjM8Wx+ZUFB\n",
       "oCBQECgIFBw1ggUFgYJAQaAgUPCedLCgIFAQKAgU5jhqrCwoCBQECgIFgYI3zIIFBYGCQEGg4Nl8\n",
       "sKAgUBAoCBQECm6YBQsKAgWBgkBBoDDvvG//DT/NgoJAQaAgUHDDLFhQECgIFAQKAoU5jhorCwoC\n",
       "BYGCQOE/LrLuTX/wFc8AAAAASUVORK5CYII=\n",
       "\" transform=\"translate(2161, 47)\"/>\n",
       "</g>\n",
       "<path clip-path=\"url(#clip670)\" d=\"M2268.76 1483.27 L2298.43 1483.27 L2298.43 1487.21 L2268.76 1487.21 L2268.76 1483.27 Z\" fill=\"#000000\" fill-rule=\"evenodd\" fill-opacity=\"1\" /><path clip-path=\"url(#clip670)\" d=\"M2309.33 1496.16 L2316.97 1496.16 L2316.97 1469.8 L2308.66 1471.46 L2308.66 1467.21 L2316.93 1465.54 L2321.6 1465.54 L2321.6 1496.16 L2329.24 1496.16 L2329.24 1500.1 L2309.33 1500.1 L2309.33 1496.16 Z\" fill=\"#000000\" fill-rule=\"evenodd\" fill-opacity=\"1\" /><path clip-path=\"url(#clip670)\" d=\"M2338.69 1494.22 L2343.57 1494.22 L2343.57 1500.1 L2338.69 1500.1 L2338.69 1494.22 Z\" fill=\"#000000\" fill-rule=\"evenodd\" fill-opacity=\"1\" /><path clip-path=\"url(#clip670)\" d=\"M2363.76 1468.62 Q2360.14 1468.62 2358.32 1472.18 Q2356.51 1475.72 2356.51 1482.85 Q2356.51 1489.96 2358.32 1493.53 Q2360.14 1497.07 2363.76 1497.07 Q2367.39 1497.07 2369.2 1493.53 Q2371.02 1489.96 2371.02 1482.85 Q2371.02 1475.72 2369.2 1472.18 Q2367.39 1468.62 2363.76 1468.62 M2363.76 1464.91 Q2369.57 1464.91 2372.62 1469.52 Q2375.7 1474.1 2375.7 1482.85 Q2375.7 1491.58 2372.62 1496.19 Q2369.57 1500.77 2363.76 1500.77 Q2357.95 1500.77 2354.87 1496.19 Q2351.81 1491.58 2351.81 1482.85 Q2351.81 1474.1 2354.87 1469.52 Q2357.95 1464.91 2363.76 1464.91 Z\" fill=\"#000000\" fill-rule=\"evenodd\" fill-opacity=\"1\" /><path clip-path=\"url(#clip670)\" d=\"M2393.92 1468.62 Q2390.31 1468.62 2388.48 1472.18 Q2386.67 1475.72 2386.67 1482.85 Q2386.67 1489.96 2388.48 1493.53 Q2390.31 1497.07 2393.92 1497.07 Q2397.55 1497.07 2399.36 1493.53 Q2401.19 1489.96 2401.19 1482.85 Q2401.19 1475.72 2399.36 1472.18 Q2397.55 1468.62 2393.92 1468.62 M2393.92 1464.91 Q2399.73 1464.91 2402.78 1469.52 Q2405.86 1474.1 2405.86 1482.85 Q2405.86 1491.58 2402.78 1496.19 Q2399.73 1500.77 2393.92 1500.77 Q2388.11 1500.77 2385.03 1496.19 Q2381.97 1491.58 2381.97 1482.85 Q2381.97 1474.1 2385.03 1469.52 Q2388.11 1464.91 2393.92 1464.91 Z\" fill=\"#000000\" fill-rule=\"evenodd\" fill-opacity=\"1\" /><path clip-path=\"url(#clip670)\" d=\"M2268.76 1303.37 L2298.43 1303.37 L2298.43 1307.31 L2268.76 1307.31 L2268.76 1303.37 Z\" fill=\"#000000\" fill-rule=\"evenodd\" fill-opacity=\"1\" /><path clip-path=\"url(#clip670)\" d=\"M2318.52 1288.72 Q2314.91 1288.72 2313.08 1292.28 Q2311.28 1295.82 2311.28 1302.95 Q2311.28 1310.06 2313.08 1313.62 Q2314.91 1317.17 2318.52 1317.17 Q2322.16 1317.17 2323.96 1313.62 Q2325.79 1310.06 2325.79 1302.95 Q2325.79 1295.82 2323.96 1292.28 Q2322.16 1288.72 2318.52 1288.72 M2318.52 1285.01 Q2324.33 1285.01 2327.39 1289.62 Q2330.47 1294.2 2330.47 1302.95 Q2330.47 1311.68 2327.39 1316.29 Q2324.33 1320.87 2318.52 1320.87 Q2312.71 1320.87 2309.64 1316.29 Q2306.58 1311.68 2306.58 1302.95 Q2306.58 1294.2 2309.64 1289.62 Q2312.71 1285.01 2318.52 1285.01 Z\" fill=\"#000000\" fill-rule=\"evenodd\" fill-opacity=\"1\" /><path clip-path=\"url(#clip670)\" d=\"M2338.69 1314.32 L2343.57 1314.32 L2343.57 1320.2 L2338.69 1320.2 L2338.69 1314.32 Z\" fill=\"#000000\" fill-rule=\"evenodd\" fill-opacity=\"1\" /><path clip-path=\"url(#clip670)\" d=\"M2352.57 1285.64 L2374.8 1285.64 L2374.8 1287.63 L2362.25 1320.2 L2357.37 1320.2 L2369.17 1289.57 L2352.57 1289.57 L2352.57 1285.64 Z\" fill=\"#000000\" fill-rule=\"evenodd\" fill-opacity=\"1\" /><path clip-path=\"url(#clip670)\" d=\"M2383.96 1285.64 L2402.32 1285.64 L2402.32 1289.57 L2388.25 1289.57 L2388.25 1298.05 Q2389.26 1297.7 2390.28 1297.54 Q2391.3 1297.35 2392.32 1297.35 Q2398.11 1297.35 2401.49 1300.52 Q2404.87 1303.69 2404.87 1309.11 Q2404.87 1314.69 2401.39 1317.79 Q2397.92 1320.87 2391.6 1320.87 Q2389.43 1320.87 2387.16 1320.5 Q2384.91 1320.13 2382.51 1319.39 L2382.51 1314.69 Q2384.59 1315.82 2386.81 1316.38 Q2389.03 1316.93 2391.51 1316.93 Q2395.51 1316.93 2397.85 1314.83 Q2400.19 1312.72 2400.19 1309.11 Q2400.19 1305.5 2397.85 1303.39 Q2395.51 1301.29 2391.51 1301.29 Q2389.63 1301.29 2387.76 1301.7 Q2385.91 1302.12 2383.96 1303 L2383.96 1285.64 Z\" fill=\"#000000\" fill-rule=\"evenodd\" fill-opacity=\"1\" /><path clip-path=\"url(#clip670)\" d=\"M2268.76 1123.47 L2298.43 1123.47 L2298.43 1127.4 L2268.76 1127.4 L2268.76 1123.47 Z\" fill=\"#000000\" fill-rule=\"evenodd\" fill-opacity=\"1\" /><path clip-path=\"url(#clip670)\" d=\"M2318.52 1108.82 Q2314.91 1108.82 2313.08 1112.38 Q2311.28 1115.92 2311.28 1123.05 Q2311.28 1130.16 2313.08 1133.72 Q2314.91 1137.27 2318.52 1137.27 Q2322.16 1137.27 2323.96 1133.72 Q2325.79 1130.16 2325.79 1123.05 Q2325.79 1115.92 2323.96 1112.38 Q2322.16 1108.82 2318.52 1108.82 M2318.52 1105.11 Q2324.33 1105.11 2327.39 1109.72 Q2330.47 1114.3 2330.47 1123.05 Q2330.47 1131.78 2327.39 1136.39 Q2324.33 1140.97 2318.52 1140.97 Q2312.71 1140.97 2309.64 1136.39 Q2306.58 1131.78 2306.58 1123.05 Q2306.58 1114.3 2309.64 1109.72 Q2312.71 1105.11 2318.52 1105.11 Z\" fill=\"#000000\" fill-rule=\"evenodd\" fill-opacity=\"1\" /><path clip-path=\"url(#clip670)\" d=\"M2338.69 1134.42 L2343.57 1134.42 L2343.57 1140.3 L2338.69 1140.3 L2338.69 1134.42 Z\" fill=\"#000000\" fill-rule=\"evenodd\" fill-opacity=\"1\" /><path clip-path=\"url(#clip670)\" d=\"M2353.8 1105.74 L2372.16 1105.74 L2372.16 1109.67 L2358.08 1109.67 L2358.08 1118.15 Q2359.1 1117.8 2360.12 1117.64 Q2361.14 1117.45 2362.16 1117.45 Q2367.95 1117.45 2371.32 1120.62 Q2374.7 1123.79 2374.7 1129.21 Q2374.7 1134.79 2371.23 1137.89 Q2367.76 1140.97 2361.44 1140.97 Q2359.26 1140.97 2357 1140.6 Q2354.75 1140.23 2352.34 1139.49 L2352.34 1134.79 Q2354.43 1135.92 2356.65 1136.48 Q2358.87 1137.03 2361.35 1137.03 Q2365.35 1137.03 2367.69 1134.93 Q2370.03 1132.82 2370.03 1129.21 Q2370.03 1125.6 2367.69 1123.49 Q2365.35 1121.39 2361.35 1121.39 Q2359.47 1121.39 2357.6 1121.8 Q2355.75 1122.22 2353.8 1123.1 L2353.8 1105.74 Z\" fill=\"#000000\" fill-rule=\"evenodd\" fill-opacity=\"1\" /><path clip-path=\"url(#clip670)\" d=\"M2393.92 1108.82 Q2390.31 1108.82 2388.48 1112.38 Q2386.67 1115.92 2386.67 1123.05 Q2386.67 1130.16 2388.48 1133.72 Q2390.31 1137.27 2393.92 1137.27 Q2397.55 1137.27 2399.36 1133.72 Q2401.19 1130.16 2401.19 1123.05 Q2401.19 1115.92 2399.36 1112.38 Q2397.55 1108.82 2393.92 1108.82 M2393.92 1105.11 Q2399.73 1105.11 2402.78 1109.72 Q2405.86 1114.3 2405.86 1123.05 Q2405.86 1131.78 2402.78 1136.39 Q2399.73 1140.97 2393.92 1140.97 Q2388.11 1140.97 2385.03 1136.39 Q2381.97 1131.78 2381.97 1123.05 Q2381.97 1114.3 2385.03 1109.72 Q2388.11 1105.11 2393.92 1105.11 Z\" fill=\"#000000\" fill-rule=\"evenodd\" fill-opacity=\"1\" /><path clip-path=\"url(#clip670)\" d=\"M2268.76 943.569 L2298.43 943.569 L2298.43 947.504 L2268.76 947.504 L2268.76 943.569 Z\" fill=\"#000000\" fill-rule=\"evenodd\" fill-opacity=\"1\" /><path clip-path=\"url(#clip670)\" d=\"M2318.52 928.916 Q2314.91 928.916 2313.08 932.481 Q2311.28 936.023 2311.28 943.152 Q2311.28 950.259 2313.08 953.824 Q2314.91 957.365 2318.52 957.365 Q2322.16 957.365 2323.96 953.824 Q2325.79 950.259 2325.79 943.152 Q2325.79 936.023 2323.96 932.481 Q2322.16 928.916 2318.52 928.916 M2318.52 925.213 Q2324.33 925.213 2327.39 929.819 Q2330.47 934.402 2330.47 943.152 Q2330.47 951.879 2327.39 956.486 Q2324.33 961.069 2318.52 961.069 Q2312.71 961.069 2309.64 956.486 Q2306.58 951.879 2306.58 943.152 Q2306.58 934.402 2309.64 929.819 Q2312.71 925.213 2318.52 925.213 Z\" fill=\"#000000\" fill-rule=\"evenodd\" fill-opacity=\"1\" /><path clip-path=\"url(#clip670)\" d=\"M2338.69 954.518 L2343.57 954.518 L2343.57 960.398 L2338.69 960.398 L2338.69 954.518 Z\" fill=\"#000000\" fill-rule=\"evenodd\" fill-opacity=\"1\" /><path clip-path=\"url(#clip670)\" d=\"M2357.78 956.462 L2374.1 956.462 L2374.1 960.398 L2352.16 960.398 L2352.16 956.462 Q2354.82 953.708 2359.4 949.078 Q2364.01 944.426 2365.19 943.083 Q2367.44 940.56 2368.32 938.824 Q2369.22 937.064 2369.22 935.375 Q2369.22 932.62 2367.27 930.884 Q2365.35 929.148 2362.25 929.148 Q2360.05 929.148 2357.6 929.912 Q2355.17 930.676 2352.39 932.227 L2352.39 927.504 Q2355.21 926.37 2357.67 925.791 Q2360.12 925.213 2362.16 925.213 Q2367.53 925.213 2370.72 927.898 Q2373.92 930.583 2373.92 935.074 Q2373.92 937.203 2373.11 939.125 Q2372.32 941.023 2370.21 943.615 Q2369.63 944.287 2366.53 947.504 Q2363.43 950.699 2357.78 956.462 Z\" fill=\"#000000\" fill-rule=\"evenodd\" fill-opacity=\"1\" /><path clip-path=\"url(#clip670)\" d=\"M2383.96 925.838 L2402.32 925.838 L2402.32 929.773 L2388.25 929.773 L2388.25 938.245 Q2389.26 937.898 2390.28 937.736 Q2391.3 937.551 2392.32 937.551 Q2398.11 937.551 2401.49 940.722 Q2404.87 943.893 2404.87 949.31 Q2404.87 954.888 2401.39 957.99 Q2397.92 961.069 2391.6 961.069 Q2389.43 961.069 2387.16 960.699 Q2384.91 960.328 2382.51 959.587 L2382.51 954.888 Q2384.59 956.023 2386.81 956.578 Q2389.03 957.134 2391.51 957.134 Q2395.51 957.134 2397.85 955.027 Q2400.19 952.921 2400.19 949.31 Q2400.19 945.699 2397.85 943.592 Q2395.51 941.486 2391.51 941.486 Q2389.63 941.486 2387.76 941.902 Q2385.91 942.319 2383.96 943.199 L2383.96 925.838 Z\" fill=\"#000000\" fill-rule=\"evenodd\" fill-opacity=\"1\" /><path clip-path=\"url(#clip670)\" d=\"M2280.7 749.016 Q2277.09 749.016 2275.26 752.581 Q2273.45 756.122 2273.45 763.252 Q2273.45 770.358 2275.26 773.923 Q2277.09 777.465 2280.7 777.465 Q2284.33 777.465 2286.14 773.923 Q2287.97 770.358 2287.97 763.252 Q2287.97 756.122 2286.14 752.581 Q2284.33 749.016 2280.7 749.016 M2280.7 745.312 Q2286.51 745.312 2289.57 749.919 Q2292.64 754.502 2292.64 763.252 Q2292.64 771.979 2289.57 776.585 Q2286.51 781.168 2280.7 781.168 Q2274.89 781.168 2271.81 776.585 Q2268.76 771.979 2268.76 763.252 Q2268.76 754.502 2271.81 749.919 Q2274.89 745.312 2280.7 745.312 Z\" fill=\"#000000\" fill-rule=\"evenodd\" fill-opacity=\"1\" /><path clip-path=\"url(#clip670)\" d=\"M2280.7 569.115 Q2277.09 569.115 2275.26 572.68 Q2273.45 576.222 2273.45 583.351 Q2273.45 590.458 2275.26 594.023 Q2277.09 597.564 2280.7 597.564 Q2284.33 597.564 2286.14 594.023 Q2287.97 590.458 2287.97 583.351 Q2287.97 576.222 2286.14 572.68 Q2284.33 569.115 2280.7 569.115 M2280.7 565.412 Q2286.51 565.412 2289.57 570.018 Q2292.64 574.601 2292.64 583.351 Q2292.64 592.078 2289.57 596.685 Q2286.51 601.268 2280.7 601.268 Q2274.89 601.268 2271.81 596.685 Q2268.76 592.078 2268.76 583.351 Q2268.76 574.601 2271.81 570.018 Q2274.89 565.412 2280.7 565.412 Z\" fill=\"#000000\" fill-rule=\"evenodd\" fill-opacity=\"1\" /><path clip-path=\"url(#clip670)\" d=\"M2300.86 594.717 L2305.75 594.717 L2305.75 600.597 L2300.86 600.597 L2300.86 594.717 Z\" fill=\"#000000\" fill-rule=\"evenodd\" fill-opacity=\"1\" /><path clip-path=\"url(#clip670)\" d=\"M2319.96 596.662 L2336.28 596.662 L2336.28 600.597 L2314.33 600.597 L2314.33 596.662 Q2317 593.907 2321.58 589.277 Q2326.19 584.625 2327.37 583.282 Q2329.61 580.759 2330.49 579.023 Q2331.39 577.264 2331.39 575.574 Q2331.39 572.819 2329.45 571.083 Q2327.53 569.347 2324.43 569.347 Q2322.23 569.347 2319.77 570.111 Q2317.34 570.875 2314.57 572.426 L2314.57 567.703 Q2317.39 566.569 2319.84 565.99 Q2322.3 565.412 2324.33 565.412 Q2329.7 565.412 2332.9 568.097 Q2336.09 570.782 2336.09 575.273 Q2336.09 577.402 2335.28 579.324 Q2334.5 581.222 2332.39 583.814 Q2331.81 584.486 2328.71 587.703 Q2325.61 590.898 2319.96 596.662 Z\" fill=\"#000000\" fill-rule=\"evenodd\" fill-opacity=\"1\" /><path clip-path=\"url(#clip670)\" d=\"M2346.14 566.037 L2364.5 566.037 L2364.5 569.972 L2350.42 569.972 L2350.42 578.444 Q2351.44 578.097 2352.46 577.935 Q2353.48 577.75 2354.5 577.75 Q2360.28 577.75 2363.66 580.921 Q2367.04 584.092 2367.04 589.509 Q2367.04 595.087 2363.57 598.189 Q2360.1 601.268 2353.78 601.268 Q2351.6 601.268 2349.33 600.898 Q2347.09 600.527 2344.68 599.787 L2344.68 595.087 Q2346.76 596.222 2348.99 596.777 Q2351.21 597.333 2353.69 597.333 Q2357.69 597.333 2360.03 595.226 Q2362.37 593.12 2362.37 589.509 Q2362.37 585.898 2360.03 583.791 Q2357.69 581.685 2353.69 581.685 Q2351.81 581.685 2349.94 582.101 Q2348.08 582.518 2346.14 583.398 L2346.14 566.037 Z\" fill=\"#000000\" fill-rule=\"evenodd\" fill-opacity=\"1\" /><path clip-path=\"url(#clip670)\" d=\"M2280.7 389.215 Q2277.09 389.215 2275.26 392.78 Q2273.45 396.321 2273.45 403.451 Q2273.45 410.557 2275.26 414.122 Q2277.09 417.664 2280.7 417.664 Q2284.33 417.664 2286.14 414.122 Q2287.97 410.557 2287.97 403.451 Q2287.97 396.321 2286.14 392.78 Q2284.33 389.215 2280.7 389.215 M2280.7 385.511 Q2286.51 385.511 2289.57 390.118 Q2292.64 394.701 2292.64 403.451 Q2292.64 412.178 2289.57 416.784 Q2286.51 421.368 2280.7 421.368 Q2274.89 421.368 2271.81 416.784 Q2268.76 412.178 2268.76 403.451 Q2268.76 394.701 2271.81 390.118 Q2274.89 385.511 2280.7 385.511 Z\" fill=\"#000000\" fill-rule=\"evenodd\" fill-opacity=\"1\" /><path clip-path=\"url(#clip670)\" d=\"M2300.86 414.817 L2305.75 414.817 L2305.75 420.696 L2300.86 420.696 L2300.86 414.817 Z\" fill=\"#000000\" fill-rule=\"evenodd\" fill-opacity=\"1\" /><path clip-path=\"url(#clip670)\" d=\"M2315.98 386.136 L2334.33 386.136 L2334.33 390.071 L2320.26 390.071 L2320.26 398.544 Q2321.28 398.196 2322.3 398.034 Q2323.32 397.849 2324.33 397.849 Q2330.12 397.849 2333.5 401.02 Q2336.88 404.192 2336.88 409.608 Q2336.88 415.187 2333.41 418.289 Q2329.94 421.368 2323.62 421.368 Q2321.44 421.368 2319.17 420.997 Q2316.93 420.627 2314.52 419.886 L2314.52 415.187 Q2316.6 416.321 2318.83 416.877 Q2321.05 417.432 2323.52 417.432 Q2327.53 417.432 2329.87 415.326 Q2332.2 413.219 2332.2 409.608 Q2332.2 405.997 2329.87 403.891 Q2327.53 401.784 2323.52 401.784 Q2321.65 401.784 2319.77 402.201 Q2317.92 402.618 2315.98 403.497 L2315.98 386.136 Z\" fill=\"#000000\" fill-rule=\"evenodd\" fill-opacity=\"1\" /><path clip-path=\"url(#clip670)\" d=\"M2356.09 389.215 Q2352.48 389.215 2350.65 392.78 Q2348.85 396.321 2348.85 403.451 Q2348.85 410.557 2350.65 414.122 Q2352.48 417.664 2356.09 417.664 Q2359.73 417.664 2361.53 414.122 Q2363.36 410.557 2363.36 403.451 Q2363.36 396.321 2361.53 392.78 Q2359.73 389.215 2356.09 389.215 M2356.09 385.511 Q2361.9 385.511 2364.96 390.118 Q2368.04 394.701 2368.04 403.451 Q2368.04 412.178 2364.96 416.784 Q2361.9 421.368 2356.09 421.368 Q2350.28 421.368 2347.2 416.784 Q2344.15 412.178 2344.15 403.451 Q2344.15 394.701 2347.2 390.118 Q2350.28 385.511 2356.09 385.511 Z\" fill=\"#000000\" fill-rule=\"evenodd\" fill-opacity=\"1\" /><path clip-path=\"url(#clip670)\" d=\"M2280.7 209.314 Q2277.09 209.314 2275.26 212.879 Q2273.45 216.421 2273.45 223.55 Q2273.45 230.657 2275.26 234.222 Q2277.09 237.763 2280.7 237.763 Q2284.33 237.763 2286.14 234.222 Q2287.97 230.657 2287.97 223.55 Q2287.97 216.421 2286.14 212.879 Q2284.33 209.314 2280.7 209.314 M2280.7 205.611 Q2286.51 205.611 2289.57 210.217 Q2292.64 214.801 2292.64 223.55 Q2292.64 232.277 2289.57 236.884 Q2286.51 241.467 2280.7 241.467 Q2274.89 241.467 2271.81 236.884 Q2268.76 232.277 2268.76 223.55 Q2268.76 214.801 2271.81 210.217 Q2274.89 205.611 2280.7 205.611 Z\" fill=\"#000000\" fill-rule=\"evenodd\" fill-opacity=\"1\" /><path clip-path=\"url(#clip670)\" d=\"M2300.86 234.916 L2305.75 234.916 L2305.75 240.796 L2300.86 240.796 L2300.86 234.916 Z\" fill=\"#000000\" fill-rule=\"evenodd\" fill-opacity=\"1\" /><path clip-path=\"url(#clip670)\" d=\"M2314.75 206.236 L2336.97 206.236 L2336.97 208.226 L2324.43 240.796 L2319.54 240.796 L2331.35 210.171 L2314.75 210.171 L2314.75 206.236 Z\" fill=\"#000000\" fill-rule=\"evenodd\" fill-opacity=\"1\" /><path clip-path=\"url(#clip670)\" d=\"M2346.14 206.236 L2364.5 206.236 L2364.5 210.171 L2350.42 210.171 L2350.42 218.643 Q2351.44 218.296 2352.46 218.134 Q2353.48 217.949 2354.5 217.949 Q2360.28 217.949 2363.66 221.12 Q2367.04 224.291 2367.04 229.708 Q2367.04 235.287 2363.57 238.388 Q2360.1 241.467 2353.78 241.467 Q2351.6 241.467 2349.33 241.097 Q2347.09 240.726 2344.68 239.986 L2344.68 235.287 Q2346.76 236.421 2348.99 236.976 Q2351.21 237.532 2353.69 237.532 Q2357.69 237.532 2360.03 235.425 Q2362.37 233.319 2362.37 229.708 Q2362.37 226.097 2360.03 223.99 Q2357.69 221.884 2353.69 221.884 Q2351.81 221.884 2349.94 222.3 Q2348.08 222.717 2346.14 223.597 L2346.14 206.236 Z\" fill=\"#000000\" fill-rule=\"evenodd\" fill-opacity=\"1\" /><path clip-path=\"url(#clip670)\" d=\"M2269.43 56.9601 L2277.07 56.9601 L2277.07 30.5945 L2268.76 32.2612 L2268.76 28.002 L2277.02 26.3353 L2281.7 26.3353 L2281.7 56.9601 L2289.33 56.9601 L2289.33 60.8953 L2269.43 60.8953 L2269.43 56.9601 Z\" fill=\"#000000\" fill-rule=\"evenodd\" fill-opacity=\"1\" /><path clip-path=\"url(#clip670)\" d=\"M2298.78 55.0157 L2303.66 55.0157 L2303.66 60.8953 L2298.78 60.8953 L2298.78 55.0157 Z\" fill=\"#000000\" fill-rule=\"evenodd\" fill-opacity=\"1\" /><path clip-path=\"url(#clip670)\" d=\"M2323.85 29.414 Q2320.24 29.414 2318.41 32.9788 Q2316.6 36.5204 2316.6 43.65 Q2316.6 50.7565 2318.41 54.3213 Q2320.24 57.8629 2323.85 57.8629 Q2327.48 57.8629 2329.29 54.3213 Q2331.12 50.7565 2331.12 43.65 Q2331.12 36.5204 2329.29 32.9788 Q2327.48 29.414 2323.85 29.414 M2323.85 25.7103 Q2329.66 25.7103 2332.71 30.3168 Q2335.79 34.9001 2335.79 43.65 Q2335.79 52.3768 2332.71 56.9833 Q2329.66 61.5666 2323.85 61.5666 Q2318.04 61.5666 2314.96 56.9833 Q2311.9 52.3768 2311.9 43.65 Q2311.9 34.9001 2314.96 30.3168 Q2318.04 25.7103 2323.85 25.7103 Z\" fill=\"#000000\" fill-rule=\"evenodd\" fill-opacity=\"1\" /><path clip-path=\"url(#clip670)\" d=\"M2354.01 29.414 Q2350.4 29.414 2348.57 32.9788 Q2346.76 36.5204 2346.76 43.65 Q2346.76 50.7565 2348.57 54.3213 Q2350.4 57.8629 2354.01 57.8629 Q2357.64 57.8629 2359.45 54.3213 Q2361.28 50.7565 2361.28 43.65 Q2361.28 36.5204 2359.45 32.9788 Q2357.64 29.414 2354.01 29.414 M2354.01 25.7103 Q2359.82 25.7103 2362.88 30.3168 Q2365.95 34.9001 2365.95 43.65 Q2365.95 52.3768 2362.88 56.9833 Q2359.82 61.5666 2354.01 61.5666 Q2348.2 61.5666 2345.12 56.9833 Q2342.07 52.3768 2342.07 43.65 Q2342.07 34.9001 2345.12 30.3168 Q2348.2 25.7103 2354.01 25.7103 Z\" fill=\"#000000\" fill-rule=\"evenodd\" fill-opacity=\"1\" /><polyline clip-path=\"url(#clip670)\" style=\"stroke:#000000; stroke-linecap:round; stroke-linejoin:round; stroke-width:4; stroke-opacity:1; fill:none\" points=\"2232.76,1486.45 2232.76,1486.45 2256.76,1486.45 2232.76,1486.45 2232.76,1306.55 2256.76,1306.55 2232.76,1306.55 2232.76,1126.65 2256.76,1126.65 2232.76,1126.65 2232.76,946.746 2256.76,946.746 2232.76,946.746 2232.76,766.846 2256.76,766.846 2232.76,766.846 2232.76,586.946 2256.76,586.946 2232.76,586.946 2232.76,407.045 2256.76,407.045 2232.76,407.045 2232.76,227.145 2256.76,227.145 2232.76,227.145 2232.76,47.2441 2256.76,47.2441 2232.76,47.2441 \"/>\n",
       "</svg>\n"
      ],
      "text/html": [
       "<?xml version=\"1.0\" encoding=\"utf-8\"?>\n",
       "<svg xmlns=\"http://www.w3.org/2000/svg\" xmlns:xlink=\"http://www.w3.org/1999/xlink\" width=\"600\" height=\"400\" viewBox=\"0 0 2400 1600\">\n",
       "<defs>\n",
       "  <clipPath id=\"clip720\">\n",
       "    <rect x=\"0\" y=\"0\" width=\"2400\" height=\"1600\"/>\n",
       "  </clipPath>\n",
       "</defs>\n",
       "<path clip-path=\"url(#clip720)\" d=\"M0 1600 L2400 1600 L2400 0 L0 0  Z\" fill=\"#ffffff\" fill-rule=\"evenodd\" fill-opacity=\"1\"/>\n",
       "<defs>\n",
       "  <clipPath id=\"clip721\">\n",
       "    <rect x=\"480\" y=\"0\" width=\"1681\" height=\"1600\"/>\n",
       "  </clipPath>\n",
       "</defs>\n",
       "<path clip-path=\"url(#clip720)\" d=\"M138.959 1486.45 L2112.76 1486.45 L2112.76 47.2441 L138.959 47.2441  Z\" fill=\"#ffffff\" fill-rule=\"evenodd\" fill-opacity=\"1\"/>\n",
       "<defs>\n",
       "  <clipPath id=\"clip722\">\n",
       "    <rect x=\"138\" y=\"47\" width=\"1975\" height=\"1440\"/>\n",
       "  </clipPath>\n",
       "</defs>\n",
       "<polyline clip-path=\"url(#clip722)\" style=\"stroke:#000000; stroke-linecap:round; stroke-linejoin:round; stroke-width:2; stroke-opacity:0.1; fill:none\" points=\"435.029,1486.45 435.029,47.2441 \"/>\n",
       "<polyline clip-path=\"url(#clip722)\" style=\"stroke:#000000; stroke-linecap:round; stroke-linejoin:round; stroke-width:2; stroke-opacity:0.1; fill:none\" points=\"829.788,1486.45 829.788,47.2441 \"/>\n",
       "<polyline clip-path=\"url(#clip722)\" style=\"stroke:#000000; stroke-linecap:round; stroke-linejoin:round; stroke-width:2; stroke-opacity:0.1; fill:none\" points=\"1224.55,1486.45 1224.55,47.2441 \"/>\n",
       "<polyline clip-path=\"url(#clip722)\" style=\"stroke:#000000; stroke-linecap:round; stroke-linejoin:round; stroke-width:2; stroke-opacity:0.1; fill:none\" points=\"1619.31,1486.45 1619.31,47.2441 \"/>\n",
       "<polyline clip-path=\"url(#clip722)\" style=\"stroke:#000000; stroke-linecap:round; stroke-linejoin:round; stroke-width:2; stroke-opacity:0.1; fill:none\" points=\"2014.07,1486.45 2014.07,47.2441 \"/>\n",
       "<polyline clip-path=\"url(#clip720)\" style=\"stroke:#000000; stroke-linecap:round; stroke-linejoin:round; stroke-width:4; stroke-opacity:1; fill:none\" points=\"138.959,1486.45 2112.76,1486.45 \"/>\n",
       "<polyline clip-path=\"url(#clip720)\" style=\"stroke:#000000; stroke-linecap:round; stroke-linejoin:round; stroke-width:4; stroke-opacity:1; fill:none\" points=\"435.029,1486.45 435.029,1467.55 \"/>\n",
       "<polyline clip-path=\"url(#clip720)\" style=\"stroke:#000000; stroke-linecap:round; stroke-linejoin:round; stroke-width:4; stroke-opacity:1; fill:none\" points=\"829.788,1486.45 829.788,1467.55 \"/>\n",
       "<polyline clip-path=\"url(#clip720)\" style=\"stroke:#000000; stroke-linecap:round; stroke-linejoin:round; stroke-width:4; stroke-opacity:1; fill:none\" points=\"1224.55,1486.45 1224.55,1467.55 \"/>\n",
       "<polyline clip-path=\"url(#clip720)\" style=\"stroke:#000000; stroke-linecap:round; stroke-linejoin:round; stroke-width:4; stroke-opacity:1; fill:none\" points=\"1619.31,1486.45 1619.31,1467.55 \"/>\n",
       "<polyline clip-path=\"url(#clip720)\" style=\"stroke:#000000; stroke-linecap:round; stroke-linejoin:round; stroke-width:4; stroke-opacity:1; fill:none\" points=\"2014.07,1486.45 2014.07,1467.55 \"/>\n",
       "<path clip-path=\"url(#clip720)\" d=\"M429.682 1544.91 L446.001 1544.91 L446.001 1548.85 L424.057 1548.85 L424.057 1544.91 Q426.719 1542.16 431.302 1537.53 Q435.909 1532.88 437.089 1531.53 Q439.334 1529.01 440.214 1527.27 Q441.117 1525.51 441.117 1523.82 Q441.117 1521.07 439.172 1519.33 Q437.251 1517.6 434.149 1517.6 Q431.95 1517.6 429.497 1518.36 Q427.066 1519.13 424.288 1520.68 L424.288 1515.95 Q427.112 1514.82 429.566 1514.24 Q432.02 1513.66 434.057 1513.66 Q439.427 1513.66 442.621 1516.35 Q445.816 1519.03 445.816 1523.52 Q445.816 1525.65 445.006 1527.57 Q444.219 1529.47 442.112 1532.07 Q441.534 1532.74 438.432 1535.95 Q435.33 1539.15 429.682 1544.91 Z\" fill=\"#000000\" fill-rule=\"evenodd\" fill-opacity=\"1\" /><path clip-path=\"url(#clip720)\" d=\"M832.797 1518.36 L820.992 1536.81 L832.797 1536.81 L832.797 1518.36 M831.571 1514.29 L837.45 1514.29 L837.45 1536.81 L842.381 1536.81 L842.381 1540.7 L837.45 1540.7 L837.45 1548.85 L832.797 1548.85 L832.797 1540.7 L817.196 1540.7 L817.196 1536.19 L831.571 1514.29 Z\" fill=\"#000000\" fill-rule=\"evenodd\" fill-opacity=\"1\" /><path clip-path=\"url(#clip720)\" d=\"M1224.95 1529.7 Q1221.8 1529.7 1219.95 1531.86 Q1218.12 1534.01 1218.12 1537.76 Q1218.12 1541.49 1219.95 1543.66 Q1221.8 1545.82 1224.95 1545.82 Q1228.1 1545.82 1229.93 1543.66 Q1231.78 1541.49 1231.78 1537.76 Q1231.78 1534.01 1229.93 1531.86 Q1228.1 1529.7 1224.95 1529.7 M1234.23 1515.05 L1234.23 1519.31 Q1232.48 1518.48 1230.67 1518.04 Q1228.89 1517.6 1227.13 1517.6 Q1222.5 1517.6 1220.05 1520.72 Q1217.61 1523.85 1217.27 1530.17 Q1218.63 1528.15 1220.69 1527.09 Q1222.75 1526 1225.23 1526 Q1230.44 1526 1233.45 1529.17 Q1236.48 1532.32 1236.48 1537.76 Q1236.48 1543.08 1233.33 1546.3 Q1230.18 1549.52 1224.95 1549.52 Q1218.96 1549.52 1215.79 1544.94 Q1212.61 1540.33 1212.61 1531.6 Q1212.61 1523.41 1216.5 1518.55 Q1220.39 1513.66 1226.94 1513.66 Q1228.7 1513.66 1230.48 1514.01 Q1232.29 1514.36 1234.23 1515.05 Z\" fill=\"#000000\" fill-rule=\"evenodd\" fill-opacity=\"1\" /><path clip-path=\"url(#clip720)\" d=\"M1619.31 1532.44 Q1615.97 1532.44 1614.05 1534.22 Q1612.15 1536 1612.15 1539.13 Q1612.15 1542.25 1614.05 1544.03 Q1615.97 1545.82 1619.31 1545.82 Q1622.64 1545.82 1624.56 1544.03 Q1626.48 1542.23 1626.48 1539.13 Q1626.48 1536 1624.56 1534.22 Q1622.66 1532.44 1619.31 1532.44 M1614.63 1530.45 Q1611.62 1529.7 1609.93 1527.64 Q1608.27 1525.58 1608.27 1522.62 Q1608.27 1518.48 1611.2 1516.07 Q1614.17 1513.66 1619.31 1513.66 Q1624.47 1513.66 1627.41 1516.07 Q1630.35 1518.48 1630.35 1522.62 Q1630.35 1525.58 1628.66 1527.64 Q1626.99 1529.7 1624.01 1530.45 Q1627.39 1531.23 1629.26 1533.52 Q1631.16 1535.82 1631.16 1539.13 Q1631.16 1544.15 1628.08 1546.83 Q1625.02 1549.52 1619.31 1549.52 Q1613.59 1549.52 1610.51 1546.83 Q1607.46 1544.15 1607.46 1539.13 Q1607.46 1535.82 1609.35 1533.52 Q1611.25 1531.23 1614.63 1530.45 M1612.92 1523.06 Q1612.92 1525.75 1614.58 1527.25 Q1616.27 1528.76 1619.31 1528.76 Q1622.32 1528.76 1624.01 1527.25 Q1625.72 1525.75 1625.72 1523.06 Q1625.72 1520.38 1624.01 1518.87 Q1622.32 1517.37 1619.31 1517.37 Q1616.27 1517.37 1614.58 1518.87 Q1612.92 1520.38 1612.92 1523.06 Z\" fill=\"#000000\" fill-rule=\"evenodd\" fill-opacity=\"1\" /><path clip-path=\"url(#clip720)\" d=\"M1988.75 1544.91 L1996.39 1544.91 L1996.39 1518.55 L1988.08 1520.21 L1988.08 1515.95 L1996.35 1514.29 L2001.02 1514.29 L2001.02 1544.91 L2008.66 1544.91 L2008.66 1548.85 L1988.75 1548.85 L1988.75 1544.91 Z\" fill=\"#000000\" fill-rule=\"evenodd\" fill-opacity=\"1\" /><path clip-path=\"url(#clip720)\" d=\"M2028.11 1517.37 Q2024.49 1517.37 2022.67 1520.93 Q2020.86 1524.47 2020.86 1531.6 Q2020.86 1538.71 2022.67 1542.27 Q2024.49 1545.82 2028.11 1545.82 Q2031.74 1545.82 2033.55 1542.27 Q2035.37 1538.71 2035.37 1531.6 Q2035.37 1524.47 2033.55 1520.93 Q2031.74 1517.37 2028.11 1517.37 M2028.11 1513.66 Q2033.92 1513.66 2036.97 1518.27 Q2040.05 1522.85 2040.05 1531.6 Q2040.05 1540.33 2036.97 1544.94 Q2033.92 1549.52 2028.11 1549.52 Q2022.3 1549.52 2019.22 1544.94 Q2016.16 1540.33 2016.16 1531.6 Q2016.16 1522.85 2019.22 1518.27 Q2022.3 1513.66 2028.11 1513.66 Z\" fill=\"#000000\" fill-rule=\"evenodd\" fill-opacity=\"1\" /><polyline clip-path=\"url(#clip722)\" style=\"stroke:#000000; stroke-linecap:round; stroke-linejoin:round; stroke-width:2; stroke-opacity:0.1; fill:none\" points=\"138.959,1270.57 2112.76,1270.57 \"/>\n",
       "<polyline clip-path=\"url(#clip722)\" style=\"stroke:#000000; stroke-linecap:round; stroke-linejoin:round; stroke-width:2; stroke-opacity:0.1; fill:none\" points=\"138.959,982.727 2112.76,982.727 \"/>\n",
       "<polyline clip-path=\"url(#clip722)\" style=\"stroke:#000000; stroke-linecap:round; stroke-linejoin:round; stroke-width:2; stroke-opacity:0.1; fill:none\" points=\"138.959,694.886 2112.76,694.886 \"/>\n",
       "<polyline clip-path=\"url(#clip722)\" style=\"stroke:#000000; stroke-linecap:round; stroke-linejoin:round; stroke-width:2; stroke-opacity:0.1; fill:none\" points=\"138.959,407.045 2112.76,407.045 \"/>\n",
       "<polyline clip-path=\"url(#clip722)\" style=\"stroke:#000000; stroke-linecap:round; stroke-linejoin:round; stroke-width:2; stroke-opacity:0.1; fill:none\" points=\"138.959,119.204 2112.76,119.204 \"/>\n",
       "<polyline clip-path=\"url(#clip720)\" style=\"stroke:#000000; stroke-linecap:round; stroke-linejoin:round; stroke-width:4; stroke-opacity:1; fill:none\" points=\"138.959,1486.45 138.959,47.2441 \"/>\n",
       "<polyline clip-path=\"url(#clip720)\" style=\"stroke:#000000; stroke-linecap:round; stroke-linejoin:round; stroke-width:4; stroke-opacity:1; fill:none\" points=\"138.959,1270.57 155.808,1270.57 \"/>\n",
       "<polyline clip-path=\"url(#clip720)\" style=\"stroke:#000000; stroke-linecap:round; stroke-linejoin:round; stroke-width:4; stroke-opacity:1; fill:none\" points=\"138.959,982.727 155.808,982.727 \"/>\n",
       "<polyline clip-path=\"url(#clip720)\" style=\"stroke:#000000; stroke-linecap:round; stroke-linejoin:round; stroke-width:4; stroke-opacity:1; fill:none\" points=\"138.959,694.886 155.808,694.886 \"/>\n",
       "<polyline clip-path=\"url(#clip720)\" style=\"stroke:#000000; stroke-linecap:round; stroke-linejoin:round; stroke-width:4; stroke-opacity:1; fill:none\" points=\"138.959,407.045 155.808,407.045 \"/>\n",
       "<polyline clip-path=\"url(#clip720)\" style=\"stroke:#000000; stroke-linecap:round; stroke-linejoin:round; stroke-width:4; stroke-opacity:1; fill:none\" points=\"138.959,119.204 155.808,119.204 \"/>\n",
       "<path clip-path=\"url(#clip720)\" d=\"M86.6401 1283.91 L102.959 1283.91 L102.959 1287.85 L81.0151 1287.85 L81.0151 1283.91 Q83.6771 1281.16 88.2604 1276.53 Q92.8669 1271.88 94.0475 1270.53 Q96.2928 1268.01 97.1724 1266.27 Q98.0752 1264.51 98.0752 1262.82 Q98.0752 1260.07 96.1308 1258.33 Q94.2095 1256.6 91.1077 1256.6 Q88.9086 1256.6 86.4549 1257.36 Q84.0244 1258.13 81.2466 1259.68 L81.2466 1254.95 Q84.0707 1253.82 86.5243 1253.24 Q88.978 1252.66 91.0151 1252.66 Q96.3854 1252.66 99.5798 1255.35 Q102.774 1258.03 102.774 1262.52 Q102.774 1264.65 101.964 1266.57 Q101.177 1268.47 99.0706 1271.06 Q98.4919 1271.74 95.39 1274.95 Q92.2882 1278.15 86.6401 1283.91 Z\" fill=\"#000000\" fill-rule=\"evenodd\" fill-opacity=\"1\" /><path clip-path=\"url(#clip720)\" d=\"M93.3762 969.521 L81.5707 987.97 L93.3762 987.97 L93.3762 969.521 M92.1493 965.447 L98.0289 965.447 L98.0289 987.97 L102.959 987.97 L102.959 991.858 L98.0289 991.858 L98.0289 1000.01 L93.3762 1000.01 L93.3762 991.858 L77.7744 991.858 L77.7744 987.345 L92.1493 965.447 Z\" fill=\"#000000\" fill-rule=\"evenodd\" fill-opacity=\"1\" /><path clip-path=\"url(#clip720)\" d=\"M91.4317 693.022 Q88.2836 693.022 86.4318 695.175 Q84.6031 697.328 84.6031 701.078 Q84.6031 704.805 86.4318 706.981 Q88.2836 709.133 91.4317 709.133 Q94.5799 709.133 96.4085 706.981 Q98.2604 704.805 98.2604 701.078 Q98.2604 697.328 96.4085 695.175 Q94.5799 693.022 91.4317 693.022 M100.714 678.37 L100.714 682.629 Q98.9548 681.796 97.1493 681.356 Q95.3669 680.916 93.6076 680.916 Q88.978 680.916 86.5243 684.041 Q84.0938 687.166 83.7466 693.485 Q85.1123 691.471 87.1725 690.407 Q89.2327 689.319 91.7095 689.319 Q96.9178 689.319 99.927 692.49 Q102.959 695.638 102.959 701.078 Q102.959 706.402 99.8113 709.62 Q96.6632 712.837 91.4317 712.837 Q85.4364 712.837 82.2651 708.254 Q79.0938 703.647 79.0938 694.921 Q79.0938 686.726 82.9827 681.865 Q86.8716 676.981 93.4225 676.981 Q95.1817 676.981 96.9641 677.328 Q98.7696 677.675 100.714 678.37 Z\" fill=\"#000000\" fill-rule=\"evenodd\" fill-opacity=\"1\" /><path clip-path=\"url(#clip720)\" d=\"M91.1077 407.913 Q87.7743 407.913 85.8531 409.695 Q83.9549 411.478 83.9549 414.603 Q83.9549 417.728 85.8531 419.51 Q87.7743 421.293 91.1077 421.293 Q94.441 421.293 96.3623 419.51 Q98.2835 417.705 98.2835 414.603 Q98.2835 411.478 96.3623 409.695 Q94.4641 407.913 91.1077 407.913 M86.4318 405.922 Q83.4225 405.182 81.7327 403.121 Q80.066 401.061 80.066 398.098 Q80.066 393.955 83.0058 391.547 Q85.9688 389.14 91.1077 389.14 Q96.2697 389.14 99.2095 391.547 Q102.149 393.955 102.149 398.098 Q102.149 401.061 100.459 403.121 Q98.7928 405.182 95.8067 405.922 Q99.1863 406.709 101.061 409.001 Q102.959 411.293 102.959 414.603 Q102.959 419.626 99.8808 422.311 Q96.8252 424.996 91.1077 424.996 Q85.3901 424.996 82.3114 422.311 Q79.2559 419.626 79.2559 414.603 Q79.2559 411.293 81.154 409.001 Q83.0521 406.709 86.4318 405.922 M84.7188 398.538 Q84.7188 401.223 86.3855 402.728 Q88.0753 404.233 91.1077 404.233 Q94.1169 404.233 95.8067 402.728 Q97.5197 401.223 97.5197 398.538 Q97.5197 395.853 95.8067 394.348 Q94.1169 392.844 91.1077 392.844 Q88.0753 392.844 86.3855 394.348 Q84.7188 395.853 84.7188 398.538 Z\" fill=\"#000000\" fill-rule=\"evenodd\" fill-opacity=\"1\" /><path clip-path=\"url(#clip720)\" d=\"M51.6634 132.549 L59.3023 132.549 L59.3023 106.184 L50.9921 107.85 L50.9921 103.591 L59.256 101.924 L63.9319 101.924 L63.9319 132.549 L71.5707 132.549 L71.5707 136.484 L51.6634 136.484 L51.6634 132.549 Z\" fill=\"#000000\" fill-rule=\"evenodd\" fill-opacity=\"1\" /><path clip-path=\"url(#clip720)\" d=\"M91.0151 105.003 Q87.404 105.003 85.5753 108.568 Q83.7697 112.109 83.7697 119.239 Q83.7697 126.345 85.5753 129.91 Q87.404 133.452 91.0151 133.452 Q94.6493 133.452 96.4548 129.91 Q98.2835 126.345 98.2835 119.239 Q98.2835 112.109 96.4548 108.568 Q94.6493 105.003 91.0151 105.003 M91.0151 101.299 Q96.8252 101.299 99.8808 105.906 Q102.959 110.489 102.959 119.239 Q102.959 127.966 99.8808 132.572 Q96.8252 137.156 91.0151 137.156 Q85.2049 137.156 82.1262 132.572 Q79.0707 127.966 79.0707 119.239 Q79.0707 110.489 82.1262 105.906 Q85.2049 101.299 91.0151 101.299 Z\" fill=\"#000000\" fill-rule=\"evenodd\" fill-opacity=\"1\" /><g clip-path=\"url(#clip722)\">\n",
       "<image width=\"1974\" height=\"1439\" xlink:href=\"data:image/png;base64,\n",
       "iVBORw0KGgoAAAANSUhEUgAAB7YAAAWfCAYAAAAvUBneAAAgAElEQVR4nOzZMQ2EQAAAwYMgCrlv\n",
       "AQUYI4GahvY2+RkF2+8yxnYP4OW6f7MTIOXcj9kJAAAAAADAH1tnBwAAAAAAAADAF2MbAAAAAAAA\n",
       "gDRjGwAAAAAAAIA0YxsAAAAAAACANGMbAAAAAAAAgDRjGwAAAAAAAIA0YxsAAAAAAACANGMbAAAA\n",
       "AAAAgDRjGwAAAAAAAIA0YxsAAAAAAACANGMbAAAAAAAAgDRjGwAAAAAAAIA0YxsAAAAAAACANGMb\n",
       "AAAAAAAAgDRjGwAAAAAAAIA0YxsAAAAAAACANGMbAAAAAAAAgDRjGwAAAAAAAIA0YxsAAAAAAACA\n",
       "NGMbAAAAAAAAgDRjGwAAAAAAAIA0YxsAAAAAAACANGMbAAAAAAAAgDRjGwAAAAAAAIA0YxsAAAAA\n",
       "AACANGMbAAAAAAAAgDRjGwAAAAAAAIA0YxsAAAAAAACANGMbAAAAAAAAgDRjGwAAAAAAAIA0YxsA\n",
       "AAAAAACANGMbAAAAAAAAgDRjGwAAAAAAAIA0YxsAAAAAAACANGMbAAAAAAAAgDRjGwAAAAAAAIA0\n",
       "YxsAAAAAAACANGMbAAAAAAAAgDRjGwAAAAAAAIA0YxsAAAAAAACANGMbAAAAAAAAgDRjGwAAAAAA\n",
       "AIA0YxsAAAAAAACANGMbAAAAAAAAgDRjGwAAAAAAAIA0YxsAAAAAAACANGMbAAAAAAAAgDRjGwAA\n",
       "AAAAAIA0YxsAAAAAAACANGMbAAAAAAAAgDRjGwAAAAAAAIA0YxsAAAAAAACANGMbAAAAAAAAgDRj\n",
       "GwAAAAAAAIA0YxsAAAAAAACANGMbAAAAAAAAgDRjGwAAAAAAAIA0YxsAAAAAAACANGMbAAAAAAAA\n",
       "gDRjGwAAAAAAAIA0YxsAAAAAAACANGMbAAAAAAAAgDRjGwAAAAAAAIA0YxsAAAAAAACANGMbAAAA\n",
       "AAAAgDRjGwAAAAAAAIA0YxsAAAAAAACANGMbAAAAAAAAgDRjGwAAAAAAAIA0YxsAAAAAAACANGMb\n",
       "AAAAAAAAgDRjGwAAAAAAAIA0YxsAAAAAAACANGMbAAAAAAAAgDRjGwAAAAAAAIA0YxsAAAAAAACA\n",
       "NGMbAAAAAAAAgDRjGwAAAAAAAIA0YxsAAAAAAACANGMbAAAAAAAAgDRjGwAAAAAAAIA0YxsAAAAA\n",
       "AACANGMbAAAAAAAAgDRjGwAAAAAAAIA0YxsAAAAAAACANGMbAAAAAAAAgDRjGwAAAAAAAIA0YxsA\n",
       "AAAAAACANGMbAAAAAAAAgDRjGwAAAAAAAIA0YxsAAAAAAACANGMbAAAAAAAAgDRjGwAAAAAAAIA0\n",
       "YxsAAAAAAACANGMbAAAAAAAAgDRjGwAAAAAAAIA0YxsAAAAAAACANGMbAAAAAAAAgDRjGwAAAAAA\n",
       "AIA0YxsAAAAAAACANGMbAAAAAAAAgDRjGwAAAAAAAIA0YxsAAAAAAACANGMbAAAAAAAAgDRjGwAA\n",
       "AAAAAIA0YxsAAAAAAACANGMbAAAAAAAAgDRjGwAAAAAAAIA0YxsAAAAAAACANGMbAAAAAAAAgDRj\n",
       "GwAAAAAAAIA0YxsAAAAAAACANGMbAAAAAAAAgDRjGwAAAAAAAIA0YxsAAAAAAACANGMbAAAAAAAA\n",
       "gDRjGwAAAAAAAIA0YxsAAAAAAACANGMbAAAAAAAAgDRjGwAAAAAAAIA0YxsAAAAAAACANGMbAAAA\n",
       "AAAAgDRjGwAAAAAAAIA0YxsAAAAAAACANGMbAAAAAAAAgDRjGwAAAAAAAIA0YxsAAAAAAACANGMb\n",
       "AAAAAAAAgDRjGwAAAAAAAIA0YxsAAAAAAACANGMbAAAAAAAAgDRjGwAAAAAAAIA0YxsAAAAAAACA\n",
       "NGMbAAAAAAAAgDRjGwAAAAAAAIA0YxsAAAAAAACANGMbAAAAAAAAgDRjGwAAAAAAAIA0YxsAAAAA\n",
       "AACANGMbAAAAAAAAgDRjGwAAAAAAAIA0YxsAAAAAAACANGMbAAAAAAAAgDRjGwAAAAAAAIA0YxsA\n",
       "AAAAAACANGMbAAAAAAAAgDRjGwAAAAAAAIA0YxsAAAAAAACANGMbAAAAAAAAgDRjGwAAAAAAAIA0\n",
       "YxsAAAAAAACANGMbAAAAAAAAgDRjGwAAAAAAAIA0YxsAAAAAAACANGMbAAAAAAAAgDRjGwAAAAAA\n",
       "AIA0YxsAAAAAAACANGMbAAAAAAAAgDRjGwAAAAAAAIA0YxsAAAAAAACANGMbAAAAAAAAgDRjGwAA\n",
       "AAAAAIA0YxsAAAAAAACANGMbAAAAAAAAgDRjGwAAAAAAAIA0YxsAAAAAAACANGMbAAAAAAAAgDRj\n",
       "GwAAAAAAAIA0YxsAAAAAAACANGMbAAAAAAAAgDRjGwAAAAAAAIA0YxsAAAAAAACANGMbAAAAAAAA\n",
       "gDRjGwAAAAAAAIA0YxsAAAAAAACANGMbAAAAAAAAgDRjGwAAAAAAAIA0YxsAAAAAAACANGMbAAAA\n",
       "AAAAgDRjGwAAAAAAAIA0YxsAAAAAAACANGMbAAAAAAAAgDRjGwAAAAAAAIA0YxsAAAAAAACANGMb\n",
       "AAAAAAAAgDRjGwAAAAAAAIA0YxsAAAAAAACANGMbAAAAAAAAgDRjGwAAAAAAAIA0YxsAAAAAAACA\n",
       "NGMbAAAAAAAAgDRjGwAAAAAAAIA0YxsAAAAAAACANGMbAAAAAAAAgDRjGwAAAAAAAIA0YxsAAAAA\n",
       "AACANGMbAAAAAAAAgDRjGwAAAAAAAIA0YxsAAAAAAACANGMbAAAAAAAAgDRjGwAAAAAAAIA0YxsA\n",
       "AAAAAACANGMbAAAAAAAAgDRjGwAAAAAAAIA0YxsAAAAAAACANGMbAAAAAAAAgDRjGwAAAAAAAIA0\n",
       "YxsAAAAAAACANGMbAAAAAAAAgDRjGwAAAAAAAIA0YxsAAAAAAACANGMbAAAAAAAAgDRjGwAAAAAA\n",
       "AIA0YxsAAAAAAACANGMbAAAAAAAAgDRjGwAAAAAAAIA0YxsAAAAAAACANGMbAAAAAAAAgDRjGwAA\n",
       "AAAAAIA0YxsAAAAAAACANGMbAAAAAAAAgDRjGwAAAAAAAIA0YxsAAAAAAACANGMbAAAAAAAAgDRj\n",
       "GwAAAAAAAIA0YxsAAAAAAACANGMbAAAAAAAAgDRjGwAAAAAAAIA0YxsAAAAAAACANGMbAAAAAAAA\n",
       "gDRjGwAAAAAAAIA0YxsAAAAAAACANGMbAAAAAAAAgDRjGwAAAAAAAIA0YxsAAAAAAACANGMbAAAA\n",
       "AAAAgDRjGwAAAAAAAIA0YxsAAAAAAACANGMbAAAAAAAAgDRjGwAAAAAAAIA0YxsAAAAAAACANGMb\n",
       "AAAAAAAAgDRjGwAAAAAAAIA0YxsAAAAAAACANGMbAAAAAAAAgDRjGwAAAAAAAIA0YxsAAAAAAACA\n",
       "NGMbAAAAAAAAgDRjGwAAAAAAAIA0YxsAAAAAAACANGMbAAAAAAAAgDRjGwAAAAAAAIA0YxsAAAAA\n",
       "AACANGMbAAAAAAAAgDRjGwAAAAAAAIA0YxsAAAAAAACANGMbAAAAAAAAgDRjGwAAAAAAAIA0YxsA\n",
       "AAAAAACANGMbAAAAAAAAgDRjGwAAAAAAAIA0YxsAAAAAAACANGMbAAAAAAAAgDRjGwAAAAAAAIA0\n",
       "YxsAAAAAAACANGMbAAAAAAAAgDRjGwAAAAAAAIA0YxsAAAAAAACANGMbAAAAAAAAgDRjGwAAAAAA\n",
       "AIA0YxsAAAAAAACANGMbAAAAAAAAgDRjGwAAAAAAAIA0YxsAAAAAAACANGMbAAAAAAAAgDRjGwAA\n",
       "AAAAAIA0YxsAAAAAAACANGMbAAAAAAAAgDRjGwAAAAAAAIA0YxsAAAAAAACANGMbAAAAAAAAgDRj\n",
       "GwAAAAAAAIA0YxsAAAAAAACANGMbAAAAAAAAgDRjGwAAAAAAAIA0YxsAAAAAAACANGMbAAAAAAAA\n",
       "gDRjGwAAAAAAAIA0YxsAAAAAAACANGMbAAAAAAAAgDRjGwAAAAAAAIA0YxsAAAAAAACANGMbAAAA\n",
       "AAAAgDRjGwAAAAAAAIA0YxsAAAAAAACANGMbAAAAAAAAgDRjGwAAAAAAAIA0YxsAAAAAAACANGMb\n",
       "AAAAAAAAgDRjGwAAAAAAAIA0YxsAAAAAAACANGMbAAAAAAAAgDRjGwAAAAAAAIA0YxsAAAAAAACA\n",
       "NGMbAAAAAAAAgDRjGwAAAAAAAIA0YxsAAAAAAACANGMbAAAAAAAAgDRjGwAAAAAAAIA0YxsAAAAA\n",
       "AACANGMbAAAAAAAAgDRjGwAAAAAAAIA0YxsAAAAAAACANGMbAAAAAAAAgDRjGwAAAAAAAIA0YxsA\n",
       "AAAAAACANGMbAAAAAAAAgDRjGwAAAAAAAIA0YxsAAAAAAACANGMbAAAAAAAAgDRjGwAAAAAAAIA0\n",
       "YxsAAAAAAACANGMbAAAAAAAAgDRjGwAAAAAAAIA0YxsAAAAAAACANGMbAAAAAAAAgDRjGwAAAAAA\n",
       "AIA0YxsAAAAAAACANGMbAAAAAAAAgDRjGwAAAAAAAIA0YxsAAAAAAACANGMbAAAAAAAAgDRjGwAA\n",
       "AAAAAIA0YxsAAAAAAACANGMbAAAAAAAAgDRjGwAAAAAAAIA0YxsAAAAAAACANGMbAAAAAAAAgDRj\n",
       "GwAAAAAAAIA0YxsAAAAAAACANGMbAAAAAAAAgDRjGwAAAAAAAIA0YxsAAAAAAACANGMbAAAAAAAA\n",
       "gDRjGwAAAAAAAIA0YxsAAAAAAACANGMbAAAAAAAAgDRjGwAAAAAAAIA0YxsAAAAAAACANGMbAAAA\n",
       "AAAAgDRjGwAAAAAAAIA0YxsAAAAAAACANGMbAAAAAAAAgDRjGwAAAAAAAIA0YxsAAAAAAACANGMb\n",
       "AAAAAAAAgDRjGwAAAAAAAIA0YxsAAAAAAACANGMbAAAAAAAAgDRjGwAAAAAAAIA0YxsAAAAAAACA\n",
       "NGMbAAAAAAAAgDRjGwAAAAAAAIA0YxsAAAAAAACANGMbAAAAAAAAgDRjGwAAAAAAAIA0YxsAAAAA\n",
       "AACANGMbAAAAAAAAgDRjGwAAAAAAAIA0YxsAAAAAAACANGMbAAAAAAAAgDRjGwAAAAAAAIA0YxsA\n",
       "AAAAAACANGMbAAAAAAAAgDRjGwAAAAAAAIA0YxsAAAAAAACANGMbAAAAAAAAgDRjGwAAAAAAAIA0\n",
       "YxsAAAAAAACANGMbAAAAAAAAgDRjGwAAAAAAAIA0YxsAAAAAAACANGMbAAAAAAAAgDRjGwAAAAAA\n",
       "AIA0YxsAAAAAAACANGMbAAAAAAAAgDRjGwAAAAAAAIA0YxsAAAAAAACANGMbAAAAAAAAgDRjGwAA\n",
       "AAAAAIA0YxsAAAAAAACANGMbAAAAAAAAgDRjGwAAAAAAAIA0YxsAAAAAAACANGMbAAAAAAAAgDRj\n",
       "GwAAAAAAAIA0YxsAAAAAAACANGMbAAAAAAAAgDRjGwAAAAAAAIA0YxsAAAAAAACANGMbAAAAAAAA\n",
       "gDRjGwAAAAAAAIA0YxsAAAAAAACANGMbAAAAAAAAgDRjGwAAAAAAAIA0YxsAAAAAAACANGMbAAAA\n",
       "AAAAgDRjGwAAAAAAAIA0YxsAAAAAAACANGMbAAAAAAAAgDRjGwAAAAAAAIA0YxsAAAAAAACANGMb\n",
       "AAAAAAAAgDRjGwAAAAAAAIA0YxsAAAAAAACANGMbAAAAAAAAgDRjGwAAAAAAAIA0YxsAAAAAAACA\n",
       "NGMbAAAAAAAAgDRjGwAAAAAAAIA0YxsAAAAAAACANGMbAAAAAAAAgDRjGwAAAAAAAIA0YxsAAAAA\n",
       "AACANGMbAAAAAAAAgDRjGwAAAAAAAIA0YxsAAAAAAACANGMbAAAAAAAAgDRjGwAAAAAAAIA0YxsA\n",
       "AAAAAACANGMbAAAAAAAAgDRjGwAAAAAAAIA0YxsAAAAAAACANGMbAAAAAAAAgDRjGwAAAAAAAIA0\n",
       "YxsAAAAAAACANGMbAAAAAAAAgDRjGwAAAAAAAIA0YxsAAAAAAACANGMbAAAAAAAAgDRjGwAAAAAA\n",
       "AIA0YxsAAAAAAACANGMbAAAAAAAAgDRjGwAAAAAAAIA0YxsAAAAAAACANGMbAAAAAAAAgDRjGwAA\n",
       "AAAAAIA0YxsAAAAAAACANGMbAAAAAAAAgDRjGwAAAAAAAIA0YxsAAAAAAACANGMbAAAAAAAAgDRj\n",
       "GwAAAAAAAIA0YxsAAAAAAACANGMbAAAAAAAAgDRjGwAAAAAAAIA0YxsAAAAAAACANGMbAAAAAAAA\n",
       "gDRjGwAAAAAAAIA0YxsAAAAAAACANGMbAAAAAAAAgDRjGwAAAAAAAIA0YxsAAAAAAACANGMbAAAA\n",
       "AAAAgDRjGwAAAAAAAIA0YxsAAAAAAACANGMbAAAAAAAAgDRjGwAAAAAAAIA0YxsAAAAAAACANGMb\n",
       "AAAAAAAAgDRjGwAAAAAAAIA0YxsAAAAAAACANGMbAAAAAAAAgDRjGwAAAAAAAIA0YxsAAAAAAACA\n",
       "NGMbAAAAAAAAgDRjGwAAAAAAAIA0YxsAAAAAAACANGMbAAAAAAAAgDRjGwAAAAAAAIA0YxsAAAAA\n",
       "AACANGMbAAAAAAAAgDRjGwAAAAAAAIA0YxsAAAAAAACANGMbAAAAAAAAgDRjGwAAAAAAAIA0YxsA\n",
       "AAAAAACANGMbAAAAAAAAgDRjGwAAAAAAAIA0YxsAAAAAAACANGMbAAAAAAAAgDRjGwAAAAAAAIA0\n",
       "YxsAAAAAAACANGMbAAAAAAAAgDRjGwAAAAAAAIA0YxsAAAAAAACANGMbAAAAAAAAgDRjGwAAAAAA\n",
       "AIA0YxsAAAAAAACANGMbAAAAAAAAgDRjGwAAAAAAAIA0YxsAAAAAAACANGMbAAAAAAAAgDRjGwAA\n",
       "AAAAAIA0YxsAAAAAAACANGMbAAAAAAAAgDRjGwAAAAAAAIA0YxsAAAAAAACANGMbAAAAAAAAgDRj\n",
       "GwAAAAAAAIA0YxsAAAAAAACANGMbAAAAAAAAgDRjGwAAAAAAAIA0YxsAAAAAAACANGMbAAAAAAAA\n",
       "gDRjGwAAAAAAAIA0YxsAAAAAAACANGMbAAAAAAAAgDRjGwAAAAAAAIA0YxsAAAAAAACANGMbAAAA\n",
       "AAAAgDRjGwAAAAAAAIA0YxsAAAAAAACANGMbAAAAAAAAgDRjGwAAAAAAAIA0YxsAAAAAAACANGMb\n",
       "AAAAAAAAgIc9OxYAAAAAGORvPY0dpdGa2AYAAAAAAABgTWwDAAAAAAAAsCa2AQAAAAAAAFgT2wAA\n",
       "AAAAAACsiW0AAAAAAAAA1sQ2AAAAAAAAAGtiGwAAAAAAAIA1sQ0AAAAAAADAmtgGAAAAAAAAYE1s\n",
       "AwAAAAAAALAmtgEAAAAAAABYE9sAAAAAAAAArIltAAAAAAAAANbENgAAAAAAAABrYhsAAAAAAACA\n",
       "NbENAAAAAAAAwJrYBgAAAAAAAGBNbAMAAAAAAACwJrYBAAAAAAAAWBPbAAAAAAAAAKyJbQAAAAAA\n",
       "AADWxDYAAAAAAAAAa2IbAAAAAAAAgDWxDQAAAAAAAMCa2AYAAAAAAABgTWwDAAAAAAAAsCa2AQAA\n",
       "AAAAAFgT2wAAAAAAAACsiW0AAAAAAAAA1sQ2AAAAAAAAAGtiGwAAAAAAAIA1sQ0AAAAAAADAmtgG\n",
       "AAAAAAAAYE1sAwAAAAAAALAmtgEAAAAAAABYE9sAAAAAAAAArIltAAAAAAAAANbENgAAAAAAAABr\n",
       "YhsAAAAAAACANbENAAAAAAAAwJrYBgAAAAAAAGBNbAMAAAAAAACwJrYBAAAAAAAAWBPbAAAAAAAA\n",
       "AKyJbQAAAAAAAADWxDYAAAAAAAAAa2IbAAAAAAAAgDWxDQAAAAAAAMCa2AYAAAAAAABgTWwDAAAA\n",
       "AAAAsCa2AQAAAAAAAFgT2wAAAAAAAACsiW0AAAAAAAAA1sQ2AAAAAAAAAGtiGwAAAAAAAIA1sQ0A\n",
       "AAAAAADAmtgGAAAAAAAAYE1sAwAAAAAAALAmtgEAAAAAAABYE9sAAAAAAAAArIltAAAAAAAAANbE\n",
       "NgAAAAAAAABrYhsAAAAAAACANbENAAAAAAAAwJrYBgAAAAAAAGBNbAMAAAAAAACwJrYBAAAAAAAA\n",
       "WBPbAAAAAAAAAKyJbQAAAAAAAADWxDYAAAAAAAAAa2IbAAAAAAAAgDWxDQAAAAAAAMCa2AYAAAAA\n",
       "AABgTWwDAAAAAAAAsCa2AQAAAAAAAFgT2wAAAAAAAACsiW0AAAAAAAAA1sQ2AAAAAAAAAGtiGwAA\n",
       "AAAAAIA1sQ0AAAAAAADAmtgGAAAAAAAAYE1sAwAAAAAAALAmtgEAAAAAAABYE9sAAAAAAAAArIlt\n",
       "AAAAAAAAANbENgAAAAAAAABrYhsAAAAAAACANbENAAAAAAAAwJrYBgAAAAAAAGBNbAMAAAAAAACw\n",
       "JrYBAAAAAAAAWBPbAAAAAAAAAKyJbQAAAAAAAADWxDYAAAAAAAAAa2IbAAAAAAAAgDWxDQAAAAAA\n",
       "AMCa2AYAAAAAAABgTWwDAAAAAAAAsCa2AQAAAAAAAFgT2wAAAAAAAACsiW0AAAAAAAAA1sQ2AAAA\n",
       "AAAAAGtiGwAAAAAAAIA1sQ0AAAAAAADAmtgGAAAAAAAAYE1sAwAAAAAAALAmtgEAAAAAAABYE9sA\n",
       "AAAAAAAArIltAAAAAAAAANbENgAAAAAAAABrYhsAAAAAAACANbENAAAAAAAAwJrYBgAAAAAAAGBN\n",
       "bAMAAAAAAACwJrYBAAAAAAAAWBPbAAAAAAAAAKyJbQAAAAAAAADWxDYAAAAAAAAAa2IbAAAAAAAA\n",
       "gDWxDQAAAAAAAMCa2AYAAAAAAABgTWwDAAAAAAAAsCa2AQAAAAAAAFgT2wAAAAAAAACsiW0AAAAA\n",
       "AAAA1sQ2AAAAAAAAAGtiGwAAAAAAAIA1sQ0AAAAAAADAmtgGAAAAAAAAYE1sAwAAAAAAALAmtgEA\n",
       "AAAAAABYE9sAAAAAAAAArIltAAAAAAAAANbENgAAAAAAAABrYhsAAAAAAACANbENAAAAAAAAwJrY\n",
       "BgAAAAAAAGBNbAMAAAAAAACwJrYBAAAAAAAAWBPbAAAAAAAAAKyJbQAAAAAAAADWxDYAAAAAAAAA\n",
       "a2IbAAAAAAAAgDWxDQAAAAAAAMCa2AYAAAAAAABgTWwDAAAAAAAAsCa2AQAAAAAAAFgT2wAAAAAA\n",
       "AACsiW0AAAAAAAAA1sQ2AAAAAAAAAGtiGwAAAAAAAIA1sQ0AAAAAAADAmtgGAAAAAAAAYE1sAwAA\n",
       "AAAAALAmtgEAAAAAAABYE9sAAAAAAAAArIltAAAAAAAAANbENgAAAAAAAABrYhsAAAAAAACANbEN\n",
       "AAAAAAAAwJrYBgAAAAAAAGBNbAMAAAAAAACwJrYBAAAAAAAAWBPbAAAAAAAAAKyJbQAAAAAAAADW\n",
       "xDYAAAAAAAAAa2IbAAAAAAAAgDWxDQAAAAAAAMCa2AYAAAAAAABgTWwDAAAAAAAAsCa2AQAAAAAA\n",
       "AFgT2wAAAAAAAACsiW0AAAAAAAAA1sQ2AAAAAAAAAGtiGwAAAAAAAIA1sQ0AAAAAAADAmtgGAAAA\n",
       "AAAAYE1sAwAAAAAAALAmtgEAAAAAAABYE9sAAAAAAAAArIltAAAAAAAAANbENgAAAAAAAABrYhsA\n",
       "AAAAAACANbENAAAAAAAAwJrYBgAAAAAAAGBNbAMAAAAAAACwJrYBAAAAAAAAWBPbAAAAAAAAAKyJ\n",
       "bQAAAAAAAADWxDYAAAAAAAAAa2IbAAAAAAAAgDWxDQAAAAAAAMCa2AYAAAAAAABgTWwDAAAAAAAA\n",
       "sCa2AQAAAAAAAFgT2wAAAAAAAACsiW0AAAAAAAAA1sQ2AAAAAAAAAGtiGwAAAAAAAIA1sQ0AAAAA\n",
       "AADAmtgGAAAAAAAAYE1sAwAAAAAAALAmtgEAAAAAAABYE9sAAAAAAAAArIltAAAAAAAAANbENgAA\n",
       "AAAAAABrYhsAAAAAAACANbENAAAAAAAAwJrYBgAAAAAAAGBNbAMAAAAAAACwJrYBAAAAAAAAWBPb\n",
       "AAAAAAAAAKyJbQAAAAAAAADWxDYAAAAAAAAAa2IbAAAAAAAAgDWxDQAAAAAAAMCa2AYAAAAAAABg\n",
       "TWwDAAAAAAAAsCa2AQAAAAAAAFgT2wAAAAAAAACsiW0AAAAAAAAA1sQ2AAAAAAAAAGtiGwAAAAAA\n",
       "AIA1sQ0AAAAAAADAmtgGAAAAAAAAYE1sAwAAAAAAALAmtgEAAAAAAABYE9sAAAAAAAAArIltAAAA\n",
       "AAAAANbENgAAAAAAAABrYhsAAAAAAACANbENAAAAAAAAwJrYBgAAAAAAAGBNbAMAAAAAAACwJrYB\n",
       "AAAAAAAAWBPbAAAAAAAAAKyJbQAAAAAAAADWxDYAAAAAAAAAa2IbAAAAAAAAgDWxDQAAAAAAAMCa\n",
       "2AYAAAAAAABgTWwDAAAAAAAAsCa2AQAAAAAAAFgT2wAAAAAAAACsiW0AAAAAAAAA1sQ2AAAAAAAA\n",
       "AGtiGwAAAAAAAIA1sQ0AAAAAAADAmtgGAAAAAAAAYE1sAwAAAAAAALAmtgEAAAAAAABYE9sAAAAA\n",
       "AAAArIltAAAAAAAAANbENgAAAAAAAABrYhsAAAAAAACANbENAAAAAAAAwJrYBgAAAAAAAGBNbAMA\n",
       "AAAAAACwJrYBAAAAAAAAWBPbAAAAAAAAAKyJbQAAAAAAAADWxDYAAAAAAAAAa2IbAAAAAAAAgDWx\n",
       "DQAAAAAAAMCa2AYAAAAAAABgTWwDAAAAAAAAsCa2AQAAAAAAAFgT2wAAAAAAAACsiW0AAAAAAAAA\n",
       "1sQ2AAAAAAAAAGtiGwAAAAAAAIA1sQ0AAAAAAADAmtgGAAAAAAAAYE1sAwAAAAAAALAmtgEAAAAA\n",
       "AABYE9sAAAAAAAAArIltAAAAAAAAANbENgAAAAAAAABrYhsAAAAAAACANbENAAAAAAAAwJrYBgAA\n",
       "AAAAAGBNbAMAAAAAAACwJrYBAAAAAAAAWBPbAAAAAAAAAKyJbQAAAAAAAADWxDYAAAAAAAAAa2Ib\n",
       "AAAAAAAAgDWxDQAAAAAAAMCa2AYAAAAAAMYJI0AAABhRSURBVABgTWwDAAAAAAAAsCa2AQAAAAAA\n",
       "AFgT2wAAAAAAAACsiW0AAAAAAAAA1sQ2AAAAAAAAAGtiGwAAAAAAAIA1sQ0AAAAAAADAmtgGAAAA\n",
       "AAAAYE1sAwAAAAAAALAmtgEAAAAAAABYE9sAAAAAAAAArIltAAAAAAAAANbENgAAAAAAAABrYhsA\n",
       "AAAAAACANbENAAAAAAAAwJrYBgAAAAAAAGBNbAMAAAAAAACwJrYBAAAAAAAAWBPbAAAAAAAAAKyJ\n",
       "bQAAAAAAAADWxDYAAAAAAAAAa2IbAAAAAAAAgDWxDQAAAAAAAMCa2AYAAAAAAABgTWwDAAAAAAAA\n",
       "sCa2AQAAAAAAAFgT2wAAAAAAAACsiW0AAAAAAAAA1sQ2AAAAAAAAAGtiGwAAAAAAAIA1sQ0AAAAA\n",
       "AADAmtgGAAAAAAAAYE1sAwAAAAAAALAmtgEAAAAAAABYE9sAAAAAAAAArIltAAAAAAAAANbENgAA\n",
       "AAAAAABrYhsAAAAAAACANbENAAAAAAAAwJrYBgAAAAAAAGBNbAMAAAAAAACwJrYBAAAAAAAAWBPb\n",
       "AAAAAAAAAKyJbQAAAAAAAADWxDYAAAAAAAAAa2IbAAAAAAAAgDWxDQAAAAAAAMCa2AYAAAAAAABg\n",
       "TWwDAAAAAAAAsCa2AQAAAAAAAFgT2wAAAAAAAACsiW0AAAAAAAAA1sQ2AAAAAAAAAGtiGwAAAAAA\n",
       "AIA1sQ0AAAAAAADAmtgGAAAAAAAAYE1sAwAAAAAAALAmtgEAAAAAAABYE9sAAAAAAAAArIltAAAA\n",
       "AAAAANbENgAAAAAAAABrYhsAAAAAAACANbENAAAAAAAAwJrYBgAAAAAAAGBNbAMAAAAAAACwJrYB\n",
       "AAAAAAAAWBPbAAAAAAAAAKyJbQAAAAAAAADWxDYAAAAAAAAAa2IbAAAAAAAAgDWxDQAAAAAAAMCa\n",
       "2AYAAAAAAABgTWwDAAAAAAAAsCa2AQAAAAAAAFgT2wAAAAAAAACsiW0AAAAAAAAA1sQ2AAAAAAAA\n",
       "AGtiGwAAAAAAAIA1sQ0AAAAAAADAmtgGAAAAAAAAYE1sAwAAAAAAALAmtgEAAAAAAABYE9sAAAAA\n",
       "AAAArIltAAAAAAAAANbENgAAAAAAAABrYhsAAAAAAACANbENAAAAAAAAwJrYBgAAAAAAAGBNbAMA\n",
       "AAAAAACwJrYBAAAAAAAAWBPbAAAAAAAAAKyJbQAAAAAAAADWxDYAAAAAAAAAa2IbAAAAAAAAgDWx\n",
       "DQAAAAAAAMCa2AYAAAAAAABgTWwDAAAAAAAAsCa2AQAAAAAAAFgT2wAAAAAAAACsiW0AAAAAAAAA\n",
       "1sQ2AAAAAAAAAGtiGwAAAAAAAIA1sQ0AAAAAAADAmtgGAAAAAAAAYE1sAwAAAAAAALAmtgEAAAAA\n",
       "AABYE9sAAAAAAAAArIltAAAAAAAAANbENgAAAAAAAABrYhsAAAAAAACANbENAAAAAAAAwJrYBgAA\n",
       "AAAAAGBNbAMAAAAAAACwJrYBAAAAAAAAWBPbAAAAAAAAAKyJbQAAAAAAAADWxDYAAAAAAAAAa2Ib\n",
       "AAAAAAAAgDWxDQAAAAAAAMCa2AYAAAAAAABgTWwDAAAAAAAAsCa2AQAAAAAAAFgT2wAAAAAAAACs\n",
       "iW0AAAAAAAAA1sQ2AAAAAAAAAGtiGwAAAAAAAIA1sQ0AAAAAAADAmtgGAAAAAAAAYE1sAwAAAAAA\n",
       "ALAmtgEAAAAAAABYE9sAAAAAAAAArIltAAAAAAAAANbENgAAAAAAAABrYhsAAAAAAACANbENAAAA\n",
       "AAAAwJrYBgAAAAAAAGBNbAMAAAAAAACwJrYBAAAAAAAAWBPbAAAAAAAAAKyJbQAAAAAAAADWxDYA\n",
       "AAAAAAAAa2IbAAAAAAAAgDWxDQAAAAAAAMCa2AYAAAAAAABgTWwDAAAAAAAAsCa2AQAAAAAAAFgT\n",
       "2wAAAAAAAACsiW0AAAAAAAAA1sQ2AAAAAAAAAGtiGwAAAAAAAIA1sQ0AAAAAAADAmtgGAAAAAAAA\n",
       "YE1sAwAAAAAAALAmtgEAAAAAAABYE9sAAAAAAAAArIltAAAAAAAAANbENgAAAAAAAABrYhsAAAAA\n",
       "AACANbENAAAAAAAAwJrYBgAAAAAAAGBNbAMAAAAAAACwJrYBAAAAAAAAWBPbAAAAAAAAAKyJbQAA\n",
       "AAAAAADWxDYAAAAAAAAAa2IbAAAAAAAAgDWxDQAAAAAAAMCa2AYAAAAAAABgTWwDAAAAAAAAsCa2\n",
       "AQAAAAAAAFgT2wAAAAAAAACsiW0AAAAAAAAA1sQ2AAAAAAAAAGtiGwAAAAAAAIA1sQ0AAAAAAADA\n",
       "mtgGAAAAAAAAYE1sAwAAAAAAALAmtgEAAAAAAABYE9sAAAAAAAAArIltAAAAAAAAANbENgAAAAAA\n",
       "AABrYhsAAAAAAACANbENAAAAAAAAwJrYBgAAAAAAAGBNbAMAAAAAAACwJrYBAAAAAAAAWBPbAAAA\n",
       "AAAAAKyJbQAAAAAAAADWxDYAAAAAAAAAa2IbAAAAAAAAgDWxDQAAAAAAAMCa2AYAAAAAAABgTWwD\n",
       "AAAAAAAAsCa2AQAAAAAAAFgT2wAAAAAAAACsiW0AAAAAAAAA1sQ2AAAAAAAAAGtiGwAAAAAAAIA1\n",
       "sQ0AAAAAAADAmtgGAAAAAAAAYE1sAwAAAAAAALAmtgEAAAAAAABYE9sAAAAAAAAArIltAAAAAAAA\n",
       "ANbENgAAAAAAAABrYhsAAAAAAACANbENAAAAAAAAwJrYBgAAAAAAAGBNbAMAAAAAAACwJrYBAAAA\n",
       "AAAAWBPbAAAAAAAAAKyJbQAAAAAAAADWxDYAAAAAAAAAa2IbAAAAAAAAgDWxDQAAAAAAAMCa2AYA\n",
       "AAAAAABgTWwDAAAAAAAAsCa2AQAAAAAAAFgT2wAAAAAAAACsiW0AAAAAAAAA1sQ2AAAAAAAAAGti\n",
       "GwAAAAAAAIA1sQ0AAAAAAADAmtgGAAAAAAAAYE1sAwAAAAAAALAmtgEAAAAAAABYE9sAAAAAAAAA\n",
       "rIltAAAAAAAAANbENgAAAAAAAABrYhsAAAAAAACANbENAAAAAAAAwJrYBgAAAAAAAGBNbAMAAAAA\n",
       "AACwJrYBAAAAAAAAWBPbAAAAAAAAAKyJbQAAAAAAAADWxDYAAAAAAAAAa2IbAAAAAAAAgDWxDQAA\n",
       "AAAAAMCa2AYAAKD27ZgGABAAYmBQhRLUIg4UMNPhTsHvzQMAAACkCdsAAAAAAAAApAnbAAAAAAAA\n",
       "AKQJ2wAAAAAAAACkCdsAAAAAAAAApAnbAAAAAAAAAKQJ2wAAAAAAAACkCdsAAAAAAAAApAnbAAAA\n",
       "AAAAAKQJ2wAAAAAAAACkCdsAAAAAAAAApAnbAAAAAAAAAKQJ2wAAAAAAAACkCdsAAAAAAAAApAnb\n",
       "AAAAAAAAAKQJ2wAAAAAAAACkCdsAAAAAAAAApAnbAAAAAAAAAKQJ2wAAAAAAAACkCdsAAAAAAAAA\n",
       "pAnbAAAAAAAAAKQJ2wAAAAAAAACkCdsAAAAAAAAApAnbAAAAAAAAAKQJ2wAAAAAAAACkCdsAAAAA\n",
       "AAAApAnbAAAAAAAAAKQJ2wAAAAAAAACkCdsAAAAAAAAApAnbAAAAAAAAAKQJ2wAAAAAAAACkCdsA\n",
       "AAAAAAAApAnbAAAAAAAAAKQJ2wAAAAAAAACkCdsAAAAAAAAApAnbAAAAAAAAAKQJ2wAAAAAAAACk\n",
       "CdsAAAAAAAAApAnbAAAAAAAAAKQJ2wAAAAAAAACkCdsAAAAAAAAApAnbAAAAAAAAAKQJ2wAAAAAA\n",
       "AACkCdsAAAAAAAAApAnbAAAAAAAAAKQJ2wAAAAAAAACkCdsAAAAAAAAApAnbAAAAAAAAAKQJ2wAA\n",
       "AAAAAACkCdsAAAAAAAAApAnbAAAAAAAAAKQJ2wAAAAAAAACkCdsAAAAAAAAApAnbAAAAAAAAAKQJ\n",
       "2wAAAAAAAACkCdsAAAAAAAAApAnbAAAAAAAAAKQJ2wAAAAAAAACkCdsAAAAAAAAApAnbAAAAAAAA\n",
       "AKQJ2wAAAAAAAACkCdsAAAAAAAAApAnbAAAAAAAAAKQJ2wAAAAAAAACkCdsAAAAAAAAApAnbAAAA\n",
       "AAAAAKQJ2wAAAAAAAACkCdsAAAAAAAAApAnbAAAAAAAAAKQJ2wAAAAAAAACkCdsAAAAAAAAApAnb\n",
       "AAAAAAAAAKQJ2wAAAAAAAACkCdsAAAAAAAAApAnbAAAAAAAAAKQJ2wAAAAAAAACkCdsAAAAAAAAA\n",
       "pAnbAAAAAAAAAKQJ2wAAAAAAAACkCdsAAAAAAAAApAnbAAAAAAAAAKQJ2wAAAAAAAACkCdsAAAAA\n",
       "AAAApAnbAAAAAAAAAKQJ2wAAAAAAAACkCdsAAAAAAAAApAnbAAAAAAAAAKQJ2wAAAAAAAACkCdsA\n",
       "AAAAAAAApAnbAAAAAAAAAKQJ2wAAAAAAAACkCdsAAAAAAAAApAnbAAAAAAAAAKQJ2wAAAAAAAACk\n",
       "CdsAAAAAAAAApAnbAAAAAAAAAKQJ2wAAAAAAAACkCdsAAAAAAAAApAnbAAAAAAAAAKQJ2wAAAAAA\n",
       "AACkCdsAAAAAAAAApAnbAAAAAAAAAKQJ2wAAAAAAAACkCdsAAAAAAAAApAnbAAAAAAAAAKQJ2wAA\n",
       "AAAAAACkCdsAAAAAAAAApAnbAAAAAAAAAKQJ2wAAAAAAAACkCdsAAAAAAAAApAnbAAAAAAAAAKQJ\n",
       "2wAAAAAAAACkCdsAAAAAAAAApAnbAAAAAAAAAKQJ2wAAAAAAAACkCdsAAAAAAAAApAnbAAAAAAAA\n",
       "AKQJ2wAAAAAAAACkCdsAAAAAAAAApAnbAAAAAAAAAKQJ2wAAAAAAAACkCdsAAAAAAAAApAnbAAAA\n",
       "AAAAAKQJ2wAAAAAAAACkCdsAAAAAAAAApAnbAAAAAAAAAKQJ2wAAAAAAAACkCdsAAAAAAAAApAnb\n",
       "AAAAAAAAAKQJ2wAAAAAAAACkCdsAAAAAAAAApAnbAAAAAAAAAKQJ2wAAAAAAAACkCdsAAAAAAAAA\n",
       "pAnbAAAAAAAAAKQJ2wAAAAAAAACkCdsAAAAAAAAApAnbAAAAAAAAAKQJ2wAAAAAAAACkCdsAAAAA\n",
       "AAAApAnbAAAAAAAAAKQJ2wAAAAAAAACkCdsAAAAAAAAApAnbAAAAAAAAAKQJ2wAAAAAAAACkCdsA\n",
       "AAAAAAAApAnbAAAAAAAAAKQJ2wAAAAAAAACkCdsAAAAAAAAApAnbAAAAAAAAAKQJ2wAAAAAAAACk\n",
       "CdsAAAAAAAAApAnbAAAAAAAAAKQJ2wAAAAAAAACkCdsAAAAAAAAApAnbAAAAAAAAAKQJ2wAAAAAA\n",
       "AACkCdsAAAAAAAAApAnbAAAAAAAAAKQJ2wAAAAAAAACkCdsAAAAAAAAApAnbAAAAAAAAAKQJ2wAA\n",
       "AAAAAACkCdsAAAAAAAAApAnbAAAAAAAAAKQJ2wAAAAAAAACkCdsAAAAAAAAApAnbAAAAAAAAAKQJ\n",
       "2wAAAAAAAACkCdsAAAAAAAAApAnbAAAAAAAAAKQJ2wAAAAAAAACkCdsAAAAAAAAApAnbAAAAAAAA\n",
       "AKQJ2wAAAAAAAACkCdsAAAAAAAAApAnbAAAAAAAAAKQJ2wAAAAAAAACkCdsAAAAAAAAApAnbAAAA\n",
       "AAAAAKQJ2wAAAAAAAACkCdsAAAAAAAAApAnbAAAAAAAAAKQJ2wAAAAAAAACkCdsAAAAAAAAApAnb\n",
       "AAAAAAAAAKQJ2wAAAAAAAACkCdsAAAAAAAAApAnbAAAAAAAAAKQJ2wAAAAAAAACkCdsAAAAAAAAA\n",
       "pAnbAAAAAAAAAKQJ2wAAAAAAAACkCdsAAAAAAAAApAnbAAAAAAAAAKQJ2wAAAAAAAACkCdsAAAAA\n",
       "AAAApAnbAAAAAAAAAKQJ2wAAAAAAAACkCdsAAAAAAAAApAnbAAAAAAAAAKQJ2wAAAAAAAACkCdsA\n",
       "AAAAAAAApAnbAAAAAAAAAKQJ2wAAAAAAAACkCdsAAAAAAAAApAnbAAAAAAAAAKQJ2wAAAAAAAACk\n",
       "CdsAAAAAAAAApAnbAAAAAAAAAKQJ2wAAAAAAAACkCdsAAAAAAAAApAnbAAAAAAAAAKQJ2wAAAAAA\n",
       "AACkCdsAAAAAAAAApAnbAAAAAAAAAKQJ2wAAAAAAAACkCdsAAAAAAAAApAnbAAAAAAAAAKQJ2wAA\n",
       "AAAAAACkCdsAAAAAAAAApAnbAAAAAAAAAKQJ2wAAAAAAAACkCdsAAAAAAAAApAnbAAAAAAAAAKQJ\n",
       "2wAAAAAAAACkCdsAAAAAAAAApAnbAAAAAAAAAKQJ2wAAAAAAAACkCdsAAAAAAAAApAnbAAAAAAAA\n",
       "AKQJ2wAAAAAAAACkCdsAAAAAAAAApAnbAAAAAAAAAKQJ2wAAAAAAAACkCdsAAAAAAAAApAnbAAAA\n",
       "AAAAAKQJ2wAAAAAAAACkCdsAAAAAAAAApAnbAAAAAAAAAKSNPdf5PQIAAAAAAAAAXjy2AQAAAAAA\n",
       "AEgTtgEAAAAAAABIE7YBAAAAAAAASBO2AQAAAAAAAEgTtgEAAAAAAABIE7YBAAAAAAAASBO2AQAA\n",
       "AAAAAEgTtgEAAAAAAABIE7YBAAAAAAAASBO2AQAAAAAAAEgTtgEAAAAAAABIE7YBAAAAAAAASBO2\n",
       "AQAAAAAAAEgTtgEAAAAAAABIE7YBAAAAAAAASBO2AQAAAAAAAEgTtgEAAAAAAABIE7YBAAAAAAAA\n",
       "SBO2AQAAAAAAAEgTtgEAAAAAAABIE7YBAAAAAAAASBO2AQAAAAAAAEgTtgEAAAAAAABIE7YBAAAA\n",
       "AAAASBO2AQAAAAAAAEgTtgEAAAAAAABIE7YBAAAAAAAASBO2AQAAAAAAAEgTtgEAAAAAAABIE7YB\n",
       "AAAAAAAASBO2AQAAAAAAAEgTtgEAAAAAAABIE7YBAAAAAAAASBO2AQAAAAAAAEgTtgEAAAAAAABI\n",
       "E7YBAAAAAAAASBO2AQAAAAAAAEgTtgEAAAAAAABIE7YBAAAAAAAASBO2AQAAAAAAAEgTtgEAAAAA\n",
       "AABIE7YBAAAAAAAASBO2AQAAAAAAAEgTtgEAAAAAAABIE7YBAAAAAAAASBO2AQAAAAAAAEgTtgEA\n",
       "AAAAAABIE7YBAAAAAAAASBO2AQAAAAAAAEgTtgEAAAAAAABIE7YBAAAAAAAASBO2AQAAAAAAAEgT\n",
       "tgEAAAAAAABIE7YBAAAAAAAASBO2AQAAAAAAAEgTtgEAAAAAAABIE7YBAAAAAAAASBO2AQAAAAAA\n",
       "AEgTtgEAAAAAAABIE7YBAAAAAAAASBO2AQAAAAAAAEgTtgEAAAAAAABIE7YBAAAAAAAASBO2AQAA\n",
       "AAAAAEgTtgEAAAAAAABIE7YBAAAAAAAASBO2AQAAAAAAAEgTtgEAAAAAAABIE7YBAAAAAAAASBO2\n",
       "AQAAAAAAAEgTtgEAAAAAAABIE7YBAAAAAAAASBO2AQAAAAAAAEgTtgEAAAAAAABIE7YBAAAAAAAA\n",
       "SBO2AQAAAAAAAEgTtgEAAAAAAABIE7YBAAAAAAAASBO2AQAAAAAAAEgTtgEAAAAAAABIE7YBAAAA\n",
       "AAAASBO2AQAAAAAAAEgTtgEAAAAAAABIE7YBAAAAAAAASBO2AQAAAAAAAEgTtgEAAAAAAABIE7YB\n",
       "AAAAAAAASBO2AQAAAAAAAEgTtgEAAAAAAABIE7YBAAAAAAAASBO2AQAAAAAAAEgTtgEAAAAAAABI\n",
       "E7YBAAAAAAAASBO2AQAAAAAAAEgTtgEAAAAAAABIE7YBAAAAAAAASBO2AQAAAAAAAEgTtgEAAAAA\n",
       "AABIE7YBAAAAAAAASBO2AQAAAAAAAEgTtgEAAAAAAABIE7YBAAAAAAAASBO2AQAAAAAAAEgTtgEA\n",
       "AAAAAABIE7YBAAAAAAAASBO2AQAAAAAAAEgTtgEAAAAAAABIE7YBAAAAAAAASBO2AQAAAAAAAEgT\n",
       "tgEAAAAAAABIE7YBAAAAAAAASBO2AQAAAAAAAEgTtgEAAAAAAABIE7YBAAAAAAAASBO2AQAAAAAA\n",
       "AEgTtgEAAAAAAABIE7YBAAAAAAAASBO2AQAAAAAAAEgTtgEAAAAAAABIE7YBAAAAAAAASBO2AQAA\n",
       "AAAAAEgTtgEAAAAAAABIE7YBAAAAAAAASBO2AQAAAAAAAEgTtgEAAAAAAABIE7YBAAAAAAAASBO2\n",
       "AQAAAAAAAEgTtgEAAAAAAABIE7YBAAAAAAAASBO2AQAAAAAAAEgTtgEAAAAAAABIE7YBAAAAAAAA\n",
       "SBO2AQAAAAAAAEgTtgEAAAAAAABIE7YBAAAAAAAASBO2AQAAAAAAAEgTtgEAAAAAAABIE7YBAAAA\n",
       "AAAASBO2AQAAAAAAAEgTtgEAAAAAAABIE7YBAAAAAAAASBO2AQAAAAAAAEi7SoASyUXscukAAAAA\n",
       "SUVORK5CYII=\n",
       "\" transform=\"translate(139, 47)\"/>\n",
       "</g>\n",
       "<defs>\n",
       "  <clipPath id=\"clip723\">\n",
       "    <rect x=\"2160\" y=\"47\" width=\"73\" height=\"1440\"/>\n",
       "  </clipPath>\n",
       "</defs>\n",
       "<g clip-path=\"url(#clip723)\">\n",
       "<image width=\"72\" height=\"1439\" xlink:href=\"data:image/png;base64,\n",
       "iVBORw0KGgoAAAANSUhEUgAAAEgAAAWfCAYAAAAI7rB3AAAMWUlEQVR4nO3dwY0rRxAFwaZQ/lsh\n",
       "L6XfLQtUeSQPERYsEg8c9MyQ+/n3/v0O/+uvb/8Bv06gIFAQKAgU5r5/v/03/DQLCgIFgYJAQaAw\n",
       "7/359t/w0ywoCBQECgIFR41gQUGgIFAQKAgU5rmKrSwoCBQECgIFgcK86yq2saAgUBAoCBQcNYIF\n",
       "BYGCQEGgIFBwFQsWFAQKAgWBgvtBwYKCQEGgIFAQKMxx1FhZUBAoCBQECgIFN8yCBQWBgkBBoDDH\n",
       "DbOVBQWBgkBBoCBQmHP/+fbf8NMsKAgUBAoCBYGCxz7BgoJAQaAgUHDDLFhQECgIFAQKAgVXsWBB\n",
       "QaAgUBAouB8ULCgIFAQKAgWBwnwcNVYWFAQKAgWBgkBhzvWfWTYWFAQKAgWBgqNGsKAgUBAoCBQE\n",
       "Co4awYKCQEGgIFAQKHjDLFhQECgIFAQK83HUWFlQECgIFAQKAgXvSQcLCgIFgYJAwVEjWFAQKAgU\n",
       "BAoCBc/mgwUFgYJAQaAgUHAWCxYUBAoCBYGCo0awoCBQECgIFAQKjhrBgoJAQaAgUBAozLn323/D\n",
       "T7OgIFAQKAgUHDWCBQWBgkBBoCBQ8NgnWFAQKAgUBAo+pIMFBYGCQEGgIFCYj6caKwsKAgWBgkBB\n",
       "oOAsFiwoCBQECgIFL1AFCwoCBYGCQEGg4IZZsKAgUBAoCBTcDwoWFAQKAgWBgkDBDbNgQUGgIFAQ\n",
       "KAgUXMWCBQWBgkBBoOB788GCgkBBoCBQECg4agQLCgIFgYJAQaDgKhYsKAgUBAoCBR/SwYKCQEGg\n",
       "IFAQKLiKBQsKAgWBgkBhzvMhvbGgIFAQKAgUBAqOGsGCgkBBoCBQECi4igULCgIFgYJAwYd0sKAg\n",
       "UBAoCBQECnPu+/bf8NMsKAgUBAoCBYGCs1iwoCBQECgIFBw1ggUFgYJAQaAgUHDUCBYUBAoCBYGC\n",
       "o0awoCBQECgIFAQKc5w0VhYUBAoCBYGCQGHOcxbbWFAQKAgUBAqOGsGCgkBBoCBQECi4igULCgIF\n",
       "gYJAQaAwfohzZ0FBoCBQECg4agQLCgIFgYJAQaDgKhYsKAgUBAoChTn38+2/4adZUBAoCBQECgKF\n",
       "ec9VbGNBQaAgUBAoCBTcMAsWFAQKAgWBghtmwYKCQEGgIFAQKMy7Gm3UCQIFgYJAwVEjWFAQKAgU\n",
       "BAoChTmeza8sKAgUBAoCBYHCPGexlQUFgYJAQaAwx1ONlTpBoCBQECgIFBw1ggUFgYJAQaAgUPDY\n",
       "J1hQECgIFAQKXgMO6gSBgkBBoCBQ8J50sKAgUBAoCBQ81QgWFAQKAgWBgkBh3tNoo04QKAgUBAoC\n",
       "BTfMggUFgYJAQaDghlmwoCBQECgIFAQKc9wwW6kTBAoCBYGCQMFZLFhQECgIFAQKPqSDBQWBgkBB\n",
       "oCBQ8L35YEFBoCBQECj43nxQJwgUBAoCBYHCPEeNlQUFgYJAQaAgUPDYJ1hQECgIFAQK/jNLUCcI\n",
       "FAQKAgWBghtmwYKCQEGgIFAQKLhhFiwoCBQECgIFR41gQUGgIFAQKAgUvCcd1AkCBYGCQMFRI1hQ\n",
       "ECgIFAQKAgVPNYIFBYGCQEGgIFBwFgsWFAQKAgWBgn+fFSwoCBQECgIFgYJ/ZRzUCQIFgYJAQaDg\n",
       "hlmwoCBQECgIFDybDxYUBAoCBYGCQMFRI1hQECgIFAQKc31IrywoCBQECgIFgYLvzQd1gkBBoCBQ\n",
       "ECi4YRYsKAgUBAoCBR/SwYKCQEGgIFAQKHjDLFhQECgIFAQKjhrBgoJAQaAgUBAouIoFCwoCBYGC\n",
       "QEGg4NdfgjpBoCBQECjM9VRjZUFBoCBQECgIFNwwCxYUBAoCBYGCQMFVLFhQECgIFAQKPqSDBQWB\n",
       "gkBBoCBQ8BtmwYKCQEGgIFBw1AgWFAQKAgWBgkDBVSxYUBAoCBQECgIFX2YJ6gSBgkBBoODLLMGC\n",
       "gkBBoCBQECi4YRYsKAgUBAoCBYGCq1iwoCBQECgIFLwGHCwoCBQECgIFgYKjRrCgIFAQKAgU5h0f\n",
       "0hsLCgIFgYJAQaDghlmwoCBQECgIFAQKbpgFCwoCBYGCQMFRI1hQECgIFAQKAgVHjWBBQaAgUBAo\n",
       "CBScxYIFBYGCQEGg4KgRLCgIFAQKAgWBgqtYsKAgUBAoCBTm+jLLyoKCQEGgIFAQKDhqBAsKAgWB\n",
       "gkBBoODZfLCgIFAQKAgU5r1v/wm/zYKCQEGgIFAQKDhqBAsKAgWBgkDBD00GCwoCBYGCQEGg4KgR\n",
       "LCgIFAQKAgWBgjfMggUFgYJAQaDgyyzBgoJAQaAgUBAoeMMsWFAQKAgUBAoCBY99ggUFgYJAQaDg\n",
       "qUawoCBQECgIFAQKHvsECwoCBYGCQMH9oGBBQaAgUBAoCBQ8mw8WFAQKAgWBgkDBDbNgQUGgIFAQ\n",
       "KHg2HywoCBQECgIFgcLcb/8FP86CgkBBoCBQECg4iwULCgIFgYJAwRtmwYKCQEGgIFAQKLhhFiwo\n",
       "CBQECgIF94OCBQWBgkBBoCBQcNQIFhQECgIFgYJAwVksWFAQKAgUBAqezQcLCgIFgYJAQaAwfvxl\n",
       "Z0FBoCBQECgIFJzFggUFgYJAQaDg2XywoCBQECgIFAQKns0HCwoCBYGCQMFRI1hQECgIFAQKAgVH\n",
       "jWBBQaAgUBAoCBTmesVsZUFBoCBQECi4YRYsKAgUBAoCBYGCG2bBgoJAQaAgUHDUCBYUBAoCBYGC\n",
       "QGGepxorCwoCBYGCQEGgMPe4YbaxoCBQECgIFLxAFSwoCBQECgIFgYIfmgwWFAQKAgWBgkDBD00G\n",
       "CwoCBYGCQMGz+WBBQaAgUBAoCBS8Jx0sKAgUBAoCBd84DBYUBAoCBYGCQMFRI1hQECgIFAQKAgXv\n",
       "SQcLCgIFgYJAwWvAwYKCQEGgIFAQKDhqBAsKAgWBgkBBoOA96WBBQaAgUBAo+ImuYEFBoCBQECgI\n",
       "FNwwCxYUBAoCBYGCZ/PBgoJAQaAgUBAoOGoECwoCBYGCQEGg4CwWLCgIFAQKAgVHjWBBQaAgUBAo\n",
       "CBRcxYIFBYGCQEGgIFBwwyxYUBAoCBQECo4awYKCQEGgIFAQKDhqBAsKAgWBgkDBUSNYUBAoCBQE\n",
       "CgIFP9EVLCgIFAQKAgWBgv8vFiwoCBQECgIFN8yCBQWBgkBBoCBQmHdcxjYWFAQKAgWBgkDBWSxY\n",
       "UBAoCBQECp7NBwsKAgWBgkBBoODZfLCgIFAQKAgU3A8KFhQECgIFgYJAwbP5YEFBoCBQECgIFJzF\n",
       "ggUFgYJAQaDgJ7qCBQWBgkBBoCBQmOsVs5UFBYGCQEGg4AWqYEFBoCBQECgIFOY5aqwsKAgUBAoC\n",
       "BYGCs1iwoCBQECgIFDzVCBYUBAoCBYGCQMEbZsGCgkBBoCBQECjM9ZXMlQUFgYJAQaDghlmwoCBQ\n",
       "ECgIFAQKfv0lWFAQKAgUBApeoAoWFAQKAgWBgkDBU41gQUGgIFAQKAgU3DALFhQECgIFgcLc45bZ\n",
       "xoKCQEGgIFAQKLhhFiwoCBQECgIFgYKrWLCgIFAQKAgUPNUIFhQECgIFgYJAwWOfYEFBoCBQECjM\n",
       "/ThqbCwoCBQECgIFgYKjRrCgIFAQKAgUBArzXMVWFhQECgIFgYKjRrCgIFAQKAgUBApzP65iGwsK\n",
       "AgWBgkBBoOAsFiwoCBQECgIFTzWCBQWBgkBBoCBQcNQIFhQECgIFgYIP6WBBQaAgUBAoCBQ8mw8W\n",
       "FAQKAgWBgkBh3vnz7b/hp1lQECgIFAQKbpgFCwoCBYGCQEGg4A2zYEFBoCBQECjMfe4HbSwoCBQE\n",
       "CgIFgYKjRrCgIFAQKAgUBApzPZtfWVAQKAgUBAqOGsGCgkBBoCBQECg4agQLCgIFgYJAQaAw7zmL\n",
       "bSwoCBQECgIFN8yCBQWBgkBBoCBQ8J50sKAgUBAoCBQcNYIFBYGCQEGgIFCY56ixsqAgUBAoCBQE\n",
       "Cs5iwYKCQEGgIFCY6wWqlQUFgYJAQaAgUPCb9sGCgkBBoCBQECj4MkuwoCBQECgIFDzVCBYUBAoC\n",
       "BYGCQMFRI1hQECgIFAQKPqSDBQWBgkBBoCBQ8Gw+WFAQKAgUBAoCBWexYEFBoCBQECjM8Wx+ZUFB\n",
       "oCBQECgIFBw1ggUFgYJAQaAgUPCedLCgIFAQKAgU5jhqrCwoCBQECgIFgYI3zIIFBYGCQEGg4Nl8\n",
       "sKAgUBAoCBQECm6YBQsKAgWBgkBBoDDvvG//DT/NgoJAQaAgUHDDLFhQECgIFAQKAoU5jhorCwoC\n",
       "BYGCQOE/LrLuTX/wFc8AAAAASUVORK5CYII=\n",
       "\" transform=\"translate(2161, 47)\"/>\n",
       "</g>\n",
       "<path clip-path=\"url(#clip720)\" d=\"M2268.76 1483.27 L2298.43 1483.27 L2298.43 1487.21 L2268.76 1487.21 L2268.76 1483.27 Z\" fill=\"#000000\" fill-rule=\"evenodd\" fill-opacity=\"1\" /><path clip-path=\"url(#clip720)\" d=\"M2309.33 1496.16 L2316.97 1496.16 L2316.97 1469.8 L2308.66 1471.46 L2308.66 1467.21 L2316.93 1465.54 L2321.6 1465.54 L2321.6 1496.16 L2329.24 1496.16 L2329.24 1500.1 L2309.33 1500.1 L2309.33 1496.16 Z\" fill=\"#000000\" fill-rule=\"evenodd\" fill-opacity=\"1\" /><path clip-path=\"url(#clip720)\" d=\"M2338.69 1494.22 L2343.57 1494.22 L2343.57 1500.1 L2338.69 1500.1 L2338.69 1494.22 Z\" fill=\"#000000\" fill-rule=\"evenodd\" fill-opacity=\"1\" /><path clip-path=\"url(#clip720)\" d=\"M2363.76 1468.62 Q2360.14 1468.62 2358.32 1472.18 Q2356.51 1475.72 2356.51 1482.85 Q2356.51 1489.96 2358.32 1493.53 Q2360.14 1497.07 2363.76 1497.07 Q2367.39 1497.07 2369.2 1493.53 Q2371.02 1489.96 2371.02 1482.85 Q2371.02 1475.72 2369.2 1472.18 Q2367.39 1468.62 2363.76 1468.62 M2363.76 1464.91 Q2369.57 1464.91 2372.62 1469.52 Q2375.7 1474.1 2375.7 1482.85 Q2375.7 1491.58 2372.62 1496.19 Q2369.57 1500.77 2363.76 1500.77 Q2357.95 1500.77 2354.87 1496.19 Q2351.81 1491.58 2351.81 1482.85 Q2351.81 1474.1 2354.87 1469.52 Q2357.95 1464.91 2363.76 1464.91 Z\" fill=\"#000000\" fill-rule=\"evenodd\" fill-opacity=\"1\" /><path clip-path=\"url(#clip720)\" d=\"M2393.92 1468.62 Q2390.31 1468.62 2388.48 1472.18 Q2386.67 1475.72 2386.67 1482.85 Q2386.67 1489.96 2388.48 1493.53 Q2390.31 1497.07 2393.92 1497.07 Q2397.55 1497.07 2399.36 1493.53 Q2401.19 1489.96 2401.19 1482.85 Q2401.19 1475.72 2399.36 1472.18 Q2397.55 1468.62 2393.92 1468.62 M2393.92 1464.91 Q2399.73 1464.91 2402.78 1469.52 Q2405.86 1474.1 2405.86 1482.85 Q2405.86 1491.58 2402.78 1496.19 Q2399.73 1500.77 2393.92 1500.77 Q2388.11 1500.77 2385.03 1496.19 Q2381.97 1491.58 2381.97 1482.85 Q2381.97 1474.1 2385.03 1469.52 Q2388.11 1464.91 2393.92 1464.91 Z\" fill=\"#000000\" fill-rule=\"evenodd\" fill-opacity=\"1\" /><path clip-path=\"url(#clip720)\" d=\"M2268.76 1303.37 L2298.43 1303.37 L2298.43 1307.31 L2268.76 1307.31 L2268.76 1303.37 Z\" fill=\"#000000\" fill-rule=\"evenodd\" fill-opacity=\"1\" /><path clip-path=\"url(#clip720)\" d=\"M2318.52 1288.72 Q2314.91 1288.72 2313.08 1292.28 Q2311.28 1295.82 2311.28 1302.95 Q2311.28 1310.06 2313.08 1313.62 Q2314.91 1317.17 2318.52 1317.17 Q2322.16 1317.17 2323.96 1313.62 Q2325.79 1310.06 2325.79 1302.95 Q2325.79 1295.82 2323.96 1292.28 Q2322.16 1288.72 2318.52 1288.72 M2318.52 1285.01 Q2324.33 1285.01 2327.39 1289.62 Q2330.47 1294.2 2330.47 1302.95 Q2330.47 1311.68 2327.39 1316.29 Q2324.33 1320.87 2318.52 1320.87 Q2312.71 1320.87 2309.64 1316.29 Q2306.58 1311.68 2306.58 1302.95 Q2306.58 1294.2 2309.64 1289.62 Q2312.71 1285.01 2318.52 1285.01 Z\" fill=\"#000000\" fill-rule=\"evenodd\" fill-opacity=\"1\" /><path clip-path=\"url(#clip720)\" d=\"M2338.69 1314.32 L2343.57 1314.32 L2343.57 1320.2 L2338.69 1320.2 L2338.69 1314.32 Z\" fill=\"#000000\" fill-rule=\"evenodd\" fill-opacity=\"1\" /><path clip-path=\"url(#clip720)\" d=\"M2352.57 1285.64 L2374.8 1285.64 L2374.8 1287.63 L2362.25 1320.2 L2357.37 1320.2 L2369.17 1289.57 L2352.57 1289.57 L2352.57 1285.64 Z\" fill=\"#000000\" fill-rule=\"evenodd\" fill-opacity=\"1\" /><path clip-path=\"url(#clip720)\" d=\"M2383.96 1285.64 L2402.32 1285.64 L2402.32 1289.57 L2388.25 1289.57 L2388.25 1298.05 Q2389.26 1297.7 2390.28 1297.54 Q2391.3 1297.35 2392.32 1297.35 Q2398.11 1297.35 2401.49 1300.52 Q2404.87 1303.69 2404.87 1309.11 Q2404.87 1314.69 2401.39 1317.79 Q2397.92 1320.87 2391.6 1320.87 Q2389.43 1320.87 2387.16 1320.5 Q2384.91 1320.13 2382.51 1319.39 L2382.51 1314.69 Q2384.59 1315.82 2386.81 1316.38 Q2389.03 1316.93 2391.51 1316.93 Q2395.51 1316.93 2397.85 1314.83 Q2400.19 1312.72 2400.19 1309.11 Q2400.19 1305.5 2397.85 1303.39 Q2395.51 1301.29 2391.51 1301.29 Q2389.63 1301.29 2387.76 1301.7 Q2385.91 1302.12 2383.96 1303 L2383.96 1285.64 Z\" fill=\"#000000\" fill-rule=\"evenodd\" fill-opacity=\"1\" /><path clip-path=\"url(#clip720)\" d=\"M2268.76 1123.47 L2298.43 1123.47 L2298.43 1127.4 L2268.76 1127.4 L2268.76 1123.47 Z\" fill=\"#000000\" fill-rule=\"evenodd\" fill-opacity=\"1\" /><path clip-path=\"url(#clip720)\" d=\"M2318.52 1108.82 Q2314.91 1108.82 2313.08 1112.38 Q2311.28 1115.92 2311.28 1123.05 Q2311.28 1130.16 2313.08 1133.72 Q2314.91 1137.27 2318.52 1137.27 Q2322.16 1137.27 2323.96 1133.72 Q2325.79 1130.16 2325.79 1123.05 Q2325.79 1115.92 2323.96 1112.38 Q2322.16 1108.82 2318.52 1108.82 M2318.52 1105.11 Q2324.33 1105.11 2327.39 1109.72 Q2330.47 1114.3 2330.47 1123.05 Q2330.47 1131.78 2327.39 1136.39 Q2324.33 1140.97 2318.52 1140.97 Q2312.71 1140.97 2309.64 1136.39 Q2306.58 1131.78 2306.58 1123.05 Q2306.58 1114.3 2309.64 1109.72 Q2312.71 1105.11 2318.52 1105.11 Z\" fill=\"#000000\" fill-rule=\"evenodd\" fill-opacity=\"1\" /><path clip-path=\"url(#clip720)\" d=\"M2338.69 1134.42 L2343.57 1134.42 L2343.57 1140.3 L2338.69 1140.3 L2338.69 1134.42 Z\" fill=\"#000000\" fill-rule=\"evenodd\" fill-opacity=\"1\" /><path clip-path=\"url(#clip720)\" d=\"M2353.8 1105.74 L2372.16 1105.74 L2372.16 1109.67 L2358.08 1109.67 L2358.08 1118.15 Q2359.1 1117.8 2360.12 1117.64 Q2361.14 1117.45 2362.16 1117.45 Q2367.95 1117.45 2371.32 1120.62 Q2374.7 1123.79 2374.7 1129.21 Q2374.7 1134.79 2371.23 1137.89 Q2367.76 1140.97 2361.44 1140.97 Q2359.26 1140.97 2357 1140.6 Q2354.75 1140.23 2352.34 1139.49 L2352.34 1134.79 Q2354.43 1135.92 2356.65 1136.48 Q2358.87 1137.03 2361.35 1137.03 Q2365.35 1137.03 2367.69 1134.93 Q2370.03 1132.82 2370.03 1129.21 Q2370.03 1125.6 2367.69 1123.49 Q2365.35 1121.39 2361.35 1121.39 Q2359.47 1121.39 2357.6 1121.8 Q2355.75 1122.22 2353.8 1123.1 L2353.8 1105.74 Z\" fill=\"#000000\" fill-rule=\"evenodd\" fill-opacity=\"1\" /><path clip-path=\"url(#clip720)\" d=\"M2393.92 1108.82 Q2390.31 1108.82 2388.48 1112.38 Q2386.67 1115.92 2386.67 1123.05 Q2386.67 1130.16 2388.48 1133.72 Q2390.31 1137.27 2393.92 1137.27 Q2397.55 1137.27 2399.36 1133.72 Q2401.19 1130.16 2401.19 1123.05 Q2401.19 1115.92 2399.36 1112.38 Q2397.55 1108.82 2393.92 1108.82 M2393.92 1105.11 Q2399.73 1105.11 2402.78 1109.72 Q2405.86 1114.3 2405.86 1123.05 Q2405.86 1131.78 2402.78 1136.39 Q2399.73 1140.97 2393.92 1140.97 Q2388.11 1140.97 2385.03 1136.39 Q2381.97 1131.78 2381.97 1123.05 Q2381.97 1114.3 2385.03 1109.72 Q2388.11 1105.11 2393.92 1105.11 Z\" fill=\"#000000\" fill-rule=\"evenodd\" fill-opacity=\"1\" /><path clip-path=\"url(#clip720)\" d=\"M2268.76 943.569 L2298.43 943.569 L2298.43 947.504 L2268.76 947.504 L2268.76 943.569 Z\" fill=\"#000000\" fill-rule=\"evenodd\" fill-opacity=\"1\" /><path clip-path=\"url(#clip720)\" d=\"M2318.52 928.916 Q2314.91 928.916 2313.08 932.481 Q2311.28 936.023 2311.28 943.152 Q2311.28 950.259 2313.08 953.824 Q2314.91 957.365 2318.52 957.365 Q2322.16 957.365 2323.96 953.824 Q2325.79 950.259 2325.79 943.152 Q2325.79 936.023 2323.96 932.481 Q2322.16 928.916 2318.52 928.916 M2318.52 925.213 Q2324.33 925.213 2327.39 929.819 Q2330.47 934.402 2330.47 943.152 Q2330.47 951.879 2327.39 956.486 Q2324.33 961.069 2318.52 961.069 Q2312.71 961.069 2309.64 956.486 Q2306.58 951.879 2306.58 943.152 Q2306.58 934.402 2309.64 929.819 Q2312.71 925.213 2318.52 925.213 Z\" fill=\"#000000\" fill-rule=\"evenodd\" fill-opacity=\"1\" /><path clip-path=\"url(#clip720)\" d=\"M2338.69 954.518 L2343.57 954.518 L2343.57 960.398 L2338.69 960.398 L2338.69 954.518 Z\" fill=\"#000000\" fill-rule=\"evenodd\" fill-opacity=\"1\" /><path clip-path=\"url(#clip720)\" d=\"M2357.78 956.462 L2374.1 956.462 L2374.1 960.398 L2352.16 960.398 L2352.16 956.462 Q2354.82 953.708 2359.4 949.078 Q2364.01 944.426 2365.19 943.083 Q2367.44 940.56 2368.32 938.824 Q2369.22 937.064 2369.22 935.375 Q2369.22 932.62 2367.27 930.884 Q2365.35 929.148 2362.25 929.148 Q2360.05 929.148 2357.6 929.912 Q2355.17 930.676 2352.39 932.227 L2352.39 927.504 Q2355.21 926.37 2357.67 925.791 Q2360.12 925.213 2362.16 925.213 Q2367.53 925.213 2370.72 927.898 Q2373.92 930.583 2373.92 935.074 Q2373.92 937.203 2373.11 939.125 Q2372.32 941.023 2370.21 943.615 Q2369.63 944.287 2366.53 947.504 Q2363.43 950.699 2357.78 956.462 Z\" fill=\"#000000\" fill-rule=\"evenodd\" fill-opacity=\"1\" /><path clip-path=\"url(#clip720)\" d=\"M2383.96 925.838 L2402.32 925.838 L2402.32 929.773 L2388.25 929.773 L2388.25 938.245 Q2389.26 937.898 2390.28 937.736 Q2391.3 937.551 2392.32 937.551 Q2398.11 937.551 2401.49 940.722 Q2404.87 943.893 2404.87 949.31 Q2404.87 954.888 2401.39 957.99 Q2397.92 961.069 2391.6 961.069 Q2389.43 961.069 2387.16 960.699 Q2384.91 960.328 2382.51 959.587 L2382.51 954.888 Q2384.59 956.023 2386.81 956.578 Q2389.03 957.134 2391.51 957.134 Q2395.51 957.134 2397.85 955.027 Q2400.19 952.921 2400.19 949.31 Q2400.19 945.699 2397.85 943.592 Q2395.51 941.486 2391.51 941.486 Q2389.63 941.486 2387.76 941.902 Q2385.91 942.319 2383.96 943.199 L2383.96 925.838 Z\" fill=\"#000000\" fill-rule=\"evenodd\" fill-opacity=\"1\" /><path clip-path=\"url(#clip720)\" d=\"M2280.7 749.016 Q2277.09 749.016 2275.26 752.581 Q2273.45 756.122 2273.45 763.252 Q2273.45 770.358 2275.26 773.923 Q2277.09 777.465 2280.7 777.465 Q2284.33 777.465 2286.14 773.923 Q2287.97 770.358 2287.97 763.252 Q2287.97 756.122 2286.14 752.581 Q2284.33 749.016 2280.7 749.016 M2280.7 745.312 Q2286.51 745.312 2289.57 749.919 Q2292.64 754.502 2292.64 763.252 Q2292.64 771.979 2289.57 776.585 Q2286.51 781.168 2280.7 781.168 Q2274.89 781.168 2271.81 776.585 Q2268.76 771.979 2268.76 763.252 Q2268.76 754.502 2271.81 749.919 Q2274.89 745.312 2280.7 745.312 Z\" fill=\"#000000\" fill-rule=\"evenodd\" fill-opacity=\"1\" /><path clip-path=\"url(#clip720)\" d=\"M2280.7 569.115 Q2277.09 569.115 2275.26 572.68 Q2273.45 576.222 2273.45 583.351 Q2273.45 590.458 2275.26 594.023 Q2277.09 597.564 2280.7 597.564 Q2284.33 597.564 2286.14 594.023 Q2287.97 590.458 2287.97 583.351 Q2287.97 576.222 2286.14 572.68 Q2284.33 569.115 2280.7 569.115 M2280.7 565.412 Q2286.51 565.412 2289.57 570.018 Q2292.64 574.601 2292.64 583.351 Q2292.64 592.078 2289.57 596.685 Q2286.51 601.268 2280.7 601.268 Q2274.89 601.268 2271.81 596.685 Q2268.76 592.078 2268.76 583.351 Q2268.76 574.601 2271.81 570.018 Q2274.89 565.412 2280.7 565.412 Z\" fill=\"#000000\" fill-rule=\"evenodd\" fill-opacity=\"1\" /><path clip-path=\"url(#clip720)\" d=\"M2300.86 594.717 L2305.75 594.717 L2305.75 600.597 L2300.86 600.597 L2300.86 594.717 Z\" fill=\"#000000\" fill-rule=\"evenodd\" fill-opacity=\"1\" /><path clip-path=\"url(#clip720)\" d=\"M2319.96 596.662 L2336.28 596.662 L2336.28 600.597 L2314.33 600.597 L2314.33 596.662 Q2317 593.907 2321.58 589.277 Q2326.19 584.625 2327.37 583.282 Q2329.61 580.759 2330.49 579.023 Q2331.39 577.264 2331.39 575.574 Q2331.39 572.819 2329.45 571.083 Q2327.53 569.347 2324.43 569.347 Q2322.23 569.347 2319.77 570.111 Q2317.34 570.875 2314.57 572.426 L2314.57 567.703 Q2317.39 566.569 2319.84 565.99 Q2322.3 565.412 2324.33 565.412 Q2329.7 565.412 2332.9 568.097 Q2336.09 570.782 2336.09 575.273 Q2336.09 577.402 2335.28 579.324 Q2334.5 581.222 2332.39 583.814 Q2331.81 584.486 2328.71 587.703 Q2325.61 590.898 2319.96 596.662 Z\" fill=\"#000000\" fill-rule=\"evenodd\" fill-opacity=\"1\" /><path clip-path=\"url(#clip720)\" d=\"M2346.14 566.037 L2364.5 566.037 L2364.5 569.972 L2350.42 569.972 L2350.42 578.444 Q2351.44 578.097 2352.46 577.935 Q2353.48 577.75 2354.5 577.75 Q2360.28 577.75 2363.66 580.921 Q2367.04 584.092 2367.04 589.509 Q2367.04 595.087 2363.57 598.189 Q2360.1 601.268 2353.78 601.268 Q2351.6 601.268 2349.33 600.898 Q2347.09 600.527 2344.68 599.787 L2344.68 595.087 Q2346.76 596.222 2348.99 596.777 Q2351.21 597.333 2353.69 597.333 Q2357.69 597.333 2360.03 595.226 Q2362.37 593.12 2362.37 589.509 Q2362.37 585.898 2360.03 583.791 Q2357.69 581.685 2353.69 581.685 Q2351.81 581.685 2349.94 582.101 Q2348.08 582.518 2346.14 583.398 L2346.14 566.037 Z\" fill=\"#000000\" fill-rule=\"evenodd\" fill-opacity=\"1\" /><path clip-path=\"url(#clip720)\" d=\"M2280.7 389.215 Q2277.09 389.215 2275.26 392.78 Q2273.45 396.321 2273.45 403.451 Q2273.45 410.557 2275.26 414.122 Q2277.09 417.664 2280.7 417.664 Q2284.33 417.664 2286.14 414.122 Q2287.97 410.557 2287.97 403.451 Q2287.97 396.321 2286.14 392.78 Q2284.33 389.215 2280.7 389.215 M2280.7 385.511 Q2286.51 385.511 2289.57 390.118 Q2292.64 394.701 2292.64 403.451 Q2292.64 412.178 2289.57 416.784 Q2286.51 421.368 2280.7 421.368 Q2274.89 421.368 2271.81 416.784 Q2268.76 412.178 2268.76 403.451 Q2268.76 394.701 2271.81 390.118 Q2274.89 385.511 2280.7 385.511 Z\" fill=\"#000000\" fill-rule=\"evenodd\" fill-opacity=\"1\" /><path clip-path=\"url(#clip720)\" d=\"M2300.86 414.817 L2305.75 414.817 L2305.75 420.696 L2300.86 420.696 L2300.86 414.817 Z\" fill=\"#000000\" fill-rule=\"evenodd\" fill-opacity=\"1\" /><path clip-path=\"url(#clip720)\" d=\"M2315.98 386.136 L2334.33 386.136 L2334.33 390.071 L2320.26 390.071 L2320.26 398.544 Q2321.28 398.196 2322.3 398.034 Q2323.32 397.849 2324.33 397.849 Q2330.12 397.849 2333.5 401.02 Q2336.88 404.192 2336.88 409.608 Q2336.88 415.187 2333.41 418.289 Q2329.94 421.368 2323.62 421.368 Q2321.44 421.368 2319.17 420.997 Q2316.93 420.627 2314.52 419.886 L2314.52 415.187 Q2316.6 416.321 2318.83 416.877 Q2321.05 417.432 2323.52 417.432 Q2327.53 417.432 2329.87 415.326 Q2332.2 413.219 2332.2 409.608 Q2332.2 405.997 2329.87 403.891 Q2327.53 401.784 2323.52 401.784 Q2321.65 401.784 2319.77 402.201 Q2317.92 402.618 2315.98 403.497 L2315.98 386.136 Z\" fill=\"#000000\" fill-rule=\"evenodd\" fill-opacity=\"1\" /><path clip-path=\"url(#clip720)\" d=\"M2356.09 389.215 Q2352.48 389.215 2350.65 392.78 Q2348.85 396.321 2348.85 403.451 Q2348.85 410.557 2350.65 414.122 Q2352.48 417.664 2356.09 417.664 Q2359.73 417.664 2361.53 414.122 Q2363.36 410.557 2363.36 403.451 Q2363.36 396.321 2361.53 392.78 Q2359.73 389.215 2356.09 389.215 M2356.09 385.511 Q2361.9 385.511 2364.96 390.118 Q2368.04 394.701 2368.04 403.451 Q2368.04 412.178 2364.96 416.784 Q2361.9 421.368 2356.09 421.368 Q2350.28 421.368 2347.2 416.784 Q2344.15 412.178 2344.15 403.451 Q2344.15 394.701 2347.2 390.118 Q2350.28 385.511 2356.09 385.511 Z\" fill=\"#000000\" fill-rule=\"evenodd\" fill-opacity=\"1\" /><path clip-path=\"url(#clip720)\" d=\"M2280.7 209.314 Q2277.09 209.314 2275.26 212.879 Q2273.45 216.421 2273.45 223.55 Q2273.45 230.657 2275.26 234.222 Q2277.09 237.763 2280.7 237.763 Q2284.33 237.763 2286.14 234.222 Q2287.97 230.657 2287.97 223.55 Q2287.97 216.421 2286.14 212.879 Q2284.33 209.314 2280.7 209.314 M2280.7 205.611 Q2286.51 205.611 2289.57 210.217 Q2292.64 214.801 2292.64 223.55 Q2292.64 232.277 2289.57 236.884 Q2286.51 241.467 2280.7 241.467 Q2274.89 241.467 2271.81 236.884 Q2268.76 232.277 2268.76 223.55 Q2268.76 214.801 2271.81 210.217 Q2274.89 205.611 2280.7 205.611 Z\" fill=\"#000000\" fill-rule=\"evenodd\" fill-opacity=\"1\" /><path clip-path=\"url(#clip720)\" d=\"M2300.86 234.916 L2305.75 234.916 L2305.75 240.796 L2300.86 240.796 L2300.86 234.916 Z\" fill=\"#000000\" fill-rule=\"evenodd\" fill-opacity=\"1\" /><path clip-path=\"url(#clip720)\" d=\"M2314.75 206.236 L2336.97 206.236 L2336.97 208.226 L2324.43 240.796 L2319.54 240.796 L2331.35 210.171 L2314.75 210.171 L2314.75 206.236 Z\" fill=\"#000000\" fill-rule=\"evenodd\" fill-opacity=\"1\" /><path clip-path=\"url(#clip720)\" d=\"M2346.14 206.236 L2364.5 206.236 L2364.5 210.171 L2350.42 210.171 L2350.42 218.643 Q2351.44 218.296 2352.46 218.134 Q2353.48 217.949 2354.5 217.949 Q2360.28 217.949 2363.66 221.12 Q2367.04 224.291 2367.04 229.708 Q2367.04 235.287 2363.57 238.388 Q2360.1 241.467 2353.78 241.467 Q2351.6 241.467 2349.33 241.097 Q2347.09 240.726 2344.68 239.986 L2344.68 235.287 Q2346.76 236.421 2348.99 236.976 Q2351.21 237.532 2353.69 237.532 Q2357.69 237.532 2360.03 235.425 Q2362.37 233.319 2362.37 229.708 Q2362.37 226.097 2360.03 223.99 Q2357.69 221.884 2353.69 221.884 Q2351.81 221.884 2349.94 222.3 Q2348.08 222.717 2346.14 223.597 L2346.14 206.236 Z\" fill=\"#000000\" fill-rule=\"evenodd\" fill-opacity=\"1\" /><path clip-path=\"url(#clip720)\" d=\"M2269.43 56.9601 L2277.07 56.9601 L2277.07 30.5945 L2268.76 32.2612 L2268.76 28.002 L2277.02 26.3353 L2281.7 26.3353 L2281.7 56.9601 L2289.33 56.9601 L2289.33 60.8953 L2269.43 60.8953 L2269.43 56.9601 Z\" fill=\"#000000\" fill-rule=\"evenodd\" fill-opacity=\"1\" /><path clip-path=\"url(#clip720)\" d=\"M2298.78 55.0157 L2303.66 55.0157 L2303.66 60.8953 L2298.78 60.8953 L2298.78 55.0157 Z\" fill=\"#000000\" fill-rule=\"evenodd\" fill-opacity=\"1\" /><path clip-path=\"url(#clip720)\" d=\"M2323.85 29.414 Q2320.24 29.414 2318.41 32.9788 Q2316.6 36.5204 2316.6 43.65 Q2316.6 50.7565 2318.41 54.3213 Q2320.24 57.8629 2323.85 57.8629 Q2327.48 57.8629 2329.29 54.3213 Q2331.12 50.7565 2331.12 43.65 Q2331.12 36.5204 2329.29 32.9788 Q2327.48 29.414 2323.85 29.414 M2323.85 25.7103 Q2329.66 25.7103 2332.71 30.3168 Q2335.79 34.9001 2335.79 43.65 Q2335.79 52.3768 2332.71 56.9833 Q2329.66 61.5666 2323.85 61.5666 Q2318.04 61.5666 2314.96 56.9833 Q2311.9 52.3768 2311.9 43.65 Q2311.9 34.9001 2314.96 30.3168 Q2318.04 25.7103 2323.85 25.7103 Z\" fill=\"#000000\" fill-rule=\"evenodd\" fill-opacity=\"1\" /><path clip-path=\"url(#clip720)\" d=\"M2354.01 29.414 Q2350.4 29.414 2348.57 32.9788 Q2346.76 36.5204 2346.76 43.65 Q2346.76 50.7565 2348.57 54.3213 Q2350.4 57.8629 2354.01 57.8629 Q2357.64 57.8629 2359.45 54.3213 Q2361.28 50.7565 2361.28 43.65 Q2361.28 36.5204 2359.45 32.9788 Q2357.64 29.414 2354.01 29.414 M2354.01 25.7103 Q2359.82 25.7103 2362.88 30.3168 Q2365.95 34.9001 2365.95 43.65 Q2365.95 52.3768 2362.88 56.9833 Q2359.82 61.5666 2354.01 61.5666 Q2348.2 61.5666 2345.12 56.9833 Q2342.07 52.3768 2342.07 43.65 Q2342.07 34.9001 2345.12 30.3168 Q2348.2 25.7103 2354.01 25.7103 Z\" fill=\"#000000\" fill-rule=\"evenodd\" fill-opacity=\"1\" /><polyline clip-path=\"url(#clip720)\" style=\"stroke:#000000; stroke-linecap:round; stroke-linejoin:round; stroke-width:4; stroke-opacity:1; fill:none\" points=\"2232.76,1486.45 2232.76,1486.45 2256.76,1486.45 2232.76,1486.45 2232.76,1306.55 2256.76,1306.55 2232.76,1306.55 2232.76,1126.65 2256.76,1126.65 2232.76,1126.65 2232.76,946.746 2256.76,946.746 2232.76,946.746 2232.76,766.846 2256.76,766.846 2232.76,766.846 2232.76,586.946 2256.76,586.946 2232.76,586.946 2232.76,407.045 2256.76,407.045 2232.76,407.045 2232.76,227.145 2256.76,227.145 2232.76,227.145 2232.76,47.2441 2256.76,47.2441 2232.76,47.2441 \"/>\n",
       "</svg>\n"
      ]
     },
     "metadata": {},
     "output_type": "display_data"
    }
   ],
   "source": [
    "using Plots\n",
    "steps = zeros(Int, size(mapmat))\n",
    "for indxpair in steplist\n",
    "    steps[indxpair[1]] = 1\n",
    "    steps[indxpair[2]] = -1\n",
    "end\n",
    "heatmap(steps)"
   ]
  },
  {
   "cell_type": "code",
   "execution_count": 13,
   "metadata": {},
   "outputs": [
    {
     "name": "stdout",
     "output_type": "stream",
     "text": [
      "nextaction = decidenextaction(t, mapmat) = Main.TurtleSearch.stop\n"
     ]
    }
   ],
   "source": [
    "step = next!(t, mapmat)\n",
    "if step != nothing\n",
    "    append!(steplist, step);\n",
    "end"
   ]
  },
  {
   "cell_type": "code",
   "execution_count": 14,
   "metadata": {},
   "outputs": [
    {
     "data": {
      "text/plain": [
       "22-element Vector{Any}:\n",
       " CartesianIndex(1, 2)\n",
       " CartesianIndex(2, 2)\n",
       " CartesianIndex(2, 3)\n",
       " CartesianIndex(2, 2)\n",
       " CartesianIndex(3, 3)\n",
       " CartesianIndex(3, 2)\n",
       " CartesianIndex(4, 3)\n",
       " CartesianIndex(4, 2)\n",
       " CartesianIndex(5, 3)\n",
       " CartesianIndex(5, 2)\n",
       " ⋮\n",
       " CartesianIndex(6, 3)\n",
       " CartesianIndex(7, 4)\n",
       " CartesianIndex(7, 3)\n",
       " CartesianIndex(8, 4)\n",
       " CartesianIndex(8, 3)\n",
       " CartesianIndex(9, 4)\n",
       " CartesianIndex(9, 3)\n",
       " CartesianIndex(10, 4)\n",
       " CartesianIndex(10, 3)"
      ]
     },
     "metadata": {},
     "output_type": "display_data"
    }
   ],
   "source": [
    "steplist"
   ]
  },
  {
   "cell_type": "code",
   "execution_count": 23,
   "metadata": {},
   "outputs": [
    {
     "name": "stdout",
     "output_type": "stream",
     "text": [
      "3.03.0\n"
     ]
    }
   ],
   "source": [
    "println(ones(2,2) * [1,2] ...)"
   ]
  },
  {
   "cell_type": "code",
   "execution_count": 22,
   "metadata": {},
   "outputs": [
    {
     "data": {
      "text/plain": [
       "false"
      ]
     },
     "metadata": {},
     "output_type": "display_data"
    }
   ],
   "source": [
    "true < true"
   ]
  },
  {
   "cell_type": "code",
   "execution_count": 43,
   "metadata": {},
   "outputs": [
    {
     "data": {
      "text/plain": [
       "findfirstseed! (generic function with 1 method)"
      ]
     },
     "metadata": {},
     "output_type": "display_data"
    }
   ],
   "source": [
    "function findfirstseed!(m, id1, id2)\n",
    "    did = 2(id2 - id1)\n",
    "    #check whether id1 and id2 are out of bound\n",
    "    while !(id1[1] < 1 || id1[1] > size(m, 1) || id1[2] < 1 || id1[2] > size(m, 2))\n",
    "        # println(id1, id2)\n",
    "        if m[id1] * m[id2] > 0\n",
    "            id1, id2 = id2, id1 + did\n",
    "            continue\n",
    "        else\n",
    "            return id1, id2\n",
    "        end\n",
    "    end\n",
    "    return nothing\n",
    "end\n"
   ]
  },
  {
   "cell_type": "code",
   "execution_count": 46,
   "metadata": {},
   "outputs": [
    {
     "data": {
      "text/plain": [
       "(CartesianIndex(1, 3), CartesianIndex(1, 2))"
      ]
     },
     "metadata": {},
     "output_type": "display_data"
    }
   ],
   "source": [
    "reverse(findfirstseed!(mapmat, CartesianIndex(1, 1), CartesianIndex(1, 2)))"
   ]
  },
  {
   "cell_type": "code",
   "execution_count": 31,
   "metadata": {},
   "outputs": [
    {
     "data": {
      "image/png": "[encoded data removed]",
      "image/svg+xml": [
       "<?xml version=\"1.0\" encoding=\"utf-8\"?>\n",
       "<svg xmlns=\"http://www.w3.org/2000/svg\" xmlns:xlink=\"http://www.w3.org/1999/xlink\" width=\"600\" height=\"400\" viewBox=\"0 0 2400 1600\">\n",
       "<defs>\n",
       "  <clipPath id=\"clip760\">\n",
       "    <rect x=\"0\" y=\"0\" width=\"2400\" height=\"1600\"/>\n",
       "  </clipPath>\n",
       "</defs>\n",
       "<path clip-path=\"url(#clip760)\" d=\"M0 1600 L2400 1600 L2400 0 L0 0  Z\" fill=\"#ffffff\" fill-rule=\"evenodd\" fill-opacity=\"1\"/>\n",
       "<defs>\n",
       "  <clipPath id=\"clip761\">\n",
       "    <rect x=\"480\" y=\"0\" width=\"1681\" height=\"1600\"/>\n",
       "  </clipPath>\n",
       "</defs>\n",
       "<path clip-path=\"url(#clip760)\" d=\"M138.959 1486.45 L2112.76 1486.45 L2112.76 47.2441 L138.959 47.2441  Z\" fill=\"#ffffff\" fill-rule=\"evenodd\" fill-opacity=\"1\"/>\n",
       "<defs>\n",
       "  <clipPath id=\"clip762\">\n",
       "    <rect x=\"138\" y=\"47\" width=\"1975\" height=\"1440\"/>\n",
       "  </clipPath>\n",
       "</defs>\n",
       "<polyline clip-path=\"url(#clip762)\" style=\"stroke:#000000; stroke-linecap:round; stroke-linejoin:round; stroke-width:2; stroke-opacity:0.1; fill:none\" points=\"435.029,1486.45 435.029,47.2441 \"/>\n",
       "<polyline clip-path=\"url(#clip762)\" style=\"stroke:#000000; stroke-linecap:round; stroke-linejoin:round; stroke-width:2; stroke-opacity:0.1; fill:none\" points=\"829.788,1486.45 829.788,47.2441 \"/>\n",
       "<polyline clip-path=\"url(#clip762)\" style=\"stroke:#000000; stroke-linecap:round; stroke-linejoin:round; stroke-width:2; stroke-opacity:0.1; fill:none\" points=\"1224.55,1486.45 1224.55,47.2441 \"/>\n",
       "<polyline clip-path=\"url(#clip762)\" style=\"stroke:#000000; stroke-linecap:round; stroke-linejoin:round; stroke-width:2; stroke-opacity:0.1; fill:none\" points=\"1619.31,1486.45 1619.31,47.2441 \"/>\n",
       "<polyline clip-path=\"url(#clip762)\" style=\"stroke:#000000; stroke-linecap:round; stroke-linejoin:round; stroke-width:2; stroke-opacity:0.1; fill:none\" points=\"2014.07,1486.45 2014.07,47.2441 \"/>\n",
       "<polyline clip-path=\"url(#clip760)\" style=\"stroke:#000000; stroke-linecap:round; stroke-linejoin:round; stroke-width:4; stroke-opacity:1; fill:none\" points=\"138.959,1486.45 2112.76,1486.45 \"/>\n",
       "<polyline clip-path=\"url(#clip760)\" style=\"stroke:#000000; stroke-linecap:round; stroke-linejoin:round; stroke-width:4; stroke-opacity:1; fill:none\" points=\"435.029,1486.45 435.029,1467.55 \"/>\n",
       "<polyline clip-path=\"url(#clip760)\" style=\"stroke:#000000; stroke-linecap:round; stroke-linejoin:round; stroke-width:4; stroke-opacity:1; fill:none\" points=\"829.788,1486.45 829.788,1467.55 \"/>\n",
       "<polyline clip-path=\"url(#clip760)\" style=\"stroke:#000000; stroke-linecap:round; stroke-linejoin:round; stroke-width:4; stroke-opacity:1; fill:none\" points=\"1224.55,1486.45 1224.55,1467.55 \"/>\n",
       "<polyline clip-path=\"url(#clip760)\" style=\"stroke:#000000; stroke-linecap:round; stroke-linejoin:round; stroke-width:4; stroke-opacity:1; fill:none\" points=\"1619.31,1486.45 1619.31,1467.55 \"/>\n",
       "<polyline clip-path=\"url(#clip760)\" style=\"stroke:#000000; stroke-linecap:round; stroke-linejoin:round; stroke-width:4; stroke-opacity:1; fill:none\" points=\"2014.07,1486.45 2014.07,1467.55 \"/>\n",
       "<path clip-path=\"url(#clip760)\" d=\"M429.682 1544.91 L446.001 1544.91 L446.001 1548.85 L424.057 1548.85 L424.057 1544.91 Q426.719 1542.16 431.302 1537.53 Q435.909 1532.88 437.089 1531.53 Q439.334 1529.01 440.214 1527.27 Q441.117 1525.51 441.117 1523.82 Q441.117 1521.07 439.172 1519.33 Q437.251 1517.6 434.149 1517.6 Q431.95 1517.6 429.497 1518.36 Q427.066 1519.13 424.288 1520.68 L424.288 1515.95 Q427.112 1514.82 429.566 1514.24 Q432.02 1513.66 434.057 1513.66 Q439.427 1513.66 442.621 1516.35 Q445.816 1519.03 445.816 1523.52 Q445.816 1525.65 445.006 1527.57 Q444.219 1529.47 442.112 1532.07 Q441.534 1532.74 438.432 1535.95 Q435.33 1539.15 429.682 1544.91 Z\" fill=\"#000000\" fill-rule=\"evenodd\" fill-opacity=\"1\" /><path clip-path=\"url(#clip760)\" d=\"M832.797 1518.36 L820.992 1536.81 L832.797 1536.81 L832.797 1518.36 M831.571 1514.29 L837.45 1514.29 L837.45 1536.81 L842.381 1536.81 L842.381 1540.7 L837.45 1540.7 L837.45 1548.85 L832.797 1548.85 L832.797 1540.7 L817.196 1540.7 L817.196 1536.19 L831.571 1514.29 Z\" fill=\"#000000\" fill-rule=\"evenodd\" fill-opacity=\"1\" /><path clip-path=\"url(#clip760)\" d=\"M1224.95 1529.7 Q1221.8 1529.7 1219.95 1531.86 Q1218.12 1534.01 1218.12 1537.76 Q1218.12 1541.49 1219.95 1543.66 Q1221.8 1545.82 1224.95 1545.82 Q1228.1 1545.82 1229.93 1543.66 Q1231.78 1541.49 1231.78 1537.76 Q1231.78 1534.01 1229.93 1531.86 Q1228.1 1529.7 1224.95 1529.7 M1234.23 1515.05 L1234.23 1519.31 Q1232.48 1518.48 1230.67 1518.04 Q1228.89 1517.6 1227.13 1517.6 Q1222.5 1517.6 1220.05 1520.72 Q1217.61 1523.85 1217.27 1530.17 Q1218.63 1528.15 1220.69 1527.09 Q1222.75 1526 1225.23 1526 Q1230.44 1526 1233.45 1529.17 Q1236.48 1532.32 1236.48 1537.76 Q1236.48 1543.08 1233.33 1546.3 Q1230.18 1549.52 1224.95 1549.52 Q1218.96 1549.52 1215.79 1544.94 Q1212.61 1540.33 1212.61 1531.6 Q1212.61 1523.41 1216.5 1518.55 Q1220.39 1513.66 1226.94 1513.66 Q1228.7 1513.66 1230.48 1514.01 Q1232.29 1514.36 1234.23 1515.05 Z\" fill=\"#000000\" fill-rule=\"evenodd\" fill-opacity=\"1\" /><path clip-path=\"url(#clip760)\" d=\"M1619.31 1532.44 Q1615.97 1532.44 1614.05 1534.22 Q1612.15 1536 1612.15 1539.13 Q1612.15 1542.25 1614.05 1544.03 Q1615.97 1545.82 1619.31 1545.82 Q1622.64 1545.82 1624.56 1544.03 Q1626.48 1542.23 1626.48 1539.13 Q1626.48 1536 1624.56 1534.22 Q1622.66 1532.44 1619.31 1532.44 M1614.63 1530.45 Q1611.62 1529.7 1609.93 1527.64 Q1608.27 1525.58 1608.27 1522.62 Q1608.27 1518.48 1611.2 1516.07 Q1614.17 1513.66 1619.31 1513.66 Q1624.47 1513.66 1627.41 1516.07 Q1630.35 1518.48 1630.35 1522.62 Q1630.35 1525.58 1628.66 1527.64 Q1626.99 1529.7 1624.01 1530.45 Q1627.39 1531.23 1629.26 1533.52 Q1631.16 1535.82 1631.16 1539.13 Q1631.16 1544.15 1628.08 1546.83 Q1625.02 1549.52 1619.31 1549.52 Q1613.59 1549.52 1610.51 1546.83 Q1607.46 1544.15 1607.46 1539.13 Q1607.46 1535.82 1609.35 1533.52 Q1611.25 1531.23 1614.63 1530.45 M1612.92 1523.06 Q1612.92 1525.75 1614.58 1527.25 Q1616.27 1528.76 1619.31 1528.76 Q1622.32 1528.76 1624.01 1527.25 Q1625.72 1525.75 1625.72 1523.06 Q1625.72 1520.38 1624.01 1518.87 Q1622.32 1517.37 1619.31 1517.37 Q1616.27 1517.37 1614.58 1518.87 Q1612.92 1520.38 1612.92 1523.06 Z\" fill=\"#000000\" fill-rule=\"evenodd\" fill-opacity=\"1\" /><path clip-path=\"url(#clip760)\" d=\"M1988.75 1544.91 L1996.39 1544.91 L1996.39 1518.55 L1988.08 1520.21 L1988.08 1515.95 L1996.35 1514.29 L2001.02 1514.29 L2001.02 1544.91 L2008.66 1544.91 L2008.66 1548.85 L1988.75 1548.85 L1988.75 1544.91 Z\" fill=\"#000000\" fill-rule=\"evenodd\" fill-opacity=\"1\" /><path clip-path=\"url(#clip760)\" d=\"M2028.11 1517.37 Q2024.49 1517.37 2022.67 1520.93 Q2020.86 1524.47 2020.86 1531.6 Q2020.86 1538.71 2022.67 1542.27 Q2024.49 1545.82 2028.11 1545.82 Q2031.74 1545.82 2033.55 1542.27 Q2035.37 1538.71 2035.37 1531.6 Q2035.37 1524.47 2033.55 1520.93 Q2031.74 1517.37 2028.11 1517.37 M2028.11 1513.66 Q2033.92 1513.66 2036.97 1518.27 Q2040.05 1522.85 2040.05 1531.6 Q2040.05 1540.33 2036.97 1544.94 Q2033.92 1549.52 2028.11 1549.52 Q2022.3 1549.52 2019.22 1544.94 Q2016.16 1540.33 2016.16 1531.6 Q2016.16 1522.85 2019.22 1518.27 Q2022.3 1513.66 2028.11 1513.66 Z\" fill=\"#000000\" fill-rule=\"evenodd\" fill-opacity=\"1\" /><polyline clip-path=\"url(#clip762)\" style=\"stroke:#000000; stroke-linecap:round; stroke-linejoin:round; stroke-width:2; stroke-opacity:0.1; fill:none\" points=\"138.959,1270.57 2112.76,1270.57 \"/>\n",
       "<polyline clip-path=\"url(#clip762)\" style=\"stroke:#000000; stroke-linecap:round; stroke-linejoin:round; stroke-width:2; stroke-opacity:0.1; fill:none\" points=\"138.959,982.727 2112.76,982.727 \"/>\n",
       "<polyline clip-path=\"url(#clip762)\" style=\"stroke:#000000; stroke-linecap:round; stroke-linejoin:round; stroke-width:2; stroke-opacity:0.1; fill:none\" points=\"138.959,694.886 2112.76,694.886 \"/>\n",
       "<polyline clip-path=\"url(#clip762)\" style=\"stroke:#000000; stroke-linecap:round; stroke-linejoin:round; stroke-width:2; stroke-opacity:0.1; fill:none\" points=\"138.959,407.045 2112.76,407.045 \"/>\n",
       "<polyline clip-path=\"url(#clip762)\" style=\"stroke:#000000; stroke-linecap:round; stroke-linejoin:round; stroke-width:2; stroke-opacity:0.1; fill:none\" points=\"138.959,119.204 2112.76,119.204 \"/>\n",
       "<polyline clip-path=\"url(#clip760)\" style=\"stroke:#000000; stroke-linecap:round; stroke-linejoin:round; stroke-width:4; stroke-opacity:1; fill:none\" points=\"138.959,1486.45 138.959,47.2441 \"/>\n",
       "<polyline clip-path=\"url(#clip760)\" style=\"stroke:#000000; stroke-linecap:round; stroke-linejoin:round; stroke-width:4; stroke-opacity:1; fill:none\" points=\"138.959,1270.57 155.808,1270.57 \"/>\n",
       "<polyline clip-path=\"url(#clip760)\" style=\"stroke:#000000; stroke-linecap:round; stroke-linejoin:round; stroke-width:4; stroke-opacity:1; fill:none\" points=\"138.959,982.727 155.808,982.727 \"/>\n",
       "<polyline clip-path=\"url(#clip760)\" style=\"stroke:#000000; stroke-linecap:round; stroke-linejoin:round; stroke-width:4; stroke-opacity:1; fill:none\" points=\"138.959,694.886 155.808,694.886 \"/>\n",
       "<polyline clip-path=\"url(#clip760)\" style=\"stroke:#000000; stroke-linecap:round; stroke-linejoin:round; stroke-width:4; stroke-opacity:1; fill:none\" points=\"138.959,407.045 155.808,407.045 \"/>\n",
       "<polyline clip-path=\"url(#clip760)\" style=\"stroke:#000000; stroke-linecap:round; stroke-linejoin:round; stroke-width:4; stroke-opacity:1; fill:none\" points=\"138.959,119.204 155.808,119.204 \"/>\n",
       "<path clip-path=\"url(#clip760)\" d=\"M86.6401 1283.91 L102.959 1283.91 L102.959 1287.85 L81.0151 1287.85 L81.0151 1283.91 Q83.6771 1281.16 88.2604 1276.53 Q92.8669 1271.88 94.0475 1270.53 Q96.2928 1268.01 97.1724 1266.27 Q98.0752 1264.51 98.0752 1262.82 Q98.0752 1260.07 96.1308 1258.33 Q94.2095 1256.6 91.1077 1256.6 Q88.9086 1256.6 86.4549 1257.36 Q84.0244 1258.13 81.2466 1259.68 L81.2466 1254.95 Q84.0707 1253.82 86.5243 1253.24 Q88.978 1252.66 91.0151 1252.66 Q96.3854 1252.66 99.5798 1255.35 Q102.774 1258.03 102.774 1262.52 Q102.774 1264.65 101.964 1266.57 Q101.177 1268.47 99.0706 1271.06 Q98.4919 1271.74 95.39 1274.95 Q92.2882 1278.15 86.6401 1283.91 Z\" fill=\"#000000\" fill-rule=\"evenodd\" fill-opacity=\"1\" /><path clip-path=\"url(#clip760)\" d=\"M93.3762 969.521 L81.5707 987.97 L93.3762 987.97 L93.3762 969.521 M92.1493 965.447 L98.0289 965.447 L98.0289 987.97 L102.959 987.97 L102.959 991.858 L98.0289 991.858 L98.0289 1000.01 L93.3762 1000.01 L93.3762 991.858 L77.7744 991.858 L77.7744 987.345 L92.1493 965.447 Z\" fill=\"#000000\" fill-rule=\"evenodd\" fill-opacity=\"1\" /><path clip-path=\"url(#clip760)\" d=\"M91.4317 693.022 Q88.2836 693.022 86.4318 695.175 Q84.6031 697.328 84.6031 701.078 Q84.6031 704.805 86.4318 706.981 Q88.2836 709.133 91.4317 709.133 Q94.5799 709.133 96.4085 706.981 Q98.2604 704.805 98.2604 701.078 Q98.2604 697.328 96.4085 695.175 Q94.5799 693.022 91.4317 693.022 M100.714 678.37 L100.714 682.629 Q98.9548 681.796 97.1493 681.356 Q95.3669 680.916 93.6076 680.916 Q88.978 680.916 86.5243 684.041 Q84.0938 687.166 83.7466 693.485 Q85.1123 691.471 87.1725 690.407 Q89.2327 689.319 91.7095 689.319 Q96.9178 689.319 99.927 692.49 Q102.959 695.638 102.959 701.078 Q102.959 706.402 99.8113 709.62 Q96.6632 712.837 91.4317 712.837 Q85.4364 712.837 82.2651 708.254 Q79.0938 703.647 79.0938 694.921 Q79.0938 686.726 82.9827 681.865 Q86.8716 676.981 93.4225 676.981 Q95.1817 676.981 96.9641 677.328 Q98.7696 677.675 100.714 678.37 Z\" fill=\"#000000\" fill-rule=\"evenodd\" fill-opacity=\"1\" /><path clip-path=\"url(#clip760)\" d=\"M91.1077 407.913 Q87.7743 407.913 85.8531 409.695 Q83.9549 411.478 83.9549 414.603 Q83.9549 417.728 85.8531 419.51 Q87.7743 421.293 91.1077 421.293 Q94.441 421.293 96.3623 419.51 Q98.2835 417.705 98.2835 414.603 Q98.2835 411.478 96.3623 409.695 Q94.4641 407.913 91.1077 407.913 M86.4318 405.922 Q83.4225 405.182 81.7327 403.121 Q80.066 401.061 80.066 398.098 Q80.066 393.955 83.0058 391.547 Q85.9688 389.14 91.1077 389.14 Q96.2697 389.14 99.2095 391.547 Q102.149 393.955 102.149 398.098 Q102.149 401.061 100.459 403.121 Q98.7928 405.182 95.8067 405.922 Q99.1863 406.709 101.061 409.001 Q102.959 411.293 102.959 414.603 Q102.959 419.626 99.8808 422.311 Q96.8252 424.996 91.1077 424.996 Q85.3901 424.996 82.3114 422.311 Q79.2559 419.626 79.2559 414.603 Q79.2559 411.293 81.154 409.001 Q83.0521 406.709 86.4318 405.922 M84.7188 398.538 Q84.7188 401.223 86.3855 402.728 Q88.0753 404.233 91.1077 404.233 Q94.1169 404.233 95.8067 402.728 Q97.5197 401.223 97.5197 398.538 Q97.5197 395.853 95.8067 394.348 Q94.1169 392.844 91.1077 392.844 Q88.0753 392.844 86.3855 394.348 Q84.7188 395.853 84.7188 398.538 Z\" fill=\"#000000\" fill-rule=\"evenodd\" fill-opacity=\"1\" /><path clip-path=\"url(#clip760)\" d=\"M51.6634 132.549 L59.3023 132.549 L59.3023 106.184 L50.9921 107.85 L50.9921 103.591 L59.256 101.924 L63.9319 101.924 L63.9319 132.549 L71.5707 132.549 L71.5707 136.484 L51.6634 136.484 L51.6634 132.549 Z\" fill=\"#000000\" fill-rule=\"evenodd\" fill-opacity=\"1\" /><path clip-path=\"url(#clip760)\" d=\"M91.0151 105.003 Q87.404 105.003 85.5753 108.568 Q83.7697 112.109 83.7697 119.239 Q83.7697 126.345 85.5753 129.91 Q87.404 133.452 91.0151 133.452 Q94.6493 133.452 96.4548 129.91 Q98.2835 126.345 98.2835 119.239 Q98.2835 112.109 96.4548 108.568 Q94.6493 105.003 91.0151 105.003 M91.0151 101.299 Q96.8252 101.299 99.8808 105.906 Q102.959 110.489 102.959 119.239 Q102.959 127.966 99.8808 132.572 Q96.8252 137.156 91.0151 137.156 Q85.2049 137.156 82.1262 132.572 Q79.0707 127.966 79.0707 119.239 Q79.0707 110.489 82.1262 105.906 Q85.2049 101.299 91.0151 101.299 Z\" fill=\"#000000\" fill-rule=\"evenodd\" fill-opacity=\"1\" /><g clip-path=\"url(#clip762)\">\n",
       "<image width=\"1974\" height=\"1439\" xlink:href=\"data:image/png;base64,\n",
       "iVBORw0KGgoAAAANSUhEUgAAB7YAAAWfCAYAAAAvUBneAAAgAElEQVR4nOzbPU4UABRGUUXUxEil\n",
       "NFKZ2LtH12LhNuzs/Y8wDiDBxKAJg0TiCLZqYftucc4KvuZVN+/6+urp1TXgL5fPn0xPgJTLF8fT\n",
       "EyDn25uH0xMg5ehwZ3oCpCy/3Z+eADn7q7vTEyBl//zm9ATIOfwuV8CfDten0xMgZWN6AAAAAAAA\n",
       "AAD8j7ANAAAAAAAAQJqwDQAAAAAAAECasA0AAAAAAABAmrANAAAAAAAAQJqwDQAAAAAAAECasA0A\n",
       "AAAAAABAmrANAAAAAAAAQJqwDQAAAAAAAECasA0AAAAAAABAmrANAAAAAAAAQJqwDQAAAAAAAECa\n",
       "sA0AAAAAAABAmrANAAAAAAAAQJqwDQAAAAAAAECasA0AAAAAAABAmrANAAAAAAAAQJqwDQAAAAAA\n",
       "AECasA0AAAAAAABAmrANAAAAAAAAQJqwDQAAAAAAAECasA0AAAAAAABAmrANAAAAAAAAQJqwDQAA\n",
       "AAAAAECasA0AAAAAAABAmrANAAAAAAAAQJqwDQAAAAAAAECasA0AAAAAAABAmrANAAAAAAAAQJqw\n",
       "DQAAAAAAAECasA0AAAAAAABAmrANAAAAAAAAQJqwDQAAAAAAAECasA0AAAAAAABAmrANAAAAAAAA\n",
       "QJqwDQAAAAAAAECasA0AAAAAAABAmrANAAAAAAAAQJqwDQAAAAAAAECasA0AAAAAAABAmrANAAAA\n",
       "AAAAQJqwDQAAAAAAAECasA0AAAAAAABAmrANAAAAAAAAQJqwDQAAAAAAAECasA0AAAAAAABAmrAN\n",
       "AAAAAAAAQJqwDQAAAAAAAECasA0AAAAAAABAmrANAAAAAAAAQJqwDQAAAAAAAECasA0AAAAAAABA\n",
       "mrANAAAAAAAAQJqwDQAAAAAAAECasA0AAAAAAABAmrANAAAAAAAAQJqwDQAAAAAAAECasA0AAAAA\n",
       "AABAmrANAAAAAAAAQJqwDQAAAAAAAECasA0AAAAAAABAmrANAAAAAAAAQJqwDQAAAAAAAECasA0A\n",
       "AAAAAABAmrANAAAAAAAAQJqwDQAAAAAAAECasA0AAAAAAABAmrANAAAAAAAAQJqwDQAAAAAAAECa\n",
       "sA0AAAAAAABAmrANAAAAAAAAQJqwDQAAAAAAAECasA0AAAAAAABAmrANAAAAAAAAQJqwDQAAAAAA\n",
       "AECasA0AAAAAAABAmrANAAAAAAAAQJqwDQAAAAAAAECasA0AAAAAAABAmrANAAAAAAAAQJqwDQAA\n",
       "AAAAAECasA0AAAAAAABAmrANAAAAAAAAQJqwDQAAAAAAAECasA0AAAAAAABAmrANAAAAAAAAQJqw\n",
       "DQAAAAAAAECasA0AAAAAAABAmrANAAAAAAAAQJqwDQAAAAAAAECasA0AAAAAAABAmrANAAAAAAAA\n",
       "QJqwDQAAAAAAAECasA0AAAAAAABAmrANAAAAAAAAQJqwDQAAAAAAAECasA0AAAAAAABAmrANAAAA\n",
       "AAAAQJqwDQAAAAAAAECasA0AAAAAAABAmrANAAAAAAAAQJqwDQAAAAAAAECasA0AAAAAAABAmrAN\n",
       "AAAAAAAAQJqwDQAAAAAAAECasA0AAAAAAABAmrANAAAAAAAAQJqwDQAAAAAAAECasA0AAAAAAABA\n",
       "mrANAAAAAAAAQJqwDQAAAAAAAECasA0AAAAAAABAmrANAAAAAAAAQJqwDQAAAAAAAECasA0AAAAA\n",
       "AABAmrANAAAAAAAAQJqwDQAAAAAAAECasA0AAAAAAABAmrANAAAAAAAAQJqwDQAAAAAAAECasA0A\n",
       "AAAAAABAmrANAAAAAAAAQJqwDQAAAAAAAECasA0AAAAAAABAmrANAAAAAAAAQJqwDQAAAAAAAECa\n",
       "sA0AAAAAAABAmrANAAAAAAAAQJqwDQAAAAAAAECasA0AAAAAAABAmrANAAAAAAAAQJqwDQAAAAAA\n",
       "AECasA0AAAAAAABAmrANAAAAAAAAQJqwDQAAAAAAAECasA0AAAAAAABAmrANAAAAAAAAQJqwDQAA\n",
       "AAAAAECasA0AAAAAAABAmrANAAAAAAAAQJqwDQAAAAAAAECasA0AAAAAAABAmrANAAAAAAAAQNrm\n",
       "xe6z6Q2Qc+v1cnoCpJx+eDQ9AXKOPj2YngApi6/b0xMgZbG6Oz0BcpZnm9MTIOXg/Nf0BMjZv/oy\n",
       "PQFSjq7eTU+AFB/bAAAAAAAAAKQJ2wAAAAAAAACkCdsAAAAAAAAApAnbAAAAAAAAAKQJ2wAAAAAA\n",
       "AACkCdsAAAAAAAAApAnbAAAAAAAAAKQJ2wAAAAAAAACkCdsAAAAAAAAApAnbAAAAAAAAAKQJ2wAA\n",
       "AAAAAACkCdsAAAAAAAAApAnbAAAAAAAAAKQJ2wAAAAAAAACkCdsAAAAAAAAApAnbAAAAAAAAAKQJ\n",
       "2wAAAAAAAACkCdsAAAAAAAAApAnbAAAAAAAAAKQJ2wAAAAAAAACkCdsAAAAAAAAApAnbAAAAAAAA\n",
       "AKQJ2wAAAAAAAACkCdsAAAAAAAAApAnbAAAAAAAAAKQJ2wAAAAAAAACkCdsAAAAAAAAApAnbAAAA\n",
       "AAAAAKQJ2wAAAAAAAACkCdsAAAAAAAAApAnbAAAAAAAAAKQJ2wAAAAAAAACkCdsAAAAAAAAApAnb\n",
       "AAAAAAAAAKQJ2wAAAAAAAACkCdsAAAAAAAAApAnbAAAAAAAAAKQJ2wAAAAAAAACkCdsAAAAAAAAA\n",
       "pAnbAAAAAAAAAKQJ2wAAAAAAAACkCdsAAAAAAAAApAnbAAAAAAAAAKQJ2wAAAAAAAACkCdsAAAAA\n",
       "AAAApAnbAAAAAAAAAKQJ2wAAAAAAAACkCdsAAAAAAAAApAnbAAAAAAAAAKQJ2wAAAAAAAACkCdsA\n",
       "AAAAAAAApAnbAAAAAAAAAKQJ2wAAAAAAAACkCdsAAAAAAAAApAnbAAAAAAAAAKQJ2wAAAAAAAACk\n",
       "CdsAAAAAAAAApAnbAAAAAAAAAKQJ2wAAAAAAAACkCdsAAAAAAAAApAnbAAAAAAAAAKQJ2wAAAAAA\n",
       "AACkCdsAAAAAAAAApAnbAAAAAAAAAKQJ2wAAAAAAAACkCdsAAAAAAAAApAnbAAAAAAAAAKQJ2wAA\n",
       "AAAAAACkCdsAAAAAAAAApAnbAAAAAAAAAKQJ2wAAAAAAAACkCdsAAAAAAAAApAnbAAAAAAAAAKQJ\n",
       "2wAAAAAAAACkCdsAAAAAAAAApAnbAAAAAAAAAKQJ2wAAAAAAAACkCdsAAAAAAAAApAnbAAAAAAAA\n",
       "AKQJ2wAAAAAAAACkCdsAAAAAAAAApAnbAAAAAAAAAKQJ2wAAAAAAAACkCdsAAAAAAAAApAnbAAAA\n",
       "AAAAAKQJ2wAAAAAAAACkCdsAAAAAAAAApAnbAAAAAAAAAKQJ2wAAAAAAAACkCdsAAAAAAAAApAnb\n",
       "AAAAAAAAAKQJ2wAAAAAAAACkCdsAAAAAAAAApAnbAAAAAAAAAKQJ2wAAAAAAAACkCdsAAAAAAAAA\n",
       "pAnbAAAAAAAAAKQJ2wAAAAAAAACkCdsAAAAAAAAApAnbAAAAAAAAAKQJ2wAAAAAAAACkCdsAAAAA\n",
       "AAAApAnbAAAAAAAAAKQJ2wAAAAAAAACkCdsAAAAAAAAApAnbAAAAAAAAAKQJ2wAAAAAAAACkCdsA\n",
       "AAAAAAAApAnbAAAAAAAAAKQJ2wAAAAAAAACkCdsAAAAAAAAApAnbAAAAAAAAAKQJ2wAAAAAAAACk\n",
       "CdsAAAAAAAAApAnbAAAAAAAAAKQJ2wAAAAAAAACkCdsAAAAAAAAApAnbAAAAAAAAAKQJ2wAAAAAA\n",
       "AACkCdsAAAAAAAAApAnbAAAAAAAAAKQJ2wAAAAAAAACkCdsAAAAAAAAApAnbAAAAAAAAAKQJ2wAA\n",
       "AAAAAACkCdsAAAAAAAAApAnbAAAAAAAAAKQJ2wAAAAAAAACkCdsAAAAAAAAApAnbAAAAAAAAAKQJ\n",
       "2wAAAAAAAACkCdsAAAAAAAAApAnbAAAAAAAAAKQJ2wAAAAAAAACkCdsAAAAAAAAApAnbAAAAAAAA\n",
       "AKQJ2wAAAAAAAACkCdsAAAAAAAAApAnbAAAAAAAAAKQJ2wAAAAAAAACkCdsAAAAAAAAApAnbAAAA\n",
       "AAAAAKQJ2wAAAAAAAACkbd5+9WJ6A+Ss3u9MT4CU4wM3Af9anmxPT4CUvdOt6QmQsnd2Y3oC5Cy/\n",
       "/5yeACkfNz5NT4Cc4/Xr6QmQcn5xMD0BUnxsAwAAAAAAAJAmbAMAAAAAAACQJmwDAAAAAAAAkCZs\n",
       "AwAAAAAAAJAmbAMAAAAAAACQJmwDAAAAAAAAkCZsAwAAAAAAAJAmbAMAAAAAAACQJmwDAAAAAAAA\n",
       "kCZsAwAAAAAAAJAmbAMAAAAAAACQJmwDAAAAAAAAkCZsAwAAAAAAAJAmbAMAAAAAAACQJmwDAAAA\n",
       "AAAAkCZsAwAAAAAAAJAmbAMAAAAAAACQJmwDAAAAAAAAkCZsAwAAAAAAAJAmbAMAAAAAAACQJmwD\n",
       "AAAAAAAAkCZsAwAAAAAAAJAmbAMAAAAAAACQJmwDAAAAAAAAkCZsAwAAAAAAAJAmbAMAAAAAAACQ\n",
       "JmwDAAAAAAAAkCZsAwAAAAAAAJAmbAMAAAAAAACQJmwDAAAAAAAAkCZsAwAAAAAAAJAmbAMAAAAA\n",
       "AACQJmwDAAAAAAAAkCZsAwAAAAAAAJAmbAMAAAAAAACQJmwDAAAAAAAAkCZsAwAAAAAAAJAmbAMA\n",
       "AAAAAACQJmwDAAAAAAAAkCZsAwAAAAAAAJAmbAMAAAAAAACQJmwDAAAAAAAAkCZsAwAAAAAAAJAm\n",
       "bAMAAAAAAACQJmwDAAAAAAAAkCZsAwAAAAAAAJAmbAMAAAAAAACQJmwDAAAAAAAAkCZsAwAAAAAA\n",
       "AJAmbAMAAAAAAACQJmwDAAAAAAAAkCZsAwAAAAAAAJAmbAMAAAAAAACQJmwDAAAAAAAAkCZsAwAA\n",
       "AAAAAJAmbAMAAAAAAACQJmwDAAAAAAAAkCZsAwAAAAAAAJAmbAMAAAAAAACQJmwDAAAAAAAAkCZs\n",
       "AwAAAAAAAJAmbAMAAAAAAACQJmwDAAAAAAAAkCZsAwAAAAAAAJAmbAMAAAAAAACQJmwDAAAAAAAA\n",
       "kCZsAwAAAAAAAJAmbAMAAAAAAACQJmwDAAAAAAAAkCZsAwAAAAAAAJAmbAMAAAAAAACQJmwDAAAA\n",
       "AAAAkCZsAwAAAAAAAJAmbAMAAAAAAACQJmwDAAAAAAAAkCZsAwAAAAAAAJAmbAMAAAAAAACQJmwD\n",
       "AAAAAAAAkCZsAwAAAAAAAJAmbAMAAAAAAACQJmwDAAAAAAAAkCZsAwAAAAAAAJAmbAMAAAAAAACQ\n",
       "JmwDAAAAAAAAkCZsAwAAAAAAAJAmbAMAAAAAAACQJmwDAAAAAAAAkCZsAwAAAAAAAJAmbAMAAAAA\n",
       "AACQJmwDAAAAAAAAkCZsAwAAAAAAAJAmbAMAAAAAAACQJmwDAAAAAAAAkCZsAwAAAAAAAJAmbAMA\n",
       "AAAAAACQJmwDAAAAAAAAkCZsAwAAAAAAAJAmbAMAAAAAAACQJmwDAAAAAAAAkCZsAwAAAAAAAJAm\n",
       "bAMAAAAAAACQJmwDAAAAAAAAkCZsAwAAAAAAAJAmbAMAAAAAAACQJmwDAAAAAAAAkCZsAwAAAAAA\n",
       "AJAmbAMAAAAAAACQJmwDAAAAAAAAkCZsAwAAAAAAAJAmbAMAAAAAAACQJmwDAAAAAAAAkCZsAwAA\n",
       "AAAAAJAmbAMAAAAAAACQJmwDAAAAAAAAkCZsAwAAAAAAAJAmbAMAAAAAAACQJmwDAAAAAAAAkCZs\n",
       "AwAAAAAAAJAmbAMAAAAAAACQJmwDAAAAAAAAkCZsAwAAAAAAAJAmbAMAAAAAAACQJmwDAAAAAAAA\n",
       "kCZsAwAAAAAAAJAmbAMAAAAAAACQJmwDAAAAAAAAkCZsAwAAAAAAAJAmbAMAAAAAAACQJmwDAAAA\n",
       "AAAAkCZsAwAAAAAAAJAmbAMAAAAAAACQJmwDAAAAAAAAkCZsAwAAAAAAAJAmbAMAAAAAAACQJmwD\n",
       "AAAAAAAAkCZsAwAAAAAAAJAmbAMAAAAAAACQJmwDAAAAAAAAkCZsAwAAAAAAAJAmbAMAAAAAAACQ\n",
       "JmwDAAAAAAAAkCZsAwAAAAAAAJAmbAMAAAAAAACQtrl++3N6A+R8We5MT4CU5cn29ATI2V1tTU+A\n",
       "lN3VjekJkLJ3fjE9AXIWG4vpCZDy+cfL6QmQs748m54AKffuPJ6eACk+tgEAAAAAAABIE7YBAAAA\n",
       "AAAASBO2AQAAAAAAAEgTtgEAAAAAAABIE7YBAAAAAAAASBO2AQAAAAAAAEgTtgEAAAAAAABIE7YB\n",
       "AAAAAAAASBO2AQAAAAAAAEgTtgEAAAAAAABIE7YBAAAAAAAASBO2AQAAAAAAAEgTtgEAAAAAAABI\n",
       "E7YBAAAAAAAASBO2AQAAAAAAAEgTtgEAAAAAAABIE7YBAAAAAAAASBO2AQAAAAAAAEgTtgEAAAAA\n",
       "AABIE7YBAAAAAAAASBO2AQAAAAAAAEgTtgEAAAAAAABIE7YBAAAAAAAASBO2AQAAAAAAAEgTtgEA\n",
       "AAAAAABIE7YBAAAAAAAASBO2AQAAAAAAAEgTtgEAAAAAAABIE7YBAAAAAAAASBO2AQAAAAAAAEgT\n",
       "tgEAAAAAAABIE7YBAAAAAAAASBO2AQAAAAAAAEgTtgEAAAAAAABIE7YBAAAAAAAASBO2AQAAAAAA\n",
       "AEgTtgEAAAAAAABIE7YBAAAAAAAASBO2AQAAAAAAAEgTtgEAAAAAAABIE7YBAAAAAAAASBO2AQAA\n",
       "AAAAAEgTtgEAAAAAAABIE7YBAAAAAAAASBO2AQAAAAAAAEgTtgEAAAAAAABIE7YBAAAAAAAASBO2\n",
       "AQAAAAAAAEgTtgEAAAAAAABIE7YBAAAAAAAASBO2AQAAAAAAAEgTtgEAAAAAAABIE7YBAAAAAAAA\n",
       "SBO2AQAAAAAAAEgTtgEAAAAAAABIE7YBAAAAAAAASBO2AQAAAAAAAEgTtgEAAAAAAABIE7YBAAAA\n",
       "AAAASBO2AQAAAAAAAEgTtgEAAAAAAABIE7YBAAAAAAAASBO2AQAAAAAAAEgTtgEAAAAAAABIE7YB\n",
       "AAAAAAAASBO2AQAAAAAAAEgTtgEAAAAAAABIE7YBAAAAAAAASBO2AQAAAAAAAEgTtgEAAAAAAABI\n",
       "E7YBAAAAAAAASBO2AQAAAAAAAEgTtgEAAAAAAABIE7YBAAAAAAAASBO2AQAAAAAAAEgTtgEAAAAA\n",
       "AABIE7YBAAAAAAAASBO2AQAAAAAAAEgTtgEAAAAAAABIE7YBAAAAAAAASBO2AQAAAAAAAEgTtgEA\n",
       "AAAAAABIE7YBAAAAAAAASBO2AQAAAAAAAEgTtgEAAAAAAABIE7YBAAAAAAAASBO2AQAAAAAAAEgT\n",
       "tgEAAAAAAABIE7YBAAAAAAAASBO2AQAAAAAAAEgTtgGA3+zby0oVABSGUfKc0k50mURFxyQcB9X7\n",
       "P0OXaaaGBFrQwDTLQG3eC+xvsNYT/MMNHxsAAAAAANKEbQAAAAAAAADShG0AAAAAAAAA0oRtAAAA\n",
       "AAAAANKEbQAAAAAAAADShG0AAAAAAAAA0oRtAAAAAAAAANKEbQAAAAAAAADShG0AAAAAAAAA0oRt\n",
       "AAAAAAAAANKEbQAAAAAAAADShG0AAAAAAAAA0oRtAAAAAAAAANKEbQAAAAAAAADShG0AAAAAAAAA\n",
       "0oRtAAAAAAAAANKEbQAAAAAAAADShG0AAAAAAAAA0oRtAAAAAAAAANKEbQAAAAAAAADShG0AAAAA\n",
       "AAAA0oRtAAAAAAAAANKEbQAAAAAAAADShG0AAAAAAAAA0oRtAAAAAAAAANKEbQAAAAAAAADShG0A\n",
       "AAAAAAAA0oRtAAAAAAAAANKEbQAAAAAAAADShG0AAAAAAAAA0oRtAAAAAAAAANKEbQAAAAAAAADS\n",
       "hG0AAAAAAAAA0oRtAAAAAAAAANKEbQAAAAAAAADShG0AAAAAAAAA0oRtAAAAAAAAANKEbQAAAAAA\n",
       "AADShG0AAAAAAAAA0oRtAAAAAAAAANKEbQAAAAAAAADShG0AAAAAAAAA0oRtAAAAAAAAANKEbQAA\n",
       "AAAAAADShG0AAAAAAAAA0oRtAAAAAAAAANKEbQAAAAAAAADShG0AAAAAAAAA0oRtAAAAAAAAANKE\n",
       "bQAAAAAAAADShG0AAAAAAAAA0oRtAAAAAAAAANKEbQAAAAAAAADSlqef19MbIOfo+9PpCZBy8PPh\n",
       "9ATI2T9bTk+AlP2Ly+kJkLK38Wl6AuR8+/1xegLE+DmC/z1ZvZ2eACnbV7vTEyDF9QQAAAAAAABA\n",
       "mrANAAAAAAAAQJqwDQAAAAAAAECasA0AAAAAAABAmrANAAAAAAAAQJqwDQAAAAAAAECasA0AAAAA\n",
       "AABAmrANAAAAAAAAQJqwDQAAAAAAAECasA0AAAAAAABAmrANAAAAAAAAQJqwDQAAAAAAAECasA0A\n",
       "AAAAAABAmrANAAAAAAAAQJqwDQAAAAAAAECasA0AAAAAAABAmrANAAAAAAAAQJqwDQAAAAAAAECa\n",
       "sA0AAAAAAABAmrANAAAAAAAAQJqwDQAAAAAAAECasA0AAAAAAABAmrANAAAAAAAAQJqwDQAAAAAA\n",
       "AECasA0AAAAAAABAmrANAAAAAAAAQJqwDQAAAAAAAECasA0AAAAAAABAmrANAAAAAAAAQJqwDQAA\n",
       "AAAAAECasA0AAAAAAABAmrANAAAAAAAAQJqwDQAAAAAAAECasA0AAAAAAABAmrANAAAAAAAAQJqw\n",
       "DQAAAAAAAECasA0AAAAAAABAmrANAAAAAAAAQJqwDQAAAAAAAECasA0AAAAAAABAmrANAAAAAAAA\n",
       "QJqwDQAAAAAAAECasA0AAAAAAABAmrANAAAAAAAAQJqwDQAAAAAAAECasA0AAAAAAABAmrANAAAA\n",
       "AAAAQJqwDQAAAAAAAECasA0AAAAAAABAmrANAAAAAAAAQJqwDQAAAAAAAECasA0AAAAAAABAmrAN\n",
       "AAAAAAAAQJqwDQAAAAAAAECasA0AAAAAAABAmrANAAAAAAAAQJqwDQAAAAAAAECasA0AAAAAAABA\n",
       "mrANAAAAAAAAQJqwDQAAAAAAAECasA0AAAAAAABAmrANAAAAAAAAQJqwDQAAAAAAAECasA0AAAAA\n",
       "AABAmrANAAAAAAAAQJqwDQAAAAAAAECasA0AAAAAAABAmrANAAAAAAAAQJqwDQAAAAAAAECasA0A\n",
       "AAAAAABAmrANAAAAAAAAQJqwDQAAAAAAAECasA0AAAAAAABAmrANAAAAAAAAQJqwDQAAAAAAAECa\n",
       "sA0AAAAAAABAmrANAAAAAAAAQJqwDQAAAAAAAECasA0AAAAAAABAmrANAAAAAAAAQJqwDQAAAAAA\n",
       "AECasA0AAAAAAABAmrANAAAAAAAAQJqwDQAAAAAAAECasA0AAAAAAABAmrANAAAAAAAAQJqwDQAA\n",
       "AAAAAECasA0AAAAAAABAmrANAAAAAAAAQJqwDQAAAAAAAECasA0AAAAAAABAmrANAAAAAAAAQJqw\n",
       "DQAAAAAAAECasA0AAAAAAABAmrANAAAAAAAAQJqwDQAAAAAAAECasA0AAAAAAABAmrANAAAAAAAA\n",
       "QJqwDQAAAAAAAECasA0AAAAAAABAmrANAAAAAAAAQJqwDQAAAAAAAECasA0AAAAAAABAmrANAAAA\n",
       "AAAAQJqwDQAAAAAAAECasA0AAAAAAABAmrANAAAAAAAAQJqwDQAAAAAAAECasA0AAAAAAABAmrAN\n",
       "AAAAAAAAQJqwDQAAAAAAAECasA0AAAAAAABAmrANAAAAAAAAQJqwDQAAAAAAAECasA0AAAAAAABA\n",
       "mrANAAAAAAAAQJqwDQAAAAAAAECasA0AAAAAAABAmrANAAAAAAAAQJqwDQAAAAAAAECasA0AAAAA\n",
       "AABAmrANAAAAAAAAQJqwDQAAAAAAAECasA0AAAAAAABAmrANAAAAAAAAQJqwDQAAAAAAAECasA0A\n",
       "AAAAAABAmrANAAAAAAAAQJqwDQAAAAAAAECasA0AAAAAAABAmrANAAAAAAAAQJqwDQAAAAAAAECa\n",
       "sA0AAAAAAABAmrANAAAAAAAAQJqwDQAAAAAAAECasA0AAAAAAABAmrANAAAAAAAAQJqwDQAAAAAA\n",
       "AECasA0AAAAAAABAmrANAAAAAAAAQJqwDQAAAAAAAECasA0AAAAAAABAmrANAAAAAAAAQNry5Ouz\n",
       "6Q2Qc3j6aHoCpOyf356eADkHv/5OT4CUvY1P0xMg5eTi3fQEyFks7k1PgJRnm6+mJ0DOztXO9ARI\n",
       "WW9tTU+AFB/bAAAAAAAAAKQJ2wAAAAAAAACkCdsAAAAAAAAApAnbAAAAAAAAAKQJ2wAAAAAAAACk\n",
       "CdsAAAAAAAAApAnbAAAAAAAAAKQJ2wAAAAAAAACkCdsAAAAAAAAApAnbAAAAAAAAAKQJ2wAAAAAA\n",
       "AACkCdsAAAAAAAAApAnbAAAAAAAAAKQJ2wAAAAAAAACkCdsAAAAAAAAApAnbAAAAAAAAAKQJ2wAA\n",
       "AAAAAACkCdsAAAAAAAAApAnbAAAAAAAAAKQJ2wAAAAAAAACkCdsAAAAAAAAApAnbAAAAAAAAAKQJ\n",
       "2wAAAAAAAACkCdsAAAAAAAAApAnbAAAAAAAAAKQJ2wAAAAAAAACkCdsAAAAAAAAApAnbAAAAAAAA\n",
       "AKQJ2wAAAAAAAACkCdsAAAAAAAAApAnbAAAAAAAAAKQJ2wAAAAAAAACkCdsAAAAAAAAApAnbAAAA\n",
       "AAAAAKQJ2wAAAAAAAACkCdsAAAAAAAAApAnbAAAAAAAAAKQJ2wAAAAAAAACkCdsAAAAAAAAApAnb\n",
       "AAAAAAAAAKQJ2wAAAAAAAACkCdsAAAAAAAAApAnbAAAAAAAAAKQJ2wAAAAAAAACkCdsAAAAAAAAA\n",
       "pAnbAAAAAAAAAKQJ2wAAAAAAAACkCdsAAAAAAAAApAnbAAAAAAAAAKQJ2wAAAAAAAACkCdsAAAAA\n",
       "AAAApAnbAAAAAAAAAKQJ2wAAAAAAAACkCVetCOUAABsMSURBVNsAAAAAAAAApAnbAAAAAAAAAKQJ\n",
       "2wAAAAAAAACkCdsAAAAAAAAApAnbAAAAAAAAAKQJ2wAAAAAAAACkCdsAAAAAAAAApAnbAAAAAAAA\n",
       "AKQJ2wAAAAAAAACkCdsAAAAAAAAApAnbAAAAAAAAAKQJ2wAAAAAAAACkCdsAAAAAAAAApAnbAAAA\n",
       "AAAAAKQJ2wAAAAAAAACkCdsAAAAAAAAApAnbAAAAAAAAAKQJ2wAAAAAAAACkCdsAAAAAAAAApAnb\n",
       "AAAAAAAAAKQJ2wAAAAAAAACkCdsAAAAAAAAApAnbAAAAAAAAAKQJ2wAAAAAAAACkCdsAAAAAAAAA\n",
       "pAnbAAAAAAAAAKQJ2wAAAAAAAACkCdsAAAAAAAAApAnbAAAAAAAAAKQJ2wAAAAAAAACkCdsAAAAA\n",
       "AAAApAnbAAAAAAAAAKQJ2wAAAAAAAACkCdsAAAAAAAAApAnbAAAAAAAAAKQJ2wAAAAAAAACkCdsA\n",
       "AAAAAAAApAnbAAAAAAAAAKQJ2wAAAAAAAACkCdsAAAAAAAAApAnbAAAAAAAAAKQJ2wAAAAAAAACk\n",
       "CdsAAAAAAAAApAnbAAAAAAAAAKQJ2wAAAAAAAACkCdsAAAAAAAAApAnbAAAAAAAAAKQJ2wAAAAAA\n",
       "AACkCdsAAAAAAAAApAnbAAAAAAAAAKQJ2wAAAAAAAACkCdsAAAAAAAAApAnbAAAAAAAAAKQJ2wAA\n",
       "AAAAAACkCdsAAAAAAAAApAnbAAAAAAAAAKQJ2wAAAAAAAACkCdsAAAAAAAAApAnbAAAAAAAAAKQJ\n",
       "2wAAAAAAAACkCdsAAAAAAAAApAnbAAAAAAAAAKQJ2wAAAAAAAACkCdsAAAAAAAAApAnbAAAAAAAA\n",
       "AKQJ2wAAAAAAAACkCdsAAAAAAAAApAnbAAAAAAAAAKQJ2wAAAAAAAACkCdsAAAAAAAAApAnbAAAA\n",
       "AAAAAKQJ2wAAAAAAAACkCdsAAAAAAAAApAnbAAAAAAAAAKQJ2wAAAAAAAACkCdsAAAAAAAAApAnb\n",
       "AAAAAAAAAKQJ2wAAAAAAAACkCdsAAAAAAAAApAnbAAAAAAAAAKQJ2wAAAAAAAACkCdsAAAAAAAAA\n",
       "pAnbAAAAAAAAAKQJ2wAAAAAAAACkCdsAAAAAAAAApAnbAAAAAAAAAKQJ2wAAAAAAAACkCdsAAAAA\n",
       "AAAApAnbAAAAAAAAAKQJ2wAAAAAAAACkLY9+PJ7eADmH53enJ0DKwfnV9ATI2ds4mJ4AKScX76cn\n",
       "QMpycX96AuQ833w9PQFSXl6vpydAzvbqzvQESFmvbqYnQIqPbQAAAAAAAADShG0AAAAAAAAA0oRt\n",
       "AAAAAAAAANKEbQAAAAAAAADShG0AAAAAAAAA0oRtAAAAAAAAANKEbQAAAAAAAADShG0AAAAAAAAA\n",
       "0oRtAAAAAAAAANKEbQAAAAAAAADShG0AAAAAAAAA0oRtAAAAAAAAANKEbQAAAAAAAADShG0AAAAA\n",
       "AAAA0oRtAAAAAAAAANKEbQAAAAAAAADShG0AAAAAAAAA0oRtAAAAAAAAANKEbQAAAAAAAADShG0A\n",
       "AAAAAAAA0oRtAAAAAAAAANKEbQAAAAAAAADShG0AAAAAAAAA0oRtAAAAAAAAANKEbQAAAAAAAADS\n",
       "hG0AAAAAAAAA0oRtAAAAAAAAANKEbQAAAAAAAADShG0AAAAAAAAA0oRtAAAAAAAAANKEbQAAAAAA\n",
       "AADShG0AAAAAAAAA0oRtAAAAAAAAANKEbQAAAAAAAADShG0AAAAAAAAA0oRtAAAAAAAAANKEbQAA\n",
       "AAAAAADShG0AAAAAAAAA0oRtAAAAAAAAANKEbQAAAAAAAADShG0AAAAAAAAA0oRtAAAAAAAAANKE\n",
       "bQAAAAAAAADShG0AAAAAAAAA0oRtAAAAAAAAANKEbQAAAAAAAADShG0AAAAAAAAA0oRtAAAAAAAA\n",
       "ANKEbQAAAAAAAADShG0AAAAAAAAA0oRtAAAAAAAAANKEbQAAAAAAAADShG0AAAAAAAAA0oRtAAAA\n",
       "AAAAANKEbQAAAAAAAADShG0AAAAAAAAA0oRtAAAAAAAAANKEbQAAAAAAAADShG0AAAAAAAAA0oRt\n",
       "AAAAAAAAANKEbQAAAAAAAADShG0AAAAAAAAA0oRtAAAAAAAAANKEbQAAAAAAAADShG0AAAAAAAAA\n",
       "0oRtAAAAAAAAANKEbQAAAAAAAADShG0AAAAAAAAA0oRtAAAAAAAAANKEbQAAAAAAAADShG0AAAAA\n",
       "AAAA0oRtAAAAAAAAANKEbQAAAAAAAADShG0AAAAAAAAA0oRtAAAAAAAAANKEbQAAAAAAAADShG0A\n",
       "AAAAAAAA0oRtAAAAAAAAANKEbQAAAAAAAADShG0AAAAAAAAA0oRtAAAAAAAAANKEbQAAAAAAAADS\n",
       "hG0AAAAAAAAA0oRtAAAAAAAAANKEbQAAAAAAAADShG0AAAAAAAAA0oRtAAAAAAAAANKEbQAAAAAA\n",
       "AADShG0AAAAAAAAA0oRtAAAAAAAAANKEbQAAAAAAAADShG0AAAAAAAAA0oRtAAAAAAAAANKEbQAA\n",
       "AAAAAADShG0AAAAAAAAA0oRtAAAAAAAAANKEbQAAAAAAAADShG0AAAAAAAAA0oRtAAAAAAAAANKE\n",
       "bQAAAAAAAADShG0AAAAAAAAA0oRtAAAAAAAAANKEbQAAAAAAAADShG0AAAAAAAAA0oRtAAAAAAAA\n",
       "ANKEbQAAAAAAAADShG0AAAAAAAAA0oRtAAAAAAAAANKEbQAAAAAAAADShG0AAAAAAAAA0oRtAAAA\n",
       "AAAAANKEbQAAAAAAAADShG0AAAAAAAAA0oRtAAAAAAAAANKEbQAAAAAAAADShG0AAAAAAAAA0oRt\n",
       "AAAAAAAAANKEbQAAAAAAAADShG0AAAAAAAAA0oRtAAAAAAAAANKEbQAAAAAAAADShG0AAAAAAAAA\n",
       "0oRtAAAAAAAAANKEbQAAAAAAAADShG0AAAAAAAAA0oRtAAAAAAAAANKEbQAAAAAAAADShG0AAAAA\n",
       "AAAA0oRtAAAAAAAAANKEbQAAAAAAAADShG0AAAAAAAAA0oRtAAAAAAAAANKEbQAAAAAAAADShG0A\n",
       "AAAAAAAA0oRtAAAAAAAAANKEbQAAAAAAAADShG0AAAAAAAAA0oRtAAAAAAAAANKEbQAAAAAAAADS\n",
       "hG0AAAAAAAAA0oRtAAAAAAAAANKEbQAAAAAAAADShG0AAAAAAAAA0pZfzh5Mb4Ccw/Nb0xMgZf/m\n",
       "eHoC5BxffpieACmLxWp6AqSsN99MT4Cc3Zv19ARIeXHv9vQEyNleXU9PgJT16s/0BEjxsQ0AAAAA\n",
       "AABAmrANAAAAAAAAQJqwDQAAAAAAAECasA0AAAAAAABAmrANAAAAAAAAQJqwDQAAAAAAAECasA0A\n",
       "AAAAAABAmrANAAAAAAAAQJqwDQAAAAAAAECasA0AAAAAAABAmrANAAAAAAAAQJqwDQAAAAAAAECa\n",
       "sA0AAAAAAABAmrANAAAAAAAAQJqwDQAAAAAAAECasA0AAAAAAABAmrANAAAAAAAAQJqwDQAAAAAA\n",
       "AECasA0AAAAAAABAmrANAAAAAAAAQJqwDQAAAAAAAECasA0AAAAAAABAmrANAAAAAAAAQJqwDQAA\n",
       "AAAAAECasA0AAAAAAABAmrANAAAAAAAAQJqwDQAAAAAAAECasA0AAAAAAABAmrANAAAAAAAAQJqw\n",
       "DQAAAAAAAECasA0AAAAAAABAmrANAAAAAAAAQJqwDQAAAAAAAECasA0AAAAAAABAmrANAAAAAAAA\n",
       "QJqwDQAAAAAAAECasA0AAAAAAABAmrANAAAAAPCvfXvHhTCAwjBcICQ/hYq4jMsWVPa/Aq2G0EvI\n",
       "yGjM6G3gvMXzrOBrT94cAADShG0AAAAAAAAA0oRtAAAAAAAAANKEbQAAAAAAAADShG0AAAAAAAAA\n",
       "0oRtAAAAAAAAANKEbQAAAAAAAADShG0AAAAAAAAA0oRtAAAAAAAAANKEbQAAAAAAAADShG0AAAAA\n",
       "AAAA0oRtAAAAAAAAANKEbQAAAAAAAADShG0AAAAAAAAA0oRtAAAAAAAAANKEbQAAAAAAAADShG0A\n",
       "AAAAAAAA0oRtAAAAAAAAANKEbQAAAAAAAADShG0AAAAAAAAA0oRtAAAAAAAAANKEbQAAAAAAAADS\n",
       "hG0AAAAAAAAA0oRtAAAAAAAAANKEbQAAAAAAAADShG0AAAAAAAAA0oRtAAAAAAAAANKEbQAAAAAA\n",
       "AADShG0AAAAAAAAA0oRtAAAAAAAAANKEbQAAAAAAAADShG0AAAAAAAAA0oRtAAAAAAAAANKEbQAA\n",
       "AAAAAADShG0AAAAAAAAA0oRtAAAAAAAAANKEbQAAAAAAAADShG0AAAAAAAAA0oRtAAAAAAAAANKE\n",
       "bQAAAAAAAADShG0AAAAAAAAA0oRtAAAAAAAAANKEbQAAAAAAAADShG0AAAAAAAAA0oRtAAAAAAAA\n",
       "ANKEbQAAAAAAAADShG0AAAAAAAAA0oRtAAAAAAAAANKEbQAAAAAAAADShG0AAAAAAAAA0oRtAAAA\n",
       "AAAAANKEbQAAAAAAAADShG0AAAAAAAAA0oRtAAAAAAAAANKEbQAAAAAAAADShG0AAAAAAAAA0oRt\n",
       "AAAAAAAAANKEbQAAAAAAAADShG0AAAAAAAAA0oRtAAAAAAAAANKEbQAAAAAAAADShG0AAAAAAAAA\n",
       "0oRtAAAAAAAAANKEbQAAAAAAAADShG0AAAAAAAAA0oRtAAAAAAAAANKEbQAAAAAAAADShG0AAAAA\n",
       "AAAA0oRtAAAAAAAAANKEbQAAAAAAAADShG0AAAAAAAAA0oRtAAAAAAAAANKEbQAAAAAAAADShG0A\n",
       "AAAAAAAA0oRtAAAAAAAAANKEbQAAAAAAAADShG0AAAAAAAAA0oRtAAAAAAAAANKEbQAAAAAAAADS\n",
       "hG0AAAAAAAAA0oRtAAAAAAAAANKEbQAAAAAAAADShG0AAAAAAAAA0oRtAAAAAAAAANKEbQAAAAAA\n",
       "AADShG0AAAAAAAAA0oRtAAAAAAAAANKEbQAAAAAAAADShG0AAAAAAAAA0oRtAAAAAAAAANKEbQAA\n",
       "AAAAAADShG0AAAAAAAAA0oRtAAAAAAAAANKEbQAAAAAAAADShG0AAAAAAAAA0oRtAAAAAAAAANKE\n",
       "bQAAAAAAAADShG0AAAAAAAAA0oRtAAAAAAAAANKEbQAAAAAAAADShG0AAAAAAAAA0oRtAAAAAAAA\n",
       "ANKEbQAAAAAAAADShG0AAAAAAAAA0oRtAAAAAAAAANKEbQAAAAAAAADS9l/Xh9MbIOflZz09AVLe\n",
       "t0/TEyBnt/udngApl0cP0xMg5X57NT0Bcm6Xg+kJkLJa3BTw3/WymZ4AKRfHX9MTIMXHNgAAAAAA\n",
       "AABpwjYAAAAAAAAAacI2AAAAAAAAAGnCNgAAAAAAAABpwjYAAAAAAAAAacI2AAAAAAAAAGnCNgAA\n",
       "AAAAAABpwjYAAAAAAAAAacI2AAAAAAAAAGnCNgAAAAAAAABpwjYAAAAAAAAAacI2AAAAAAAAAGnC\n",
       "NgAAAAAAAABpwjYAAAAAAAAAacI2AAAAAAAAAGnCNgAAAAAAAABpwjYAAAAAAAAAacI2AAAAAAAA\n",
       "AGnCNgAAAAAAAABpwjYAAAAAAAAAacI2AAAAAAAAAGnCNgAAAAAAAABpwjYAAAAAAAAAacI2AAAA\n",
       "AAAAAGnCNgAAAAAAAABpwjYAAAAAAAAAacI2AAAAAAAAAGnCNgAAAAAAAABpwjYAAAAAAAAAacI2\n",
       "AAAAAAAAAGnCNgAAAAAAAABpwjYAAAAAAAAAacI2AAAAAAAAAGnCNgAAAAAAAABpwjYAAAAAAAAA\n",
       "acI2AAAAAAAAAGnCNgAAAAAAAABpwjYAAAAAAAAAacI2AAAAAAAAAGnCNgAAAAAAAABpwjYAAAAA\n",
       "AAAAacI2AAAAAAAAAGnCNgAAAAAAAABpwjYAAAAAAAAAacI2AAAAAAAAAGnCNgAAAAAAAABpwjYA\n",
       "AAAAAAAAacI2AAAAAAAAAGnCNgAAAAAAAABpwjYAAAAAAAAAacI2AAAAAAAAAGnCNgAAAAAAAABp\n",
       "wjYAAAAAAAAAacI2AAAAAAAAAGnCNgAAAAAAAABpwjYAAAAAAAAAacI2AAAAAAAAAGnCNgAAAAAA\n",
       "AABpwjYAAAAAAAAAacI2AAAAAAAAAGnCNgAAAAAAAABpwjYAAAAAAAAAacI2AAAAAAAAAGnCNgAA\n",
       "AAAAAABpwjYAAAAAAAAAacI2AAAAAAAAAGnCNgAAAAAAAABpwjYAAAAAAAAAacI2AAAAAAAAAGnC\n",
       "NgAAAAAAAABpwjYAAAAAAAAAacI2AAAAAAAAAGnCNgAAAAAAAABpwjYAAAAAAAAAacI2AAAAAAAA\n",
       "AGnCNgAAAAAAAABpwjYAAAAAAAAAacI2AAAAAAAAAGnCNgAAAAAAAABpwjYAAAAAAAAAacI2AAAA\n",
       "AAAAAGnCNgAAAAAAAABpwjYAAAAAAAAAacI2AAAAAAAAAGnCNgAAAAAAAABpwjYAAAAAAAAAacI2\n",
       "AAAAAAAAAGnCNgAAAAAAAABpwjYAAAAAAAAAacI2AAAAAAAAAGnCNgAAAAAAAABpwjYAAAAAAAAA\n",
       "acI2AAAAAAAAAGnCNgAAAAAAAABpwjYAAAAAAAAAacI2AAAAAAAAAGnCNgAAAAAAAABpwjYAAAAA\n",
       "AAAAacI2AAAAAAAAAGnCNgAAAAAAAABpwjYAAAAAAAAAacI2AAAAAAAAAGnCNgAAAAAAAABpwjYA\n",
       "AAAAAAAAacI2AAAAAAAAAGnCNgAAAAAAAABpwjYAAAAAAAAAacI2AAAAAAAAAGnCNgAAAAAAAABp\n",
       "wjYAAAAAAAAAacI2AAAAAAAAAGnCNgAAAAAAAABpwjYAAAAAAAAAacI2AAAAAAAAAGnCNgAAAAAA\n",
       "AABpwjYAAAAAAAAAacI2AAAAAAAAAGnCNgAAAAAAAABpwjYAAAAAAAAAacI2AAAAAAAAAGnCNgAA\n",
       "AAAAAABpwjYAAAAAAAAAacI2AAAAAAAAAGnCNgAAAAAAAABpwjYAAAAAAAAAacI2AAAAAAAAAGnC\n",
       "NgAAAAAAAABpwjYAAAAAAAAAacI2AAAAAAAAAGnCNgAAAAAAAABpwjYAAAAAAAAAacI2AAAAAAAA\n",
       "AGnCNgAAAAAAAABpwjYAAAAAAAAAacI2AAAAAAAAAGnCNgAAAAAAAABpwjYAAAAAAAAAacI2AAAA\n",
       "AAAAAGnCNgAAAAAAAABpwjYAAAAAAAAAacI2AAAAAAAAAGnCNgAAAAAAAABpwjYAAAAAAAAAaftv\n",
       "37vpDZDzuvc8PQFSNpu36QmQc378OD0BUu62q+kJkHKzHExPgJzV8js9AVJWy2Z6AuRcnXxOT4CU\n",
       "s9OP6QmQ4mMbAAAAAAAAgDRhGwAAAAAAAIA0YRsAAAAAAACANGEbAAAAAAAAgDRhGwAAAAAAAIA0\n",
       "YRsAAAAAAACANGEbAAAAAAAAgDRhGwAAAAAAAIA0YRsAAAAAAACANGEbAAAAAAAAgDRhGwAAAAAA\n",
       "AIA0YRsAAAAAAACANGEbAAAAAAAAgDRhGwAAAAAAAIA0YRsAAAAAAACANGEbAAAAAAAAgDRhGwAA\n",
       "AAAAAIA0YRsAAAAAAACANGEbAAAAAAAAgDRhGwAAAAAAAIA0YRsAAAAAAACANGEbAAAAAAAAgDRh\n",
       "GwAAAAAAAIA0YRsAAAAAAACANGEbAAAAAAAAgDRhGwAAAAAAAIA0YRsAAAAAAACANGEbAAAAAAAA\n",
       "gDRhGwAAAAAAAIA0YRsAAAAAAACANGEbAAAAAAAAgDRhGwAAAAAAAIA0YRsAAAAAAACANGEbAAAA\n",
       "AAAAgDRhGwAAAAAAAIA0YRsAAAAAAACANGEbAAAAAAAAgDRhGwAAAAAAAIA0YRsAAAAAAACANGEb\n",
       "AAAAAAAAgDRhGwAAAAAAAIA0YRsAAAAAAACANGEbAAAAAAAAgDRhGwAAAAAAAIA0YRsAAAAAAACA\n",
       "NGEbAAAAAAAAgDRhGwAAAAAAAIA0YRsAAAAAAACANGEbAAAAAAAAgDRhGwAAAAAAAIA0YRsAAAAA\n",
       "AACANGEbAAAAAAAAgDRhGwAAAAAAAIA0YRsAAAAAAACANGEbAAAAAAAAgDRhGwAAAAAAAIA0YRsA\n",
       "AAAAAACANGEbAAAAAAAAgDRhGwAAAAAAAIA0YRsAAAAAAACANGEbAAAAAAAAgDRhGwAAAAAAAIA0\n",
       "YRsAAAAAAACANGEbAAAAAAAAgDRhGwAAAAAAAIA0YRsAAAAAAACANGEbAAAAAAAAgDRhGwAAAAAA\n",
       "AIA0YRsAAAAAAACANGEbAAAAAAAAgDRhGwAAAAAAAIA0YRsAAAAAAACANGEbAAAAAAAAgDRhGwAA\n",
       "AAAAAIA0YRsAAAAAAACANGEbAAAAAAAAgDRhGwAAAAAAAIA0YRsAAAAAAACANGEbAAAAAAAAgDRh\n",
       "GwAAAAAAAIA0YRsAAAAAAACANGEbAAAAAAAAgDRhGwAAAAAAAIA0YRsAAAAAAACANGEbAAAAAAAA\n",
       "gDRhGwAAAAAAAIA0YRsAAAAAAACANGEbAAAAAAAAgDRhGwAAAAAAAIA0YRsAAAAAAACANGEbAAAA\n",
       "AAAAgDRhGwAAAAAAAIA0YRsAAAAAAACANGEbAAAAAAAAgDRhGwAAAAAAAIA0YRsAAAAAAACANGEb\n",
       "AAAAAAAAgDRhGwAAAAAAAIA0YRsAAAAAAACANGEbAAAAAAAAgDRhGwAAAAAAAIA0YRsAAAAAAACA\n",
       "NGEbAAAAAAAAgDRhGwAAAAAAAIA0YRsAAAAAAACANGEbAAAAAAAAgDRhGwAAAAAAAIA0YRsAAAAA\n",
       "AACANGEbAAAAAAAAgDRhGwAAAAAAAIA0YRsAAAAAAACANGEbAAAAAAAAgDRhGwAAAAAAAIA0YRsA\n",
       "AAAAAACANGEbAAAAAAAAgDRhGwAAAAAAAIA0YRsAAAAAAACANGEbAAAAAAAAgDRhGwAAAAAAAIA0\n",
       "YRsAAAAAAACANGEbAAAAAAAAgDRhGwAAAAAAAIA0YRsAAAAAAACANGEbAAAAAAAAgDRhGwAAAAAA\n",
       "AIA0YRsAAAAAAACANGEbAAAAAAAAgDRhGwAAAAAAAIA0YRsAAAAAAACANGEbAAAAAAAAgDRhGwAA\n",
       "AAAAAIA0YRsAAAAAAACANGEbAAAAAAAAgDRhGwAAAAAAAIA0YRsAAAAAAACANGEbAAAAAAAAgDRh\n",
       "GwAAAAAAAIA0YRsAAAAAAACANGEbAAAAAAAAgDRhGwAAAAAAAIA0YRsAAAAAAACANGEbAAAAAAAA\n",
       "gLQ/0U+50hEmtjAAAAAASUVORK5CYII=\n",
       "\" transform=\"translate(139, 47)\"/>\n",
       "</g>\n",
       "<defs>\n",
       "  <clipPath id=\"clip763\">\n",
       "    <rect x=\"2160\" y=\"47\" width=\"73\" height=\"1440\"/>\n",
       "  </clipPath>\n",
       "</defs>\n",
       "<g clip-path=\"url(#clip763)\">\n",
       "<image width=\"72\" height=\"1439\" xlink:href=\"data:image/png;base64,\n",
       "iVBORw0KGgoAAAANSUhEUgAAAEgAAAWfCAYAAAAI7rB3AAAMWUlEQVR4nO3dwY0rRxAFwaZQ/lsh\n",
       "L6XfLQtUeSQPERYsEg8c9MyQ+/n3/v0O/+uvb/8Bv06gIFAQKAgU5r5/v/03/DQLCgIFgYJAQaAw\n",
       "7/359t/w0ywoCBQECgIFR41gQUGgIFAQKAgU5rmKrSwoCBQECgIFgcK86yq2saAgUBAoCBQcNYIF\n",
       "BYGCQEGgIFBwFQsWFAQKAgWBgvtBwYKCQEGgIFAQKMxx1FhZUBAoCBQECgIFN8yCBQWBgkBBoDDH\n",
       "DbOVBQWBgkBBoCBQmHP/+fbf8NMsKAgUBAoCBYGCxz7BgoJAQaAgUHDDLFhQECgIFAQKAgVXsWBB\n",
       "QaAgUBAouB8ULCgIFAQKAgWBwnwcNVYWFAQKAgWBgkBhzvWfWTYWFAQKAgWBgqNGsKAgUBAoCBQE\n",
       "Co4awYKCQEGgIFAQKHjDLFhQECgIFAQK83HUWFlQECgIFAQKAgXvSQcLCgIFgYJAwVEjWFAQKAgU\n",
       "BAoCBc/mgwUFgYJAQaAgUHAWCxYUBAoCBYGCo0awoCBQECgIFAQKjhrBgoJAQaAgUBAozLn323/D\n",
       "T7OgIFAQKAgUHDWCBQWBgkBBoCBQ8NgnWFAQKAgUBAo+pIMFBYGCQEGgIFCYj6caKwsKAgWBgkBB\n",
       "oOAsFiwoCBQECgIFL1AFCwoCBYGCQEGg4IZZsKAgUBAoCBTcDwoWFAQKAgWBgkDBDbNgQUGgIFAQ\n",
       "KAgUXMWCBQWBgkBBoOB788GCgkBBoCBQECg4agQLCgIFgYJAQaDgKhYsKAgUBAoCBR/SwYKCQEGg\n",
       "IFAQKLiKBQsKAgWBgkBhzvMhvbGgIFAQKAgUBAqOGsGCgkBBoCBQECi4igULCgIFgYJAwYd0sKAg\n",
       "UBAoCBQECnPu+/bf8NMsKAgUBAoCBYGCs1iwoCBQECgIFBw1ggUFgYJAQaAgUHDUCBYUBAoCBYGC\n",
       "o0awoCBQECgIFAQKc5w0VhYUBAoCBYGCQGHOcxbbWFAQKAgUBAqOGsGCgkBBoCBQECi4igULCgIF\n",
       "gYJAQaAwfohzZ0FBoCBQECg4agQLCgIFgYJAQaDgKhYsKAgUBAoChTn38+2/4adZUBAoCBQECgKF\n",
       "ec9VbGNBQaAgUBAoCBTcMAsWFAQKAgWBghtmwYKCQEGgIFAQKMy7Gm3UCQIFgYJAwVEjWFAQKAgU\n",
       "BAoChTmeza8sKAgUBAoCBYHCPGexlQUFgYJAQaAwx1ONlTpBoCBQECgIFBw1ggUFgYJAQaAgUPDY\n",
       "J1hQECgIFAQKXgMO6gSBgkBBoCBQ8J50sKAgUBAoCBQ81QgWFAQKAgWBgkBh3tNoo04QKAgUBAoC\n",
       "BTfMggUFgYJAQaDghlmwoCBQECgIFAQKc9wwW6kTBAoCBYGCQMFZLFhQECgIFAQKPqSDBQWBgkBB\n",
       "oCBQ8L35YEFBoCBQECj43nxQJwgUBAoCBYHCPEeNlQUFgYJAQaAgUPDYJ1hQECgIFAQK/jNLUCcI\n",
       "FAQKAgWBghtmwYKCQEGgIFAQKLhhFiwoCBQECgIFR41gQUGgIFAQKAgUvCcd1AkCBYGCQMFRI1hQ\n",
       "ECgIFAQKAgVPNYIFBYGCQEGgIFBwFgsWFAQKAgWBgn+fFSwoCBQECgIFgYJ/ZRzUCQIFgYJAQaDg\n",
       "hlmwoCBQECgIFDybDxYUBAoCBYGCQMFRI1hQECgIFAQKc31IrywoCBQECgIFgYLvzQd1gkBBoCBQ\n",
       "ECi4YRYsKAgUBAoCBR/SwYKCQEGgIFAQKHjDLFhQECgIFAQKjhrBgoJAQaAgUBAouIoFCwoCBYGC\n",
       "QEGg4NdfgjpBoCBQECjM9VRjZUFBoCBQECgIFNwwCxYUBAoCBYGCQMFVLFhQECgIFAQKPqSDBQWB\n",
       "gkBBoCBQ8BtmwYKCQEGgIFBw1AgWFAQKAgWBgkDBVSxYUBAoCBQECgIFX2YJ6gSBgkBBoODLLMGC\n",
       "gkBBoCBQECi4YRYsKAgUBAoCBYGCq1iwoCBQECgIFLwGHCwoCBQECgIFgYKjRrCgIFAQKAgU5h0f\n",
       "0hsLCgIFgYJAQaDghlmwoCBQECgIFAQKbpgFCwoCBYGCQMFRI1hQECgIFAQKAgVHjWBBQaAgUBAo\n",
       "CBScxYIFBYGCQEGg4KgRLCgIFAQKAgWBgqtYsKAgUBAoCBTm+jLLyoKCQEGgIFAQKDhqBAsKAgWB\n",
       "gkBBoODZfLCgIFAQKAgU5r1v/wm/zYKCQEGgIFAQKDhqBAsKAgWBgkDBD00GCwoCBYGCQEGg4KgR\n",
       "LCgIFAQKAgWBgjfMggUFgYJAQaDgyyzBgoJAQaAgUBAoeMMsWFAQKAgUBAoCBY99ggUFgYJAQaDg\n",
       "qUawoCBQECgIFAQKHvsECwoCBYGCQMH9oGBBQaAgUBAoCBQ8mw8WFAQKAgWBgkDBDbNgQUGgIFAQ\n",
       "KHg2HywoCBQECgIFgcLcb/8FP86CgkBBoCBQECg4iwULCgIFgYJAwRtmwYKCQEGgIFAQKLhhFiwo\n",
       "CBQECgIF94OCBQWBgkBBoCBQcNQIFhQECgIFgYJAwVksWFAQKAgUBAqezQcLCgIFgYJAQaAwfvxl\n",
       "Z0FBoCBQECgIFJzFggUFgYJAQaDg2XywoCBQECgIFAQKns0HCwoCBYGCQMFRI1hQECgIFAQKAgVH\n",
       "jWBBQaAgUBAoCBTmesVsZUFBoCBQECi4YRYsKAgUBAoCBYGCG2bBgoJAQaAgUHDUCBYUBAoCBYGC\n",
       "QGGepxorCwoCBYGCQEGgMPe4YbaxoCBQECgIFLxAFSwoCBQECgIFgYIfmgwWFAQKAgWBgkDBD00G\n",
       "CwoCBYGCQMGz+WBBQaAgUBAoCBS8Jx0sKAgUBAoCBd84DBYUBAoCBYGCQMFRI1hQECgIFAQKAgXv\n",
       "SQcLCgIFgYJAwWvAwYKCQEGgIFAQKDhqBAsKAgWBgkBBoOA96WBBQaAgUBAo+ImuYEFBoCBQECgI\n",
       "FNwwCxYUBAoCBYGCZ/PBgoJAQaAgUBAoOGoECwoCBYGCQEGg4CwWLCgIFAQKAgVHjWBBQaAgUBAo\n",
       "CBRcxYIFBYGCQEGgIFBwwyxYUBAoCBQECo4awYKCQEGgIFAQKDhqBAsKAgWBgkDBUSNYUBAoCBQE\n",
       "CgIFP9EVLCgIFAQKAgWBgv8vFiwoCBQECgIFN8yCBQWBgkBBoCBQmHdcxjYWFAQKAgWBgkDBWSxY\n",
       "UBAoCBQECp7NBwsKAgWBgkBBoODZfLCgIFAQKAgU3A8KFhQECgIFgYJAwbP5YEFBoCBQECgIFJzF\n",
       "ggUFgYJAQaDgJ7qCBQWBgkBBoCBQmOsVs5UFBYGCQEGg4AWqYEFBoCBQECgIFOY5aqwsKAgUBAoC\n",
       "BYGCs1iwoCBQECgIFDzVCBYUBAoCBYGCQMEbZsGCgkBBoCBQECjM9ZXMlQUFgYJAQaDghlmwoCBQ\n",
       "ECgIFAQKfv0lWFAQKAgUBApeoAoWFAQKAgWBgkDBU41gQUGgIFAQKAgU3DALFhQECgIFgcLc45bZ\n",
       "xoKCQEGgIFAQKLhhFiwoCBQECgIFgYKrWLCgIFAQKAgUPNUIFhQECgIFgYJAwWOfYEFBoCBQECjM\n",
       "/ThqbCwoCBQECgIFgYKjRrCgIFAQKAgUBArzXMVWFhQECgIFgYKjRrCgIFAQKAgUBApzP65iGwsK\n",
       "AgWBgkBBoOAsFiwoCBQECgIFTzWCBQWBgkBBoCBQcNQIFhQECgIFgYIP6WBBQaAgUBAoCBQ8mw8W\n",
       "FAQKAgWBgkBh3vnz7b/hp1lQECgIFAQKbpgFCwoCBYGCQEGg4A2zYEFBoCBQECjMfe4HbSwoCBQE\n",
       "CgIFgYKjRrCgIFAQKAgUBApzPZtfWVAQKAgUBAqOGsGCgkBBoCBQECg4agQLCgIFgYJAQaAw7zmL\n",
       "bSwoCBQECgIFN8yCBQWBgkBBoCBQ8J50sKAgUBAoCBQcNYIFBYGCQEGgIFCY56ixsqAgUBAoCBQE\n",
       "Cs5iwYKCQEGgIFCY6wWqlQUFgYJAQaAgUPCb9sGCgkBBoCBQECj4MkuwoCBQECgIFDzVCBYUBAoC\n",
       "BYGCQMFRI1hQECgIFAQKPqSDBQWBgkBBoCBQ8Gw+WFAQKAgUBAoCBWexYEFBoCBQECjM8Wx+ZUFB\n",
       "oCBQECgIFBw1ggUFgYJAQaAgUPCedLCgIFAQKAgU5jhqrCwoCBQECgIFgYI3zIIFBYGCQEGg4Nl8\n",
       "sKAgUBAoCBQECm6YBQsKAgWBgkBBoDDvvG//DT/NgoJAQaAgUHDDLFhQECgIFAQKAoU5jhorCwoC\n",
       "BYGCQOE/LrLuTX/wFc8AAAAASUVORK5CYII=\n",
       "\" transform=\"translate(2161, 47)\"/>\n",
       "</g>\n",
       "<path clip-path=\"url(#clip760)\" d=\"M2274.38 1168.42 L2290.7 1168.42 L2290.7 1172.35 L2268.76 1172.35 L2268.76 1168.42 Q2271.42 1165.66 2276 1161.03 Q2280.61 1156.38 2281.79 1155.04 Q2284.03 1152.51 2284.91 1150.78 Q2285.82 1149.02 2285.82 1147.33 Q2285.82 1144.57 2283.87 1142.84 Q2281.95 1141.1 2278.85 1141.1 Q2276.65 1141.1 2274.2 1141.87 Q2271.77 1142.63 2268.99 1144.18 L2268.99 1139.46 Q2271.81 1138.32 2274.27 1137.75 Q2276.72 1137.17 2278.76 1137.17 Q2284.13 1137.17 2287.32 1139.85 Q2290.52 1142.54 2290.52 1147.03 Q2290.52 1149.16 2289.7 1151.08 Q2288.92 1152.98 2286.81 1155.57 Q2286.23 1156.24 2283.13 1159.46 Q2280.03 1162.65 2274.38 1168.42 Z\" fill=\"#000000\" fill-rule=\"evenodd\" fill-opacity=\"1\" /><path clip-path=\"url(#clip760)\" d=\"M2300.51 1166.47 L2305.4 1166.47 L2305.4 1172.35 L2300.51 1172.35 L2300.51 1166.47 Z\" fill=\"#000000\" fill-rule=\"evenodd\" fill-opacity=\"1\" /><path clip-path=\"url(#clip760)\" d=\"M2315.63 1137.79 L2333.99 1137.79 L2333.99 1141.73 L2319.91 1141.73 L2319.91 1150.2 Q2320.93 1149.85 2321.95 1149.69 Q2322.97 1149.5 2323.99 1149.5 Q2329.77 1149.5 2333.15 1152.68 Q2336.53 1155.85 2336.53 1161.26 Q2336.53 1166.84 2333.06 1169.94 Q2329.59 1173.02 2323.27 1173.02 Q2321.09 1173.02 2318.83 1172.65 Q2316.58 1172.28 2314.17 1171.54 L2314.17 1166.84 Q2316.26 1167.98 2318.48 1168.53 Q2320.7 1169.09 2323.18 1169.09 Q2327.18 1169.09 2329.52 1166.98 Q2331.86 1164.87 2331.86 1161.26 Q2331.86 1157.65 2329.52 1155.55 Q2327.18 1153.44 2323.18 1153.44 Q2321.3 1153.44 2319.43 1153.86 Q2317.58 1154.27 2315.63 1155.15 L2315.63 1137.79 Z\" fill=\"#000000\" fill-rule=\"evenodd\" fill-opacity=\"1\" /><path clip-path=\"url(#clip760)\" d=\"M2270.21 803.518 L2288.57 803.518 L2288.57 807.453 L2274.5 807.453 L2274.5 815.925 Q2275.52 815.578 2276.53 815.416 Q2277.55 815.231 2278.57 815.231 Q2284.36 815.231 2287.74 818.402 Q2291.12 821.574 2291.12 826.99 Q2291.12 832.569 2287.64 835.671 Q2284.17 838.749 2277.85 838.749 Q2275.68 838.749 2273.41 838.379 Q2271.16 838.009 2268.76 837.268 L2268.76 832.569 Q2270.84 833.703 2273.06 834.259 Q2275.28 834.814 2277.76 834.814 Q2281.77 834.814 2284.1 832.708 Q2286.44 830.601 2286.44 826.99 Q2286.44 823.379 2284.1 821.273 Q2281.77 819.166 2277.76 819.166 Q2275.89 819.166 2274.01 819.583 Q2272.16 819.999 2270.21 820.879 L2270.21 803.518 Z\" fill=\"#000000\" fill-rule=\"evenodd\" fill-opacity=\"1\" /><path clip-path=\"url(#clip760)\" d=\"M2300.33 832.198 L2305.21 832.198 L2305.21 838.078 L2300.33 838.078 L2300.33 832.198 Z\" fill=\"#000000\" fill-rule=\"evenodd\" fill-opacity=\"1\" /><path clip-path=\"url(#clip760)\" d=\"M2325.4 806.597 Q2321.79 806.597 2319.96 810.162 Q2318.15 813.703 2318.15 820.833 Q2318.15 827.939 2319.96 831.504 Q2321.79 835.046 2325.4 835.046 Q2329.03 835.046 2330.84 831.504 Q2332.67 827.939 2332.67 820.833 Q2332.67 813.703 2330.84 810.162 Q2329.03 806.597 2325.4 806.597 M2325.4 802.893 Q2331.21 802.893 2334.26 807.5 Q2337.34 812.083 2337.34 820.833 Q2337.34 829.56 2334.26 834.166 Q2331.21 838.749 2325.4 838.749 Q2319.59 838.749 2316.51 834.166 Q2313.45 829.56 2313.45 820.833 Q2313.45 812.083 2316.51 807.5 Q2319.59 802.893 2325.4 802.893 Z\" fill=\"#000000\" fill-rule=\"evenodd\" fill-opacity=\"1\" /><path clip-path=\"url(#clip760)\" d=\"M2268.76 469.245 L2290.98 469.245 L2290.98 471.235 L2278.43 503.805 L2273.55 503.805 L2285.35 473.18 L2268.76 473.18 L2268.76 469.245 Z\" fill=\"#000000\" fill-rule=\"evenodd\" fill-opacity=\"1\" /><path clip-path=\"url(#clip760)\" d=\"M2300.1 497.925 L2304.98 497.925 L2304.98 503.805 L2300.1 503.805 L2300.1 497.925 Z\" fill=\"#000000\" fill-rule=\"evenodd\" fill-opacity=\"1\" /><path clip-path=\"url(#clip760)\" d=\"M2315.21 469.245 L2333.57 469.245 L2333.57 473.18 L2319.5 473.18 L2319.5 481.652 Q2320.51 481.305 2321.53 481.143 Q2322.55 480.958 2323.57 480.958 Q2329.36 480.958 2332.74 484.129 Q2336.12 487.3 2336.12 492.717 Q2336.12 498.295 2332.64 501.397 Q2329.17 504.476 2322.85 504.476 Q2320.68 504.476 2318.41 504.106 Q2316.16 503.735 2313.76 502.994 L2313.76 498.295 Q2315.84 499.43 2318.06 499.985 Q2320.28 500.541 2322.76 500.541 Q2326.76 500.541 2329.1 498.434 Q2331.44 496.328 2331.44 492.717 Q2331.44 489.106 2329.1 486.999 Q2326.76 484.893 2322.76 484.893 Q2320.89 484.893 2319.01 485.309 Q2317.16 485.726 2315.21 486.606 L2315.21 469.245 Z\" fill=\"#000000\" fill-rule=\"evenodd\" fill-opacity=\"1\" /><path clip-path=\"url(#clip760)\" d=\"M2269.43 165.596 L2277.07 165.596 L2277.07 139.23 L2268.76 140.897 L2268.76 136.638 L2277.02 134.971 L2281.7 134.971 L2281.7 165.596 L2289.33 165.596 L2289.33 169.531 L2269.43 169.531 L2269.43 165.596 Z\" fill=\"#000000\" fill-rule=\"evenodd\" fill-opacity=\"1\" /><path clip-path=\"url(#clip760)\" d=\"M2308.78 138.05 Q2305.17 138.05 2303.34 141.615 Q2301.53 145.156 2301.53 152.286 Q2301.53 159.392 2303.34 162.957 Q2305.17 166.499 2308.78 166.499 Q2312.41 166.499 2314.22 162.957 Q2316.05 159.392 2316.05 152.286 Q2316.05 145.156 2314.22 141.615 Q2312.41 138.05 2308.78 138.05 M2308.78 134.346 Q2314.59 134.346 2317.64 138.953 Q2320.72 143.536 2320.72 152.286 Q2320.72 161.013 2317.64 165.619 Q2314.59 170.202 2308.78 170.202 Q2302.97 170.202 2299.89 165.619 Q2296.83 161.013 2296.83 152.286 Q2296.83 143.536 2299.89 138.953 Q2302.97 134.346 2308.78 134.346 Z\" fill=\"#000000\" fill-rule=\"evenodd\" fill-opacity=\"1\" /><path clip-path=\"url(#clip760)\" d=\"M2328.94 163.652 L2333.83 163.652 L2333.83 169.531 L2328.94 169.531 L2328.94 163.652 Z\" fill=\"#000000\" fill-rule=\"evenodd\" fill-opacity=\"1\" /><path clip-path=\"url(#clip760)\" d=\"M2354.01 138.05 Q2350.4 138.05 2348.57 141.615 Q2346.76 145.156 2346.76 152.286 Q2346.76 159.392 2348.57 162.957 Q2350.4 166.499 2354.01 166.499 Q2357.64 166.499 2359.45 162.957 Q2361.28 159.392 2361.28 152.286 Q2361.28 145.156 2359.45 141.615 Q2357.64 138.05 2354.01 138.05 M2354.01 134.346 Q2359.82 134.346 2362.88 138.953 Q2365.95 143.536 2365.95 152.286 Q2365.95 161.013 2362.88 165.619 Q2359.82 170.202 2354.01 170.202 Q2348.2 170.202 2345.12 165.619 Q2342.07 161.013 2342.07 152.286 Q2342.07 143.536 2345.12 138.953 Q2348.2 134.346 2354.01 134.346 Z\" fill=\"#000000\" fill-rule=\"evenodd\" fill-opacity=\"1\" /><polyline clip-path=\"url(#clip760)\" style=\"stroke:#000000; stroke-linecap:round; stroke-linejoin:round; stroke-width:4; stroke-opacity:1; fill:none\" points=\"2232.76,1486.45 2232.76,1158.7 2256.76,1158.7 2232.76,1158.7 2232.76,824.427 2256.76,824.427 2232.76,824.427 2232.76,490.153 2256.76,490.153 2232.76,490.153 2232.76,155.88 2256.76,155.88 2232.76,155.88 2232.76,47.2441 \"/>\n",
       "</svg>\n"
      ],
      "text/html": [
       "<?xml version=\"1.0\" encoding=\"utf-8\"?>\n",
       "<svg xmlns=\"http://www.w3.org/2000/svg\" xmlns:xlink=\"http://www.w3.org/1999/xlink\" width=\"600\" height=\"400\" viewBox=\"0 0 2400 1600\">\n",
       "<defs>\n",
       "  <clipPath id=\"clip810\">\n",
       "    <rect x=\"0\" y=\"0\" width=\"2400\" height=\"1600\"/>\n",
       "  </clipPath>\n",
       "</defs>\n",
       "<path clip-path=\"url(#clip810)\" d=\"M0 1600 L2400 1600 L2400 0 L0 0  Z\" fill=\"#ffffff\" fill-rule=\"evenodd\" fill-opacity=\"1\"/>\n",
       "<defs>\n",
       "  <clipPath id=\"clip811\">\n",
       "    <rect x=\"480\" y=\"0\" width=\"1681\" height=\"1600\"/>\n",
       "  </clipPath>\n",
       "</defs>\n",
       "<path clip-path=\"url(#clip810)\" d=\"M138.959 1486.45 L2112.76 1486.45 L2112.76 47.2441 L138.959 47.2441  Z\" fill=\"#ffffff\" fill-rule=\"evenodd\" fill-opacity=\"1\"/>\n",
       "<defs>\n",
       "  <clipPath id=\"clip812\">\n",
       "    <rect x=\"138\" y=\"47\" width=\"1975\" height=\"1440\"/>\n",
       "  </clipPath>\n",
       "</defs>\n",
       "<polyline clip-path=\"url(#clip812)\" style=\"stroke:#000000; stroke-linecap:round; stroke-linejoin:round; stroke-width:2; stroke-opacity:0.1; fill:none\" points=\"435.029,1486.45 435.029,47.2441 \"/>\n",
       "<polyline clip-path=\"url(#clip812)\" style=\"stroke:#000000; stroke-linecap:round; stroke-linejoin:round; stroke-width:2; stroke-opacity:0.1; fill:none\" points=\"829.788,1486.45 829.788,47.2441 \"/>\n",
       "<polyline clip-path=\"url(#clip812)\" style=\"stroke:#000000; stroke-linecap:round; stroke-linejoin:round; stroke-width:2; stroke-opacity:0.1; fill:none\" points=\"1224.55,1486.45 1224.55,47.2441 \"/>\n",
       "<polyline clip-path=\"url(#clip812)\" style=\"stroke:#000000; stroke-linecap:round; stroke-linejoin:round; stroke-width:2; stroke-opacity:0.1; fill:none\" points=\"1619.31,1486.45 1619.31,47.2441 \"/>\n",
       "<polyline clip-path=\"url(#clip812)\" style=\"stroke:#000000; stroke-linecap:round; stroke-linejoin:round; stroke-width:2; stroke-opacity:0.1; fill:none\" points=\"2014.07,1486.45 2014.07,47.2441 \"/>\n",
       "<polyline clip-path=\"url(#clip810)\" style=\"stroke:#000000; stroke-linecap:round; stroke-linejoin:round; stroke-width:4; stroke-opacity:1; fill:none\" points=\"138.959,1486.45 2112.76,1486.45 \"/>\n",
       "<polyline clip-path=\"url(#clip810)\" style=\"stroke:#000000; stroke-linecap:round; stroke-linejoin:round; stroke-width:4; stroke-opacity:1; fill:none\" points=\"435.029,1486.45 435.029,1467.55 \"/>\n",
       "<polyline clip-path=\"url(#clip810)\" style=\"stroke:#000000; stroke-linecap:round; stroke-linejoin:round; stroke-width:4; stroke-opacity:1; fill:none\" points=\"829.788,1486.45 829.788,1467.55 \"/>\n",
       "<polyline clip-path=\"url(#clip810)\" style=\"stroke:#000000; stroke-linecap:round; stroke-linejoin:round; stroke-width:4; stroke-opacity:1; fill:none\" points=\"1224.55,1486.45 1224.55,1467.55 \"/>\n",
       "<polyline clip-path=\"url(#clip810)\" style=\"stroke:#000000; stroke-linecap:round; stroke-linejoin:round; stroke-width:4; stroke-opacity:1; fill:none\" points=\"1619.31,1486.45 1619.31,1467.55 \"/>\n",
       "<polyline clip-path=\"url(#clip810)\" style=\"stroke:#000000; stroke-linecap:round; stroke-linejoin:round; stroke-width:4; stroke-opacity:1; fill:none\" points=\"2014.07,1486.45 2014.07,1467.55 \"/>\n",
       "<path clip-path=\"url(#clip810)\" d=\"M429.682 1544.91 L446.001 1544.91 L446.001 1548.85 L424.057 1548.85 L424.057 1544.91 Q426.719 1542.16 431.302 1537.53 Q435.909 1532.88 437.089 1531.53 Q439.334 1529.01 440.214 1527.27 Q441.117 1525.51 441.117 1523.82 Q441.117 1521.07 439.172 1519.33 Q437.251 1517.6 434.149 1517.6 Q431.95 1517.6 429.497 1518.36 Q427.066 1519.13 424.288 1520.68 L424.288 1515.95 Q427.112 1514.82 429.566 1514.24 Q432.02 1513.66 434.057 1513.66 Q439.427 1513.66 442.621 1516.35 Q445.816 1519.03 445.816 1523.52 Q445.816 1525.65 445.006 1527.57 Q444.219 1529.47 442.112 1532.07 Q441.534 1532.74 438.432 1535.95 Q435.33 1539.15 429.682 1544.91 Z\" fill=\"#000000\" fill-rule=\"evenodd\" fill-opacity=\"1\" /><path clip-path=\"url(#clip810)\" d=\"M832.797 1518.36 L820.992 1536.81 L832.797 1536.81 L832.797 1518.36 M831.571 1514.29 L837.45 1514.29 L837.45 1536.81 L842.381 1536.81 L842.381 1540.7 L837.45 1540.7 L837.45 1548.85 L832.797 1548.85 L832.797 1540.7 L817.196 1540.7 L817.196 1536.19 L831.571 1514.29 Z\" fill=\"#000000\" fill-rule=\"evenodd\" fill-opacity=\"1\" /><path clip-path=\"url(#clip810)\" d=\"M1224.95 1529.7 Q1221.8 1529.7 1219.95 1531.86 Q1218.12 1534.01 1218.12 1537.76 Q1218.12 1541.49 1219.95 1543.66 Q1221.8 1545.82 1224.95 1545.82 Q1228.1 1545.82 1229.93 1543.66 Q1231.78 1541.49 1231.78 1537.76 Q1231.78 1534.01 1229.93 1531.86 Q1228.1 1529.7 1224.95 1529.7 M1234.23 1515.05 L1234.23 1519.31 Q1232.48 1518.48 1230.67 1518.04 Q1228.89 1517.6 1227.13 1517.6 Q1222.5 1517.6 1220.05 1520.72 Q1217.61 1523.85 1217.27 1530.17 Q1218.63 1528.15 1220.69 1527.09 Q1222.75 1526 1225.23 1526 Q1230.44 1526 1233.45 1529.17 Q1236.48 1532.32 1236.48 1537.76 Q1236.48 1543.08 1233.33 1546.3 Q1230.18 1549.52 1224.95 1549.52 Q1218.96 1549.52 1215.79 1544.94 Q1212.61 1540.33 1212.61 1531.6 Q1212.61 1523.41 1216.5 1518.55 Q1220.39 1513.66 1226.94 1513.66 Q1228.7 1513.66 1230.48 1514.01 Q1232.29 1514.36 1234.23 1515.05 Z\" fill=\"#000000\" fill-rule=\"evenodd\" fill-opacity=\"1\" /><path clip-path=\"url(#clip810)\" d=\"M1619.31 1532.44 Q1615.97 1532.44 1614.05 1534.22 Q1612.15 1536 1612.15 1539.13 Q1612.15 1542.25 1614.05 1544.03 Q1615.97 1545.82 1619.31 1545.82 Q1622.64 1545.82 1624.56 1544.03 Q1626.48 1542.23 1626.48 1539.13 Q1626.48 1536 1624.56 1534.22 Q1622.66 1532.44 1619.31 1532.44 M1614.63 1530.45 Q1611.62 1529.7 1609.93 1527.64 Q1608.27 1525.58 1608.27 1522.62 Q1608.27 1518.48 1611.2 1516.07 Q1614.17 1513.66 1619.31 1513.66 Q1624.47 1513.66 1627.41 1516.07 Q1630.35 1518.48 1630.35 1522.62 Q1630.35 1525.58 1628.66 1527.64 Q1626.99 1529.7 1624.01 1530.45 Q1627.39 1531.23 1629.26 1533.52 Q1631.16 1535.82 1631.16 1539.13 Q1631.16 1544.15 1628.08 1546.83 Q1625.02 1549.52 1619.31 1549.52 Q1613.59 1549.52 1610.51 1546.83 Q1607.46 1544.15 1607.46 1539.13 Q1607.46 1535.82 1609.35 1533.52 Q1611.25 1531.23 1614.63 1530.45 M1612.92 1523.06 Q1612.92 1525.75 1614.58 1527.25 Q1616.27 1528.76 1619.31 1528.76 Q1622.32 1528.76 1624.01 1527.25 Q1625.72 1525.75 1625.72 1523.06 Q1625.72 1520.38 1624.01 1518.87 Q1622.32 1517.37 1619.31 1517.37 Q1616.27 1517.37 1614.58 1518.87 Q1612.92 1520.38 1612.92 1523.06 Z\" fill=\"#000000\" fill-rule=\"evenodd\" fill-opacity=\"1\" /><path clip-path=\"url(#clip810)\" d=\"M1988.75 1544.91 L1996.39 1544.91 L1996.39 1518.55 L1988.08 1520.21 L1988.08 1515.95 L1996.35 1514.29 L2001.02 1514.29 L2001.02 1544.91 L2008.66 1544.91 L2008.66 1548.85 L1988.75 1548.85 L1988.75 1544.91 Z\" fill=\"#000000\" fill-rule=\"evenodd\" fill-opacity=\"1\" /><path clip-path=\"url(#clip810)\" d=\"M2028.11 1517.37 Q2024.49 1517.37 2022.67 1520.93 Q2020.86 1524.47 2020.86 1531.6 Q2020.86 1538.71 2022.67 1542.27 Q2024.49 1545.82 2028.11 1545.82 Q2031.74 1545.82 2033.55 1542.27 Q2035.37 1538.71 2035.37 1531.6 Q2035.37 1524.47 2033.55 1520.93 Q2031.74 1517.37 2028.11 1517.37 M2028.11 1513.66 Q2033.92 1513.66 2036.97 1518.27 Q2040.05 1522.85 2040.05 1531.6 Q2040.05 1540.33 2036.97 1544.94 Q2033.92 1549.52 2028.11 1549.52 Q2022.3 1549.52 2019.22 1544.94 Q2016.16 1540.33 2016.16 1531.6 Q2016.16 1522.85 2019.22 1518.27 Q2022.3 1513.66 2028.11 1513.66 Z\" fill=\"#000000\" fill-rule=\"evenodd\" fill-opacity=\"1\" /><polyline clip-path=\"url(#clip812)\" style=\"stroke:#000000; stroke-linecap:round; stroke-linejoin:round; stroke-width:2; stroke-opacity:0.1; fill:none\" points=\"138.959,1270.57 2112.76,1270.57 \"/>\n",
       "<polyline clip-path=\"url(#clip812)\" style=\"stroke:#000000; stroke-linecap:round; stroke-linejoin:round; stroke-width:2; stroke-opacity:0.1; fill:none\" points=\"138.959,982.727 2112.76,982.727 \"/>\n",
       "<polyline clip-path=\"url(#clip812)\" style=\"stroke:#000000; stroke-linecap:round; stroke-linejoin:round; stroke-width:2; stroke-opacity:0.1; fill:none\" points=\"138.959,694.886 2112.76,694.886 \"/>\n",
       "<polyline clip-path=\"url(#clip812)\" style=\"stroke:#000000; stroke-linecap:round; stroke-linejoin:round; stroke-width:2; stroke-opacity:0.1; fill:none\" points=\"138.959,407.045 2112.76,407.045 \"/>\n",
       "<polyline clip-path=\"url(#clip812)\" style=\"stroke:#000000; stroke-linecap:round; stroke-linejoin:round; stroke-width:2; stroke-opacity:0.1; fill:none\" points=\"138.959,119.204 2112.76,119.204 \"/>\n",
       "<polyline clip-path=\"url(#clip810)\" style=\"stroke:#000000; stroke-linecap:round; stroke-linejoin:round; stroke-width:4; stroke-opacity:1; fill:none\" points=\"138.959,1486.45 138.959,47.2441 \"/>\n",
       "<polyline clip-path=\"url(#clip810)\" style=\"stroke:#000000; stroke-linecap:round; stroke-linejoin:round; stroke-width:4; stroke-opacity:1; fill:none\" points=\"138.959,1270.57 155.808,1270.57 \"/>\n",
       "<polyline clip-path=\"url(#clip810)\" style=\"stroke:#000000; stroke-linecap:round; stroke-linejoin:round; stroke-width:4; stroke-opacity:1; fill:none\" points=\"138.959,982.727 155.808,982.727 \"/>\n",
       "<polyline clip-path=\"url(#clip810)\" style=\"stroke:#000000; stroke-linecap:round; stroke-linejoin:round; stroke-width:4; stroke-opacity:1; fill:none\" points=\"138.959,694.886 155.808,694.886 \"/>\n",
       "<polyline clip-path=\"url(#clip810)\" style=\"stroke:#000000; stroke-linecap:round; stroke-linejoin:round; stroke-width:4; stroke-opacity:1; fill:none\" points=\"138.959,407.045 155.808,407.045 \"/>\n",
       "<polyline clip-path=\"url(#clip810)\" style=\"stroke:#000000; stroke-linecap:round; stroke-linejoin:round; stroke-width:4; stroke-opacity:1; fill:none\" points=\"138.959,119.204 155.808,119.204 \"/>\n",
       "<path clip-path=\"url(#clip810)\" d=\"M86.6401 1283.91 L102.959 1283.91 L102.959 1287.85 L81.0151 1287.85 L81.0151 1283.91 Q83.6771 1281.16 88.2604 1276.53 Q92.8669 1271.88 94.0475 1270.53 Q96.2928 1268.01 97.1724 1266.27 Q98.0752 1264.51 98.0752 1262.82 Q98.0752 1260.07 96.1308 1258.33 Q94.2095 1256.6 91.1077 1256.6 Q88.9086 1256.6 86.4549 1257.36 Q84.0244 1258.13 81.2466 1259.68 L81.2466 1254.95 Q84.0707 1253.82 86.5243 1253.24 Q88.978 1252.66 91.0151 1252.66 Q96.3854 1252.66 99.5798 1255.35 Q102.774 1258.03 102.774 1262.52 Q102.774 1264.65 101.964 1266.57 Q101.177 1268.47 99.0706 1271.06 Q98.4919 1271.74 95.39 1274.95 Q92.2882 1278.15 86.6401 1283.91 Z\" fill=\"#000000\" fill-rule=\"evenodd\" fill-opacity=\"1\" /><path clip-path=\"url(#clip810)\" d=\"M93.3762 969.521 L81.5707 987.97 L93.3762 987.97 L93.3762 969.521 M92.1493 965.447 L98.0289 965.447 L98.0289 987.97 L102.959 987.97 L102.959 991.858 L98.0289 991.858 L98.0289 1000.01 L93.3762 1000.01 L93.3762 991.858 L77.7744 991.858 L77.7744 987.345 L92.1493 965.447 Z\" fill=\"#000000\" fill-rule=\"evenodd\" fill-opacity=\"1\" /><path clip-path=\"url(#clip810)\" d=\"M91.4317 693.022 Q88.2836 693.022 86.4318 695.175 Q84.6031 697.328 84.6031 701.078 Q84.6031 704.805 86.4318 706.981 Q88.2836 709.133 91.4317 709.133 Q94.5799 709.133 96.4085 706.981 Q98.2604 704.805 98.2604 701.078 Q98.2604 697.328 96.4085 695.175 Q94.5799 693.022 91.4317 693.022 M100.714 678.37 L100.714 682.629 Q98.9548 681.796 97.1493 681.356 Q95.3669 680.916 93.6076 680.916 Q88.978 680.916 86.5243 684.041 Q84.0938 687.166 83.7466 693.485 Q85.1123 691.471 87.1725 690.407 Q89.2327 689.319 91.7095 689.319 Q96.9178 689.319 99.927 692.49 Q102.959 695.638 102.959 701.078 Q102.959 706.402 99.8113 709.62 Q96.6632 712.837 91.4317 712.837 Q85.4364 712.837 82.2651 708.254 Q79.0938 703.647 79.0938 694.921 Q79.0938 686.726 82.9827 681.865 Q86.8716 676.981 93.4225 676.981 Q95.1817 676.981 96.9641 677.328 Q98.7696 677.675 100.714 678.37 Z\" fill=\"#000000\" fill-rule=\"evenodd\" fill-opacity=\"1\" /><path clip-path=\"url(#clip810)\" d=\"M91.1077 407.913 Q87.7743 407.913 85.8531 409.695 Q83.9549 411.478 83.9549 414.603 Q83.9549 417.728 85.8531 419.51 Q87.7743 421.293 91.1077 421.293 Q94.441 421.293 96.3623 419.51 Q98.2835 417.705 98.2835 414.603 Q98.2835 411.478 96.3623 409.695 Q94.4641 407.913 91.1077 407.913 M86.4318 405.922 Q83.4225 405.182 81.7327 403.121 Q80.066 401.061 80.066 398.098 Q80.066 393.955 83.0058 391.547 Q85.9688 389.14 91.1077 389.14 Q96.2697 389.14 99.2095 391.547 Q102.149 393.955 102.149 398.098 Q102.149 401.061 100.459 403.121 Q98.7928 405.182 95.8067 405.922 Q99.1863 406.709 101.061 409.001 Q102.959 411.293 102.959 414.603 Q102.959 419.626 99.8808 422.311 Q96.8252 424.996 91.1077 424.996 Q85.3901 424.996 82.3114 422.311 Q79.2559 419.626 79.2559 414.603 Q79.2559 411.293 81.154 409.001 Q83.0521 406.709 86.4318 405.922 M84.7188 398.538 Q84.7188 401.223 86.3855 402.728 Q88.0753 404.233 91.1077 404.233 Q94.1169 404.233 95.8067 402.728 Q97.5197 401.223 97.5197 398.538 Q97.5197 395.853 95.8067 394.348 Q94.1169 392.844 91.1077 392.844 Q88.0753 392.844 86.3855 394.348 Q84.7188 395.853 84.7188 398.538 Z\" fill=\"#000000\" fill-rule=\"evenodd\" fill-opacity=\"1\" /><path clip-path=\"url(#clip810)\" d=\"M51.6634 132.549 L59.3023 132.549 L59.3023 106.184 L50.9921 107.85 L50.9921 103.591 L59.256 101.924 L63.9319 101.924 L63.9319 132.549 L71.5707 132.549 L71.5707 136.484 L51.6634 136.484 L51.6634 132.549 Z\" fill=\"#000000\" fill-rule=\"evenodd\" fill-opacity=\"1\" /><path clip-path=\"url(#clip810)\" d=\"M91.0151 105.003 Q87.404 105.003 85.5753 108.568 Q83.7697 112.109 83.7697 119.239 Q83.7697 126.345 85.5753 129.91 Q87.404 133.452 91.0151 133.452 Q94.6493 133.452 96.4548 129.91 Q98.2835 126.345 98.2835 119.239 Q98.2835 112.109 96.4548 108.568 Q94.6493 105.003 91.0151 105.003 M91.0151 101.299 Q96.8252 101.299 99.8808 105.906 Q102.959 110.489 102.959 119.239 Q102.959 127.966 99.8808 132.572 Q96.8252 137.156 91.0151 137.156 Q85.2049 137.156 82.1262 132.572 Q79.0707 127.966 79.0707 119.239 Q79.0707 110.489 82.1262 105.906 Q85.2049 101.299 91.0151 101.299 Z\" fill=\"#000000\" fill-rule=\"evenodd\" fill-opacity=\"1\" /><g clip-path=\"url(#clip812)\">\n",
       "<image width=\"1974\" height=\"1439\" xlink:href=\"data:image/png;base64,\n",
       "iVBORw0KGgoAAAANSUhEUgAAB7YAAAWfCAYAAAAvUBneAAAgAElEQVR4nOzbPU4UABRGUUXUxEil\n",
       "NFKZ2LtH12LhNuzs/Y8wDiDBxKAJg0TiCLZqYftucc4KvuZVN+/6+urp1TXgL5fPn0xPgJTLF8fT\n",
       "EyDn25uH0xMg5ehwZ3oCpCy/3Z+eADn7q7vTEyBl//zm9ATIOfwuV8CfDten0xMgZWN6AAAAAAAA\n",
       "AAD8j7ANAAAAAAAAQJqwDQAAAAAAAECasA0AAAAAAABAmrANAAAAAAAAQJqwDQAAAAAAAECasA0A\n",
       "AAAAAABAmrANAAAAAAAAQJqwDQAAAAAAAECasA0AAAAAAABAmrANAAAAAAAAQJqwDQAAAAAAAECa\n",
       "sA0AAAAAAABAmrANAAAAAAAAQJqwDQAAAAAAAECasA0AAAAAAABAmrANAAAAAAAAQJqwDQAAAAAA\n",
       "AECasA0AAAAAAABAmrANAAAAAAAAQJqwDQAAAAAAAECasA0AAAAAAABAmrANAAAAAAAAQJqwDQAA\n",
       "AAAAAECasA0AAAAAAABAmrANAAAAAAAAQJqwDQAAAAAAAECasA0AAAAAAABAmrANAAAAAAAAQJqw\n",
       "DQAAAAAAAECasA0AAAAAAABAmrANAAAAAAAAQJqwDQAAAAAAAECasA0AAAAAAABAmrANAAAAAAAA\n",
       "QJqwDQAAAAAAAECasA0AAAAAAABAmrANAAAAAAAAQJqwDQAAAAAAAECasA0AAAAAAABAmrANAAAA\n",
       "AAAAQJqwDQAAAAAAAECasA0AAAAAAABAmrANAAAAAAAAQJqwDQAAAAAAAECasA0AAAAAAABAmrAN\n",
       "AAAAAAAAQJqwDQAAAAAAAECasA0AAAAAAABAmrANAAAAAAAAQJqwDQAAAAAAAECasA0AAAAAAABA\n",
       "mrANAAAAAAAAQJqwDQAAAAAAAECasA0AAAAAAABAmrANAAAAAAAAQJqwDQAAAAAAAECasA0AAAAA\n",
       "AABAmrANAAAAAAAAQJqwDQAAAAAAAECasA0AAAAAAABAmrANAAAAAAAAQJqwDQAAAAAAAECasA0A\n",
       "AAAAAABAmrANAAAAAAAAQJqwDQAAAAAAAECasA0AAAAAAABAmrANAAAAAAAAQJqwDQAAAAAAAECa\n",
       "sA0AAAAAAABAmrANAAAAAAAAQJqwDQAAAAAAAECasA0AAAAAAABAmrANAAAAAAAAQJqwDQAAAAAA\n",
       "AECasA0AAAAAAABAmrANAAAAAAAAQJqwDQAAAAAAAECasA0AAAAAAABAmrANAAAAAAAAQJqwDQAA\n",
       "AAAAAECasA0AAAAAAABAmrANAAAAAAAAQJqwDQAAAAAAAECasA0AAAAAAABAmrANAAAAAAAAQJqw\n",
       "DQAAAAAAAECasA0AAAAAAABAmrANAAAAAAAAQJqwDQAAAAAAAECasA0AAAAAAABAmrANAAAAAAAA\n",
       "QJqwDQAAAAAAAECasA0AAAAAAABAmrANAAAAAAAAQJqwDQAAAAAAAECasA0AAAAAAABAmrANAAAA\n",
       "AAAAQJqwDQAAAAAAAECasA0AAAAAAABAmrANAAAAAAAAQJqwDQAAAAAAAECasA0AAAAAAABAmrAN\n",
       "AAAAAAAAQJqwDQAAAAAAAECasA0AAAAAAABAmrANAAAAAAAAQJqwDQAAAAAAAECasA0AAAAAAABA\n",
       "mrANAAAAAAAAQJqwDQAAAAAAAECasA0AAAAAAABAmrANAAAAAAAAQJqwDQAAAAAAAECasA0AAAAA\n",
       "AABAmrANAAAAAAAAQJqwDQAAAAAAAECasA0AAAAAAABAmrANAAAAAAAAQJqwDQAAAAAAAECasA0A\n",
       "AAAAAABAmrANAAAAAAAAQJqwDQAAAAAAAECasA0AAAAAAABAmrANAAAAAAAAQJqwDQAAAAAAAECa\n",
       "sA0AAAAAAABAmrANAAAAAAAAQJqwDQAAAAAAAECasA0AAAAAAABAmrANAAAAAAAAQJqwDQAAAAAA\n",
       "AECasA0AAAAAAABAmrANAAAAAAAAQJqwDQAAAAAAAECasA0AAAAAAABAmrANAAAAAAAAQJqwDQAA\n",
       "AAAAAECasA0AAAAAAABAmrANAAAAAAAAQJqwDQAAAAAAAECasA0AAAAAAABAmrANAAAAAAAAQNrm\n",
       "xe6z6Q2Qc+v1cnoCpJx+eDQ9AXKOPj2YngApi6/b0xMgZbG6Oz0BcpZnm9MTIOXg/Nf0BMjZv/oy\n",
       "PQFSjq7eTU+AFB/bAAAAAAAAAKQJ2wAAAAAAAACkCdsAAAAAAAAApAnbAAAAAAAAAKQJ2wAAAAAA\n",
       "AACkCdsAAAAAAAAApAnbAAAAAAAAAKQJ2wAAAAAAAACkCdsAAAAAAAAApAnbAAAAAAAAAKQJ2wAA\n",
       "AAAAAACkCdsAAAAAAAAApAnbAAAAAAAAAKQJ2wAAAAAAAACkCdsAAAAAAAAApAnbAAAAAAAAAKQJ\n",
       "2wAAAAAAAACkCdsAAAAAAAAApAnbAAAAAAAAAKQJ2wAAAAAAAACkCdsAAAAAAAAApAnbAAAAAAAA\n",
       "AKQJ2wAAAAAAAACkCdsAAAAAAAAApAnbAAAAAAAAAKQJ2wAAAAAAAACkCdsAAAAAAAAApAnbAAAA\n",
       "AAAAAKQJ2wAAAAAAAACkCdsAAAAAAAAApAnbAAAAAAAAAKQJ2wAAAAAAAACkCdsAAAAAAAAApAnb\n",
       "AAAAAAAAAKQJ2wAAAAAAAACkCdsAAAAAAAAApAnbAAAAAAAAAKQJ2wAAAAAAAACkCdsAAAAAAAAA\n",
       "pAnbAAAAAAAAAKQJ2wAAAAAAAACkCdsAAAAAAAAApAnbAAAAAAAAAKQJ2wAAAAAAAACkCdsAAAAA\n",
       "AAAApAnbAAAAAAAAAKQJ2wAAAAAAAACkCdsAAAAAAAAApAnbAAAAAAAAAKQJ2wAAAAAAAACkCdsA\n",
       "AAAAAAAApAnbAAAAAAAAAKQJ2wAAAAAAAACkCdsAAAAAAAAApAnbAAAAAAAAAKQJ2wAAAAAAAACk\n",
       "CdsAAAAAAAAApAnbAAAAAAAAAKQJ2wAAAAAAAACkCdsAAAAAAAAApAnbAAAAAAAAAKQJ2wAAAAAA\n",
       "AACkCdsAAAAAAAAApAnbAAAAAAAAAKQJ2wAAAAAAAACkCdsAAAAAAAAApAnbAAAAAAAAAKQJ2wAA\n",
       "AAAAAACkCdsAAAAAAAAApAnbAAAAAAAAAKQJ2wAAAAAAAACkCdsAAAAAAAAApAnbAAAAAAAAAKQJ\n",
       "2wAAAAAAAACkCdsAAAAAAAAApAnbAAAAAAAAAKQJ2wAAAAAAAACkCdsAAAAAAAAApAnbAAAAAAAA\n",
       "AKQJ2wAAAAAAAACkCdsAAAAAAAAApAnbAAAAAAAAAKQJ2wAAAAAAAACkCdsAAAAAAAAApAnbAAAA\n",
       "AAAAAKQJ2wAAAAAAAACkCdsAAAAAAAAApAnbAAAAAAAAAKQJ2wAAAAAAAACkCdsAAAAAAAAApAnb\n",
       "AAAAAAAAAKQJ2wAAAAAAAACkCdsAAAAAAAAApAnbAAAAAAAAAKQJ2wAAAAAAAACkCdsAAAAAAAAA\n",
       "pAnbAAAAAAAAAKQJ2wAAAAAAAACkCdsAAAAAAAAApAnbAAAAAAAAAKQJ2wAAAAAAAACkCdsAAAAA\n",
       "AAAApAnbAAAAAAAAAKQJ2wAAAAAAAACkCdsAAAAAAAAApAnbAAAAAAAAAKQJ2wAAAAAAAACkCdsA\n",
       "AAAAAAAApAnbAAAAAAAAAKQJ2wAAAAAAAACkCdsAAAAAAAAApAnbAAAAAAAAAKQJ2wAAAAAAAACk\n",
       "CdsAAAAAAAAApAnbAAAAAAAAAKQJ2wAAAAAAAACkCdsAAAAAAAAApAnbAAAAAAAAAKQJ2wAAAAAA\n",
       "AACkCdsAAAAAAAAApAnbAAAAAAAAAKQJ2wAAAAAAAACkCdsAAAAAAAAApAnbAAAAAAAAAKQJ2wAA\n",
       "AAAAAACkCdsAAAAAAAAApAnbAAAAAAAAAKQJ2wAAAAAAAACkCdsAAAAAAAAApAnbAAAAAAAAAKQJ\n",
       "2wAAAAAAAACkCdsAAAAAAAAApAnbAAAAAAAAAKQJ2wAAAAAAAACkCdsAAAAAAAAApAnbAAAAAAAA\n",
       "AKQJ2wAAAAAAAACkCdsAAAAAAAAApAnbAAAAAAAAAKQJ2wAAAAAAAACkCdsAAAAAAAAApAnbAAAA\n",
       "AAAAAKQJ2wAAAAAAAACkbd5+9WJ6A+Ss3u9MT4CU4wM3Af9anmxPT4CUvdOt6QmQsnd2Y3oC5Cy/\n",
       "/5yeACkfNz5NT4Cc4/Xr6QmQcn5xMD0BUnxsAwAAAAAAAJAmbAMAAAAAAACQJmwDAAAAAAAAkCZs\n",
       "AwAAAAAAAJAmbAMAAAAAAACQJmwDAAAAAAAAkCZsAwAAAAAAAJAmbAMAAAAAAACQJmwDAAAAAAAA\n",
       "kCZsAwAAAAAAAJAmbAMAAAAAAACQJmwDAAAAAAAAkCZsAwAAAAAAAJAmbAMAAAAAAACQJmwDAAAA\n",
       "AAAAkCZsAwAAAAAAAJAmbAMAAAAAAACQJmwDAAAAAAAAkCZsAwAAAAAAAJAmbAMAAAAAAACQJmwD\n",
       "AAAAAAAAkCZsAwAAAAAAAJAmbAMAAAAAAACQJmwDAAAAAAAAkCZsAwAAAAAAAJAmbAMAAAAAAACQ\n",
       "JmwDAAAAAAAAkCZsAwAAAAAAAJAmbAMAAAAAAACQJmwDAAAAAAAAkCZsAwAAAAAAAJAmbAMAAAAA\n",
       "AACQJmwDAAAAAAAAkCZsAwAAAAAAAJAmbAMAAAAAAACQJmwDAAAAAAAAkCZsAwAAAAAAAJAmbAMA\n",
       "AAAAAACQJmwDAAAAAAAAkCZsAwAAAAAAAJAmbAMAAAAAAACQJmwDAAAAAAAAkCZsAwAAAAAAAJAm\n",
       "bAMAAAAAAACQJmwDAAAAAAAAkCZsAwAAAAAAAJAmbAMAAAAAAACQJmwDAAAAAAAAkCZsAwAAAAAA\n",
       "AJAmbAMAAAAAAACQJmwDAAAAAAAAkCZsAwAAAAAAAJAmbAMAAAAAAACQJmwDAAAAAAAAkCZsAwAA\n",
       "AAAAAJAmbAMAAAAAAACQJmwDAAAAAAAAkCZsAwAAAAAAAJAmbAMAAAAAAACQJmwDAAAAAAAAkCZs\n",
       "AwAAAAAAAJAmbAMAAAAAAACQJmwDAAAAAAAAkCZsAwAAAAAAAJAmbAMAAAAAAACQJmwDAAAAAAAA\n",
       "kCZsAwAAAAAAAJAmbAMAAAAAAACQJmwDAAAAAAAAkCZsAwAAAAAAAJAmbAMAAAAAAACQJmwDAAAA\n",
       "AAAAkCZsAwAAAAAAAJAmbAMAAAAAAACQJmwDAAAAAAAAkCZsAwAAAAAAAJAmbAMAAAAAAACQJmwD\n",
       "AAAAAAAAkCZsAwAAAAAAAJAmbAMAAAAAAACQJmwDAAAAAAAAkCZsAwAAAAAAAJAmbAMAAAAAAACQ\n",
       "JmwDAAAAAAAAkCZsAwAAAAAAAJAmbAMAAAAAAACQJmwDAAAAAAAAkCZsAwAAAAAAAJAmbAMAAAAA\n",
       "AACQJmwDAAAAAAAAkCZsAwAAAAAAAJAmbAMAAAAAAACQJmwDAAAAAAAAkCZsAwAAAAAAAJAmbAMA\n",
       "AAAAAACQJmwDAAAAAAAAkCZsAwAAAAAAAJAmbAMAAAAAAACQJmwDAAAAAAAAkCZsAwAAAAAAAJAm\n",
       "bAMAAAAAAACQJmwDAAAAAAAAkCZsAwAAAAAAAJAmbAMAAAAAAACQJmwDAAAAAAAAkCZsAwAAAAAA\n",
       "AJAmbAMAAAAAAACQJmwDAAAAAAAAkCZsAwAAAAAAAJAmbAMAAAAAAACQJmwDAAAAAAAAkCZsAwAA\n",
       "AAAAAJAmbAMAAAAAAACQJmwDAAAAAAAAkCZsAwAAAAAAAJAmbAMAAAAAAACQJmwDAAAAAAAAkCZs\n",
       "AwAAAAAAAJAmbAMAAAAAAACQJmwDAAAAAAAAkCZsAwAAAAAAAJAmbAMAAAAAAACQJmwDAAAAAAAA\n",
       "kCZsAwAAAAAAAJAmbAMAAAAAAACQJmwDAAAAAAAAkCZsAwAAAAAAAJAmbAMAAAAAAACQJmwDAAAA\n",
       "AAAAkCZsAwAAAAAAAJAmbAMAAAAAAACQJmwDAAAAAAAAkCZsAwAAAAAAAJAmbAMAAAAAAACQJmwD\n",
       "AAAAAAAAkCZsAwAAAAAAAJAmbAMAAAAAAACQJmwDAAAAAAAAkCZsAwAAAAAAAJAmbAMAAAAAAACQ\n",
       "JmwDAAAAAAAAkCZsAwAAAAAAAJAmbAMAAAAAAACQtrl++3N6A+R8We5MT4CU5cn29ATI2V1tTU+A\n",
       "lN3VjekJkLJ3fjE9AXIWG4vpCZDy+cfL6QmQs748m54AKffuPJ6eACk+tgEAAAAAAABIE7YBAAAA\n",
       "AAAASBO2AQAAAAAAAEgTtgEAAAAAAABIE7YBAAAAAAAASBO2AQAAAAAAAEgTtgEAAAAAAABIE7YB\n",
       "AAAAAAAASBO2AQAAAAAAAEgTtgEAAAAAAABIE7YBAAAAAAAASBO2AQAAAAAAAEgTtgEAAAAAAABI\n",
       "E7YBAAAAAAAASBO2AQAAAAAAAEgTtgEAAAAAAABIE7YBAAAAAAAASBO2AQAAAAAAAEgTtgEAAAAA\n",
       "AABIE7YBAAAAAAAASBO2AQAAAAAAAEgTtgEAAAAAAABIE7YBAAAAAAAASBO2AQAAAAAAAEgTtgEA\n",
       "AAAAAABIE7YBAAAAAAAASBO2AQAAAAAAAEgTtgEAAAAAAABIE7YBAAAAAAAASBO2AQAAAAAAAEgT\n",
       "tgEAAAAAAABIE7YBAAAAAAAASBO2AQAAAAAAAEgTtgEAAAAAAABIE7YBAAAAAAAASBO2AQAAAAAA\n",
       "AEgTtgEAAAAAAABIE7YBAAAAAAAASBO2AQAAAAAAAEgTtgEAAAAAAABIE7YBAAAAAAAASBO2AQAA\n",
       "AAAAAEgTtgEAAAAAAABIE7YBAAAAAAAASBO2AQAAAAAAAEgTtgEAAAAAAABIE7YBAAAAAAAASBO2\n",
       "AQAAAAAAAEgTtgEAAAAAAABIE7YBAAAAAAAASBO2AQAAAAAAAEgTtgEAAAAAAABIE7YBAAAAAAAA\n",
       "SBO2AQAAAAAAAEgTtgEAAAAAAABIE7YBAAAAAAAASBO2AQAAAAAAAEgTtgEAAAAAAABIE7YBAAAA\n",
       "AAAASBO2AQAAAAAAAEgTtgEAAAAAAABIE7YBAAAAAAAASBO2AQAAAAAAAEgTtgEAAAAAAABIE7YB\n",
       "AAAAAAAASBO2AQAAAAAAAEgTtgEAAAAAAABIE7YBAAAAAAAASBO2AQAAAAAAAEgTtgEAAAAAAABI\n",
       "E7YBAAAAAAAASBO2AQAAAAAAAEgTtgEAAAAAAABIE7YBAAAAAAAASBO2AQAAAAAAAEgTtgEAAAAA\n",
       "AABIE7YBAAAAAAAASBO2AQAAAAAAAEgTtgEAAAAAAABIE7YBAAAAAAAASBO2AQAAAAAAAEgTtgEA\n",
       "AAAAAABIE7YBAAAAAAAASBO2AQAAAAAAAEgTtgEAAAAAAABIE7YBAAAAAAAASBO2AQAAAAAAAEgT\n",
       "tgEAAAAAAABIE7YBAAAAAAAASBO2AQAAAAAAAEgTtgGA3+zby0oVABSGUfKc0k50mURFxyQcB9X7\n",
       "P0OXaaaGBFrQwDTLQG3eC+xvsNYT/MMNHxsAAAAAANKEbQAAAAAAAADShG0AAAAAAAAA0oRtAAAA\n",
       "AAAAANKEbQAAAAAAAADShG0AAAAAAAAA0oRtAAAAAAAAANKEbQAAAAAAAADShG0AAAAAAAAA0oRt\n",
       "AAAAAAAAANKEbQAAAAAAAADShG0AAAAAAAAA0oRtAAAAAAAAANKEbQAAAAAAAADShG0AAAAAAAAA\n",
       "0oRtAAAAAAAAANKEbQAAAAAAAADShG0AAAAAAAAA0oRtAAAAAAAAANKEbQAAAAAAAADShG0AAAAA\n",
       "AAAA0oRtAAAAAAAAANKEbQAAAAAAAADShG0AAAAAAAAA0oRtAAAAAAAAANKEbQAAAAAAAADShG0A\n",
       "AAAAAAAA0oRtAAAAAAAAANKEbQAAAAAAAADShG0AAAAAAAAA0oRtAAAAAAAAANKEbQAAAAAAAADS\n",
       "hG0AAAAAAAAA0oRtAAAAAAAAANKEbQAAAAAAAADShG0AAAAAAAAA0oRtAAAAAAAAANKEbQAAAAAA\n",
       "AADShG0AAAAAAAAA0oRtAAAAAAAAANKEbQAAAAAAAADShG0AAAAAAAAA0oRtAAAAAAAAANKEbQAA\n",
       "AAAAAADShG0AAAAAAAAA0oRtAAAAAAAAANKEbQAAAAAAAADShG0AAAAAAAAA0oRtAAAAAAAAANKE\n",
       "bQAAAAAAAADShG0AAAAAAAAA0oRtAAAAAAAAANKEbQAAAAAAAADSlqef19MbIOfo+9PpCZBy8PPh\n",
       "9ATI2T9bTk+AlP2Ly+kJkLK38Wl6AuR8+/1xegLE+DmC/z1ZvZ2eACnbV7vTEyDF9QQAAAAAAABA\n",
       "mrANAAAAAAAAQJqwDQAAAAAAAECasA0AAAAAAABAmrANAAAAAAAAQJqwDQAAAAAAAECasA0AAAAA\n",
       "AABAmrANAAAAAAAAQJqwDQAAAAAAAECasA0AAAAAAABAmrANAAAAAAAAQJqwDQAAAAAAAECasA0A\n",
       "AAAAAABAmrANAAAAAAAAQJqwDQAAAAAAAECasA0AAAAAAABAmrANAAAAAAAAQJqwDQAAAAAAAECa\n",
       "sA0AAAAAAABAmrANAAAAAAAAQJqwDQAAAAAAAECasA0AAAAAAABAmrANAAAAAAAAQJqwDQAAAAAA\n",
       "AECasA0AAAAAAABAmrANAAAAAAAAQJqwDQAAAAAAAECasA0AAAAAAABAmrANAAAAAAAAQJqwDQAA\n",
       "AAAAAECasA0AAAAAAABAmrANAAAAAAAAQJqwDQAAAAAAAECasA0AAAAAAABAmrANAAAAAAAAQJqw\n",
       "DQAAAAAAAECasA0AAAAAAABAmrANAAAAAAAAQJqwDQAAAAAAAECasA0AAAAAAABAmrANAAAAAAAA\n",
       "QJqwDQAAAAAAAECasA0AAAAAAABAmrANAAAAAAAAQJqwDQAAAAAAAECasA0AAAAAAABAmrANAAAA\n",
       "AAAAQJqwDQAAAAAAAECasA0AAAAAAABAmrANAAAAAAAAQJqwDQAAAAAAAECasA0AAAAAAABAmrAN\n",
       "AAAAAAAAQJqwDQAAAAAAAECasA0AAAAAAABAmrANAAAAAAAAQJqwDQAAAAAAAECasA0AAAAAAABA\n",
       "mrANAAAAAAAAQJqwDQAAAAAAAECasA0AAAAAAABAmrANAAAAAAAAQJqwDQAAAAAAAECasA0AAAAA\n",
       "AABAmrANAAAAAAAAQJqwDQAAAAAAAECasA0AAAAAAABAmrANAAAAAAAAQJqwDQAAAAAAAECasA0A\n",
       "AAAAAABAmrANAAAAAAAAQJqwDQAAAAAAAECasA0AAAAAAABAmrANAAAAAAAAQJqwDQAAAAAAAECa\n",
       "sA0AAAAAAABAmrANAAAAAAAAQJqwDQAAAAAAAECasA0AAAAAAABAmrANAAAAAAAAQJqwDQAAAAAA\n",
       "AECasA0AAAAAAABAmrANAAAAAAAAQJqwDQAAAAAAAECasA0AAAAAAABAmrANAAAAAAAAQJqwDQAA\n",
       "AAAAAECasA0AAAAAAABAmrANAAAAAAAAQJqwDQAAAAAAAECasA0AAAAAAABAmrANAAAAAAAAQJqw\n",
       "DQAAAAAAAECasA0AAAAAAABAmrANAAAAAAAAQJqwDQAAAAAAAECasA0AAAAAAABAmrANAAAAAAAA\n",
       "QJqwDQAAAAAAAECasA0AAAAAAABAmrANAAAAAAAAQJqwDQAAAAAAAECasA0AAAAAAABAmrANAAAA\n",
       "AAAAQJqwDQAAAAAAAECasA0AAAAAAABAmrANAAAAAAAAQJqwDQAAAAAAAECasA0AAAAAAABAmrAN\n",
       "AAAAAAAAQJqwDQAAAAAAAECasA0AAAAAAABAmrANAAAAAAAAQJqwDQAAAAAAAECasA0AAAAAAABA\n",
       "mrANAAAAAAAAQJqwDQAAAAAAAECasA0AAAAAAABAmrANAAAAAAAAQJqwDQAAAAAAAECasA0AAAAA\n",
       "AABAmrANAAAAAAAAQJqwDQAAAAAAAECasA0AAAAAAABAmrANAAAAAAAAQJqwDQAAAAAAAECasA0A\n",
       "AAAAAABAmrANAAAAAAAAQJqwDQAAAAAAAECasA0AAAAAAABAmrANAAAAAAAAQJqwDQAAAAAAAECa\n",
       "sA0AAAAAAABAmrANAAAAAAAAQJqwDQAAAAAAAECasA0AAAAAAABAmrANAAAAAAAAQJqwDQAAAAAA\n",
       "AECasA0AAAAAAABAmrANAAAAAAAAQJqwDQAAAAAAAECasA0AAAAAAABAmrANAAAAAAAAQNry5Ouz\n",
       "6Q2Qc3j6aHoCpOyf356eADkHv/5OT4CUvY1P0xMg5eTi3fQEyFks7k1PgJRnm6+mJ0DOztXO9ARI\n",
       "WW9tTU+AFB/bAAAAAAAAAKQJ2wAAAAAAAACkCdsAAAAAAAAApAnbAAAAAAAAAKQJ2wAAAAAAAACk\n",
       "CdsAAAAAAAAApAnbAAAAAAAAAKQJ2wAAAAAAAACkCdsAAAAAAAAApAnbAAAAAAAAAKQJ2wAAAAAA\n",
       "AACkCdsAAAAAAAAApAnbAAAAAAAAAKQJ2wAAAAAAAACkCdsAAAAAAAAApAnbAAAAAAAAAKQJ2wAA\n",
       "AAAAAACkCdsAAAAAAAAApAnbAAAAAAAAAKQJ2wAAAAAAAACkCdsAAAAAAAAApAnbAAAAAAAAAKQJ\n",
       "2wAAAAAAAACkCdsAAAAAAAAApAnbAAAAAAAAAKQJ2wAAAAAAAACkCdsAAAAAAAAApAnbAAAAAAAA\n",
       "AKQJ2wAAAAAAAACkCdsAAAAAAAAApAnbAAAAAAAAAKQJ2wAAAAAAAACkCdsAAAAAAAAApAnbAAAA\n",
       "AAAAAKQJ2wAAAAAAAACkCdsAAAAAAAAApAnbAAAAAAAAAKQJ2wAAAAAAAACkCdsAAAAAAAAApAnb\n",
       "AAAAAAAAAKQJ2wAAAAAAAACkCdsAAAAAAAAApAnbAAAAAAAAAKQJ2wAAAAAAAACkCdsAAAAAAAAA\n",
       "pAnbAAAAAAAAAKQJ2wAAAAAAAACkCdsAAAAAAAAApAnbAAAAAAAAAKQJ2wAAAAAAAACkCdsAAAAA\n",
       "AAAApAnbAAAAAAAAAKQJ2wAAAAAAAACkCVetCOUAABsMSURBVNsAAAAAAAAApAnbAAAAAAAAAKQJ\n",
       "2wAAAAAAAACkCdsAAAAAAAAApAnbAAAAAAAAAKQJ2wAAAAAAAACkCdsAAAAAAAAApAnbAAAAAAAA\n",
       "AKQJ2wAAAAAAAACkCdsAAAAAAAAApAnbAAAAAAAAAKQJ2wAAAAAAAACkCdsAAAAAAAAApAnbAAAA\n",
       "AAAAAKQJ2wAAAAAAAACkCdsAAAAAAAAApAnbAAAAAAAAAKQJ2wAAAAAAAACkCdsAAAAAAAAApAnb\n",
       "AAAAAAAAAKQJ2wAAAAAAAACkCdsAAAAAAAAApAnbAAAAAAAAAKQJ2wAAAAAAAACkCdsAAAAAAAAA\n",
       "pAnbAAAAAAAAAKQJ2wAAAAAAAACkCdsAAAAAAAAApAnbAAAAAAAAAKQJ2wAAAAAAAACkCdsAAAAA\n",
       "AAAApAnbAAAAAAAAAKQJ2wAAAAAAAACkCdsAAAAAAAAApAnbAAAAAAAAAKQJ2wAAAAAAAACkCdsA\n",
       "AAAAAAAApAnbAAAAAAAAAKQJ2wAAAAAAAACkCdsAAAAAAAAApAnbAAAAAAAAAKQJ2wAAAAAAAACk\n",
       "CdsAAAAAAAAApAnbAAAAAAAAAKQJ2wAAAAAAAACkCdsAAAAAAAAApAnbAAAAAAAAAKQJ2wAAAAAA\n",
       "AACkCdsAAAAAAAAApAnbAAAAAAAAAKQJ2wAAAAAAAACkCdsAAAAAAAAApAnbAAAAAAAAAKQJ2wAA\n",
       "AAAAAACkCdsAAAAAAAAApAnbAAAAAAAAAKQJ2wAAAAAAAACkCdsAAAAAAAAApAnbAAAAAAAAAKQJ\n",
       "2wAAAAAAAACkCdsAAAAAAAAApAnbAAAAAAAAAKQJ2wAAAAAAAACkCdsAAAAAAAAApAnbAAAAAAAA\n",
       "AKQJ2wAAAAAAAACkCdsAAAAAAAAApAnbAAAAAAAAAKQJ2wAAAAAAAACkCdsAAAAAAAAApAnbAAAA\n",
       "AAAAAKQJ2wAAAAAAAACkCdsAAAAAAAAApAnbAAAAAAAAAKQJ2wAAAAAAAACkCdsAAAAAAAAApAnb\n",
       "AAAAAAAAAKQJ2wAAAAAAAACkCdsAAAAAAAAApAnbAAAAAAAAAKQJ2wAAAAAAAACkCdsAAAAAAAAA\n",
       "pAnbAAAAAAAAAKQJ2wAAAAAAAACkCdsAAAAAAAAApAnbAAAAAAAAAKQJ2wAAAAAAAACkCdsAAAAA\n",
       "AAAApAnbAAAAAAAAAKQJ2wAAAAAAAACkLY9+PJ7eADmH53enJ0DKwfnV9ATI2ds4mJ4AKScX76cn\n",
       "QMpycX96AuQ833w9PQFSXl6vpydAzvbqzvQESFmvbqYnQIqPbQAAAAAAAADShG0AAAAAAAAA0oRt\n",
       "AAAAAAAAANKEbQAAAAAAAADShG0AAAAAAAAA0oRtAAAAAAAAANKEbQAAAAAAAADShG0AAAAAAAAA\n",
       "0oRtAAAAAAAAANKEbQAAAAAAAADShG0AAAAAAAAA0oRtAAAAAAAAANKEbQAAAAAAAADShG0AAAAA\n",
       "AAAA0oRtAAAAAAAAANKEbQAAAAAAAADShG0AAAAAAAAA0oRtAAAAAAAAANKEbQAAAAAAAADShG0A\n",
       "AAAAAAAA0oRtAAAAAAAAANKEbQAAAAAAAADShG0AAAAAAAAA0oRtAAAAAAAAANKEbQAAAAAAAADS\n",
       "hG0AAAAAAAAA0oRtAAAAAAAAANKEbQAAAAAAAADShG0AAAAAAAAA0oRtAAAAAAAAANKEbQAAAAAA\n",
       "AADShG0AAAAAAAAA0oRtAAAAAAAAANKEbQAAAAAAAADShG0AAAAAAAAA0oRtAAAAAAAAANKEbQAA\n",
       "AAAAAADShG0AAAAAAAAA0oRtAAAAAAAAANKEbQAAAAAAAADShG0AAAAAAAAA0oRtAAAAAAAAANKE\n",
       "bQAAAAAAAADShG0AAAAAAAAA0oRtAAAAAAAAANKEbQAAAAAAAADShG0AAAAAAAAA0oRtAAAAAAAA\n",
       "ANKEbQAAAAAAAADShG0AAAAAAAAA0oRtAAAAAAAAANKEbQAAAAAAAADShG0AAAAAAAAA0oRtAAAA\n",
       "AAAAANKEbQAAAAAAAADShG0AAAAAAAAA0oRtAAAAAAAAANKEbQAAAAAAAADShG0AAAAAAAAA0oRt\n",
       "AAAAAAAAANKEbQAAAAAAAADShG0AAAAAAAAA0oRtAAAAAAAAANKEbQAAAAAAAADShG0AAAAAAAAA\n",
       "0oRtAAAAAAAAANKEbQAAAAAAAADShG0AAAAAAAAA0oRtAAAAAAAAANKEbQAAAAAAAADShG0AAAAA\n",
       "AAAA0oRtAAAAAAAAANKEbQAAAAAAAADShG0AAAAAAAAA0oRtAAAAAAAAANKEbQAAAAAAAADShG0A\n",
       "AAAAAAAA0oRtAAAAAAAAANKEbQAAAAAAAADShG0AAAAAAAAA0oRtAAAAAAAAANKEbQAAAAAAAADS\n",
       "hG0AAAAAAAAA0oRtAAAAAAAAANKEbQAAAAAAAADShG0AAAAAAAAA0oRtAAAAAAAAANKEbQAAAAAA\n",
       "AADShG0AAAAAAAAA0oRtAAAAAAAAANKEbQAAAAAAAADShG0AAAAAAAAA0oRtAAAAAAAAANKEbQAA\n",
       "AAAAAADShG0AAAAAAAAA0oRtAAAAAAAAANKEbQAAAAAAAADShG0AAAAAAAAA0oRtAAAAAAAAANKE\n",
       "bQAAAAAAAADShG0AAAAAAAAA0oRtAAAAAAAAANKEbQAAAAAAAADShG0AAAAAAAAA0oRtAAAAAAAA\n",
       "ANKEbQAAAAAAAADShG0AAAAAAAAA0oRtAAAAAAAAANKEbQAAAAAAAADShG0AAAAAAAAA0oRtAAAA\n",
       "AAAAANKEbQAAAAAAAADShG0AAAAAAAAA0oRtAAAAAAAAANKEbQAAAAAAAADShG0AAAAAAAAA0oRt\n",
       "AAAAAAAAANKEbQAAAAAAAADShG0AAAAAAAAA0oRtAAAAAAAAANKEbQAAAAAAAADShG0AAAAAAAAA\n",
       "0oRtAAAAAAAAANKEbQAAAAAAAADShG0AAAAAAAAA0oRtAAAAAAAAANKEbQAAAAAAAADShG0AAAAA\n",
       "AAAA0oRtAAAAAAAAANKEbQAAAAAAAADShG0AAAAAAAAA0oRtAAAAAAAAANKEbQAAAAAAAADShG0A\n",
       "AAAAAAAA0oRtAAAAAAAAANKEbQAAAAAAAADShG0AAAAAAAAA0oRtAAAAAAAAANKEbQAAAAAAAADS\n",
       "hG0AAAAAAAAA0oRtAAAAAAAAANKEbQAAAAAAAADShG0AAAAAAAAA0pZfzh5Mb4Ccw/Nb0xMgZf/m\n",
       "eHoC5BxffpieACmLxWp6AqSsN99MT4Cc3Zv19ARIeXHv9vQEyNleXU9PgJT16s/0BEjxsQ0AAAAA\n",
       "AABAmrANAAAAAAAAQJqwDQAAAAAAAECasA0AAAAAAABAmrANAAAAAAAAQJqwDQAAAAAAAECasA0A\n",
       "AAAAAABAmrANAAAAAAAAQJqwDQAAAAAAAECasA0AAAAAAABAmrANAAAAAAAAQJqwDQAAAAAAAECa\n",
       "sA0AAAAAAABAmrANAAAAAAAAQJqwDQAAAAAAAECasA0AAAAAAABAmrANAAAAAAAAQJqwDQAAAAAA\n",
       "AECasA0AAAAAAABAmrANAAAAAAAAQJqwDQAAAAAAAECasA0AAAAAAABAmrANAAAAAAAAQJqwDQAA\n",
       "AAAAAECasA0AAAAAAABAmrANAAAAAAAAQJqwDQAAAAAAAECasA0AAAAAAABAmrANAAAAAAAAQJqw\n",
       "DQAAAAAAAECasA0AAAAAAABAmrANAAAAAAAAQJqwDQAAAAAAAECasA0AAAAAAABAmrANAAAAAAAA\n",
       "QJqwDQAAAAAAAECasA0AAAAAAABAmrANAAAAAPCvfXvHhTCAwjBcICQ/hYq4jMsWVPa/Aq2G0EvI\n",
       "yGjM6G3gvMXzrOBrT94cAADShG0AAAAAAAAA0oRtAAAAAAAAANKEbQAAAAAAAADShG0AAAAAAAAA\n",
       "0oRtAAAAAAAAANKEbQAAAAAAAADShG0AAAAAAAAA0oRtAAAAAAAAANKEbQAAAAAAAADShG0AAAAA\n",
       "AAAA0oRtAAAAAAAAANKEbQAAAAAAAADShG0AAAAAAAAA0oRtAAAAAAAAANKEbQAAAAAAAADShG0A\n",
       "AAAAAAAA0oRtAAAAAAAAANKEbQAAAAAAAADShG0AAAAAAAAA0oRtAAAAAAAAANKEbQAAAAAAAADS\n",
       "hG0AAAAAAAAA0oRtAAAAAAAAANKEbQAAAAAAAADShG0AAAAAAAAA0oRtAAAAAAAAANKEbQAAAAAA\n",
       "AADShG0AAAAAAAAA0oRtAAAAAAAAANKEbQAAAAAAAADShG0AAAAAAAAA0oRtAAAAAAAAANKEbQAA\n",
       "AAAAAADShG0AAAAAAAAA0oRtAAAAAAAAANKEbQAAAAAAAADShG0AAAAAAAAA0oRtAAAAAAAAANKE\n",
       "bQAAAAAAAADShG0AAAAAAAAA0oRtAAAAAAAAANKEbQAAAAAAAADShG0AAAAAAAAA0oRtAAAAAAAA\n",
       "ANKEbQAAAAAAAADShG0AAAAAAAAA0oRtAAAAAAAAANKEbQAAAAAAAADShG0AAAAAAAAA0oRtAAAA\n",
       "AAAAANKEbQAAAAAAAADShG0AAAAAAAAA0oRtAAAAAAAAANKEbQAAAAAAAADShG0AAAAAAAAA0oRt\n",
       "AAAAAAAAANKEbQAAAAAAAADShG0AAAAAAAAA0oRtAAAAAAAAANKEbQAAAAAAAADShG0AAAAAAAAA\n",
       "0oRtAAAAAAAAANKEbQAAAAAAAADShG0AAAAAAAAA0oRtAAAAAAAAANKEbQAAAAAAAADShG0AAAAA\n",
       "AAAA0oRtAAAAAAAAANKEbQAAAAAAAADShG0AAAAAAAAA0oRtAAAAAAAAANKEbQAAAAAAAADShG0A\n",
       "AAAAAAAA0oRtAAAAAAAAANKEbQAAAAAAAADShG0AAAAAAAAA0oRtAAAAAAAAANKEbQAAAAAAAADS\n",
       "hG0AAAAAAAAA0oRtAAAAAAAAANKEbQAAAAAAAADShG0AAAAAAAAA0oRtAAAAAAAAANKEbQAAAAAA\n",
       "AADShG0AAAAAAAAA0oRtAAAAAAAAANKEbQAAAAAAAADShG0AAAAAAAAA0oRtAAAAAAAAANKEbQAA\n",
       "AAAAAADShG0AAAAAAAAA0oRtAAAAAAAAANKEbQAAAAAAAADShG0AAAAAAAAA0oRtAAAAAAAAANKE\n",
       "bQAAAAAAAADShG0AAAAAAAAA0oRtAAAAAAAAANKEbQAAAAAAAADShG0AAAAAAAAA0oRtAAAAAAAA\n",
       "ANKEbQAAAAAAAADShG0AAAAAAAAA0oRtAAAAAAAAANKEbQAAAAAAAADS9l/Xh9MbIOflZz09AVLe\n",
       "t0/TEyBnt/udngApl0cP0xMg5X57NT0Bcm6Xg+kJkLJa3BTw3/WymZ4AKRfHX9MTIMXHNgAAAAAA\n",
       "AABpwjYAAAAAAAAAacI2AAAAAAAAAGnCNgAAAAAAAABpwjYAAAAAAAAAacI2AAAAAAAAAGnCNgAA\n",
       "AAAAAABpwjYAAAAAAAAAacI2AAAAAAAAAGnCNgAAAAAAAABpwjYAAAAAAAAAacI2AAAAAAAAAGnC\n",
       "NgAAAAAAAABpwjYAAAAAAAAAacI2AAAAAAAAAGnCNgAAAAAAAABpwjYAAAAAAAAAacI2AAAAAAAA\n",
       "AGnCNgAAAAAAAABpwjYAAAAAAAAAacI2AAAAAAAAAGnCNgAAAAAAAABpwjYAAAAAAAAAacI2AAAA\n",
       "AAAAAGnCNgAAAAAAAABpwjYAAAAAAAAAacI2AAAAAAAAAGnCNgAAAAAAAABpwjYAAAAAAAAAacI2\n",
       "AAAAAAAAAGnCNgAAAAAAAABpwjYAAAAAAAAAacI2AAAAAAAAAGnCNgAAAAAAAABpwjYAAAAAAAAA\n",
       "acI2AAAAAAAAAGnCNgAAAAAAAABpwjYAAAAAAAAAacI2AAAAAAAAAGnCNgAAAAAAAABpwjYAAAAA\n",
       "AAAAacI2AAAAAAAAAGnCNgAAAAAAAABpwjYAAAAAAAAAacI2AAAAAAAAAGnCNgAAAAAAAABpwjYA\n",
       "AAAAAAAAacI2AAAAAAAAAGnCNgAAAAAAAABpwjYAAAAAAAAAacI2AAAAAAAAAGnCNgAAAAAAAABp\n",
       "wjYAAAAAAAAAacI2AAAAAAAAAGnCNgAAAAAAAABpwjYAAAAAAAAAacI2AAAAAAAAAGnCNgAAAAAA\n",
       "AABpwjYAAAAAAAAAacI2AAAAAAAAAGnCNgAAAAAAAABpwjYAAAAAAAAAacI2AAAAAAAAAGnCNgAA\n",
       "AAAAAABpwjYAAAAAAAAAacI2AAAAAAAAAGnCNgAAAAAAAABpwjYAAAAAAAAAacI2AAAAAAAAAGnC\n",
       "NgAAAAAAAABpwjYAAAAAAAAAacI2AAAAAAAAAGnCNgAAAAAAAABpwjYAAAAAAAAAacI2AAAAAAAA\n",
       "AGnCNgAAAAAAAABpwjYAAAAAAAAAacI2AAAAAAAAAGnCNgAAAAAAAABpwjYAAAAAAAAAacI2AAAA\n",
       "AAAAAGnCNgAAAAAAAABpwjYAAAAAAAAAacI2AAAAAAAAAGnCNgAAAAAAAABpwjYAAAAAAAAAacI2\n",
       "AAAAAAAAAGnCNgAAAAAAAABpwjYAAAAAAAAAacI2AAAAAAAAAGnCNgAAAAAAAABpwjYAAAAAAAAA\n",
       "acI2AAAAAAAAAGnCNgAAAAAAAABpwjYAAAAAAAAAacI2AAAAAAAAAGnCNgAAAAAAAABpwjYAAAAA\n",
       "AAAAacI2AAAAAAAAAGnCNgAAAAAAAABpwjYAAAAAAAAAacI2AAAAAAAAAGnCNgAAAAAAAABpwjYA\n",
       "AAAAAAAAacI2AAAAAAAAAGnCNgAAAAAAAABpwjYAAAAAAAAAacI2AAAAAAAAAGnCNgAAAAAAAABp\n",
       "wjYAAAAAAAAAacI2AAAAAAAAAGnCNgAAAAAAAABpwjYAAAAAAAAAacI2AAAAAAAAAGnCNgAAAAAA\n",
       "AABpwjYAAAAAAAAAacI2AAAAAAAAAGnCNgAAAAAAAABpwjYAAAAAAAAAacI2AAAAAAAAAGnCNgAA\n",
       "AAAAAABpwjYAAAAAAAAAacI2AAAAAAAAAGnCNgAAAAAAAABpwjYAAAAAAAAAacI2AAAAAAAAAGnC\n",
       "NgAAAAAAAABpwjYAAAAAAAAAacI2AAAAAAAAAGnCNgAAAAAAAABpwjYAAAAAAAAAacI2AAAAAAAA\n",
       "AGnCNgAAAAAAAABpwjYAAAAAAAAAacI2AAAAAAAAAGnCNgAAAAAAAABpwjYAAAAAAAAAacI2AAAA\n",
       "AAAAAGnCNgAAAAAAAABpwjYAAAAAAAAAacI2AAAAAAAAAGnCNgAAAAAAAABpwjYAAAAAAAAAaftv\n",
       "37vpDZDzuvc8PQFSNpu36QmQc378OD0BUu62q+kJkHKzHExPgJzV8js9AVJWy2Z6AuRcnXxOT4CU\n",
       "s9OP6QmQ4mMbAAAAAAAAgDRhGwAAAAAAAIA0YRsAAAAAAACANGEbAAAAAAAAgDRhGwAAAAAAAIA0\n",
       "YRsAAAAAAACANGEbAAAAAAAAgDRhGwAAAAAAAIA0YRsAAAAAAACANGEbAAAAAAAAgDRhGwAAAAAA\n",
       "AIA0YRsAAAAAAACANGEbAAAAAAAAgDRhGwAAAAAAAIA0YRsAAAAAAACANGEbAAAAAAAAgDRhGwAA\n",
       "AAAAAIA0YRsAAAAAAACANGEbAAAAAAAAgDRhGwAAAAAAAIA0YRsAAAAAAACANGEbAAAAAAAAgDRh\n",
       "GwAAAAAAAIA0YRsAAAAAAACANGEbAAAAAAAAgDRhGwAAAAAAAIA0YRsAAAAAAACANGEbAAAAAAAA\n",
       "gDRhGwAAAAAAAIA0YRsAAAAAAACANGEbAAAAAAAAgDRhGwAAAAAAAIA0YRsAAAAAAACANGEbAAAA\n",
       "AAAAgDRhGwAAAAAAAIA0YRsAAAAAAACANGEbAAAAAAAAgDRhGwAAAAAAAIA0YRsAAAAAAACANGEb\n",
       "AAAAAAAAgDRhGwAAAAAAAIA0YRsAAAAAAACANGEbAAAAAAAAgDRhGwAAAAAAAIA0YRsAAAAAAACA\n",
       "NGEbAAAAAAAAgDRhGwAAAAAAAIA0YRsAAAAAAACANGEbAAAAAAAAgDRhGwAAAAAAAIA0YRsAAAAA\n",
       "AACANGEbAAAAAAAAgDRhGwAAAAAAAIA0YRsAAAAAAACANGEbAAAAAAAAgDRhGwAAAAAAAIA0YRsA\n",
       "AAAAAACANGEbAAAAAAAAgDRhGwAAAAAAAIA0YRsAAAAAAACANGEbAAAAAAAAgDRhGwAAAAAAAIA0\n",
       "YRsAAAAAAACANGEbAAAAAAAAgDRhGwAAAAAAAIA0YRsAAAAAAACANGEbAAAAAAAAgDRhGwAAAAAA\n",
       "AIA0YRsAAAAAAACANGEbAAAAAAAAgDRhGwAAAAAAAIA0YRsAAAAAAACANGEbAAAAAAAAgDRhGwAA\n",
       "AAAAAIA0YRsAAAAAAACANGEbAAAAAAAAgDRhGwAAAAAAAIA0YRsAAAAAAACANGEbAAAAAAAAgDRh\n",
       "GwAAAAAAAIA0YRsAAAAAAACANGEbAAAAAAAAgDRhGwAAAAAAAIA0YRsAAAAAAACANGEbAAAAAAAA\n",
       "gDRhGwAAAAAAAIA0YRsAAAAAAACANGEbAAAAAAAAgDRhGwAAAAAAAIA0YRsAAAAAAACANGEbAAAA\n",
       "AAAAgDRhGwAAAAAAAIA0YRsAAAAAAACANGEbAAAAAAAAgDRhGwAAAAAAAIA0YRsAAAAAAACANGEb\n",
       "AAAAAAAAgDRhGwAAAAAAAIA0YRsAAAAAAACANGEbAAAAAAAAgDRhGwAAAAAAAIA0YRsAAAAAAACA\n",
       "NGEbAAAAAAAAgDRhGwAAAAAAAIA0YRsAAAAAAACANGEbAAAAAAAAgDRhGwAAAAAAAIA0YRsAAAAA\n",
       "AACANGEbAAAAAAAAgDRhGwAAAAAAAIA0YRsAAAAAAACANGEbAAAAAAAAgDRhGwAAAAAAAIA0YRsA\n",
       "AAAAAACANGEbAAAAAAAAgDRhGwAAAAAAAIA0YRsAAAAAAACANGEbAAAAAAAAgDRhGwAAAAAAAIA0\n",
       "YRsAAAAAAACANGEbAAAAAAAAgDRhGwAAAAAAAIA0YRsAAAAAAACANGEbAAAAAAAAgDRhGwAAAAAA\n",
       "AIA0YRsAAAAAAACANGEbAAAAAAAAgDRhGwAAAAAAAIA0YRsAAAAAAACANGEbAAAAAAAAgDRhGwAA\n",
       "AAAAAIA0YRsAAAAAAACANGEbAAAAAAAAgDRhGwAAAAAAAIA0YRsAAAAAAACANGEbAAAAAAAAgDRh\n",
       "GwAAAAAAAIA0YRsAAAAAAACANGEbAAAAAAAAgDRhGwAAAAAAAIA0YRsAAAAAAACANGEbAAAAAAAA\n",
       "gLQ/0U+50hEmtjAAAAAASUVORK5CYII=\n",
       "\" transform=\"translate(139, 47)\"/>\n",
       "</g>\n",
       "<defs>\n",
       "  <clipPath id=\"clip813\">\n",
       "    <rect x=\"2160\" y=\"47\" width=\"73\" height=\"1440\"/>\n",
       "  </clipPath>\n",
       "</defs>\n",
       "<g clip-path=\"url(#clip813)\">\n",
       "<image width=\"72\" height=\"1439\" xlink:href=\"data:image/png;base64,\n",
       "iVBORw0KGgoAAAANSUhEUgAAAEgAAAWfCAYAAAAI7rB3AAAMWUlEQVR4nO3dwY0rRxAFwaZQ/lsh\n",
       "L6XfLQtUeSQPERYsEg8c9MyQ+/n3/v0O/+uvb/8Bv06gIFAQKAgU5r5/v/03/DQLCgIFgYJAQaAw\n",
       "7/359t/w0ywoCBQECgIFR41gQUGgIFAQKAgU5rmKrSwoCBQECgIFgcK86yq2saAgUBAoCBQcNYIF\n",
       "BYGCQEGgIFBwFQsWFAQKAgWBgvtBwYKCQEGgIFAQKMxx1FhZUBAoCBQECgIFN8yCBQWBgkBBoDDH\n",
       "DbOVBQWBgkBBoCBQmHP/+fbf8NMsKAgUBAoCBYGCxz7BgoJAQaAgUHDDLFhQECgIFAQKAgVXsWBB\n",
       "QaAgUBAouB8ULCgIFAQKAgWBwnwcNVYWFAQKAgWBgkBhzvWfWTYWFAQKAgWBgqNGsKAgUBAoCBQE\n",
       "Co4awYKCQEGgIFAQKHjDLFhQECgIFAQK83HUWFlQECgIFAQKAgXvSQcLCgIFgYJAwVEjWFAQKAgU\n",
       "BAoCBc/mgwUFgYJAQaAgUHAWCxYUBAoCBYGCo0awoCBQECgIFAQKjhrBgoJAQaAgUBAozLn323/D\n",
       "T7OgIFAQKAgUHDWCBQWBgkBBoCBQ8NgnWFAQKAgUBAo+pIMFBYGCQEGgIFCYj6caKwsKAgWBgkBB\n",
       "oOAsFiwoCBQECgIFL1AFCwoCBYGCQEGg4IZZsKAgUBAoCBTcDwoWFAQKAgWBgkDBDbNgQUGgIFAQ\n",
       "KAgUXMWCBQWBgkBBoOB788GCgkBBoCBQECg4agQLCgIFgYJAQaDgKhYsKAgUBAoCBR/SwYKCQEGg\n",
       "IFAQKLiKBQsKAgWBgkBhzvMhvbGgIFAQKAgUBAqOGsGCgkBBoCBQECi4igULCgIFgYJAwYd0sKAg\n",
       "UBAoCBQECnPu+/bf8NMsKAgUBAoCBYGCs1iwoCBQECgIFBw1ggUFgYJAQaAgUHDUCBYUBAoCBYGC\n",
       "o0awoCBQECgIFAQKc5w0VhYUBAoCBYGCQGHOcxbbWFAQKAgUBAqOGsGCgkBBoCBQECi4igULCgIF\n",
       "gYJAQaAwfohzZ0FBoCBQECg4agQLCgIFgYJAQaDgKhYsKAgUBAoChTn38+2/4adZUBAoCBQECgKF\n",
       "ec9VbGNBQaAgUBAoCBTcMAsWFAQKAgWBghtmwYKCQEGgIFAQKMy7Gm3UCQIFgYJAwVEjWFAQKAgU\n",
       "BAoChTmeza8sKAgUBAoCBYHCPGexlQUFgYJAQaAwx1ONlTpBoCBQECgIFBw1ggUFgYJAQaAgUPDY\n",
       "J1hQECgIFAQKXgMO6gSBgkBBoCBQ8J50sKAgUBAoCBQ81QgWFAQKAgWBgkBh3tNoo04QKAgUBAoC\n",
       "BTfMggUFgYJAQaDghlmwoCBQECgIFAQKc9wwW6kTBAoCBYGCQMFZLFhQECgIFAQKPqSDBQWBgkBB\n",
       "oCBQ8L35YEFBoCBQECj43nxQJwgUBAoCBYHCPEeNlQUFgYJAQaAgUPDYJ1hQECgIFAQK/jNLUCcI\n",
       "FAQKAgWBghtmwYKCQEGgIFAQKLhhFiwoCBQECgIFR41gQUGgIFAQKAgUvCcd1AkCBYGCQMFRI1hQ\n",
       "ECgIFAQKAgVPNYIFBYGCQEGgIFBwFgsWFAQKAgWBgn+fFSwoCBQECgIFgYJ/ZRzUCQIFgYJAQaDg\n",
       "hlmwoCBQECgIFDybDxYUBAoCBYGCQMFRI1hQECgIFAQKc31IrywoCBQECgIFgYLvzQd1gkBBoCBQ\n",
       "ECi4YRYsKAgUBAoCBR/SwYKCQEGgIFAQKHjDLFhQECgIFAQKjhrBgoJAQaAgUBAouIoFCwoCBYGC\n",
       "QEGg4NdfgjpBoCBQECjM9VRjZUFBoCBQECgIFNwwCxYUBAoCBYGCQMFVLFhQECgIFAQKPqSDBQWB\n",
       "gkBBoCBQ8BtmwYKCQEGgIFBw1AgWFAQKAgWBgkDBVSxYUBAoCBQECgIFX2YJ6gSBgkBBoODLLMGC\n",
       "gkBBoCBQECi4YRYsKAgUBAoCBYGCq1iwoCBQECgIFLwGHCwoCBQECgIFgYKjRrCgIFAQKAgU5h0f\n",
       "0hsLCgIFgYJAQaDghlmwoCBQECgIFAQKbpgFCwoCBYGCQMFRI1hQECgIFAQKAgVHjWBBQaAgUBAo\n",
       "CBScxYIFBYGCQEGg4KgRLCgIFAQKAgWBgqtYsKAgUBAoCBTm+jLLyoKCQEGgIFAQKDhqBAsKAgWB\n",
       "gkBBoODZfLCgIFAQKAgU5r1v/wm/zYKCQEGgIFAQKDhqBAsKAgWBgkDBD00GCwoCBYGCQEGg4KgR\n",
       "LCgIFAQKAgWBgjfMggUFgYJAQaDgyyzBgoJAQaAgUBAoeMMsWFAQKAgUBAoCBY99ggUFgYJAQaDg\n",
       "qUawoCBQECgIFAQKHvsECwoCBYGCQMH9oGBBQaAgUBAoCBQ8mw8WFAQKAgWBgkDBDbNgQUGgIFAQ\n",
       "KHg2HywoCBQECgIFgcLcb/8FP86CgkBBoCBQECg4iwULCgIFgYJAwRtmwYKCQEGgIFAQKLhhFiwo\n",
       "CBQECgIF94OCBQWBgkBBoCBQcNQIFhQECgIFgYJAwVksWFAQKAgUBAqezQcLCgIFgYJAQaAwfvxl\n",
       "Z0FBoCBQECgIFJzFggUFgYJAQaDg2XywoCBQECgIFAQKns0HCwoCBYGCQMFRI1hQECgIFAQKAgVH\n",
       "jWBBQaAgUBAoCBTmesVsZUFBoCBQECi4YRYsKAgUBAoCBYGCG2bBgoJAQaAgUHDUCBYUBAoCBYGC\n",
       "QGGepxorCwoCBYGCQEGgMPe4YbaxoCBQECgIFLxAFSwoCBQECgIFgYIfmgwWFAQKAgWBgkDBD00G\n",
       "CwoCBYGCQMGz+WBBQaAgUBAoCBS8Jx0sKAgUBAoCBd84DBYUBAoCBYGCQMFRI1hQECgIFAQKAgXv\n",
       "SQcLCgIFgYJAwWvAwYKCQEGgIFAQKDhqBAsKAgWBgkBBoOA96WBBQaAgUBAo+ImuYEFBoCBQECgI\n",
       "FNwwCxYUBAoCBYGCZ/PBgoJAQaAgUBAoOGoECwoCBYGCQEGg4CwWLCgIFAQKAgVHjWBBQaAgUBAo\n",
       "CBRcxYIFBYGCQEGgIFBwwyxYUBAoCBQECo4awYKCQEGgIFAQKDhqBAsKAgWBgkDBUSNYUBAoCBQE\n",
       "CgIFP9EVLCgIFAQKAgWBgv8vFiwoCBQECgIFN8yCBQWBgkBBoCBQmHdcxjYWFAQKAgWBgkDBWSxY\n",
       "UBAoCBQECp7NBwsKAgWBgkBBoODZfLCgIFAQKAgU3A8KFhQECgIFgYJAwbP5YEFBoCBQECgIFJzF\n",
       "ggUFgYJAQaDgJ7qCBQWBgkBBoCBQmOsVs5UFBYGCQEGg4AWqYEFBoCBQECgIFOY5aqwsKAgUBAoC\n",
       "BYGCs1iwoCBQECgIFDzVCBYUBAoCBYGCQMEbZsGCgkBBoCBQECjM9ZXMlQUFgYJAQaDghlmwoCBQ\n",
       "ECgIFAQKfv0lWFAQKAgUBApeoAoWFAQKAgWBgkDBU41gQUGgIFAQKAgU3DALFhQECgIFgcLc45bZ\n",
       "xoKCQEGgIFAQKLhhFiwoCBQECgIFgYKrWLCgIFAQKAgUPNUIFhQECgIFgYJAwWOfYEFBoCBQECjM\n",
       "/ThqbCwoCBQECgIFgYKjRrCgIFAQKAgUBArzXMVWFhQECgIFgYKjRrCgIFAQKAgUBApzP65iGwsK\n",
       "AgWBgkBBoOAsFiwoCBQECgIFTzWCBQWBgkBBoCBQcNQIFhQECgIFgYIP6WBBQaAgUBAoCBQ8mw8W\n",
       "FAQKAgWBgkBh3vnz7b/hp1lQECgIFAQKbpgFCwoCBYGCQEGg4A2zYEFBoCBQECjMfe4HbSwoCBQE\n",
       "CgIFgYKjRrCgIFAQKAgUBApzPZtfWVAQKAgUBAqOGsGCgkBBoCBQECg4agQLCgIFgYJAQaAw7zmL\n",
       "bSwoCBQECgIFN8yCBQWBgkBBoCBQ8J50sKAgUBAoCBQcNYIFBYGCQEGgIFCY56ixsqAgUBAoCBQE\n",
       "Cs5iwYKCQEGgIFCY6wWqlQUFgYJAQaAgUPCb9sGCgkBBoCBQECj4MkuwoCBQECgIFDzVCBYUBAoC\n",
       "BYGCQMFRI1hQECgIFAQKPqSDBQWBgkBBoCBQ8Gw+WFAQKAgUBAoCBWexYEFBoCBQECjM8Wx+ZUFB\n",
       "oCBQECgIFBw1ggUFgYJAQaAgUPCedLCgIFAQKAgU5jhqrCwoCBQECgIFgYI3zIIFBYGCQEGg4Nl8\n",
       "sKAgUBAoCBQECm6YBQsKAgWBgkBBoDDvvG//DT/NgoJAQaAgUHDDLFhQECgIFAQKAoU5jhorCwoC\n",
       "BYGCQOE/LrLuTX/wFc8AAAAASUVORK5CYII=\n",
       "\" transform=\"translate(2161, 47)\"/>\n",
       "</g>\n",
       "<path clip-path=\"url(#clip810)\" d=\"M2274.38 1168.42 L2290.7 1168.42 L2290.7 1172.35 L2268.76 1172.35 L2268.76 1168.42 Q2271.42 1165.66 2276 1161.03 Q2280.61 1156.38 2281.79 1155.04 Q2284.03 1152.51 2284.91 1150.78 Q2285.82 1149.02 2285.82 1147.33 Q2285.82 1144.57 2283.87 1142.84 Q2281.95 1141.1 2278.85 1141.1 Q2276.65 1141.1 2274.2 1141.87 Q2271.77 1142.63 2268.99 1144.18 L2268.99 1139.46 Q2271.81 1138.32 2274.27 1137.75 Q2276.72 1137.17 2278.76 1137.17 Q2284.13 1137.17 2287.32 1139.85 Q2290.52 1142.54 2290.52 1147.03 Q2290.52 1149.16 2289.7 1151.08 Q2288.92 1152.98 2286.81 1155.57 Q2286.23 1156.24 2283.13 1159.46 Q2280.03 1162.65 2274.38 1168.42 Z\" fill=\"#000000\" fill-rule=\"evenodd\" fill-opacity=\"1\" /><path clip-path=\"url(#clip810)\" d=\"M2300.51 1166.47 L2305.4 1166.47 L2305.4 1172.35 L2300.51 1172.35 L2300.51 1166.47 Z\" fill=\"#000000\" fill-rule=\"evenodd\" fill-opacity=\"1\" /><path clip-path=\"url(#clip810)\" d=\"M2315.63 1137.79 L2333.99 1137.79 L2333.99 1141.73 L2319.91 1141.73 L2319.91 1150.2 Q2320.93 1149.85 2321.95 1149.69 Q2322.97 1149.5 2323.99 1149.5 Q2329.77 1149.5 2333.15 1152.68 Q2336.53 1155.85 2336.53 1161.26 Q2336.53 1166.84 2333.06 1169.94 Q2329.59 1173.02 2323.27 1173.02 Q2321.09 1173.02 2318.83 1172.65 Q2316.58 1172.28 2314.17 1171.54 L2314.17 1166.84 Q2316.26 1167.98 2318.48 1168.53 Q2320.7 1169.09 2323.18 1169.09 Q2327.18 1169.09 2329.52 1166.98 Q2331.86 1164.87 2331.86 1161.26 Q2331.86 1157.65 2329.52 1155.55 Q2327.18 1153.44 2323.18 1153.44 Q2321.3 1153.44 2319.43 1153.86 Q2317.58 1154.27 2315.63 1155.15 L2315.63 1137.79 Z\" fill=\"#000000\" fill-rule=\"evenodd\" fill-opacity=\"1\" /><path clip-path=\"url(#clip810)\" d=\"M2270.21 803.518 L2288.57 803.518 L2288.57 807.453 L2274.5 807.453 L2274.5 815.925 Q2275.52 815.578 2276.53 815.416 Q2277.55 815.231 2278.57 815.231 Q2284.36 815.231 2287.74 818.402 Q2291.12 821.574 2291.12 826.99 Q2291.12 832.569 2287.64 835.671 Q2284.17 838.749 2277.85 838.749 Q2275.68 838.749 2273.41 838.379 Q2271.16 838.009 2268.76 837.268 L2268.76 832.569 Q2270.84 833.703 2273.06 834.259 Q2275.28 834.814 2277.76 834.814 Q2281.77 834.814 2284.1 832.708 Q2286.44 830.601 2286.44 826.99 Q2286.44 823.379 2284.1 821.273 Q2281.77 819.166 2277.76 819.166 Q2275.89 819.166 2274.01 819.583 Q2272.16 819.999 2270.21 820.879 L2270.21 803.518 Z\" fill=\"#000000\" fill-rule=\"evenodd\" fill-opacity=\"1\" /><path clip-path=\"url(#clip810)\" d=\"M2300.33 832.198 L2305.21 832.198 L2305.21 838.078 L2300.33 838.078 L2300.33 832.198 Z\" fill=\"#000000\" fill-rule=\"evenodd\" fill-opacity=\"1\" /><path clip-path=\"url(#clip810)\" d=\"M2325.4 806.597 Q2321.79 806.597 2319.96 810.162 Q2318.15 813.703 2318.15 820.833 Q2318.15 827.939 2319.96 831.504 Q2321.79 835.046 2325.4 835.046 Q2329.03 835.046 2330.84 831.504 Q2332.67 827.939 2332.67 820.833 Q2332.67 813.703 2330.84 810.162 Q2329.03 806.597 2325.4 806.597 M2325.4 802.893 Q2331.21 802.893 2334.26 807.5 Q2337.34 812.083 2337.34 820.833 Q2337.34 829.56 2334.26 834.166 Q2331.21 838.749 2325.4 838.749 Q2319.59 838.749 2316.51 834.166 Q2313.45 829.56 2313.45 820.833 Q2313.45 812.083 2316.51 807.5 Q2319.59 802.893 2325.4 802.893 Z\" fill=\"#000000\" fill-rule=\"evenodd\" fill-opacity=\"1\" /><path clip-path=\"url(#clip810)\" d=\"M2268.76 469.245 L2290.98 469.245 L2290.98 471.235 L2278.43 503.805 L2273.55 503.805 L2285.35 473.18 L2268.76 473.18 L2268.76 469.245 Z\" fill=\"#000000\" fill-rule=\"evenodd\" fill-opacity=\"1\" /><path clip-path=\"url(#clip810)\" d=\"M2300.1 497.925 L2304.98 497.925 L2304.98 503.805 L2300.1 503.805 L2300.1 497.925 Z\" fill=\"#000000\" fill-rule=\"evenodd\" fill-opacity=\"1\" /><path clip-path=\"url(#clip810)\" d=\"M2315.21 469.245 L2333.57 469.245 L2333.57 473.18 L2319.5 473.18 L2319.5 481.652 Q2320.51 481.305 2321.53 481.143 Q2322.55 480.958 2323.57 480.958 Q2329.36 480.958 2332.74 484.129 Q2336.12 487.3 2336.12 492.717 Q2336.12 498.295 2332.64 501.397 Q2329.17 504.476 2322.85 504.476 Q2320.68 504.476 2318.41 504.106 Q2316.16 503.735 2313.76 502.994 L2313.76 498.295 Q2315.84 499.43 2318.06 499.985 Q2320.28 500.541 2322.76 500.541 Q2326.76 500.541 2329.1 498.434 Q2331.44 496.328 2331.44 492.717 Q2331.44 489.106 2329.1 486.999 Q2326.76 484.893 2322.76 484.893 Q2320.89 484.893 2319.01 485.309 Q2317.16 485.726 2315.21 486.606 L2315.21 469.245 Z\" fill=\"#000000\" fill-rule=\"evenodd\" fill-opacity=\"1\" /><path clip-path=\"url(#clip810)\" d=\"M2269.43 165.596 L2277.07 165.596 L2277.07 139.23 L2268.76 140.897 L2268.76 136.638 L2277.02 134.971 L2281.7 134.971 L2281.7 165.596 L2289.33 165.596 L2289.33 169.531 L2269.43 169.531 L2269.43 165.596 Z\" fill=\"#000000\" fill-rule=\"evenodd\" fill-opacity=\"1\" /><path clip-path=\"url(#clip810)\" d=\"M2308.78 138.05 Q2305.17 138.05 2303.34 141.615 Q2301.53 145.156 2301.53 152.286 Q2301.53 159.392 2303.34 162.957 Q2305.17 166.499 2308.78 166.499 Q2312.41 166.499 2314.22 162.957 Q2316.05 159.392 2316.05 152.286 Q2316.05 145.156 2314.22 141.615 Q2312.41 138.05 2308.78 138.05 M2308.78 134.346 Q2314.59 134.346 2317.64 138.953 Q2320.72 143.536 2320.72 152.286 Q2320.72 161.013 2317.64 165.619 Q2314.59 170.202 2308.78 170.202 Q2302.97 170.202 2299.89 165.619 Q2296.83 161.013 2296.83 152.286 Q2296.83 143.536 2299.89 138.953 Q2302.97 134.346 2308.78 134.346 Z\" fill=\"#000000\" fill-rule=\"evenodd\" fill-opacity=\"1\" /><path clip-path=\"url(#clip810)\" d=\"M2328.94 163.652 L2333.83 163.652 L2333.83 169.531 L2328.94 169.531 L2328.94 163.652 Z\" fill=\"#000000\" fill-rule=\"evenodd\" fill-opacity=\"1\" /><path clip-path=\"url(#clip810)\" d=\"M2354.01 138.05 Q2350.4 138.05 2348.57 141.615 Q2346.76 145.156 2346.76 152.286 Q2346.76 159.392 2348.57 162.957 Q2350.4 166.499 2354.01 166.499 Q2357.64 166.499 2359.45 162.957 Q2361.28 159.392 2361.28 152.286 Q2361.28 145.156 2359.45 141.615 Q2357.64 138.05 2354.01 138.05 M2354.01 134.346 Q2359.82 134.346 2362.88 138.953 Q2365.95 143.536 2365.95 152.286 Q2365.95 161.013 2362.88 165.619 Q2359.82 170.202 2354.01 170.202 Q2348.2 170.202 2345.12 165.619 Q2342.07 161.013 2342.07 152.286 Q2342.07 143.536 2345.12 138.953 Q2348.2 134.346 2354.01 134.346 Z\" fill=\"#000000\" fill-rule=\"evenodd\" fill-opacity=\"1\" /><polyline clip-path=\"url(#clip810)\" style=\"stroke:#000000; stroke-linecap:round; stroke-linejoin:round; stroke-width:4; stroke-opacity:1; fill:none\" points=\"2232.76,1486.45 2232.76,1158.7 2256.76,1158.7 2232.76,1158.7 2232.76,824.427 2256.76,824.427 2232.76,824.427 2232.76,490.153 2256.76,490.153 2232.76,490.153 2232.76,155.88 2256.76,155.88 2232.76,155.88 2232.76,47.2441 \"/>\n",
       "</svg>\n"
      ]
     },
     "metadata": {},
     "output_type": "display_data"
    }
   ],
   "source": [
    "heatmap(abs.(mapmat))"
   ]
  }
 ],
 "metadata": {
  "kernelspec": {
   "display_name": "Julia 1.8.2",
   "language": "julia",
   "name": "julia-1.8"
  },
  "language_info": {
   "file_extension": ".jl",
   "mimetype": "application/julia",
   "name": "julia",
   "version": "1.8.2"
  },
  "orig_nbformat": 4
 },
 "nbformat": 4,
 "nbformat_minor": 2
}
