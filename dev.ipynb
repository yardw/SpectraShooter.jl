{
 "cells": [
  {
   "cell_type": "code",
   "execution_count": null,
   "metadata": {},
   "outputs": [],
   "source": [
    "using PkgTemplates\n"
   ]
  },
  {
   "cell_type": "code",
   "execution_count": 1,
   "metadata": {},
   "outputs": [
    {
     "data": {
      "text/plain": [
       "Tuple{Int64, Int64}"
      ]
     },
     "metadata": {},
     "output_type": "display_data"
    }
   ],
   "source": [
    "typeof((1,1))"
   ]
  },
  {
   "cell_type": "code",
   "execution_count": 2,
   "metadata": {},
   "outputs": [
    {
     "data": {
      "text/plain": [
       "2×2 Matrix{Float64}:\n",
       " 0.87497  0.885703\n",
       " 0.46333  0.59144"
      ]
     },
     "metadata": {},
     "output_type": "display_data"
    }
   ],
   "source": [
    "a::Array{Float64,2} = rand(2,2)"
   ]
  },
  {
   "cell_type": "code",
   "execution_count": null,
   "metadata": {},
   "outputs": [],
   "source": [
    "module tstmod\n",
    "    include(\"tmp.jl\")\n",
    "    using .tmpmod\n",
    "    s = Spectra()\n",
    "end"
   ]
  },
  {
   "cell_type": "code",
   "execution_count": 10,
   "metadata": {},
   "outputs": [
    {
     "name": "stdout",
     "output_type": "stream",
     "text": [
      "gap(minmax(10, 2)) = 8\n"
     ]
    },
    {
     "name": "stderr",
     "output_type": "stream",
     "text": [
      "WARNING: replacing module tstmod2.\n"
     ]
    },
    {
     "data": {
      "text/plain": [
       "Main.tstmod2"
      ]
     },
     "metadata": {},
     "output_type": "display_data"
    }
   ],
   "source": [
    "module tstmod2\n",
    "minmax(x, y) = (y < x) ? (y, x) : (x, y)\n",
    "gap((min, max)) = max - min\n",
    "@show gap(minmax(10, 2))\n",
    "end"
   ]
  },
  {
   "cell_type": "code",
   "execution_count": null,
   "metadata": {},
   "outputs": [],
   "source": [
    "include(\"tmp.jl\")\n",
    "import .tmpmod\n",
    "s = Spectra((2,2))"
   ]
  },
  {
   "cell_type": "code",
   "execution_count": 6,
   "metadata": {},
   "outputs": [],
   "source": [
    "struct testMat <: AbstractArray{Int,1}\n",
    "count::Int\n",
    "# testMat(count::Int) = new(count)\n",
    "end\n",
    "Base.size(m::testMat) = (m.count,)\n",
    "Base.IndexStyle(::Type{<:testMat}) = IndexLinear()\n",
    "Base.getindex(m::testMat, i::Int) = i*i"
   ]
  },
  {
   "cell_type": "code",
   "execution_count": 1,
   "metadata": {},
   "outputs": [],
   "source": [
    "struct testMat2 <: AbstractArray{Int,2}\n",
    "count::Int\n",
    "# testMat(count::Int) = new(count)\n",
    "end\n",
    "Base.size(m::testMat2) = (m.count, m.count)\n",
    "Base.IndexStyle(::Type{<:testMat2}) = IndexCartesian()\n",
    "Base.getindex(m::testMat2, i::Int, j::Int) = i*j\n",
    "Base.getindex(m::testMat2, i::Float64, j::Float64) = round(i)*round(j)"
   ]
  },
  {
   "cell_type": "code",
   "execution_count": 4,
   "metadata": {},
   "outputs": [],
   "source": [
    "struct testMat3 <: AbstractArray{Int,1}\n",
    "data::Array{Int,1}\n",
    "end\n",
    "Base.size(m::testMat3) = size(m.data)\n",
    "Base.IndexStyle(::Type{<:testMat3}) = IndexLinear()\n",
    "Base.getindex(m::testMat3, i::Int) = m.data[i]\n",
    "Base.setindex!(m::testMat3, v, i::Int) = m.data[i] = v\n"
   ]
  },
  {
   "cell_type": "code",
   "execution_count": null,
   "metadata": {},
   "outputs": [],
   "source": [
    "let a = testMat(5)\n",
    "    @show a\n",
    "    a.count = 10\n",
    "end"
   ]
  },
  {
   "cell_type": "code",
   "execution_count": null,
   "metadata": {},
   "outputs": [],
   "source": [
    "let a = testMat2(5)\n",
    "    @show a[1.2,2.0]\n",
    "    a.count = 10\n",
    "end"
   ]
  },
  {
   "cell_type": "code",
   "execution_count": 7,
   "metadata": {},
   "outputs": [
    {
     "name": "stdout",
     "output_type": "stream",
     "text": [
      "a = [5653129561065425564, -5046787521423706914, -3441799300175962048, -7068289287443318206, 8487221296793341554]\n"
     ]
    },
    {
     "data": {
      "text/plain": [
       "5-element testMat3:\n",
       "  5653129561065425564\n",
       "                   10\n",
       " -3441799300175962048\n",
       " -7068289287443318206\n",
       "  8487221296793341554"
      ]
     },
     "metadata": {},
     "output_type": "display_data"
    }
   ],
   "source": [
    "let a = testMat3(rand(Int, 5))\n",
    "    @show a\n",
    "    a[2] = 10\n",
    "    a\n",
    "end"
   ]
  },
  {
   "cell_type": "code",
   "execution_count": null,
   "metadata": {},
   "outputs": [],
   "source": [
    "struct Params\n",
    "    logeigvals::StepRangeLen\n",
    "    logfreevals::StepRangeLen\n",
    "    constvals::Tuple\n",
    "end\n"
   ]
  },
  {
   "cell_type": "code",
   "execution_count": null,
   "metadata": {},
   "outputs": [],
   "source": [
    "const dir = (n=0, u=1, d=2, l=3, r=4)\n",
    "const \n",
    "mutable struct Seeds\n",
    "\n",
    "end"
   ]
  },
  {
   "cell_type": "code",
   "execution_count": 14,
   "metadata": {},
   "outputs": [],
   "source": [
    "struct tst\n",
    "    a::Int\n",
    "end\n",
    "Base.getproperty(t::tst, v::Val{:b}) =  0"
   ]
  },
  {
   "cell_type": "code",
   "execution_count": 15,
   "metadata": {},
   "outputs": [
    {
     "name": "stdout",
     "output_type": "stream",
     "text": [
      "x.a = 5\n"
     ]
    },
    {
     "ename": "ErrorException",
     "evalue": "type tst has no field b",
     "output_type": "error",
     "traceback": [
      "type tst has no field b\n",
      "\n",
      "Stacktrace:\n",
      " [1] getproperty(x::tst, f::Symbol)\n",
      "   @ Base .\\Base.jl:37\n",
      " [2] macro expansion\n",
      "   @ show.jl:1128 [inlined]\n",
      " [3] top-level scope\n",
      "   @ l:\\Sieg\\Doc\\Code\\julia\\SpectraShooter.jl\\dev.ipynb:3"
     ]
    }
   ],
   "source": [
    "let x = tst(5)\n",
    "    @show x.a\n",
    "    @show x.b\n",
    "end"
   ]
  },
  {
   "cell_type": "code",
   "execution_count": null,
   "metadata": {},
   "outputs": [],
   "source": []
  }
 ],
 "metadata": {
  "kernelspec": {
   "display_name": "Julia 1.9.0",
   "language": "julia",
   "name": "julia-1.9"
  },
  "language_info": {
   "file_extension": ".jl",
   "mimetype": "application/julia",
   "name": "julia",
   "version": "1.9.0"
  },
  "orig_nbformat": 4
 },
 "nbformat": 4,
 "nbformat_minor": 2
}
