{
 "cells": [
  {
   "cell_type": "code",
   "execution_count": null,
   "metadata": {},
   "outputs": [],
   "source": [
    "using PkgTemplates\n"
   ]
  },
  {
   "cell_type": "code",
   "execution_count": 1,
   "metadata": {},
   "outputs": [
    {
     "data": {
      "text/plain": [
       "Tuple{Int64, Int64}"
      ]
     },
     "metadata": {},
     "output_type": "display_data"
    }
   ],
   "source": [
    "typeof((1,1))"
   ]
  },
  {
   "cell_type": "code",
   "execution_count": 2,
   "metadata": {},
   "outputs": [
    {
     "data": {
      "text/plain": [
       "2×2 Matrix{Float64}:\n",
       " 0.87497  0.885703\n",
       " 0.46333  0.59144"
      ]
     },
     "metadata": {},
     "output_type": "display_data"
    }
   ],
   "source": [
    "a::Array{Float64,2} = rand(2,2)"
   ]
  },
  {
   "cell_type": "code",
   "execution_count": 8,
   "metadata": {},
   "outputs": [
    {
     "name": "stderr",
     "output_type": "stream",
     "text": [
      "WARNING: replacing module tstmod.\n"
     ]
    },
    {
     "ename": "LoadError",
     "evalue": "LoadError: syntax: invalid argument destructuring syntax \"(resolusion_eigval::Int64 = 64, resolusion_param::Int64 = 64)\" around /Users/outk/Documents/Codes/Julia/22-7/spectraShooter/tmp.jl:4\nin expression starting at /Users/outk/Documents/Codes/Julia/22-7/spectraShooter/tmp.jl:1",
     "output_type": "error",
     "traceback": [
      "LoadError: syntax: invalid argument destructuring syntax \"(resolusion_eigval::Int64 = 64, resolusion_param::Int64 = 64)\" around /Users/outk/Documents/Codes/Julia/22-7/spectraShooter/tmp.jl:4\n",
      "in expression starting at /Users/outk/Documents/Codes/Julia/22-7/spectraShooter/tmp.jl:1\n",
      "\n",
      "Stacktrace:\n",
      " [1] top-level scope\n",
      "   @ ~/Documents/Codes/Julia/22-7/spectraShooter/tmp.jl:4"
     ]
    }
   ],
   "source": [
    "module tstmod\n",
    "    include(\"tmp.jl\")\n",
    "    using .tmpmod\n",
    "    s = Spectra()\n",
    "end"
   ]
  },
  {
   "cell_type": "code",
   "execution_count": 10,
   "metadata": {},
   "outputs": [
    {
     "name": "stdout",
     "output_type": "stream",
     "text": [
      "gap(minmax(10, 2)) = 8\n"
     ]
    },
    {
     "name": "stderr",
     "output_type": "stream",
     "text": [
      "WARNING: replacing module tstmod2.\n"
     ]
    },
    {
     "data": {
      "text/plain": [
       "Main.tstmod2"
      ]
     },
     "metadata": {},
     "output_type": "display_data"
    }
   ],
   "source": [
    "module tstmod2\n",
    "minmax(x, y) = (y < x) ? (y, x) : (x, y)\n",
    "gap((min, max)) = max - min\n",
    "@show gap(minmax(10, 2))\n",
    "end"
   ]
  },
  {
   "cell_type": "code",
   "execution_count": 8,
   "metadata": {},
   "outputs": [
    {
     "name": "stderr",
     "output_type": "stream",
     "text": [
      "WARNING: replacing module tmpmod.\n"
     ]
    },
    {
     "ename": "CanonicalIndexError",
     "evalue": "CanonicalIndexError: getindex not defined for Spectra",
     "output_type": "error",
     "traceback": [
      "CanonicalIndexError: getindex not defined for Spectra\n",
      "\n",
      "Stacktrace:\n",
      "  [1] error_if_canonical_getindex(::IndexCartesian, ::Spectra, ::Int64, ::Int64)\n",
      "    @ Base ./abstractarray.jl:1260\n",
      "  [2] getindex\n",
      "    @ ./abstractarray.jl:1240 [inlined]\n",
      "  [3] isassigned(::Spectra, ::Int64, ::Int64)\n",
      "    @ Base ./abstractarray.jl:565\n",
      "  [4] alignment(io::IOContext{IOBuffer}, X::AbstractVecOrMat, rows::Vector{Int64}, cols::Vector{Int64}, cols_if_complete::Int64, cols_otherwise::Int64, sep::Int64, ncols::Int64)\n",
      "    @ Base ./arrayshow.jl:68\n",
      "  [5] _print_matrix(io::IOContext{IOBuffer}, X::AbstractVecOrMat, pre::String, sep::String, post::String, hdots::String, vdots::String, ddots::String, hmod::Int64, vmod::Int64, rowsA::UnitRange{Int64}, colsA::UnitRange{Int64})\n",
      "    @ Base ./arrayshow.jl:207\n",
      "  [6] print_matrix(io::IOContext{IOBuffer}, X::Spectra, pre::String, sep::String, post::String, hdots::String, vdots::String, ddots::String, hmod::Int64, vmod::Int64) (repeats 2 times)\n",
      "    @ Base ./arrayshow.jl:171\n",
      "  [7] print_array\n",
      "    @ ./arrayshow.jl:358 [inlined]\n",
      "  [8] show(io::IOContext{IOBuffer}, #unused#::MIME{Symbol(\"text/plain\")}, X::Spectra)\n",
      "    @ Base ./arrayshow.jl:399\n",
      "  [9] limitstringmime(mime::MIME{Symbol(\"text/plain\")}, x::Spectra)\n",
      "    @ VSCodeServer.IJuliaCore ~/.vscode/extensions/julialang.language-julia-1.47.2/scripts/packages/IJuliaCore/src/inline.jl:22\n",
      " [10] display_mimestring\n",
      "    @ ~/.vscode/extensions/julialang.language-julia-1.47.2/scripts/packages/IJuliaCore/src/display.jl:67 [inlined]\n",
      " [11] display_dict(x::Spectra)\n",
      "    @ VSCodeServer.IJuliaCore ~/.vscode/extensions/julialang.language-julia-1.47.2/scripts/packages/IJuliaCore/src/display.jl:98\n",
      " [12] display(#unused#::VSCodeServer.JuliaNotebookInlineDisplay, x::Spectra)\n",
      "    @ VSCodeServer ~/.vscode/extensions/julialang.language-julia-1.47.2/scripts/packages/VSCodeServer/src/notebookdisplay.jl:32\n",
      " [13] display(x::Any)\n",
      "    @ Base.Multimedia ./multimedia.jl:328\n",
      " [14] #invokelatest#2\n",
      "    @ ./essentials.jl:729 [inlined]\n",
      " [15] invokelatest\n",
      "    @ ./essentials.jl:726 [inlined]\n",
      " [16] (::VSCodeServer.var\"#198#199\"{VSCodeServer.NotebookRunCellArguments, String})()\n",
      "    @ VSCodeServer ~/.vscode/extensions/julialang.language-julia-1.47.2/scripts/packages/VSCodeServer/src/serve_notebook.jl:48\n",
      " [17] withpath(f::VSCodeServer.var\"#198#199\"{VSCodeServer.NotebookRunCellArguments, String}, path::String)\n",
      "    @ VSCodeServer ~/.vscode/extensions/julialang.language-julia-1.47.2/scripts/packages/VSCodeServer/src/repl.jl:249\n",
      " [18] notebook_runcell_request(conn::VSCodeServer.JSONRPC.JSONRPCEndpoint{Base.PipeEndpoint, Base.PipeEndpoint}, params::VSCodeServer.NotebookRunCellArguments)\n",
      "    @ VSCodeServer ~/.vscode/extensions/julialang.language-julia-1.47.2/scripts/packages/VSCodeServer/src/serve_notebook.jl:13\n",
      " [19] dispatch_msg(x::VSCodeServer.JSONRPC.JSONRPCEndpoint{Base.PipeEndpoint, Base.PipeEndpoint}, dispatcher::VSCodeServer.JSONRPC.MsgDispatcher, msg::Dict{String, Any})\n",
      "    @ VSCodeServer.JSONRPC ~/.vscode/extensions/julialang.language-julia-1.47.2/scripts/packages/JSONRPC/src/typed.jl:67\n",
      " [20] serve_notebook(pipename::String, outputchannel_logger::Base.CoreLogging.SimpleLogger; crashreporting_pipename::String)\n",
      "    @ VSCodeServer ~/.vscode/extensions/julialang.language-julia-1.47.2/scripts/packages/VSCodeServer/src/serve_notebook.jl:139\n",
      " [21] top-level scope\n",
      "    @ ~/.vscode/extensions/julialang.language-julia-1.47.2/scripts/notebook/notebook.jl:32"
     ]
    }
   ],
   "source": [
    "include(\"tmp.jl\")\n",
    "import .tmpmod\n",
    "s = Spectra((2,2))"
   ]
  },
  {
   "cell_type": "code",
   "execution_count": 6,
   "metadata": {},
   "outputs": [],
   "source": [
    "struct testMat <: AbstractArray{Int,1}\n",
    "count::Int\n",
    "# testMat(count::Int) = new(count)\n",
    "end\n",
    "Base.size(m::testMat) = (m.count,)\n",
    "Base.IndexStyle(::Type{<:testMat}) = IndexLinear()\n",
    "Base.getindex(m::testMat, i::Int) = i*i"
   ]
  },
  {
   "cell_type": "code",
   "execution_count": 12,
   "metadata": {},
   "outputs": [],
   "source": [
    "struct testMat2 <: AbstractArray{Int,2}\n",
    "count::Int\n",
    "# testMat(count::Int) = new(count)\n",
    "end\n",
    "Base.size(m::testMat2) = (m.count, m.count)\n",
    "Base.IndexStyle(::Type{<:testMat2}) = IndexCartesian()\n",
    "Base.getindex(m::testMat2, i::Int, j::Int) = i*j\n",
    "Base.getindex(m::testMat2, i::Float64, j::Float64) = round(i)*round(j)"
   ]
  },
  {
   "cell_type": "code",
   "execution_count": 9,
   "metadata": {},
   "outputs": [
    {
     "name": "stdout",
     "output_type": "stream",
     "text": [
      "a = [1, 4, 9, 16, 25]\n"
     ]
    },
    {
     "data": {
      "text/plain": [
       "5-element testMat:\n",
       " 1\n",
       " 2\n",
       " 3\n",
       " 4\n",
       " 5"
      ]
     },
     "metadata": {},
     "output_type": "display_data"
    }
   ],
   "source": [
    "let a = testMat(5)\n",
    "    @show a\n",
    "end"
   ]
  },
  {
   "cell_type": "code",
   "execution_count": 13,
   "metadata": {},
   "outputs": [
    {
     "name": "stdout",
     "output_type": "stream",
     "text": [
      "a[1.2, 2.0] = 2.0\n"
     ]
    },
    {
     "data": {
      "text/plain": [
       "2.0"
      ]
     },
     "metadata": {},
     "output_type": "display_data"
    }
   ],
   "source": [
    "let a = testMat2(5)\n",
    "    @show a[1.2,2.0]\n",
    "end"
   ]
  }
 ],
 "metadata": {
  "kernelspec": {
   "display_name": "Julia 1.8.2",
   "language": "julia",
   "name": "julia-1.8"
  },
  "language_info": {
   "file_extension": ".jl",
   "mimetype": "application/julia",
   "name": "julia",
   "version": "1.8.2"
  },
  "orig_nbformat": 4
 },
 "nbformat": 4,
 "nbformat_minor": 2
}
