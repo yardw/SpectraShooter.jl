{
 "cells": [
  {
   "cell_type": "code",
   "execution_count": 1,
   "metadata": {},
   "outputs": [],
   "source": [
    "using JSON"
   ]
  },
  {
   "cell_type": "code",
   "execution_count": 6,
   "metadata": {},
   "outputs": [
    {
     "data": {
      "text/plain": [
       "17"
      ]
     },
     "metadata": {},
     "output_type": "display_data"
    }
   ],
   "source": [
    "open(\"settings.json\", \"w\") do f\n",
    "    settings = Dict(\n",
    "        \"n\" => 100,\n",
    "        \"m\" => 200\n",
    "    )\n",
    "    write(f, JSON.json(settings))\n",
    "end"
   ]
  },
  {
   "cell_type": "code",
   "execution_count": 27,
   "metadata": {},
   "outputs": [
    {
     "data": {
      "text/plain": [
       "107"
      ]
     },
     "metadata": {},
     "output_type": "display_data"
    }
   ],
   "source": [
    "open(\"settings.json\", \"w\") do f\n",
    "    settings = Dict(\n",
    "        \"model parameters\" => (\n",
    "            u=1e-1,\n",
    "            k=37e-1\n",
    "        ),\n",
    "        \"solver options\" => Dict(\n",
    "            \"solver\" => :(ImplicitEuler()),\n",
    "        )\n",
    "    )\n",
    "    write(f, JSON.json(settings))\n",
    "end"
   ]
  },
  {
   "cell_type": "code",
   "execution_count": 28,
   "metadata": {},
   "outputs": [
    {
     "data": {
      "text/plain": [
       "Dict{String, Any} with 2 entries:\n",
       "  \"solver options\"   => Dict{String, Any}(\"solver\"=>Dict{String, Any}(\"head\"=>\"…\n",
       "  \"model parameters\" => Dict{String, Any}(\"k\"=>3.7, \"u\"=>0.1)"
      ]
     },
     "metadata": {},
     "output_type": "display_data"
    }
   ],
   "source": [
    "settings = \"settings.json\" |> read |> String |> JSON.parse"
   ]
  },
  {
   "cell_type": "code",
   "execution_count": 33,
   "metadata": {},
   "outputs": [
    {
     "data": {
      "text/plain": [
       "0.1"
      ]
     },
     "metadata": {},
     "output_type": "display_data"
    }
   ],
   "source": [
    "settings[\"model parameters\"][\"u\"]"
   ]
  },
  {
   "cell_type": "code",
   "execution_count": 38,
   "metadata": {},
   "outputs": [
    {
     "data": {
      "text/plain": [
       "Dict{String, Any} with 2 entries:\n",
       "  \"head\" => \"call\"\n",
       "  \"args\" => Any[\"ImplicitEuler\"]"
      ]
     },
     "metadata": {},
     "output_type": "display_data"
    }
   ],
   "source": [
    "eval(settings[\"solver options\"][\"solver\"])"
   ]
  },
  {
   "cell_type": "code",
   "execution_count": 39,
   "metadata": {},
   "outputs": [],
   "source": [
    "import JSON3"
   ]
  },
  {
   "cell_type": "code",
   "execution_count": 57,
   "metadata": {},
   "outputs": [
    {
     "data": {
      "text/plain": [
       "82"
      ]
     },
     "metadata": {},
     "output_type": "display_data"
    }
   ],
   "source": [
    "open(\"settings.json\", \"w\") do f\n",
    "    settings = Dict(\n",
    "        \"model_parameters\" => (\n",
    "            u=1e-1,\n",
    "            k=37e-1\n",
    "        ),\n",
    "        \"solver_options\" => Dict(\n",
    "            \"solver\" => :ImplicitEuler,\n",
    "        )\n",
    "    )\n",
    "    JSON3.write(f, settings)\n",
    "end"
   ]
  },
  {
   "cell_type": "code",
   "execution_count": 58,
   "metadata": {},
   "outputs": [
    {
     "data": {
      "text/plain": [
       "JSON3.Object{Base.CodeUnits{UInt8, String}, Vector{UInt64}} with 2 entries:\n",
       "  :model_parameters => {…\n",
       "  :solver_options   => {…"
      ]
     },
     "metadata": {},
     "output_type": "display_data"
    }
   ],
   "source": [
    "settings = \"settings.json\" |> read |> String |> JSON3.read"
   ]
  }
 ],
 "metadata": {
  "kernelspec": {
   "display_name": "Julia 1.8.2",
   "language": "julia",
   "name": "julia-1.8"
  },
  "language_info": {
   "file_extension": ".jl",
   "mimetype": "application/julia",
   "name": "julia",
   "version": "1.8.2"
  }
 },
 "nbformat": 4,
 "nbformat_minor": 2
}
