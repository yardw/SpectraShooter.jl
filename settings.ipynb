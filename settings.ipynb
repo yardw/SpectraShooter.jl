{
 "cells": [
  {
   "cell_type": "code",
   "execution_count": 1,
   "metadata": {},
   "outputs": [],
   "source": [
    "using JSON"
   ]
  },
  {
   "cell_type": "code",
   "execution_count": 6,
   "metadata": {},
   "outputs": [
    {
     "data": {
      "text/plain": [
       "17"
      ]
     },
     "metadata": {},
     "output_type": "display_data"
    }
   ],
   "source": [
    "open(\"settings.json\", \"w\") do f\n",
    "    settings = Dict(\n",
    "        \"n\" => 100,\n",
    "        \"m\" => 200\n",
    "    )\n",
    "    write(f, JSON.json(settings))\n",
    "end"
   ]
  },
  {
   "cell_type": "code",
   "execution_count": 27,
   "metadata": {},
   "outputs": [
    {
     "data": {
      "text/plain": [
       "107"
      ]
     },
     "metadata": {},
     "output_type": "display_data"
    }
   ],
   "source": [
    "open(\"settings.json\", \"w\") do f\n",
    "    settings = Dict(\n",
    "        \"model parameters\" => (\n",
    "            u=1e-1,\n",
    "            k=37e-1\n",
    "        ),\n",
    "        \"solver options\" => Dict(\n",
    "            \"solver\" => :(ImplicitEuler()),\n",
    "        )\n",
    "    )\n",
    "    write(f, JSON.json(settings))\n",
    "end"
   ]
  },
  {
   "cell_type": "code",
   "execution_count": 28,
   "metadata": {},
   "outputs": [
    {
     "data": {
      "text/plain": [
       "Dict{String, Any} with 2 entries:\n",
       "  \"solver options\"   => Dict{String, Any}(\"solver\"=>Dict{String, Any}(\"head\"=>\"…\n",
       "  \"model parameters\" => Dict{String, Any}(\"k\"=>3.7, \"u\"=>0.1)"
      ]
     },
     "metadata": {},
     "output_type": "display_data"
    }
   ],
   "source": [
    "settings = \"settings.json\" |> read |> String |> JSON.parse"
   ]
  },
  {
   "cell_type": "code",
   "execution_count": 33,
   "metadata": {},
   "outputs": [
    {
     "data": {
      "text/plain": [
       "0.1"
      ]
     },
     "metadata": {},
     "output_type": "display_data"
    }
   ],
   "source": [
    "settings[\"model parameters\"][\"u\"]"
   ]
  },
  {
   "cell_type": "code",
   "execution_count": 38,
   "metadata": {},
   "outputs": [
    {
     "data": {
      "text/plain": [
       "Dict{String, Any} with 2 entries:\n",
       "  \"head\" => \"call\"\n",
       "  \"args\" => Any[\"ImplicitEuler\"]"
      ]
     },
     "metadata": {},
     "output_type": "display_data"
    }
   ],
   "source": [
    "eval(settings[\"solver options\"][\"solver\"])"
   ]
  },
  {
   "cell_type": "code",
   "execution_count": 39,
   "metadata": {},
   "outputs": [],
   "source": [
    "import JSON3"
   ]
  },
  {
   "cell_type": "code",
   "execution_count": 57,
   "metadata": {},
   "outputs": [
    {
     "data": {
      "text/plain": [
       "82"
      ]
     },
     "metadata": {},
     "output_type": "display_data"
    }
   ],
   "source": [
    "open(\"settings.json\", \"w\") do f\n",
    "    settings = Dict(\n",
    "        \"model_parameters\" => (\n",
    "            u=1e-1,\n",
    "            k=37e-1\n",
    "        ),\n",
    "        \"solver_options\" => Dict(\n",
    "            \"solver\" => :ImplicitEuler,\n",
    "        )\n",
    "    )\n",
    "    JSON3.write(f, settings)\n",
    "end"
   ]
  },
  {
   "cell_type": "code",
   "execution_count": 58,
   "metadata": {},
   "outputs": [
    {
     "data": {
      "text/plain": [
       "JSON3.Object{Base.CodeUnits{UInt8, String}, Vector{UInt64}} with 2 entries:\n",
       "  :model_parameters => {…\n",
       "  :solver_options   => {…"
      ]
     },
     "metadata": {},
     "output_type": "display_data"
    }
   ],
   "source": [
    "settings = \"settings.json\" |> read |> String |> JSON3.read"
   ]
  },
  {
   "cell_type": "code",
   "execution_count": 3,
   "metadata": {},
   "outputs": [
    {
     "data": {
      "text/plain": [
       "false"
      ]
     },
     "metadata": {},
     "output_type": "display_data"
    }
   ],
   "source": [
    "4==4==4==3==3"
   ]
  },
  {
   "cell_type": "code",
   "execution_count": 35,
   "metadata": {},
   "outputs": [
    {
     "data": {
      "text/plain": [
       "@are (macro with 1 method)"
      ]
     },
     "metadata": {},
     "output_type": "display_data"
    }
   ],
   "source": [
    "function are(objs, type)\n",
    "    (@. objs isa type) |> prod\n",
    "end\n",
    "\n",
    "macro are(objs, type)\n",
    "    quote\n",
    "        (@. ($objs) isa $type) |> prod\n",
    "    end\n",
    "end"
   ]
  },
  {
   "cell_type": "code",
   "execution_count": 31,
   "metadata": {},
   "outputs": [
    {
     "ename": "MethodError",
     "evalue": "MethodError: no method matching are(::Vector{Int64})\n\nClosest candidates are:\n  are(::Any, !Matched::Any)\n   @ Main l:\\Sieg\\Doc\\Code\\julia\\SpectraShooter.jl\\settings.ipynb:1\n",
     "output_type": "error",
     "traceback": [
      "MethodError: no method matching are(::Vector{Int64})\n",
      "\n",
      "Closest candidates are:\n",
      "  are(::Any, !Matched::Any)\n",
      "   @ Main l:\\Sieg\\Doc\\Code\\julia\\SpectraShooter.jl\\settings.ipynb:1\n",
      "\n",
      "\n",
      "Stacktrace:\n",
      " [1] |>(x::Vector{Int64}, f::typeof(are))\n",
      "   @ Base .\\operators.jl:907\n",
      " [2] top-level scope\n",
      "   @ l:\\Sieg\\Doc\\Code\\julia\\SpectraShooter.jl\\settings.ipynb:1"
     ]
    }
   ],
   "source": [
    "[1,2,3] |> are |> Int"
   ]
  },
  {
   "cell_type": "code",
   "execution_count": 38,
   "metadata": {},
   "outputs": [
    {
     "data": {
      "text/plain": [
       "false"
      ]
     },
     "metadata": {},
     "output_type": "display_data"
    }
   ],
   "source": [
    "are( [[1],2], Number)"
   ]
  },
  {
   "cell_type": "code",
   "execution_count": 41,
   "metadata": {},
   "outputs": [],
   "source": [
    "@enum ModelType begin\n",
    "    Perturbed00to11Order\n",
    "    Unperturbed\n",
    "end\n",
    "struct Settings\n",
    "    model_type::ModelType\n",
    "    u::Number\n",
    "    k::Number\n",
    "    yₘ::Number\n",
    "    M_IR::Number\n",
    "    γ²₀::Number\n",
    "    FP::Union{Number,Vector{Number}}\n",
    "    φP::Union{Number,Vector{Number}}\n",
    "    l2::Union{Number,Tuple{Number,Number}}\n",
    "    g2::Union{Number,Tuple{Number,Number}}\n",
    "\"\"\"\n",
    "    Settings for the model.\n",
    "        \n",
    "# Parameters\n",
    "FP: initial conditions for the field f\n",
    "φP: initial conditions for the field φ\n",
    "l2: l² or range of l² to scan\n",
    "g2: γ² or range of γ² to scan\n",
    "model_type: Unperturbed or Perturbed00to11Order\n",
    "\"\"\"\n",
    "    function Settings(FP, φP, l2, g2; model_type=Unperturbed)\n",
    "        @assert begin\n",
    "            model_type == Unperturbed &&\n",
    "            @are (FP, φP) Number\n",
    "        end \"Unperturbed model requires single FP and φP as initial conditions.\"\n",
    "        @assert begin\n",
    "            model_type == Perturbed00to11Order &&\n",
    "            length(FP) == length(φP) == 4\n",
    "        end \"Perturbed model requires vectors [FP⁰₀, FP⁰₁, FP¹₀, FP¹₁] and [φP⁰₀, φP⁰₁, φP¹₀, φP¹₁] as initial conditions.\"\n",
    "        @assert begin\n",
    "            l2 isa Number && g2 isa Tuple{Number,Number} ||\n",
    "            l2 isa Tuple{Number,Number} && g2 isa Number\n",
    "        end \"One of l² and γ² must be a number, and another be a tuple of range, which will be scanned to give a mass spectrum.\"\n",
    "        new(\n",
    "            model_type,\n",
    "            1e-1,\n",
    "            37e-1,\n",
    "            1e-1,\n",
    "            1e-1,\n",
    "            1e-1,\n",
    "            FP,\n",
    "            φP,\n",
    "            l2,\n",
    "            g2\n",
    "        )\n",
    "    end# init function\n",
    "end# struct Settings"
   ]
  },
  {
   "cell_type": "code",
   "execution_count": 44,
   "metadata": {},
   "outputs": [
    {
     "ename": "UndefVarError",
     "evalue": "UndefVarError: `FP` not defined",
     "output_type": "error",
     "traceback": [
      "UndefVarError: `FP` not defined\n",
      "\n",
      "Stacktrace:\n",
      " [1] Settings(FP::Int64, φP::Int64, l2::Int64, g2::Int64; model_type::ModelType)\n",
      "   @ Main l:\\Sieg\\Doc\\Code\\julia\\SpectraShooter.jl\\settings.ipynb:7\n",
      " [2] Settings(FP::Int64, φP::Int64, l2::Int64, g2::Int64)\n",
      "   @ Main l:\\Sieg\\Doc\\Code\\julia\\SpectraShooter.jl\\settings.ipynb:26\n",
      " [3] top-level scope\n",
      "   @ l:\\Sieg\\Doc\\Code\\julia\\SpectraShooter.jl\\settings.ipynb:1"
     ]
    }
   ],
   "source": [
    "Settings(1,2,3,4)"
   ]
  },
  {
   "cell_type": "code",
   "execution_count": 40,
   "metadata": {},
   "outputs": [
    {
     "data": {
      "text/plain": [
       "Tuple{Int64, Int64}"
      ]
     },
     "metadata": {},
     "output_type": "display_data"
    }
   ],
   "source": [
    "typeof((1,2))"
   ]
  }
 ],
 "metadata": {
  "kernelspec": {
   "display_name": "Julia 1.9.0",
   "language": "julia",
   "name": "julia-1.9"
  },
  "language_info": {
   "file_extension": ".jl",
   "mimetype": "application/julia",
   "name": "julia",
   "version": "1.9.0"
  }
 },
 "nbformat": 4,
 "nbformat_minor": 2
}
